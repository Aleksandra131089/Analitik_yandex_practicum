{
 "cells": [
  {
   "cell_type": "markdown",
   "metadata": {},
   "source": [
    "# Исследование оттока клиентов"
   ]
  },
  {
   "cell_type": "markdown",
   "metadata": {},
   "source": [
    "**Цель проекта:** научиться прогнозировать вероятность оттока (на уровне следующего месяца) для каждого клиента; сформировать типичные портреты клиентов: выделить несколько наиболее ярких групп и охарактеризовать их основные свойства; проанализировать основные признаки, наиболее сильно влияющие на отток; сформулировать основные выводы и разработать рекомендации по повышению качества работы с клиентами: 1) выделить целевые группы клиентов; 2) предложить меры по снижению оттока;"
   ]
  },
  {
   "cell_type": "markdown",
   "metadata": {},
   "source": [
    "## Ознакомление с данными"
   ]
  },
  {
   "cell_type": "code",
   "execution_count": 1,
   "metadata": {
    "collapsed": true
   },
   "outputs": [],
   "source": [
    "# загружаем необходимые библиотеки\n",
    "import pandas as pd\n",
    "import numpy as np\n",
    "import matplotlib.pyplot as plt\n",
    "import seaborn as sns\n",
    "from sklearn.model_selection import train_test_split\n",
    "from sklearn.linear_model import LogisticRegression\n",
    "from sklearn.ensemble import RandomForestClassifier\n",
    "from sklearn.metrics import accuracy_score, precision_score, recall_score\n",
    "from sklearn.preprocessing import StandardScaler\n",
    "from sklearn.cluster import KMeans\n",
    "from scipy.cluster.hierarchy import dendrogram, linkage\n",
    "import itertools\n",
    "\n",
    "pd.set_option('display.max_colwidth', 150)\n",
    "pd.set_option('display.float_format', '{:,.3f}'.format)"
   ]
  },
  {
   "cell_type": "code",
   "execution_count": 2,
   "metadata": {
    "collapsed": true
   },
   "outputs": [],
   "source": [
    "# загружаем файл с данными\n",
    "try:\n",
    "    gym_churn = pd.read_csv(\"gym_churn.csv\", sep=',')\n",
    "except:\n",
    "    gym_churn = pd.read_csv(\"/datasets/gym_churn.csv\", sep=',')"
   ]
  },
  {
   "cell_type": "code",
   "execution_count": 3,
   "metadata": {},
   "outputs": [
    {
     "name": "stdout",
     "output_type": "stream",
     "text": [
      "\u001b[1mОбщая информация о датасете:\u001b[0m\n",
      "<class 'pandas.core.frame.DataFrame'>\n",
      "RangeIndex: 4000 entries, 0 to 3999\n",
      "Data columns (total 14 columns):\n",
      " #   Column                             Non-Null Count  Dtype  \n",
      "---  ------                             --------------  -----  \n",
      " 0   gender                             4000 non-null   int64  \n",
      " 1   Near_Location                      4000 non-null   int64  \n",
      " 2   Partner                            4000 non-null   int64  \n",
      " 3   Promo_friends                      4000 non-null   int64  \n",
      " 4   Phone                              4000 non-null   int64  \n",
      " 5   Contract_period                    4000 non-null   int64  \n",
      " 6   Group_visits                       4000 non-null   int64  \n",
      " 7   Age                                4000 non-null   int64  \n",
      " 8   Avg_additional_charges_total       4000 non-null   float64\n",
      " 9   Month_to_end_contract              4000 non-null   float64\n",
      " 10  Lifetime                           4000 non-null   int64  \n",
      " 11  Avg_class_frequency_total          4000 non-null   float64\n",
      " 12  Avg_class_frequency_current_month  4000 non-null   float64\n",
      " 13  Churn                              4000 non-null   int64  \n",
      "dtypes: float64(4), int64(10)\n",
      "memory usage: 437.6 KB\n",
      "**************************************************\n",
      "\u001b[1mСтатистические характеристики:\u001b[0m\n"
     ]
    },
    {
     "data": {
      "text/html": [
       "<div>\n",
       "<style scoped>\n",
       "    .dataframe tbody tr th:only-of-type {\n",
       "        vertical-align: middle;\n",
       "    }\n",
       "\n",
       "    .dataframe tbody tr th {\n",
       "        vertical-align: top;\n",
       "    }\n",
       "\n",
       "    .dataframe thead th {\n",
       "        text-align: right;\n",
       "    }\n",
       "</style>\n",
       "<table border=\"1\" class=\"dataframe\">\n",
       "  <thead>\n",
       "    <tr style=\"text-align: right;\">\n",
       "      <th></th>\n",
       "      <th>gender</th>\n",
       "      <th>Near_Location</th>\n",
       "      <th>Partner</th>\n",
       "      <th>Promo_friends</th>\n",
       "      <th>Phone</th>\n",
       "      <th>Contract_period</th>\n",
       "      <th>Group_visits</th>\n",
       "      <th>Age</th>\n",
       "      <th>Avg_additional_charges_total</th>\n",
       "      <th>Month_to_end_contract</th>\n",
       "      <th>Lifetime</th>\n",
       "      <th>Avg_class_frequency_total</th>\n",
       "      <th>Avg_class_frequency_current_month</th>\n",
       "      <th>Churn</th>\n",
       "    </tr>\n",
       "  </thead>\n",
       "  <tbody>\n",
       "    <tr>\n",
       "      <th>count</th>\n",
       "      <td>4,000.000</td>\n",
       "      <td>4,000.000</td>\n",
       "      <td>4,000.000</td>\n",
       "      <td>4,000.000</td>\n",
       "      <td>4,000.000</td>\n",
       "      <td>4,000.000</td>\n",
       "      <td>4,000.000</td>\n",
       "      <td>4,000.000</td>\n",
       "      <td>4,000.000</td>\n",
       "      <td>4,000.000</td>\n",
       "      <td>4,000.000</td>\n",
       "      <td>4,000.000</td>\n",
       "      <td>4,000.000</td>\n",
       "      <td>4,000.000</td>\n",
       "    </tr>\n",
       "    <tr>\n",
       "      <th>mean</th>\n",
       "      <td>0.510</td>\n",
       "      <td>0.845</td>\n",
       "      <td>0.487</td>\n",
       "      <td>0.308</td>\n",
       "      <td>0.903</td>\n",
       "      <td>4.681</td>\n",
       "      <td>0.412</td>\n",
       "      <td>29.184</td>\n",
       "      <td>146.944</td>\n",
       "      <td>4.323</td>\n",
       "      <td>3.725</td>\n",
       "      <td>1.879</td>\n",
       "      <td>1.767</td>\n",
       "      <td>0.265</td>\n",
       "    </tr>\n",
       "    <tr>\n",
       "      <th>std</th>\n",
       "      <td>0.500</td>\n",
       "      <td>0.362</td>\n",
       "      <td>0.500</td>\n",
       "      <td>0.462</td>\n",
       "      <td>0.295</td>\n",
       "      <td>4.550</td>\n",
       "      <td>0.492</td>\n",
       "      <td>3.258</td>\n",
       "      <td>96.356</td>\n",
       "      <td>4.191</td>\n",
       "      <td>3.749</td>\n",
       "      <td>0.972</td>\n",
       "      <td>1.053</td>\n",
       "      <td>0.442</td>\n",
       "    </tr>\n",
       "    <tr>\n",
       "      <th>min</th>\n",
       "      <td>0.000</td>\n",
       "      <td>0.000</td>\n",
       "      <td>0.000</td>\n",
       "      <td>0.000</td>\n",
       "      <td>0.000</td>\n",
       "      <td>1.000</td>\n",
       "      <td>0.000</td>\n",
       "      <td>18.000</td>\n",
       "      <td>0.148</td>\n",
       "      <td>1.000</td>\n",
       "      <td>0.000</td>\n",
       "      <td>0.000</td>\n",
       "      <td>0.000</td>\n",
       "      <td>0.000</td>\n",
       "    </tr>\n",
       "    <tr>\n",
       "      <th>25%</th>\n",
       "      <td>0.000</td>\n",
       "      <td>1.000</td>\n",
       "      <td>0.000</td>\n",
       "      <td>0.000</td>\n",
       "      <td>1.000</td>\n",
       "      <td>1.000</td>\n",
       "      <td>0.000</td>\n",
       "      <td>27.000</td>\n",
       "      <td>68.869</td>\n",
       "      <td>1.000</td>\n",
       "      <td>1.000</td>\n",
       "      <td>1.181</td>\n",
       "      <td>0.963</td>\n",
       "      <td>0.000</td>\n",
       "    </tr>\n",
       "    <tr>\n",
       "      <th>50%</th>\n",
       "      <td>1.000</td>\n",
       "      <td>1.000</td>\n",
       "      <td>0.000</td>\n",
       "      <td>0.000</td>\n",
       "      <td>1.000</td>\n",
       "      <td>1.000</td>\n",
       "      <td>0.000</td>\n",
       "      <td>29.000</td>\n",
       "      <td>136.220</td>\n",
       "      <td>1.000</td>\n",
       "      <td>3.000</td>\n",
       "      <td>1.833</td>\n",
       "      <td>1.720</td>\n",
       "      <td>0.000</td>\n",
       "    </tr>\n",
       "    <tr>\n",
       "      <th>75%</th>\n",
       "      <td>1.000</td>\n",
       "      <td>1.000</td>\n",
       "      <td>1.000</td>\n",
       "      <td>1.000</td>\n",
       "      <td>1.000</td>\n",
       "      <td>6.000</td>\n",
       "      <td>1.000</td>\n",
       "      <td>31.000</td>\n",
       "      <td>210.950</td>\n",
       "      <td>6.000</td>\n",
       "      <td>5.000</td>\n",
       "      <td>2.536</td>\n",
       "      <td>2.510</td>\n",
       "      <td>1.000</td>\n",
       "    </tr>\n",
       "    <tr>\n",
       "      <th>max</th>\n",
       "      <td>1.000</td>\n",
       "      <td>1.000</td>\n",
       "      <td>1.000</td>\n",
       "      <td>1.000</td>\n",
       "      <td>1.000</td>\n",
       "      <td>12.000</td>\n",
       "      <td>1.000</td>\n",
       "      <td>41.000</td>\n",
       "      <td>552.591</td>\n",
       "      <td>12.000</td>\n",
       "      <td>31.000</td>\n",
       "      <td>6.024</td>\n",
       "      <td>6.147</td>\n",
       "      <td>1.000</td>\n",
       "    </tr>\n",
       "  </tbody>\n",
       "</table>\n",
       "</div>"
      ],
      "text/plain": [
       "         gender  Near_Location   Partner  Promo_friends     Phone  \\\n",
       "count 4,000.000      4,000.000 4,000.000      4,000.000 4,000.000   \n",
       "mean      0.510          0.845     0.487          0.308     0.903   \n",
       "std       0.500          0.362     0.500          0.462     0.295   \n",
       "min       0.000          0.000     0.000          0.000     0.000   \n",
       "25%       0.000          1.000     0.000          0.000     1.000   \n",
       "50%       1.000          1.000     0.000          0.000     1.000   \n",
       "75%       1.000          1.000     1.000          1.000     1.000   \n",
       "max       1.000          1.000     1.000          1.000     1.000   \n",
       "\n",
       "       Contract_period  Group_visits       Age  Avg_additional_charges_total  \\\n",
       "count        4,000.000     4,000.000 4,000.000                     4,000.000   \n",
       "mean             4.681         0.412    29.184                       146.944   \n",
       "std              4.550         0.492     3.258                        96.356   \n",
       "min              1.000         0.000    18.000                         0.148   \n",
       "25%              1.000         0.000    27.000                        68.869   \n",
       "50%              1.000         0.000    29.000                       136.220   \n",
       "75%              6.000         1.000    31.000                       210.950   \n",
       "max             12.000         1.000    41.000                       552.591   \n",
       "\n",
       "       Month_to_end_contract  Lifetime  Avg_class_frequency_total  \\\n",
       "count              4,000.000 4,000.000                  4,000.000   \n",
       "mean                   4.323     3.725                      1.879   \n",
       "std                    4.191     3.749                      0.972   \n",
       "min                    1.000     0.000                      0.000   \n",
       "25%                    1.000     1.000                      1.181   \n",
       "50%                    1.000     3.000                      1.833   \n",
       "75%                    6.000     5.000                      2.536   \n",
       "max                   12.000    31.000                      6.024   \n",
       "\n",
       "       Avg_class_frequency_current_month     Churn  \n",
       "count                          4,000.000 4,000.000  \n",
       "mean                               1.767     0.265  \n",
       "std                                1.053     0.442  \n",
       "min                                0.000     0.000  \n",
       "25%                                0.963     0.000  \n",
       "50%                                1.720     0.000  \n",
       "75%                                2.510     1.000  \n",
       "max                                6.147     1.000  "
      ]
     },
     "metadata": {},
     "output_type": "display_data"
    },
    {
     "name": "stdout",
     "output_type": "stream",
     "text": [
      "**************************************************\n",
      "\u001b[1mДанные в датасете:\u001b[0m\n"
     ]
    },
    {
     "data": {
      "text/html": [
       "<div>\n",
       "<style scoped>\n",
       "    .dataframe tbody tr th:only-of-type {\n",
       "        vertical-align: middle;\n",
       "    }\n",
       "\n",
       "    .dataframe tbody tr th {\n",
       "        vertical-align: top;\n",
       "    }\n",
       "\n",
       "    .dataframe thead th {\n",
       "        text-align: right;\n",
       "    }\n",
       "</style>\n",
       "<table border=\"1\" class=\"dataframe\">\n",
       "  <thead>\n",
       "    <tr style=\"text-align: right;\">\n",
       "      <th></th>\n",
       "      <th>gender</th>\n",
       "      <th>Near_Location</th>\n",
       "      <th>Partner</th>\n",
       "      <th>Promo_friends</th>\n",
       "      <th>Phone</th>\n",
       "      <th>Contract_period</th>\n",
       "      <th>Group_visits</th>\n",
       "      <th>Age</th>\n",
       "      <th>Avg_additional_charges_total</th>\n",
       "      <th>Month_to_end_contract</th>\n",
       "      <th>Lifetime</th>\n",
       "      <th>Avg_class_frequency_total</th>\n",
       "      <th>Avg_class_frequency_current_month</th>\n",
       "      <th>Churn</th>\n",
       "    </tr>\n",
       "  </thead>\n",
       "  <tbody>\n",
       "    <tr>\n",
       "      <th>0</th>\n",
       "      <td>1</td>\n",
       "      <td>1</td>\n",
       "      <td>1</td>\n",
       "      <td>1</td>\n",
       "      <td>0</td>\n",
       "      <td>6</td>\n",
       "      <td>1</td>\n",
       "      <td>29</td>\n",
       "      <td>14.227</td>\n",
       "      <td>5.000</td>\n",
       "      <td>3</td>\n",
       "      <td>0.020</td>\n",
       "      <td>0.000</td>\n",
       "      <td>0</td>\n",
       "    </tr>\n",
       "    <tr>\n",
       "      <th>1</th>\n",
       "      <td>0</td>\n",
       "      <td>1</td>\n",
       "      <td>0</td>\n",
       "      <td>0</td>\n",
       "      <td>1</td>\n",
       "      <td>12</td>\n",
       "      <td>1</td>\n",
       "      <td>31</td>\n",
       "      <td>113.203</td>\n",
       "      <td>12.000</td>\n",
       "      <td>7</td>\n",
       "      <td>1.923</td>\n",
       "      <td>1.910</td>\n",
       "      <td>0</td>\n",
       "    </tr>\n",
       "    <tr>\n",
       "      <th>2</th>\n",
       "      <td>0</td>\n",
       "      <td>1</td>\n",
       "      <td>1</td>\n",
       "      <td>0</td>\n",
       "      <td>1</td>\n",
       "      <td>1</td>\n",
       "      <td>0</td>\n",
       "      <td>28</td>\n",
       "      <td>129.448</td>\n",
       "      <td>1.000</td>\n",
       "      <td>2</td>\n",
       "      <td>1.859</td>\n",
       "      <td>1.737</td>\n",
       "      <td>0</td>\n",
       "    </tr>\n",
       "    <tr>\n",
       "      <th>3</th>\n",
       "      <td>0</td>\n",
       "      <td>1</td>\n",
       "      <td>1</td>\n",
       "      <td>1</td>\n",
       "      <td>1</td>\n",
       "      <td>12</td>\n",
       "      <td>1</td>\n",
       "      <td>33</td>\n",
       "      <td>62.670</td>\n",
       "      <td>12.000</td>\n",
       "      <td>2</td>\n",
       "      <td>3.206</td>\n",
       "      <td>3.357</td>\n",
       "      <td>0</td>\n",
       "    </tr>\n",
       "    <tr>\n",
       "      <th>4</th>\n",
       "      <td>1</td>\n",
       "      <td>1</td>\n",
       "      <td>1</td>\n",
       "      <td>1</td>\n",
       "      <td>1</td>\n",
       "      <td>1</td>\n",
       "      <td>0</td>\n",
       "      <td>26</td>\n",
       "      <td>198.362</td>\n",
       "      <td>1.000</td>\n",
       "      <td>3</td>\n",
       "      <td>1.114</td>\n",
       "      <td>1.120</td>\n",
       "      <td>0</td>\n",
       "    </tr>\n",
       "    <tr>\n",
       "      <th>...</th>\n",
       "      <td>...</td>\n",
       "      <td>...</td>\n",
       "      <td>...</td>\n",
       "      <td>...</td>\n",
       "      <td>...</td>\n",
       "      <td>...</td>\n",
       "      <td>...</td>\n",
       "      <td>...</td>\n",
       "      <td>...</td>\n",
       "      <td>...</td>\n",
       "      <td>...</td>\n",
       "      <td>...</td>\n",
       "      <td>...</td>\n",
       "      <td>...</td>\n",
       "    </tr>\n",
       "    <tr>\n",
       "      <th>3995</th>\n",
       "      <td>1</td>\n",
       "      <td>1</td>\n",
       "      <td>1</td>\n",
       "      <td>0</td>\n",
       "      <td>1</td>\n",
       "      <td>12</td>\n",
       "      <td>0</td>\n",
       "      <td>33</td>\n",
       "      <td>2.406</td>\n",
       "      <td>12.000</td>\n",
       "      <td>8</td>\n",
       "      <td>2.284</td>\n",
       "      <td>2.349</td>\n",
       "      <td>0</td>\n",
       "    </tr>\n",
       "    <tr>\n",
       "      <th>3996</th>\n",
       "      <td>0</td>\n",
       "      <td>1</td>\n",
       "      <td>0</td>\n",
       "      <td>0</td>\n",
       "      <td>1</td>\n",
       "      <td>1</td>\n",
       "      <td>1</td>\n",
       "      <td>29</td>\n",
       "      <td>68.884</td>\n",
       "      <td>1.000</td>\n",
       "      <td>1</td>\n",
       "      <td>1.277</td>\n",
       "      <td>0.293</td>\n",
       "      <td>1</td>\n",
       "    </tr>\n",
       "    <tr>\n",
       "      <th>3997</th>\n",
       "      <td>1</td>\n",
       "      <td>1</td>\n",
       "      <td>1</td>\n",
       "      <td>1</td>\n",
       "      <td>1</td>\n",
       "      <td>12</td>\n",
       "      <td>0</td>\n",
       "      <td>28</td>\n",
       "      <td>78.251</td>\n",
       "      <td>11.000</td>\n",
       "      <td>2</td>\n",
       "      <td>2.786</td>\n",
       "      <td>2.831</td>\n",
       "      <td>0</td>\n",
       "    </tr>\n",
       "    <tr>\n",
       "      <th>3998</th>\n",
       "      <td>0</td>\n",
       "      <td>1</td>\n",
       "      <td>1</td>\n",
       "      <td>1</td>\n",
       "      <td>1</td>\n",
       "      <td>6</td>\n",
       "      <td>0</td>\n",
       "      <td>32</td>\n",
       "      <td>61.913</td>\n",
       "      <td>5.000</td>\n",
       "      <td>3</td>\n",
       "      <td>1.630</td>\n",
       "      <td>1.596</td>\n",
       "      <td>0</td>\n",
       "    </tr>\n",
       "    <tr>\n",
       "      <th>3999</th>\n",
       "      <td>1</td>\n",
       "      <td>0</td>\n",
       "      <td>1</td>\n",
       "      <td>0</td>\n",
       "      <td>0</td>\n",
       "      <td>12</td>\n",
       "      <td>1</td>\n",
       "      <td>30</td>\n",
       "      <td>178.862</td>\n",
       "      <td>12.000</td>\n",
       "      <td>1</td>\n",
       "      <td>1.102</td>\n",
       "      <td>1.035</td>\n",
       "      <td>0</td>\n",
       "    </tr>\n",
       "  </tbody>\n",
       "</table>\n",
       "<p>4000 rows × 14 columns</p>\n",
       "</div>"
      ],
      "text/plain": [
       "      gender  Near_Location  Partner  Promo_friends  Phone  Contract_period  \\\n",
       "0          1              1        1              1      0                6   \n",
       "1          0              1        0              0      1               12   \n",
       "2          0              1        1              0      1                1   \n",
       "3          0              1        1              1      1               12   \n",
       "4          1              1        1              1      1                1   \n",
       "...      ...            ...      ...            ...    ...              ...   \n",
       "3995       1              1        1              0      1               12   \n",
       "3996       0              1        0              0      1                1   \n",
       "3997       1              1        1              1      1               12   \n",
       "3998       0              1        1              1      1                6   \n",
       "3999       1              0        1              0      0               12   \n",
       "\n",
       "      Group_visits  Age  Avg_additional_charges_total  Month_to_end_contract  \\\n",
       "0                1   29                        14.227                  5.000   \n",
       "1                1   31                       113.203                 12.000   \n",
       "2                0   28                       129.448                  1.000   \n",
       "3                1   33                        62.670                 12.000   \n",
       "4                0   26                       198.362                  1.000   \n",
       "...            ...  ...                           ...                    ...   \n",
       "3995             0   33                         2.406                 12.000   \n",
       "3996             1   29                        68.884                  1.000   \n",
       "3997             0   28                        78.251                 11.000   \n",
       "3998             0   32                        61.913                  5.000   \n",
       "3999             1   30                       178.862                 12.000   \n",
       "\n",
       "      Lifetime  Avg_class_frequency_total  Avg_class_frequency_current_month  \\\n",
       "0            3                      0.020                              0.000   \n",
       "1            7                      1.923                              1.910   \n",
       "2            2                      1.859                              1.737   \n",
       "3            2                      3.206                              3.357   \n",
       "4            3                      1.114                              1.120   \n",
       "...        ...                        ...                                ...   \n",
       "3995         8                      2.284                              2.349   \n",
       "3996         1                      1.277                              0.293   \n",
       "3997         2                      2.786                              2.831   \n",
       "3998         3                      1.630                              1.596   \n",
       "3999         1                      1.102                              1.035   \n",
       "\n",
       "      Churn  \n",
       "0         0  \n",
       "1         0  \n",
       "2         0  \n",
       "3         0  \n",
       "4         0  \n",
       "...     ...  \n",
       "3995      0  \n",
       "3996      1  \n",
       "3997      0  \n",
       "3998      0  \n",
       "3999      0  \n",
       "\n",
       "[4000 rows x 14 columns]"
      ]
     },
     "metadata": {},
     "output_type": "display_data"
    },
    {
     "name": "stdout",
     "output_type": "stream",
     "text": [
      "**************************************************\n"
     ]
    },
    {
     "data": {
      "text/plain": [
       "'Количество дубликатов:'"
      ]
     },
     "metadata": {},
     "output_type": "display_data"
    },
    {
     "data": {
      "text/plain": [
       "0"
      ]
     },
     "metadata": {},
     "output_type": "display_data"
    },
    {
     "data": {
      "text/plain": [
       "'Количество пропусков:'"
      ]
     },
     "metadata": {},
     "output_type": "display_data"
    },
    {
     "data": {
      "text/html": [
       "<style  type=\"text/css\" >\n",
       "</style><table id=\"T_0105a_\" ><thead>    <tr>        <th class=\"blank level0\" ></th>        <th class=\"col_heading level0 col0\" >кол-во</th>        <th class=\"col_heading level0 col1\" >доля</th>    </tr></thead><tbody>\n",
       "                <tr>\n",
       "                        <th id=\"T_0105a_level0_row0\" class=\"row_heading level0 row0\" >gender</th>\n",
       "                        <td id=\"T_0105a_row0_col0\" class=\"data row0 col0\" >0</td>\n",
       "                        <td id=\"T_0105a_row0_col1\" class=\"data row0 col1\" >0.00%</td>\n",
       "            </tr>\n",
       "            <tr>\n",
       "                        <th id=\"T_0105a_level0_row1\" class=\"row_heading level0 row1\" >Near_Location</th>\n",
       "                        <td id=\"T_0105a_row1_col0\" class=\"data row1 col0\" >0</td>\n",
       "                        <td id=\"T_0105a_row1_col1\" class=\"data row1 col1\" >0.00%</td>\n",
       "            </tr>\n",
       "            <tr>\n",
       "                        <th id=\"T_0105a_level0_row2\" class=\"row_heading level0 row2\" >Partner</th>\n",
       "                        <td id=\"T_0105a_row2_col0\" class=\"data row2 col0\" >0</td>\n",
       "                        <td id=\"T_0105a_row2_col1\" class=\"data row2 col1\" >0.00%</td>\n",
       "            </tr>\n",
       "            <tr>\n",
       "                        <th id=\"T_0105a_level0_row3\" class=\"row_heading level0 row3\" >Promo_friends</th>\n",
       "                        <td id=\"T_0105a_row3_col0\" class=\"data row3 col0\" >0</td>\n",
       "                        <td id=\"T_0105a_row3_col1\" class=\"data row3 col1\" >0.00%</td>\n",
       "            </tr>\n",
       "            <tr>\n",
       "                        <th id=\"T_0105a_level0_row4\" class=\"row_heading level0 row4\" >Phone</th>\n",
       "                        <td id=\"T_0105a_row4_col0\" class=\"data row4 col0\" >0</td>\n",
       "                        <td id=\"T_0105a_row4_col1\" class=\"data row4 col1\" >0.00%</td>\n",
       "            </tr>\n",
       "            <tr>\n",
       "                        <th id=\"T_0105a_level0_row5\" class=\"row_heading level0 row5\" >Contract_period</th>\n",
       "                        <td id=\"T_0105a_row5_col0\" class=\"data row5 col0\" >0</td>\n",
       "                        <td id=\"T_0105a_row5_col1\" class=\"data row5 col1\" >0.00%</td>\n",
       "            </tr>\n",
       "            <tr>\n",
       "                        <th id=\"T_0105a_level0_row6\" class=\"row_heading level0 row6\" >Group_visits</th>\n",
       "                        <td id=\"T_0105a_row6_col0\" class=\"data row6 col0\" >0</td>\n",
       "                        <td id=\"T_0105a_row6_col1\" class=\"data row6 col1\" >0.00%</td>\n",
       "            </tr>\n",
       "            <tr>\n",
       "                        <th id=\"T_0105a_level0_row7\" class=\"row_heading level0 row7\" >Age</th>\n",
       "                        <td id=\"T_0105a_row7_col0\" class=\"data row7 col0\" >0</td>\n",
       "                        <td id=\"T_0105a_row7_col1\" class=\"data row7 col1\" >0.00%</td>\n",
       "            </tr>\n",
       "            <tr>\n",
       "                        <th id=\"T_0105a_level0_row8\" class=\"row_heading level0 row8\" >Avg_additional_charges_total</th>\n",
       "                        <td id=\"T_0105a_row8_col0\" class=\"data row8 col0\" >0</td>\n",
       "                        <td id=\"T_0105a_row8_col1\" class=\"data row8 col1\" >0.00%</td>\n",
       "            </tr>\n",
       "            <tr>\n",
       "                        <th id=\"T_0105a_level0_row9\" class=\"row_heading level0 row9\" >Month_to_end_contract</th>\n",
       "                        <td id=\"T_0105a_row9_col0\" class=\"data row9 col0\" >0</td>\n",
       "                        <td id=\"T_0105a_row9_col1\" class=\"data row9 col1\" >0.00%</td>\n",
       "            </tr>\n",
       "            <tr>\n",
       "                        <th id=\"T_0105a_level0_row10\" class=\"row_heading level0 row10\" >Lifetime</th>\n",
       "                        <td id=\"T_0105a_row10_col0\" class=\"data row10 col0\" >0</td>\n",
       "                        <td id=\"T_0105a_row10_col1\" class=\"data row10 col1\" >0.00%</td>\n",
       "            </tr>\n",
       "            <tr>\n",
       "                        <th id=\"T_0105a_level0_row11\" class=\"row_heading level0 row11\" >Avg_class_frequency_total</th>\n",
       "                        <td id=\"T_0105a_row11_col0\" class=\"data row11 col0\" >0</td>\n",
       "                        <td id=\"T_0105a_row11_col1\" class=\"data row11 col1\" >0.00%</td>\n",
       "            </tr>\n",
       "            <tr>\n",
       "                        <th id=\"T_0105a_level0_row12\" class=\"row_heading level0 row12\" >Avg_class_frequency_current_month</th>\n",
       "                        <td id=\"T_0105a_row12_col0\" class=\"data row12 col0\" >0</td>\n",
       "                        <td id=\"T_0105a_row12_col1\" class=\"data row12 col1\" >0.00%</td>\n",
       "            </tr>\n",
       "            <tr>\n",
       "                        <th id=\"T_0105a_level0_row13\" class=\"row_heading level0 row13\" >Churn</th>\n",
       "                        <td id=\"T_0105a_row13_col0\" class=\"data row13 col0\" >0</td>\n",
       "                        <td id=\"T_0105a_row13_col1\" class=\"data row13 col1\" >0.00%</td>\n",
       "            </tr>\n",
       "    </tbody></table>"
      ],
      "text/plain": [
       "<pandas.io.formats.style.Styler at 0x7f1f4412b940>"
      ]
     },
     "metadata": {},
     "output_type": "display_data"
    }
   ],
   "source": [
    "# посмотрим на данные поближе\n",
    "def info(data):\n",
    "    print('\\033[1m' + 'Общая информация о датасете:' + '\\033[0m')\n",
    "    data.info()\n",
    "    print('*'*50)\n",
    "    print('\\033[1m' + 'Статистические характеристики:' + '\\033[0m')\n",
    "    display(data.describe(include='all'))\n",
    "    print('*'*50)\n",
    "    print('\\033[1m' + 'Данные в датасете:' + '\\033[0m')\n",
    "    display(data)\n",
    "    print('*'*50)\n",
    "    display('Количество дубликатов:', data.duplicated().sum())\n",
    "    display('Количество пропусков:', pd.concat([data.isna().sum(), data.isna().mean()], axis=1)\\\n",
    "    .rename(columns={0:'кол-во', 1:'доля'})\\\n",
    "    .style.format({'кол-во':'{:.0f}', 'доля':'{:.2%}'}))\n",
    "info(gym_churn)"
   ]
  },
  {
   "cell_type": "markdown",
   "metadata": {},
   "source": [
    "**Вывод:** \n",
    "\n",
    "В датасете у нас 4000 анкет посетителей и 14 колонок с признаками и целевой переменной. Дубликатов нет.\n",
    "\n",
    "Набор данных включает следующие поля:\n",
    "Данные клиента за предыдущий до проверки факта оттока месяц:\n",
    "- `'gender'` — пол;\n",
    "- `'Near_Location'` — проживание или работа в районе, где находится фитнес-центр;\n",
    "- `'Partner'` — сотрудник компании-партнёра клуба (сотрудничество с компаниями, чьи сотрудники могут получать скидки на абонемент — в таком случае фитнес-центр хранит информацию о работодателе клиента);\n",
    "- `Promo_friends` — факт первоначальной записи в рамках акции «приведи друга» (использовал промо-код от знакомого при оплате первого абонемента);\n",
    "- `'Phone'` — наличие контактного телефона;\n",
    "- `'Age'` — возраст;\n",
    "- `'Lifetime'` — время с момента первого обращения в фитнес-центр (в месяцах).\n",
    "\n",
    "Информация на основе журнала посещений, покупок и информация о текущем статусе абонемента клиента:\n",
    "- `'Contract_period'` — длительность текущего действующего абонемента (месяц, 6 месяцев, год);\n",
    "- `'Month_to_end_contract'` — срок до окончания текущего действующего абонемента (в месяцах);\n",
    "- `'Group_visits'` — факт посещения групповых занятий;\n",
    "- `'Avg_class_frequency_total'` — средняя частота посещений в неделю за все время с начала действия абонемента;\n",
    "- `'Avg_class_frequency_current_month'` — средняя частота посещений в неделю за предыдущий месяц;\n",
    "- `'Avg_additional_charges_total'` — суммарная выручка от других услуг фитнес-центра: кафе, спорттовары, косметический и массажный салон.\n",
    "- `'Churn'` — факт оттока в текущем месяце.\n",
    "\n",
    "Данные чистые, пропусков нет, категориальные переменные, такие как пол, проживание в районе фитнес-центра и т.д.уже переведены в числовые значения, что облегчает анализ и пригодится для построения моделей.\n",
    "\n",
    "Конкретно по данным можно сказать следующее:\n",
    "- Распределение по полу примерно одинаково\n",
    "- Большинство клиентов (85%) живет или работает рядом с фитнес-клубом\n",
    "- Примерно половина клиентов являются сотрудниками партнерских организаций\n",
    "- Около 30% клиентов пришли по программе \"Приведи друга\"\n",
    "- Известны мобильные номера примерно 90% клиентов\n",
    "- Средняя длительность абонементов клиентов - 4.6 месяцев\n",
    "- Около 40% клиентов посещают групповые занятия\n",
    "- Средний возраст клиентов 29 лет\n",
    "- Средняя частота посещений за все время - 1.87 раз в неделю\n",
    "- Средняя частота посещений за последний месяц - 1.76 раз в неделю\n",
    "- Доля оттока - 27%"
   ]
  },
  {
   "cell_type": "markdown",
   "metadata": {},
   "source": [
    "## Исследовательский анализ данных(EDA)"
   ]
  },
  {
   "cell_type": "markdown",
   "metadata": {},
   "source": [
    "### Средние значения в группах(те кто ушел и кто остался)"
   ]
  },
  {
   "cell_type": "markdown",
   "metadata": {},
   "source": [
    "Посмотрим в абсолютных числах сколько из 4000тысяч клиентов ушло, а сколько осталось."
   ]
  },
  {
   "cell_type": "code",
   "execution_count": 4,
   "metadata": {
    "scrolled": true
   },
   "outputs": [
    {
     "data": {
      "text/plain": [
       "Churn\n",
       "0    2939\n",
       "1    1061\n",
       "Name: Churn, dtype: int64"
      ]
     },
     "metadata": {},
     "output_type": "display_data"
    }
   ],
   "source": [
    "display(gym_churn.groupby('Churn')['Churn'].agg('count'))"
   ]
  },
  {
   "cell_type": "markdown",
   "metadata": {},
   "source": [
    "1061 посетитель попал в отток, это достаточно много."
   ]
  },
  {
   "cell_type": "code",
   "execution_count": 5,
   "metadata": {},
   "outputs": [
    {
     "data": {
      "text/html": [
       "<div>\n",
       "<style scoped>\n",
       "    .dataframe tbody tr th:only-of-type {\n",
       "        vertical-align: middle;\n",
       "    }\n",
       "\n",
       "    .dataframe tbody tr th {\n",
       "        vertical-align: top;\n",
       "    }\n",
       "\n",
       "    .dataframe thead th {\n",
       "        text-align: right;\n",
       "    }\n",
       "</style>\n",
       "<table border=\"1\" class=\"dataframe\">\n",
       "  <thead>\n",
       "    <tr style=\"text-align: right;\">\n",
       "      <th></th>\n",
       "      <th>gender</th>\n",
       "      <th>Near_Location</th>\n",
       "      <th>Partner</th>\n",
       "      <th>Promo_friends</th>\n",
       "      <th>Phone</th>\n",
       "      <th>Contract_period</th>\n",
       "      <th>Group_visits</th>\n",
       "      <th>Age</th>\n",
       "      <th>Avg_additional_charges_total</th>\n",
       "      <th>Month_to_end_contract</th>\n",
       "      <th>Lifetime</th>\n",
       "      <th>Avg_class_frequency_total</th>\n",
       "      <th>Avg_class_frequency_current_month</th>\n",
       "    </tr>\n",
       "    <tr>\n",
       "      <th>Churn</th>\n",
       "      <th></th>\n",
       "      <th></th>\n",
       "      <th></th>\n",
       "      <th></th>\n",
       "      <th></th>\n",
       "      <th></th>\n",
       "      <th></th>\n",
       "      <th></th>\n",
       "      <th></th>\n",
       "      <th></th>\n",
       "      <th></th>\n",
       "      <th></th>\n",
       "      <th></th>\n",
       "    </tr>\n",
       "  </thead>\n",
       "  <tbody>\n",
       "    <tr>\n",
       "      <th>0</th>\n",
       "      <td>0.510</td>\n",
       "      <td>0.873</td>\n",
       "      <td>0.534</td>\n",
       "      <td>0.354</td>\n",
       "      <td>0.904</td>\n",
       "      <td>5.747</td>\n",
       "      <td>0.464</td>\n",
       "      <td>29.977</td>\n",
       "      <td>158.446</td>\n",
       "      <td>5.283</td>\n",
       "      <td>4.712</td>\n",
       "      <td>2.025</td>\n",
       "      <td>2.028</td>\n",
       "    </tr>\n",
       "    <tr>\n",
       "      <th>1</th>\n",
       "      <td>0.511</td>\n",
       "      <td>0.768</td>\n",
       "      <td>0.355</td>\n",
       "      <td>0.184</td>\n",
       "      <td>0.903</td>\n",
       "      <td>1.729</td>\n",
       "      <td>0.269</td>\n",
       "      <td>26.990</td>\n",
       "      <td>115.083</td>\n",
       "      <td>1.663</td>\n",
       "      <td>0.991</td>\n",
       "      <td>1.475</td>\n",
       "      <td>1.045</td>\n",
       "    </tr>\n",
       "  </tbody>\n",
       "</table>\n",
       "</div>"
      ],
      "text/plain": [
       "       gender  Near_Location  Partner  Promo_friends  Phone  Contract_period  \\\n",
       "Churn                                                                          \n",
       "0       0.510          0.873    0.534          0.354  0.904            5.747   \n",
       "1       0.511          0.768    0.355          0.184  0.903            1.729   \n",
       "\n",
       "       Group_visits    Age  Avg_additional_charges_total  \\\n",
       "Churn                                                      \n",
       "0             0.464 29.977                       158.446   \n",
       "1             0.269 26.990                       115.083   \n",
       "\n",
       "       Month_to_end_contract  Lifetime  Avg_class_frequency_total  \\\n",
       "Churn                                                               \n",
       "0                      5.283     4.712                      2.025   \n",
       "1                      1.663     0.991                      1.475   \n",
       "\n",
       "       Avg_class_frequency_current_month  \n",
       "Churn                                     \n",
       "0                                  2.028  \n",
       "1                                  1.045  "
      ]
     },
     "execution_count": 5,
     "metadata": {},
     "output_type": "execute_result"
    }
   ],
   "source": [
    "gym_churn.groupby('Churn').mean()"
   ]
  },
  {
   "cell_type": "markdown",
   "metadata": {},
   "source": [
    "После разделения клиентов по признаку оттока можно сказать следующее:\n",
    "- Распределение по полу не отличается\n",
    "- Ближе живущие или работающие клиенты немного реже попадают в отток.\n",
    "- Сотрудники компаний-партнеров реже перестают посещать фитнесс-клуб чем остальные клиенты\n",
    "- Клиенты, пришедшие по акции \"Приведи друга\" в два раза реже уходят в отток\n",
    "- Наличие мобильного номера клиента не отличается в группах\n",
    "- Средняя длительность договора полне логично больше у оставшихся пользователей, у большей части клиентов в оттоке срок договора составляет 1 месяц (скорее это говорит о том, что чаще клиенты заключают договор на 1 месяц).\n",
    "- Интересный момент: среди ушедших средний лайфтайм с момента первого обращения в фитнес-центр - меньше месяца. Значит, есть проблемы с удержанием, клиенты не смогли заинтересоваться и спустя месяц ушли.\n",
    "- Оставшиеся пользователи чаще ходят на групповые занятия.\n",
    "- Оставшееся время до окончания срока действия договора логично больше у оставшихся клиентов.\n",
    "- У клиентов в оттоке меньше среднее количество посещений в неделю за всё время\n",
    "- Количество посещений в предыдущий месяц в два раза ниже у клиентов в оттоке"
   ]
  },
  {
   "cell_type": "markdown",
   "metadata": {},
   "source": [
    "<div class=\"alert alert-success\">\n",
    "<b>👍 Успех:</b> Хорошо подмечена разница между группами оставшихся и ушедших клиентов\n",
    "</div>"
   ]
  },
  {
   "cell_type": "markdown",
   "metadata": {},
   "source": [
    "### Гистограммы"
   ]
  },
  {
   "cell_type": "markdown",
   "metadata": {},
   "source": [
    "Построим столбчатые диаграммы признаков для тех, кто ушел(отток) и тех, кто остался."
   ]
  },
  {
   "cell_type": "code",
   "execution_count": 6,
   "metadata": {
    "scrolled": false
   },
   "outputs": [
    {
     "data": {
      "image/png": "[encoded data removed]",
      "text/plain": [
       "<Figure size 720x288 with 1 Axes>"
      ]
     },
     "metadata": {
      "needs_background": "light"
     },
     "output_type": "display_data"
    },
    {
     "data": {
      "image/png": "[encoded data removed]",
      "text/plain": [
       "<Figure size 720x288 with 1 Axes>"
      ]
     },
     "metadata": {
      "needs_background": "light"
     },
     "output_type": "display_data"
    },
    {
     "data": {
      "image/png": "[encoded data removed]",
      "text/plain": [
       "<Figure size 720x288 with 1 Axes>"
      ]
     },
     "metadata": {
      "needs_background": "light"
     },
     "output_type": "display_data"
    },
    {
     "data": {
      "image/png": "[encoded data removed]",
      "text/plain": [
       "<Figure size 720x288 with 1 Axes>"
      ]
     },
     "metadata": {
      "needs_background": "light"
     },
     "output_type": "display_data"
    },
    {
     "data": {
      "image/png": "[encoded data removed]",
      "text/plain": [
       "<Figure size 720x288 with 1 Axes>"
      ]
     },
     "metadata": {
      "needs_background": "light"
     },
     "output_type": "display_data"
    },
    {
     "data": {
      "image/png": "[encoded data removed]",
      "text/plain": [
       "<Figure size 720x288 with 1 Axes>"
      ]
     },
     "metadata": {
      "needs_background": "light"
     },
     "output_type": "display_data"
    },
    {
     "data": {
      "image/png": "[encoded data removed]",
      "text/plain": [
       "<Figure size 720x288 with 1 Axes>"
      ]
     },
     "metadata": {
      "needs_background": "light"
     },
     "output_type": "display_data"
    },
    {
     "data": {
      "image/png": "[encoded data removed]",
      "text/plain": [
       "<Figure size 720x288 with 1 Axes>"
      ]
     },
     "metadata": {
      "needs_background": "light"
     },
     "output_type": "display_data"
    },
    {
     "data": {
      "image/png": "[encoded data removed]",
      "text/plain": [
       "<Figure size 720x288 with 1 Axes>"
      ]
     },
     "metadata": {
      "needs_background": "light"
     },
     "output_type": "display_data"
    },
    {
     "data": {
      "image/png": "[encoded data removed]",
      "text/plain": [
       "<Figure size 720x288 with 1 Axes>"
      ]
     },
     "metadata": {
      "needs_background": "light"
     },
     "output_type": "display_data"
    },
    {
     "data": {
      "image/png": "[encoded data removed]",
      "text/plain": [
       "<Figure size 720x288 with 1 Axes>"
      ]
     },
     "metadata": {
      "needs_background": "light"
     },
     "output_type": "display_data"
    },
    {
     "data": {
      "image/png": "[encoded data removed]",
      "text/plain": [
       "<Figure size 720x288 with 1 Axes>"
      ]
     },
     "metadata": {
      "needs_background": "light"
     },
     "output_type": "display_data"
    },
    {
     "data": {
      "image/png": "[encoded data removed]",
      "text/plain": [
       "<Figure size 720x288 with 1 Axes>"
      ]
     },
     "metadata": {
      "needs_background": "light"
     },
     "output_type": "display_data"
    },
    {
     "data": {
      "image/png": "[encoded data removed]",
      "text/plain": [
       "<Figure size 720x288 with 1 Axes>"
      ]
     },
     "metadata": {
      "needs_background": "light"
     },
     "output_type": "display_data"
    }
   ],
   "source": [
    "for col in  gym_churn.columns:\n",
    "    plt.figure(figsize=(10,4)) \n",
    "    plt.title(col)\n",
    "    sns.histplot(gym_churn.query('Churn==0')[col], color='green')\n",
    "    sns.histplot(gym_churn.query('Churn==1')[col], color='red')\n",
    "    plt.legend(['Отток', 'Не попали в отток'])\n",
    "    plt.show()"
   ]
  },
  {
   "cell_type": "markdown",
   "metadata": {},
   "source": [
    "### Матрица корреляций и тепловая карта"
   ]
  },
  {
   "cell_type": "code",
   "execution_count": 7,
   "metadata": {},
   "outputs": [
    {
     "data": {
      "image/png": "[encoded data removed]",
      "text/plain": [
       "<Figure size 1296x864 with 2 Axes>"
      ]
     },
     "metadata": {
      "needs_background": "light"
     },
     "output_type": "display_data"
    }
   ],
   "source": [
    "#построим и отрисуем матрицу корреляций\n",
    "cm = gym_churn.corr() \n",
    "plt.figure(figsize=(18,12))\n",
    "sns.heatmap(cm, annot=True, square=True)\n",
    "plt.title('Матрица корреляций')\n",
    "plt.show();"
   ]
  },
  {
   "cell_type": "markdown",
   "metadata": {},
   "source": [
    "**Вывод:** нет явной зависимости факта оттока от признаков, но есть 2 пары мультиколлинеарных признаков - `Month_to_end_contract` - `Сontract_period` и `Avg_class_frequency_total` - `Avg_class_frequency_current_month`"
   ]
  },
  {
   "cell_type": "markdown",
   "metadata": {},
   "source": [
    "## Строим модель прогнозирования оттока пользователей"
   ]
  },
  {
   "cell_type": "markdown",
   "metadata": {},
   "source": [
    "### Разбиваем данные на обучающую и валидационную выборки"
   ]
  },
  {
   "cell_type": "code",
   "execution_count": 8,
   "metadata": {
    "collapsed": true
   },
   "outputs": [],
   "source": [
    "#разделим наши данные на признаки (матрица X) и целевую переменную (y)\n",
    "X = gym_churn.drop('Churn', axis=1) \n",
    "y = gym_churn['Churn'] "
   ]
  },
  {
   "cell_type": "code",
   "execution_count": 9,
   "metadata": {
    "collapsed": true
   },
   "outputs": [],
   "source": [
    "#разделяем модель на обучающую и валидационную выборки\n",
    "X_train, X_test, y_train, y_test = train_test_split(X, y, test_size=0.2, random_state=0, stratify=y)"
   ]
  },
  {
   "cell_type": "markdown",
   "metadata": {},
   "source": [
    "### Обучаем модель логистической регрессией и делаем прогноз"
   ]
  },
  {
   "cell_type": "code",
   "execution_count": 10,
   "metadata": {
    "collapsed": true
   },
   "outputs": [],
   "source": [
    "# создадим объект класса StandardScaler и применим его к обучающей выборке\n",
    "scaler = StandardScaler()\n",
    "X_train_st = scaler.fit_transform(X_train) # обучаем scaler и одновременно трансформируем матрицу для обучающей выборки\n",
    "\n",
    "# применяем стандартизацию к матрице признаков для тестовой выборки\n",
    "X_test_st = scaler.transform(X_test)"
   ]
  },
  {
   "cell_type": "code",
   "execution_count": 11,
   "metadata": {
    "collapsed": true
   },
   "outputs": [],
   "source": [
    "# задаем алгоритм для нашей модели\n",
    "model = LogisticRegression(solver='liblinear', random_state=0)\n",
    "\n",
    "# обучаем модель\n",
    "model = model.fit(X_train_st, y_train)\n",
    "\n",
    "# делаем прогнозы\n",
    "lr_pred = model.predict(X_test_st) \n",
    "lr_prob = model.predict_proba(X_test_st)[:,1] "
   ]
  },
  {
   "cell_type": "markdown",
   "metadata": {},
   "source": [
    "### Обучаем модель случайным лесом и делаем прогноз"
   ]
  },
  {
   "cell_type": "code",
   "execution_count": 12,
   "metadata": {
    "collapsed": true
   },
   "outputs": [],
   "source": [
    "# зададим алгоритм для новой модели на основе алгоритма случайного леса\n",
    "rf_model = RandomForestClassifier(n_estimators = 100, random_state = 0) \n",
    "\n",
    "# обучим модель случайного леса\n",
    "rf_model.fit(X_train_st, y_train)\n",
    "\n",
    "# воспользуемся уже обученной моделью, чтобы сделать прогнозы\n",
    "rf_pred = rf_model.predict(X_test_st)\n",
    "rf_prob = rf_model.predict_proba(X_test_st)[:, 1]"
   ]
  },
  {
   "cell_type": "markdown",
   "metadata": {},
   "source": [
    "### Оцениваем метрики для обеих моделей"
   ]
  },
  {
   "cell_type": "code",
   "execution_count": 13,
   "metadata": {
    "collapsed": true
   },
   "outputs": [],
   "source": [
    "# определим функцию, которая будет выводить наши метрики\n",
    "def print_metrics(y_true, y_pred, title='Метрики классификации'):\n",
    "    print(title)\n",
    "    print('\\tAccuracy: {:.2f}'.format(accuracy_score(y_true, y_pred)))\n",
    "    print('\\tPrecision: {:.2f}'.format(precision_score(y_true, y_pred)))\n",
    "    print('\\tRecall: {:.2f}'.format(recall_score(y_true, y_pred)))"
   ]
  },
  {
   "cell_type": "code",
   "execution_count": 14,
   "metadata": {},
   "outputs": [
    {
     "name": "stdout",
     "output_type": "stream",
     "text": [
      "Метрики для модели логистической регрессии\n",
      "\tAccuracy: 0.94\n",
      "\tPrecision: 0.90\n",
      "\tRecall: 0.85\n"
     ]
    }
   ],
   "source": [
    "print_metrics(y_test, lr_pred, title='Метрики для модели логистической регрессии')"
   ]
  },
  {
   "cell_type": "code",
   "execution_count": 15,
   "metadata": {},
   "outputs": [
    {
     "name": "stdout",
     "output_type": "stream",
     "text": [
      "Метрики для модели логистической регрессии\n",
      "\tAccuracy: 0.92\n",
      "\tPrecision: 0.88\n",
      "\tRecall: 0.83\n"
     ]
    }
   ],
   "source": [
    "print_metrics(y_test, rf_pred, title='Метрики для модели логистической регрессии')"
   ]
  },
  {
   "cell_type": "markdown",
   "metadata": {},
   "source": [
    "**Вывод:** Модель логистической регрессии показала себя лучше на основании метрик."
   ]
  },
  {
   "cell_type": "markdown",
   "metadata": {},
   "source": [
    "## Кластеризация пользователей"
   ]
  },
  {
   "cell_type": "markdown",
   "metadata": {},
   "source": [
    "### Стандартизация и отрисовка дендрограммы"
   ]
  },
  {
   "cell_type": "markdown",
   "metadata": {},
   "source": [
    "Проведем стандартизацию данных, построим матрицу расстояний и нарисуем дендрограмму."
   ]
  },
  {
   "cell_type": "code",
   "execution_count": 16,
   "metadata": {
    "collapsed": true
   },
   "outputs": [],
   "source": [
    "# стандартизируем данные\n",
    "sc = StandardScaler()\n",
    "x_sc = sc.fit_transform(gym_churn)"
   ]
  },
  {
   "cell_type": "code",
   "execution_count": 17,
   "metadata": {
    "collapsed": true
   },
   "outputs": [],
   "source": [
    "# строим матрицу расстояний\n",
    "linked = linkage(x_sc, method = 'ward') "
   ]
  },
  {
   "cell_type": "code",
   "execution_count": 18,
   "metadata": {
    "scrolled": true
   },
   "outputs": [
    {
     "data": {
      "image/png": "[encoded data removed]",
      "text/plain": [
       "<Figure size 1080x720 with 1 Axes>"
      ]
     },
     "metadata": {
      "needs_background": "light"
     },
     "output_type": "display_data"
    }
   ],
   "source": [
    "# строим дендрограмму\n",
    "plt.figure(figsize=(15, 10))  \n",
    "dendrogram(linked, orientation='top')\n",
    "plt.title('Дендрограмма')\n",
    "plt.show() "
   ]
  },
  {
   "cell_type": "markdown",
   "metadata": {},
   "source": [
    "Явно можно выделить 5 больших кластеров по дендрограмме."
   ]
  },
  {
   "cell_type": "markdown",
   "metadata": {},
   "source": [
    "### Обучение и прогноз кластеров на основании алгоритма K-Means"
   ]
  },
  {
   "cell_type": "code",
   "execution_count": 19,
   "metadata": {
    "scrolled": false
   },
   "outputs": [
    {
     "data": {
      "text/html": [
       "<div>\n",
       "<style scoped>\n",
       "    .dataframe tbody tr th:only-of-type {\n",
       "        vertical-align: middle;\n",
       "    }\n",
       "\n",
       "    .dataframe tbody tr th {\n",
       "        vertical-align: top;\n",
       "    }\n",
       "\n",
       "    .dataframe thead th {\n",
       "        text-align: right;\n",
       "    }\n",
       "</style>\n",
       "<table border=\"1\" class=\"dataframe\">\n",
       "  <thead>\n",
       "    <tr style=\"text-align: right;\">\n",
       "      <th></th>\n",
       "      <th>gender</th>\n",
       "      <th>Near_Location</th>\n",
       "      <th>Partner</th>\n",
       "      <th>Promo_friends</th>\n",
       "      <th>Phone</th>\n",
       "      <th>Contract_period</th>\n",
       "      <th>Group_visits</th>\n",
       "      <th>Age</th>\n",
       "      <th>Avg_additional_charges_total</th>\n",
       "      <th>Month_to_end_contract</th>\n",
       "      <th>Lifetime</th>\n",
       "      <th>Avg_class_frequency_total</th>\n",
       "      <th>Avg_class_frequency_current_month</th>\n",
       "      <th>Churn</th>\n",
       "    </tr>\n",
       "    <tr>\n",
       "      <th>cluster_km</th>\n",
       "      <th></th>\n",
       "      <th></th>\n",
       "      <th></th>\n",
       "      <th></th>\n",
       "      <th></th>\n",
       "      <th></th>\n",
       "      <th></th>\n",
       "      <th></th>\n",
       "      <th></th>\n",
       "      <th></th>\n",
       "      <th></th>\n",
       "      <th></th>\n",
       "      <th></th>\n",
       "      <th></th>\n",
       "    </tr>\n",
       "  </thead>\n",
       "  <tbody>\n",
       "    <tr>\n",
       "      <th>0</th>\n",
       "      <td>0.504</td>\n",
       "      <td>0.000</td>\n",
       "      <td>0.460</td>\n",
       "      <td>0.075</td>\n",
       "      <td>0.917</td>\n",
       "      <td>2.070</td>\n",
       "      <td>0.211</td>\n",
       "      <td>28.522</td>\n",
       "      <td>132.741</td>\n",
       "      <td>1.950</td>\n",
       "      <td>2.757</td>\n",
       "      <td>1.707</td>\n",
       "      <td>1.516</td>\n",
       "      <td>0.450</td>\n",
       "    </tr>\n",
       "    <tr>\n",
       "      <th>1</th>\n",
       "      <td>0.493</td>\n",
       "      <td>0.936</td>\n",
       "      <td>0.764</td>\n",
       "      <td>0.535</td>\n",
       "      <td>0.919</td>\n",
       "      <td>10.447</td>\n",
       "      <td>0.516</td>\n",
       "      <td>29.962</td>\n",
       "      <td>161.854</td>\n",
       "      <td>9.477</td>\n",
       "      <td>4.833</td>\n",
       "      <td>2.788</td>\n",
       "      <td>2.787</td>\n",
       "      <td>0.008</td>\n",
       "    </tr>\n",
       "    <tr>\n",
       "      <th>2</th>\n",
       "      <td>0.508</td>\n",
       "      <td>1.000</td>\n",
       "      <td>0.324</td>\n",
       "      <td>0.213</td>\n",
       "      <td>0.904</td>\n",
       "      <td>1.547</td>\n",
       "      <td>0.287</td>\n",
       "      <td>26.927</td>\n",
       "      <td>113.173</td>\n",
       "      <td>1.501</td>\n",
       "      <td>1.032</td>\n",
       "      <td>1.450</td>\n",
       "      <td>1.038</td>\n",
       "      <td>0.961</td>\n",
       "    </tr>\n",
       "    <tr>\n",
       "      <th>3</th>\n",
       "      <td>0.521</td>\n",
       "      <td>0.997</td>\n",
       "      <td>0.282</td>\n",
       "      <td>0.208</td>\n",
       "      <td>0.904</td>\n",
       "      <td>1.882</td>\n",
       "      <td>0.453</td>\n",
       "      <td>30.237</td>\n",
       "      <td>157.989</td>\n",
       "      <td>1.795</td>\n",
       "      <td>4.924</td>\n",
       "      <td>2.203</td>\n",
       "      <td>2.207</td>\n",
       "      <td>0.003</td>\n",
       "    </tr>\n",
       "    <tr>\n",
       "      <th>4</th>\n",
       "      <td>0.519</td>\n",
       "      <td>0.968</td>\n",
       "      <td>0.744</td>\n",
       "      <td>0.526</td>\n",
       "      <td>0.874</td>\n",
       "      <td>8.859</td>\n",
       "      <td>0.535</td>\n",
       "      <td>29.728</td>\n",
       "      <td>162.907</td>\n",
       "      <td>8.156</td>\n",
       "      <td>4.411</td>\n",
       "      <td>0.958</td>\n",
       "      <td>0.944</td>\n",
       "      <td>0.025</td>\n",
       "    </tr>\n",
       "  </tbody>\n",
       "</table>\n",
       "</div>"
      ],
      "text/plain": [
       "            gender  Near_Location  Partner  Promo_friends  Phone  \\\n",
       "cluster_km                                                         \n",
       "0            0.504          0.000    0.460          0.075  0.917   \n",
       "1            0.493          0.936    0.764          0.535  0.919   \n",
       "2            0.508          1.000    0.324          0.213  0.904   \n",
       "3            0.521          0.997    0.282          0.208  0.904   \n",
       "4            0.519          0.968    0.744          0.526  0.874   \n",
       "\n",
       "            Contract_period  Group_visits    Age  \\\n",
       "cluster_km                                         \n",
       "0                     2.070         0.211 28.522   \n",
       "1                    10.447         0.516 29.962   \n",
       "2                     1.547         0.287 26.927   \n",
       "3                     1.882         0.453 30.237   \n",
       "4                     8.859         0.535 29.728   \n",
       "\n",
       "            Avg_additional_charges_total  Month_to_end_contract  Lifetime  \\\n",
       "cluster_km                                                                  \n",
       "0                                132.741                  1.950     2.757   \n",
       "1                                161.854                  9.477     4.833   \n",
       "2                                113.173                  1.501     1.032   \n",
       "3                                157.989                  1.795     4.924   \n",
       "4                                162.907                  8.156     4.411   \n",
       "\n",
       "            Avg_class_frequency_total  Avg_class_frequency_current_month  \\\n",
       "cluster_km                                                                 \n",
       "0                               1.707                              1.516   \n",
       "1                               2.788                              2.787   \n",
       "2                               1.450                              1.038   \n",
       "3                               2.203                              2.207   \n",
       "4                               0.958                              0.944   \n",
       "\n",
       "            Churn  \n",
       "cluster_km         \n",
       "0           0.450  \n",
       "1           0.008  \n",
       "2           0.961  \n",
       "3           0.003  \n",
       "4           0.025  "
      ]
     },
     "metadata": {},
     "output_type": "display_data"
    }
   ],
   "source": [
    "# задаём модель k_means с числом кластеров 5 и фиксируем значение random_state\n",
    "km = KMeans(n_clusters=5, random_state=0)\n",
    "\n",
    "# прогнозируем кластеры для наблюдений\n",
    "labels = km.fit_predict(x_sc)\n",
    "\n",
    "# сохраняем метки кластера в поле нашего датасета\n",
    "gym_churn['cluster_km'] = labels\n",
    "\n",
    "# выводим статистику по средним значениям наших признаков по кластеру\n",
    "display(gym_churn.groupby('cluster_km').mean())"
   ]
  },
  {
   "cell_type": "markdown",
   "metadata": {},
   "source": [
    "Сразу бросается в глаза кластер с индексом 2, где отток клиентов практически 96% в этом кластере наименьшая выручка с клиентов от дополнительных услуг и самый маленький лайфтайм. Если говорить о том, какой кластер \"самый надежный\", то это кластер с индексом 3, где отток сосставляет всего 0,3%. Он характеризуется самым высоким лайфтаймом, более высоким средним возрастом посетителей, при этом всего 28% клиентов(самый малый процент среди кластеров) является сотрудниками компании-партнера."
   ]
  },
  {
   "cell_type": "markdown",
   "metadata": {},
   "source": [
    "### Распределение признаков для кластеров"
   ]
  },
  {
   "cell_type": "markdown",
   "metadata": {},
   "source": [
    "Используем гистограммы, чтобы посмотреть распределение признаков для кластеров."
   ]
  },
  {
   "cell_type": "code",
   "execution_count": 36,
   "metadata": {
    "scrolled": false
   },
   "outputs": [
    {
     "data": {
      "image/png": "[encoded data removed]",
      "text/plain": [
       "<Figure size 720x288 with 1 Axes>"
      ]
     },
     "metadata": {
      "needs_background": "light"
     },
     "output_type": "display_data"
    },
    {
     "data": {
      "image/png": "[encoded data removed]",
      "text/plain": [
       "<Figure size 720x288 with 1 Axes>"
      ]
     },
     "metadata": {
      "needs_background": "light"
     },
     "output_type": "display_data"
    },
    {
     "data": {
      "image/png": "[encoded data removed]",
      "text/plain": [
       "<Figure size 720x288 with 1 Axes>"
      ]
     },
     "metadata": {
      "needs_background": "light"
     },
     "output_type": "display_data"
    },
    {
     "data": {
      "image/png": "[encoded data removed]",
      "text/plain": [
       "<Figure size 720x288 with 1 Axes>"
      ]
     },
     "metadata": {
      "needs_background": "light"
     },
     "output_type": "display_data"
    },
    {
     "data": {
      "image/png": "[encoded data removed]",
      "text/plain": [
       "<Figure size 720x288 with 1 Axes>"
      ]
     },
     "metadata": {
      "needs_background": "light"
     },
     "output_type": "display_data"
    },
    {
     "data": {
      "image/png": "[encoded data removed]",
      "text/plain": [
       "<Figure size 720x288 with 1 Axes>"
      ]
     },
     "metadata": {
      "needs_background": "light"
     },
     "output_type": "display_data"
    },
    {
     "data": {
      "image/png": "[encoded data removed]",
      "text/plain": [
       "<Figure size 720x288 with 1 Axes>"
      ]
     },
     "metadata": {
      "needs_background": "light"
     },
     "output_type": "display_data"
    }
   ],
   "source": [
    "cluster_0 = gym_churn.query('cluster_km==0')\n",
    "cluster_1 = gym_churn.query('cluster_km==1')\n",
    "cluster_2 = gym_churn.query('cluster_km==2')\n",
    "cluster_3 = gym_churn.query('cluster_km==3')\n",
    "cluster_4 = gym_churn.query('cluster_km==4')\n",
    "\n",
    "histplot_columns = ['Avg_additional_charges_total', 'Avg_class_frequency_total', \n",
    "                    'Avg_class_frequency_current_month', 'Lifetime', 'Age', \n",
    "                    'Contract_period', 'Month_to_end_contract']\n",
    "for col in histplot_columns:\n",
    "    plt.figure(figsize=(10,4))\n",
    "    plt.title(col)\n",
    "    sns.histplot(cluster_0[col], color='green')\n",
    "    sns.histplot(cluster_1[col], color='red')\n",
    "    sns.histplot(cluster_2[col], color='blue')\n",
    "    sns.histplot(cluster_3[col], color='white')\n",
    "    sns.histplot(cluster_4[col], color='grey')\n",
    "    plt.legend(['Кластер 0', 'Кластер 1', 'Кластер 2', 'Кластер 3', 'Кластер 4'])\n",
    "    plt.show()"
   ]
  },
  {
   "cell_type": "markdown",
   "metadata": {},
   "source": [
    "Гистограммы подтверждают наши выводы, у кластера 2 наблюдаем что лайфтайм сосредоточен на значениях 0-2 месяца и малые затраты на дополнительные услуги."
   ]
  },
  {
   "cell_type": "markdown",
   "metadata": {},
   "source": [
    "## Общий вывод"
   ]
  },
  {
   "cell_type": "markdown",
   "metadata": {},
   "source": [
    "Было исследовано **4000** анкет посетителей фитнес центра для каждого из которых определено **14** характеристик(целевая переменная и тринадцать признаков). \n",
    "После группировки анкет по факту оттока выявлены основные особенности клиентов, но нет явной зависимости факта оттока от признаков.\n",
    "На основании этих данных была построено две прогнозных модели, одна из которых - **логистическая регрессия** на метриках показала лучшие результаты.\n",
    "С помощью алгоритма `K-Means` данные были разделены на **5** кластеров и выявлен кластре, в котором клиенты наиболее склонны к оттоку. В этом кластере наименьшая выручка с клиентов от дополнительных услуг и самый маленький лайфтайм. Если говорить о том, какой кластер \"самый надежный\", то это кластер, где отток сосставляет всего **0,3%**. Он характеризуется самым высоким лайфтаймом, более высоким средним возрастом посетителей, при этом всего **28%** клиентов(самый малый процент среди кластеров) является сотрудниками компании-партнера.\n",
    "\n",
    "**Рекомендации:**\n",
    "- удержание колеблющихся, за счет скидок на групповые занятия и комплиментов (например,скидка на вторую покупку в неделю на дополнительные услуги)\n",
    "- стимуляция за счет предложений продления абонементов до года со скидками\n",
    "- стимуляция начинающих посещать не реже **1** раза в неделю(например смс-напомнинание о тренировке)\n",
    "- акции и розыгрыши, направленые на знакомство клиентов с дополнительными услугами(кафе, косметический и массажный салоны)."
   ]
  }
 ],
 "metadata": {
  "ExecuteTimeLog": [
   {
    "duration": 1410,
    "start_time": "2022-05-27T05:47:06.328Z"
   },
   {
    "duration": 68,
    "start_time": "2022-05-27T05:47:07.740Z"
   },
   {
    "duration": 160,
    "start_time": "2022-05-27T05:47:07.809Z"
   },
   {
    "duration": 1250,
    "start_time": "2022-05-27T05:47:56.389Z"
   },
   {
    "duration": 32,
    "start_time": "2022-05-27T05:47:57.642Z"
   },
   {
    "duration": 214,
    "start_time": "2022-05-27T05:47:57.676Z"
   },
   {
    "duration": 174,
    "start_time": "2022-05-27T06:48:00.204Z"
   },
   {
    "duration": 15,
    "start_time": "2022-05-27T06:48:26.885Z"
   },
   {
    "duration": 1259,
    "start_time": "2022-05-27T07:17:26.495Z"
   },
   {
    "duration": 34,
    "start_time": "2022-05-27T07:17:27.756Z"
   },
   {
    "duration": 202,
    "start_time": "2022-05-27T07:17:27.792Z"
   },
   {
    "duration": 15,
    "start_time": "2022-05-27T07:17:27.996Z"
   },
   {
    "duration": 1465,
    "start_time": "2022-05-27T07:17:28.013Z"
   },
   {
    "duration": 5,
    "start_time": "2022-05-27T07:18:23.945Z"
   },
   {
    "duration": 1836,
    "start_time": "2022-05-27T07:18:35.022Z"
   },
   {
    "duration": 1608,
    "start_time": "2022-05-27T07:20:02.012Z"
   },
   {
    "duration": 1425,
    "start_time": "2022-05-27T07:23:07.146Z"
   },
   {
    "duration": 1451,
    "start_time": "2022-05-27T07:23:22.141Z"
   },
   {
    "duration": 1556,
    "start_time": "2022-05-27T07:24:04.021Z"
   },
   {
    "duration": 1344,
    "start_time": "2022-05-27T07:26:20.546Z"
   },
   {
    "duration": 33,
    "start_time": "2022-05-27T07:26:21.893Z"
   },
   {
    "duration": 218,
    "start_time": "2022-05-27T07:26:21.933Z"
   },
   {
    "duration": 15,
    "start_time": "2022-05-27T07:26:22.152Z"
   },
   {
    "duration": 1792,
    "start_time": "2022-05-27T07:26:22.170Z"
   },
   {
    "duration": 3361,
    "start_time": "2022-05-27T07:26:23.964Z"
   },
   {
    "duration": 115,
    "start_time": "2022-05-27T07:56:22.982Z"
   },
   {
    "duration": 1338,
    "start_time": "2022-05-27T07:56:35.139Z"
   },
   {
    "duration": 34,
    "start_time": "2022-05-27T07:56:36.480Z"
   },
   {
    "duration": 118,
    "start_time": "2022-05-27T07:56:36.518Z"
   },
   {
    "duration": 14,
    "start_time": "2022-05-27T07:56:36.638Z"
   },
   {
    "duration": 1629,
    "start_time": "2022-05-27T07:56:36.655Z"
   },
   {
    "duration": 1414,
    "start_time": "2022-05-27T07:56:38.285Z"
   },
   {
    "duration": 4,
    "start_time": "2022-05-27T07:56:39.700Z"
   },
   {
    "duration": 8,
    "start_time": "2022-05-27T07:56:39.706Z"
   },
   {
    "duration": 119,
    "start_time": "2022-05-27T07:56:39.716Z"
   },
   {
    "duration": 26,
    "start_time": "2022-05-27T07:57:41.365Z"
   },
   {
    "duration": 27,
    "start_time": "2022-05-27T07:58:10.518Z"
   },
   {
    "duration": 1379,
    "start_time": "2022-05-27T08:14:16.307Z"
   },
   {
    "duration": 34,
    "start_time": "2022-05-27T08:14:17.688Z"
   },
   {
    "duration": 170,
    "start_time": "2022-05-27T08:14:17.724Z"
   },
   {
    "duration": 34,
    "start_time": "2022-05-27T08:14:17.896Z"
   },
   {
    "duration": 1736,
    "start_time": "2022-05-27T08:14:17.932Z"
   },
   {
    "duration": 1453,
    "start_time": "2022-05-27T08:14:19.670Z"
   },
   {
    "duration": 5,
    "start_time": "2022-05-27T08:14:21.124Z"
   },
   {
    "duration": 10,
    "start_time": "2022-05-27T08:14:21.131Z"
   },
   {
    "duration": 91,
    "start_time": "2022-05-27T08:14:21.144Z"
   },
   {
    "duration": 601,
    "start_time": "2022-05-27T08:14:21.237Z"
   },
   {
    "duration": 3,
    "start_time": "2022-05-27T08:14:21.840Z"
   },
   {
    "duration": 16,
    "start_time": "2022-05-27T08:14:21.846Z"
   },
   {
    "duration": 8,
    "start_time": "2022-05-27T08:14:21.864Z"
   },
   {
    "duration": 15,
    "start_time": "2022-05-27T08:33:32.292Z"
   },
   {
    "duration": 0,
    "start_time": "2022-05-27T08:33:32.309Z"
   },
   {
    "duration": 0,
    "start_time": "2022-05-27T08:33:32.310Z"
   },
   {
    "duration": 0,
    "start_time": "2022-05-27T08:33:32.311Z"
   },
   {
    "duration": 63,
    "start_time": "2022-05-27T08:33:32.319Z"
   },
   {
    "duration": 0,
    "start_time": "2022-05-27T08:33:32.384Z"
   },
   {
    "duration": 0,
    "start_time": "2022-05-27T08:33:32.386Z"
   },
   {
    "duration": 0,
    "start_time": "2022-05-27T08:33:32.387Z"
   },
   {
    "duration": 0,
    "start_time": "2022-05-27T08:33:32.389Z"
   },
   {
    "duration": 0,
    "start_time": "2022-05-27T08:33:32.390Z"
   },
   {
    "duration": 0,
    "start_time": "2022-05-27T08:33:32.391Z"
   },
   {
    "duration": 0,
    "start_time": "2022-05-27T08:33:32.393Z"
   },
   {
    "duration": 0,
    "start_time": "2022-05-27T08:33:32.394Z"
   },
   {
    "duration": 38,
    "start_time": "2022-05-27T08:33:32.408Z"
   },
   {
    "duration": 0,
    "start_time": "2022-05-27T08:33:32.449Z"
   },
   {
    "duration": 0,
    "start_time": "2022-05-27T08:33:32.450Z"
   },
   {
    "duration": 7,
    "start_time": "2022-05-27T08:33:32.452Z"
   },
   {
    "duration": 11,
    "start_time": "2022-05-27T08:33:50.246Z"
   },
   {
    "duration": 0,
    "start_time": "2022-05-27T08:33:50.259Z"
   },
   {
    "duration": 0,
    "start_time": "2022-05-27T08:33:50.261Z"
   },
   {
    "duration": 0,
    "start_time": "2022-05-27T08:33:50.263Z"
   },
   {
    "duration": 0,
    "start_time": "2022-05-27T08:33:50.265Z"
   },
   {
    "duration": 0,
    "start_time": "2022-05-27T08:33:50.267Z"
   },
   {
    "duration": 73,
    "start_time": "2022-05-27T08:33:50.274Z"
   },
   {
    "duration": 0,
    "start_time": "2022-05-27T08:33:50.349Z"
   },
   {
    "duration": 0,
    "start_time": "2022-05-27T08:33:50.350Z"
   },
   {
    "duration": 0,
    "start_time": "2022-05-27T08:33:50.351Z"
   },
   {
    "duration": 0,
    "start_time": "2022-05-27T08:33:50.352Z"
   },
   {
    "duration": 0,
    "start_time": "2022-05-27T08:33:50.353Z"
   },
   {
    "duration": 0,
    "start_time": "2022-05-27T08:33:50.355Z"
   },
   {
    "duration": 0,
    "start_time": "2022-05-27T08:33:50.356Z"
   },
   {
    "duration": 0,
    "start_time": "2022-05-27T08:33:50.358Z"
   },
   {
    "duration": 0,
    "start_time": "2022-05-27T08:33:50.359Z"
   },
   {
    "duration": 1,
    "start_time": "2022-05-27T08:33:50.360Z"
   },
   {
    "duration": 12,
    "start_time": "2022-05-27T08:34:12.191Z"
   },
   {
    "duration": 0,
    "start_time": "2022-05-27T08:34:12.205Z"
   },
   {
    "duration": 0,
    "start_time": "2022-05-27T08:34:12.206Z"
   },
   {
    "duration": 0,
    "start_time": "2022-05-27T08:34:12.207Z"
   },
   {
    "duration": 0,
    "start_time": "2022-05-27T08:34:12.209Z"
   },
   {
    "duration": 0,
    "start_time": "2022-05-27T08:34:12.211Z"
   },
   {
    "duration": 56,
    "start_time": "2022-05-27T08:34:12.245Z"
   },
   {
    "duration": 0,
    "start_time": "2022-05-27T08:34:12.304Z"
   },
   {
    "duration": 0,
    "start_time": "2022-05-27T08:34:12.306Z"
   },
   {
    "duration": 0,
    "start_time": "2022-05-27T08:34:12.307Z"
   },
   {
    "duration": 0,
    "start_time": "2022-05-27T08:34:12.309Z"
   },
   {
    "duration": 0,
    "start_time": "2022-05-27T08:34:12.311Z"
   },
   {
    "duration": 0,
    "start_time": "2022-05-27T08:34:12.312Z"
   },
   {
    "duration": 0,
    "start_time": "2022-05-27T08:34:12.314Z"
   },
   {
    "duration": 0,
    "start_time": "2022-05-27T08:34:12.316Z"
   },
   {
    "duration": 0,
    "start_time": "2022-05-27T08:34:12.317Z"
   },
   {
    "duration": 0,
    "start_time": "2022-05-27T08:34:12.327Z"
   },
   {
    "duration": 1490,
    "start_time": "2022-05-27T08:34:55.244Z"
   },
   {
    "duration": 37,
    "start_time": "2022-05-27T08:34:56.737Z"
   },
   {
    "duration": 158,
    "start_time": "2022-05-27T08:34:56.775Z"
   },
   {
    "duration": 22,
    "start_time": "2022-05-27T08:34:56.937Z"
   },
   {
    "duration": 1728,
    "start_time": "2022-05-27T08:34:56.961Z"
   },
   {
    "duration": 1532,
    "start_time": "2022-05-27T08:34:58.691Z"
   },
   {
    "duration": 11,
    "start_time": "2022-05-27T08:35:00.225Z"
   },
   {
    "duration": 28,
    "start_time": "2022-05-27T08:35:00.239Z"
   },
   {
    "duration": 39,
    "start_time": "2022-05-27T08:35:00.269Z"
   },
   {
    "duration": 510,
    "start_time": "2022-05-27T08:35:00.326Z"
   },
   {
    "duration": 4,
    "start_time": "2022-05-27T08:35:00.843Z"
   },
   {
    "duration": 43,
    "start_time": "2022-05-27T08:35:00.848Z"
   },
   {
    "duration": 15,
    "start_time": "2022-05-27T08:35:00.892Z"
   },
   {
    "duration": 12,
    "start_time": "2022-05-27T08:35:00.909Z"
   },
   {
    "duration": 150,
    "start_time": "2022-05-27T08:35:00.923Z"
   },
   {
    "duration": 0,
    "start_time": "2022-05-27T08:35:01.075Z"
   },
   {
    "duration": 0,
    "start_time": "2022-05-27T08:35:01.077Z"
   },
   {
    "duration": 1374,
    "start_time": "2022-05-27T08:37:27.622Z"
   },
   {
    "duration": 38,
    "start_time": "2022-05-27T08:37:28.998Z"
   },
   {
    "duration": 148,
    "start_time": "2022-05-27T08:37:29.039Z"
   },
   {
    "duration": 20,
    "start_time": "2022-05-27T08:37:29.190Z"
   },
   {
    "duration": 1795,
    "start_time": "2022-05-27T08:37:29.212Z"
   },
   {
    "duration": 1585,
    "start_time": "2022-05-27T08:37:31.009Z"
   },
   {
    "duration": 4,
    "start_time": "2022-05-27T08:37:32.596Z"
   },
   {
    "duration": 10,
    "start_time": "2022-05-27T08:37:32.602Z"
   },
   {
    "duration": 36,
    "start_time": "2022-05-27T08:37:32.613Z"
   },
   {
    "duration": 565,
    "start_time": "2022-05-27T08:37:32.651Z"
   },
   {
    "duration": 4,
    "start_time": "2022-05-27T08:37:33.218Z"
   },
   {
    "duration": 27,
    "start_time": "2022-05-27T08:37:33.223Z"
   },
   {
    "duration": 8,
    "start_time": "2022-05-27T08:37:33.251Z"
   },
   {
    "duration": 9,
    "start_time": "2022-05-27T08:37:33.260Z"
   },
   {
    "duration": 138,
    "start_time": "2022-05-27T08:37:33.270Z"
   },
   {
    "duration": 0,
    "start_time": "2022-05-27T08:37:33.409Z"
   },
   {
    "duration": 0,
    "start_time": "2022-05-27T08:37:33.411Z"
   },
   {
    "duration": 1357,
    "start_time": "2022-05-27T08:38:09.143Z"
   },
   {
    "duration": 39,
    "start_time": "2022-05-27T08:38:10.502Z"
   },
   {
    "duration": 139,
    "start_time": "2022-05-27T08:38:10.543Z"
   },
   {
    "duration": 16,
    "start_time": "2022-05-27T08:38:10.684Z"
   },
   {
    "duration": 1748,
    "start_time": "2022-05-27T08:38:10.702Z"
   },
   {
    "duration": 1479,
    "start_time": "2022-05-27T08:38:12.452Z"
   },
   {
    "duration": 5,
    "start_time": "2022-05-27T08:38:13.933Z"
   },
   {
    "duration": 14,
    "start_time": "2022-05-27T08:38:13.940Z"
   },
   {
    "duration": 76,
    "start_time": "2022-05-27T08:38:13.956Z"
   },
   {
    "duration": 574,
    "start_time": "2022-05-27T08:38:14.037Z"
   },
   {
    "duration": 3,
    "start_time": "2022-05-27T08:38:14.613Z"
   },
   {
    "duration": 15,
    "start_time": "2022-05-27T08:38:14.618Z"
   },
   {
    "duration": 15,
    "start_time": "2022-05-27T08:38:14.635Z"
   },
   {
    "duration": 8,
    "start_time": "2022-05-27T08:38:14.653Z"
   },
   {
    "duration": 628,
    "start_time": "2022-05-27T08:38:14.663Z"
   },
   {
    "duration": 120499,
    "start_time": "2022-05-27T08:38:15.293Z"
   },
   {
    "duration": 1536,
    "start_time": "2022-05-27T08:40:15.793Z"
   },
   {
    "duration": 1759,
    "start_time": "2022-05-27T08:49:18.670Z"
   },
   {
    "duration": 128,
    "start_time": "2022-05-27T08:59:11.701Z"
   },
   {
    "duration": 1377,
    "start_time": "2022-05-27T08:59:20.096Z"
   },
   {
    "duration": 33,
    "start_time": "2022-05-27T08:59:21.475Z"
   },
   {
    "duration": 145,
    "start_time": "2022-05-27T08:59:21.510Z"
   },
   {
    "duration": 13,
    "start_time": "2022-05-27T08:59:21.657Z"
   },
   {
    "duration": 1698,
    "start_time": "2022-05-27T08:59:21.672Z"
   },
   {
    "duration": 1535,
    "start_time": "2022-05-27T08:59:23.372Z"
   },
   {
    "duration": 4,
    "start_time": "2022-05-27T08:59:24.908Z"
   },
   {
    "duration": 9,
    "start_time": "2022-05-27T08:59:24.914Z"
   },
   {
    "duration": 41,
    "start_time": "2022-05-27T08:59:24.924Z"
   },
   {
    "duration": 568,
    "start_time": "2022-05-27T08:59:24.971Z"
   },
   {
    "duration": 3,
    "start_time": "2022-05-27T08:59:25.542Z"
   },
   {
    "duration": 12,
    "start_time": "2022-05-27T08:59:25.547Z"
   },
   {
    "duration": 21,
    "start_time": "2022-05-27T08:59:25.561Z"
   },
   {
    "duration": 9,
    "start_time": "2022-05-27T08:59:25.584Z"
   },
   {
    "duration": 599,
    "start_time": "2022-05-27T08:59:25.595Z"
   },
   {
    "duration": 115303,
    "start_time": "2022-05-27T08:59:26.196Z"
   },
   {
    "duration": 1446,
    "start_time": "2022-05-27T09:01:21.501Z"
   },
   {
    "duration": 172,
    "start_time": "2022-05-27T09:01:22.950Z"
   },
   {
    "duration": 1420,
    "start_time": "2022-05-27T09:06:57.144Z"
   },
   {
    "duration": 36,
    "start_time": "2022-05-27T09:06:58.567Z"
   },
   {
    "duration": 150,
    "start_time": "2022-05-27T09:06:58.605Z"
   },
   {
    "duration": 14,
    "start_time": "2022-05-27T09:06:58.757Z"
   },
   {
    "duration": 1796,
    "start_time": "2022-05-27T09:06:58.774Z"
   },
   {
    "duration": 1595,
    "start_time": "2022-05-27T09:07:00.572Z"
   },
   {
    "duration": 5,
    "start_time": "2022-05-27T09:07:02.170Z"
   },
   {
    "duration": 36,
    "start_time": "2022-05-27T09:07:02.176Z"
   },
   {
    "duration": 69,
    "start_time": "2022-05-27T09:07:02.213Z"
   },
   {
    "duration": 555,
    "start_time": "2022-05-27T09:07:02.331Z"
   },
   {
    "duration": 3,
    "start_time": "2022-05-27T09:07:02.888Z"
   },
   {
    "duration": 25,
    "start_time": "2022-05-27T09:07:02.893Z"
   },
   {
    "duration": 8,
    "start_time": "2022-05-27T09:07:02.920Z"
   },
   {
    "duration": 27,
    "start_time": "2022-05-27T09:07:02.931Z"
   },
   {
    "duration": 709,
    "start_time": "2022-05-27T09:07:02.960Z"
   },
   {
    "duration": 128437,
    "start_time": "2022-05-27T09:07:03.671Z"
   },
   {
    "duration": 1142,
    "start_time": "2022-05-27T09:09:12.109Z"
   },
   {
    "duration": 41610,
    "start_time": "2022-05-27T09:09:13.258Z"
   },
   {
    "duration": 1714,
    "start_time": "2022-05-27T09:11:08.647Z"
   },
   {
    "duration": 1691,
    "start_time": "2022-05-27T09:11:17.809Z"
   },
   {
    "duration": 154,
    "start_time": "2022-05-27T09:11:49.252Z"
   },
   {
    "duration": 13,
    "start_time": "2022-05-27T15:08:14.909Z"
   },
   {
    "duration": 132,
    "start_time": "2022-05-27T15:08:36.513Z"
   },
   {
    "duration": 156,
    "start_time": "2022-05-27T15:09:54.598Z"
   },
   {
    "duration": 4842,
    "start_time": "2022-05-27T15:15:49.777Z"
   },
   {
    "duration": 3871,
    "start_time": "2022-05-27T15:21:45.680Z"
   },
   {
    "duration": 4752,
    "start_time": "2022-05-27T15:22:56.627Z"
   },
   {
    "duration": 115,
    "start_time": "2022-05-27T15:25:04.682Z"
   },
   {
    "duration": 4513,
    "start_time": "2022-05-27T15:25:27.462Z"
   },
   {
    "duration": 4429,
    "start_time": "2022-05-27T15:25:57.077Z"
   },
   {
    "duration": 1498,
    "start_time": "2022-05-27T15:27:47.526Z"
   },
   {
    "duration": 1900,
    "start_time": "2022-05-27T17:35:03.198Z"
   },
   {
    "duration": 1738,
    "start_time": "2022-05-27T17:35:37.078Z"
   },
   {
    "duration": 1836,
    "start_time": "2022-05-27T17:36:01.260Z"
   },
   {
    "duration": 2043,
    "start_time": "2022-05-27T18:08:01.342Z"
   },
   {
    "duration": 1707,
    "start_time": "2022-05-27T18:10:43.302Z"
   },
   {
    "duration": 2478,
    "start_time": "2022-05-27T18:10:55.268Z"
   },
   {
    "duration": 52,
    "start_time": "2022-05-28T16:02:58.596Z"
   },
   {
    "duration": 1476,
    "start_time": "2022-05-28T16:08:53.418Z"
   },
   {
    "duration": 264,
    "start_time": "2022-05-28T16:08:54.909Z"
   },
   {
    "duration": 129,
    "start_time": "2022-05-28T16:08:55.175Z"
   },
   {
    "duration": 12,
    "start_time": "2022-05-28T16:08:55.306Z"
   },
   {
    "duration": 4125,
    "start_time": "2022-05-28T16:08:55.320Z"
   },
   {
    "duration": 1527,
    "start_time": "2022-05-28T16:08:59.447Z"
   },
   {
    "duration": 4,
    "start_time": "2022-05-28T16:09:00.976Z"
   },
   {
    "duration": 56,
    "start_time": "2022-05-28T16:09:00.982Z"
   },
   {
    "duration": 122,
    "start_time": "2022-05-28T16:09:01.040Z"
   },
   {
    "duration": 502,
    "start_time": "2022-05-28T16:09:01.165Z"
   },
   {
    "duration": 6,
    "start_time": "2022-05-28T16:09:01.674Z"
   },
   {
    "duration": 24,
    "start_time": "2022-05-28T16:09:01.683Z"
   },
   {
    "duration": 7,
    "start_time": "2022-05-28T16:09:01.709Z"
   },
   {
    "duration": 10,
    "start_time": "2022-05-28T16:09:01.717Z"
   },
   {
    "duration": 631,
    "start_time": "2022-05-28T16:09:01.729Z"
   },
   {
    "duration": 112948,
    "start_time": "2022-05-28T16:09:02.373Z"
   },
   {
    "duration": 1051,
    "start_time": "2022-05-28T16:10:55.323Z"
   },
   {
    "duration": 37050,
    "start_time": "2022-05-28T16:10:56.376Z"
   },
   {
    "duration": 130,
    "start_time": "2022-05-28T16:24:54.607Z"
   },
   {
    "duration": 7919,
    "start_time": "2022-05-28T16:25:46.577Z"
   },
   {
    "duration": 6,
    "start_time": "2022-05-28T17:55:55.152Z"
   },
   {
    "duration": 1412,
    "start_time": "2022-05-29T11:52:16.414Z"
   },
   {
    "duration": 67,
    "start_time": "2022-05-29T11:52:17.828Z"
   },
   {
    "duration": 110,
    "start_time": "2022-05-29T11:52:17.897Z"
   },
   {
    "duration": 21,
    "start_time": "2022-05-29T11:52:18.009Z"
   },
   {
    "duration": 13,
    "start_time": "2022-05-29T11:52:18.032Z"
   },
   {
    "duration": 3758,
    "start_time": "2022-05-29T11:52:18.047Z"
   },
   {
    "duration": 1458,
    "start_time": "2022-05-29T11:52:21.807Z"
   },
   {
    "duration": 3,
    "start_time": "2022-05-29T11:52:23.267Z"
   },
   {
    "duration": 8,
    "start_time": "2022-05-29T11:52:23.272Z"
   },
   {
    "duration": 51,
    "start_time": "2022-05-29T11:52:23.282Z"
   },
   {
    "duration": 523,
    "start_time": "2022-05-29T11:52:23.336Z"
   },
   {
    "duration": 4,
    "start_time": "2022-05-29T11:52:23.860Z"
   },
   {
    "duration": 9,
    "start_time": "2022-05-29T11:52:23.865Z"
   },
   {
    "duration": 18,
    "start_time": "2022-05-29T11:52:23.875Z"
   },
   {
    "duration": 33,
    "start_time": "2022-05-29T11:52:23.894Z"
   },
   {
    "duration": 545,
    "start_time": "2022-05-29T11:52:23.929Z"
   },
   {
    "duration": 106991,
    "start_time": "2022-05-29T11:52:24.476Z"
   },
   {
    "duration": 1362,
    "start_time": "2022-05-29T11:54:11.468Z"
   },
   {
    "duration": 7486,
    "start_time": "2022-05-29T11:54:12.832Z"
   },
   {
    "duration": 26,
    "start_time": "2022-05-29T12:12:35.810Z"
   },
   {
    "duration": 52,
    "start_time": "2022-05-29T12:42:59.884Z"
   },
   {
    "duration": 1422,
    "start_time": "2022-05-29T12:43:07.973Z"
   },
   {
    "duration": 70,
    "start_time": "2022-05-29T12:43:09.397Z"
   },
   {
    "duration": 101,
    "start_time": "2022-05-29T12:43:09.469Z"
   },
   {
    "duration": 5,
    "start_time": "2022-05-29T12:43:09.572Z"
   },
   {
    "duration": 29,
    "start_time": "2022-05-29T12:43:09.578Z"
   },
   {
    "duration": 10212,
    "start_time": "2022-05-29T12:43:09.609Z"
   },
   {
    "duration": 1511,
    "start_time": "2022-05-29T12:43:19.822Z"
   },
   {
    "duration": 4,
    "start_time": "2022-05-29T12:43:21.334Z"
   },
   {
    "duration": 7,
    "start_time": "2022-05-29T12:43:21.339Z"
   },
   {
    "duration": 46,
    "start_time": "2022-05-29T12:43:21.349Z"
   },
   {
    "duration": 543,
    "start_time": "2022-05-29T12:43:21.398Z"
   },
   {
    "duration": 5,
    "start_time": "2022-05-29T12:43:21.942Z"
   },
   {
    "duration": 14,
    "start_time": "2022-05-29T12:43:21.948Z"
   },
   {
    "duration": 7,
    "start_time": "2022-05-29T12:43:21.964Z"
   },
   {
    "duration": 22,
    "start_time": "2022-05-29T12:43:21.973Z"
   },
   {
    "duration": 534,
    "start_time": "2022-05-29T12:43:21.997Z"
   },
   {
    "duration": 105237,
    "start_time": "2022-05-29T12:43:22.533Z"
   },
   {
    "duration": 1623,
    "start_time": "2022-05-29T12:45:07.771Z"
   },
   {
    "duration": 7235,
    "start_time": "2022-05-29T12:45:09.396Z"
   },
   {
    "duration": 56,
    "start_time": "2022-05-30T05:56:15.576Z"
   },
   {
    "duration": 1570,
    "start_time": "2022-05-30T05:56:23.983Z"
   },
   {
    "duration": 72,
    "start_time": "2022-05-30T05:56:25.556Z"
   },
   {
    "duration": 156,
    "start_time": "2022-05-30T05:56:25.630Z"
   },
   {
    "duration": 8,
    "start_time": "2022-05-30T05:56:25.789Z"
   },
   {
    "duration": 24,
    "start_time": "2022-05-30T05:56:25.799Z"
   },
   {
    "duration": 3618,
    "start_time": "2022-05-30T05:56:25.825Z"
   },
   {
    "duration": 1644,
    "start_time": "2022-05-30T05:56:29.452Z"
   },
   {
    "duration": 4,
    "start_time": "2022-05-30T05:56:31.098Z"
   },
   {
    "duration": 23,
    "start_time": "2022-05-30T05:56:31.104Z"
   },
   {
    "duration": 50,
    "start_time": "2022-05-30T05:56:31.131Z"
   },
   {
    "duration": 683,
    "start_time": "2022-05-30T05:56:31.184Z"
   },
   {
    "duration": 3,
    "start_time": "2022-05-30T05:56:31.869Z"
   },
   {
    "duration": 28,
    "start_time": "2022-05-30T05:56:31.874Z"
   },
   {
    "duration": 9,
    "start_time": "2022-05-30T05:56:31.904Z"
   },
   {
    "duration": 17,
    "start_time": "2022-05-30T05:56:31.915Z"
   },
   {
    "duration": 566,
    "start_time": "2022-05-30T05:56:31.934Z"
   },
   {
    "duration": 116850,
    "start_time": "2022-05-30T05:56:32.502Z"
   },
   {
    "duration": 1313,
    "start_time": "2022-05-30T05:58:29.353Z"
   },
   {
    "duration": 8630,
    "start_time": "2022-05-30T05:58:30.667Z"
   },
   {
    "duration": 1280,
    "start_time": "2022-05-30T06:02:17.393Z"
   },
   {
    "duration": 33,
    "start_time": "2022-05-30T06:02:18.674Z"
   },
   {
    "duration": 113,
    "start_time": "2022-05-30T06:02:18.709Z"
   },
   {
    "duration": 5,
    "start_time": "2022-05-30T06:02:18.824Z"
   },
   {
    "duration": 33,
    "start_time": "2022-05-30T06:02:18.831Z"
   },
   {
    "duration": 3292,
    "start_time": "2022-05-30T06:02:18.865Z"
   },
   {
    "duration": 1569,
    "start_time": "2022-05-30T06:02:22.159Z"
   },
   {
    "duration": 5,
    "start_time": "2022-05-30T06:02:23.730Z"
   },
   {
    "duration": 21,
    "start_time": "2022-05-30T06:02:23.738Z"
   },
   {
    "duration": 12,
    "start_time": "2022-05-30T06:02:23.761Z"
   },
   {
    "duration": 37,
    "start_time": "2022-05-30T06:02:23.774Z"
   },
   {
    "duration": 621,
    "start_time": "2022-05-30T06:02:23.812Z"
   },
   {
    "duration": 3,
    "start_time": "2022-05-30T06:02:24.435Z"
   },
   {
    "duration": 13,
    "start_time": "2022-05-30T06:02:24.440Z"
   },
   {
    "duration": 10,
    "start_time": "2022-05-30T06:02:24.455Z"
   },
   {
    "duration": 552,
    "start_time": "2022-05-30T06:02:24.467Z"
   },
   {
    "duration": 111524,
    "start_time": "2022-05-30T06:02:25.021Z"
   },
   {
    "duration": 1801,
    "start_time": "2022-05-30T06:04:16.552Z"
   },
   {
    "duration": 9590,
    "start_time": "2022-05-30T06:04:18.355Z"
   },
   {
    "duration": 2855,
    "start_time": "2022-05-30T06:47:15.967Z"
   },
   {
    "duration": 38,
    "start_time": "2022-05-30T06:47:18.824Z"
   },
   {
    "duration": 141,
    "start_time": "2022-05-30T06:47:18.864Z"
   },
   {
    "duration": 6,
    "start_time": "2022-05-30T06:47:19.007Z"
   },
   {
    "duration": 18,
    "start_time": "2022-05-30T06:47:19.016Z"
   },
   {
    "duration": 3561,
    "start_time": "2022-05-30T06:47:19.036Z"
   },
   {
    "duration": 1616,
    "start_time": "2022-05-30T06:47:22.600Z"
   },
   {
    "duration": 5,
    "start_time": "2022-05-30T06:47:24.219Z"
   },
   {
    "duration": 48,
    "start_time": "2022-05-30T06:47:24.226Z"
   },
   {
    "duration": 20,
    "start_time": "2022-05-30T06:47:24.275Z"
   },
   {
    "duration": 57,
    "start_time": "2022-05-30T06:47:24.297Z"
   },
   {
    "duration": 627,
    "start_time": "2022-05-30T06:47:24.356Z"
   },
   {
    "duration": 5,
    "start_time": "2022-05-30T06:47:24.985Z"
   },
   {
    "duration": 9,
    "start_time": "2022-05-30T06:47:24.992Z"
   },
   {
    "duration": 7,
    "start_time": "2022-05-30T06:47:25.003Z"
   },
   {
    "duration": 9,
    "start_time": "2022-05-30T06:47:25.012Z"
   },
   {
    "duration": 733,
    "start_time": "2022-05-30T06:47:25.023Z"
   },
   {
    "duration": 120782,
    "start_time": "2022-05-30T06:47:25.758Z"
   },
   {
    "duration": 1533,
    "start_time": "2022-05-30T06:49:26.541Z"
   },
   {
    "duration": 10196,
    "start_time": "2022-05-30T06:49:28.080Z"
   },
   {
    "duration": 3178,
    "start_time": "2022-05-30T06:58:04.391Z"
   },
   {
    "duration": 293,
    "start_time": "2022-05-30T06:59:16.812Z"
   },
   {
    "duration": 175,
    "start_time": "2022-05-30T07:01:54.229Z"
   },
   {
    "duration": 200,
    "start_time": "2022-05-30T07:02:37.483Z"
   },
   {
    "duration": 230,
    "start_time": "2022-05-30T07:02:49.433Z"
   },
   {
    "duration": 219,
    "start_time": "2022-05-30T07:03:16.813Z"
   },
   {
    "duration": 348,
    "start_time": "2022-05-30T07:03:38.577Z"
   },
   {
    "duration": 465,
    "start_time": "2022-05-30T07:06:58.700Z"
   },
   {
    "duration": 351,
    "start_time": "2022-05-30T07:08:59.140Z"
   },
   {
    "duration": 356,
    "start_time": "2022-05-30T07:14:44.978Z"
   },
   {
    "duration": 157,
    "start_time": "2022-05-30T07:15:07.388Z"
   },
   {
    "duration": 174,
    "start_time": "2022-05-30T07:15:43.412Z"
   },
   {
    "duration": 26,
    "start_time": "2022-05-30T07:16:50.596Z"
   },
   {
    "duration": 299,
    "start_time": "2022-05-30T07:18:07.033Z"
   },
   {
    "duration": 753,
    "start_time": "2022-05-30T07:19:08.688Z"
   },
   {
    "duration": 745,
    "start_time": "2022-05-30T07:19:38.988Z"
   },
   {
    "duration": 773,
    "start_time": "2022-05-30T07:20:28.627Z"
   },
   {
    "duration": 640,
    "start_time": "2022-05-30T07:21:16.504Z"
   },
   {
    "duration": 606,
    "start_time": "2022-05-30T07:21:51.828Z"
   },
   {
    "duration": 538,
    "start_time": "2022-05-30T07:22:25.000Z"
   },
   {
    "duration": 350,
    "start_time": "2022-05-30T07:23:10.191Z"
   },
   {
    "duration": 418,
    "start_time": "2022-05-30T07:25:43.050Z"
   },
   {
    "duration": 36,
    "start_time": "2022-05-30T07:27:30.723Z"
   },
   {
    "duration": 2277,
    "start_time": "2022-05-30T07:32:23.047Z"
   },
   {
    "duration": 104,
    "start_time": "2022-05-30T07:32:25.327Z"
   },
   {
    "duration": 172,
    "start_time": "2022-05-30T07:32:25.434Z"
   },
   {
    "duration": 8,
    "start_time": "2022-05-30T07:32:25.609Z"
   },
   {
    "duration": 32,
    "start_time": "2022-05-30T07:32:25.619Z"
   },
   {
    "duration": 3917,
    "start_time": "2022-05-30T07:32:25.663Z"
   },
   {
    "duration": 1658,
    "start_time": "2022-05-30T07:32:29.582Z"
   },
   {
    "duration": 5,
    "start_time": "2022-05-30T07:32:31.242Z"
   },
   {
    "duration": 45,
    "start_time": "2022-05-30T07:32:31.249Z"
   },
   {
    "duration": 19,
    "start_time": "2022-05-30T07:32:31.297Z"
   },
   {
    "duration": 166,
    "start_time": "2022-05-30T07:32:31.318Z"
   },
   {
    "duration": 593,
    "start_time": "2022-05-30T07:32:31.553Z"
   },
   {
    "duration": 10,
    "start_time": "2022-05-30T07:32:32.148Z"
   },
   {
    "duration": 49,
    "start_time": "2022-05-30T07:32:32.163Z"
   },
   {
    "duration": 13,
    "start_time": "2022-05-30T07:32:32.215Z"
   },
   {
    "duration": 15,
    "start_time": "2022-05-30T07:32:32.230Z"
   },
   {
    "duration": 722,
    "start_time": "2022-05-30T07:32:32.247Z"
   },
   {
    "duration": 132855,
    "start_time": "2022-05-30T07:32:32.971Z"
   },
   {
    "duration": 1273,
    "start_time": "2022-05-30T07:34:45.828Z"
   },
   {
    "duration": 230,
    "start_time": "2022-05-30T07:34:47.103Z"
   },
   {
    "duration": 0,
    "start_time": "2022-05-30T07:34:47.335Z"
   },
   {
    "duration": 618,
    "start_time": "2022-05-30T07:47:32.968Z"
   },
   {
    "duration": 633,
    "start_time": "2022-05-30T07:49:26.651Z"
   },
   {
    "duration": 66419,
    "start_time": "2022-05-30T07:49:51.081Z"
   },
   {
    "duration": 82026,
    "start_time": "2022-05-30T07:52:21.804Z"
   },
   {
    "duration": 459,
    "start_time": "2022-05-30T08:01:58.543Z"
   },
   {
    "duration": 42,
    "start_time": "2022-05-30T08:05:18.503Z"
   },
   {
    "duration": 416,
    "start_time": "2022-05-30T08:06:04.980Z"
   },
   {
    "duration": 9387,
    "start_time": "2022-05-30T08:06:56.886Z"
   },
   {
    "duration": 3837,
    "start_time": "2022-05-30T08:07:35.753Z"
   },
   {
    "duration": 14418,
    "start_time": "2022-05-30T08:08:03.006Z"
   },
   {
    "duration": 5474,
    "start_time": "2022-05-30T08:08:42.549Z"
   },
   {
    "duration": 3276,
    "start_time": "2022-05-30T08:11:57.676Z"
   },
   {
    "duration": 281,
    "start_time": "2022-05-30T08:12:19.440Z"
   },
   {
    "duration": 3605,
    "start_time": "2022-05-30T08:12:46.511Z"
   },
   {
    "duration": 3342,
    "start_time": "2022-05-30T08:13:13.157Z"
   },
   {
    "duration": 3298,
    "start_time": "2022-05-30T08:13:53.245Z"
   }
  ],
  "kernelspec": {
   "display_name": "Python 3",
   "language": "python",
   "name": "python3"
  },
  "language_info": {
   "codemirror_mode": {
    "name": "ipython",
    "version": 3
   },
   "file_extension": ".py",
   "mimetype": "text/x-python",
   "name": "python",
   "nbconvert_exporter": "python",
   "pygments_lexer": "ipython3",
   "version": "3.6.1"
  },
  "toc": {
   "base_numbering": 1,
   "nav_menu": {},
   "number_sections": true,
   "sideBar": true,
   "skip_h1_title": true,
   "title_cell": "Table of Contents",
   "title_sidebar": "Contents",
   "toc_cell": false,
   "toc_position": {
    "height": "calc(100% - 180px)",
    "left": "10px",
    "top": "150px",
    "width": "191.594px"
   },
   "toc_section_display": true,
   "toc_window_display": false
  }
 },
 "nbformat": 4,
 "nbformat_minor": 2
}
