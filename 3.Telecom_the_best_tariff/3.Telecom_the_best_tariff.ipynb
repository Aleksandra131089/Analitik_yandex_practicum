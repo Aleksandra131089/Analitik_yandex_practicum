{
 "cells": [
  {
   "cell_type": "markdown",
   "metadata": {},
   "source": [
    "# Проект: Определение выгодного тарифного плана"
   ]
  },
  {
   "cell_type": "markdown",
   "metadata": {},
   "source": [
    "«Мегалайн» — федеральный оператор сотовой связи. Клиентам предлагают два тарифных плана: «Смарт» и «Ультра». Чтобы скорректировать рекламный бюджет, коммерческий департамент хочет понять, какой тариф приносит больше денег.\n",
    "\n",
    "Необходимо сделать предварительный анализ тарифов на небольшой выборке клиентов. В нашем распоряжении данные 500 пользователей «Мегалайна»: кто они, откуда, каким тарифом пользуются, сколько звонков и сообщений каждый отправил за 2018 год. Нужно проанализировать поведение клиентов и сделать вывод — какой тариф лучше."
   ]
  },
  {
   "cell_type": "markdown",
   "metadata": {},
   "source": [
    "## Изучение данных из файла"
   ]
  },
  {
   "cell_type": "code",
   "execution_count": 1,
   "metadata": {
    "collapsed": true
   },
   "outputs": [],
   "source": [
    "# загружаем необходимые библиотеки\n",
    "import pandas as pd\n",
    "import numpy as np\n",
    "from matplotlib import pyplot as plt\n",
    "from scipy import stats as st\n",
    "# отображаем все колонки датафреймов\n",
    "pd.set_option(\"display.max_columns\", 30)"
   ]
  },
  {
   "cell_type": "code",
   "execution_count": 2,
   "metadata": {
    "collapsed": true
   },
   "outputs": [],
   "source": [
    "# загружаем файлы с данными\n",
    "try:\n",
    "    calls = pd.read_csv(\"calls.csv\")\n",
    "    internet = pd.read_csv(\"internet.csv\")\n",
    "    messages = pd.read_csv(\"messages.csv\")\n",
    "    tariffs = pd.read_csv(\"tariffs.csv\")\n",
    "    users = pd.read_csv(\"users.csv\")\n",
    "except:\n",
    "    calls = pd.read_csv(\"/datasets/calls.csv\")\n",
    "    internet = pd.read_csv(\"/datasets/internet.csv\")\n",
    "    messages = pd.read_csv(\"/datasets/messages.csv\")\n",
    "    tariffs = pd.read_csv(\"/datasets/tariffs.csv\")\n",
    "    users = pd.read_csv(\"/datasets/users.csv\")"
   ]
  },
  {
   "cell_type": "code",
   "execution_count": 3,
   "metadata": {
    "collapsed": true
   },
   "outputs": [],
   "source": [
    "# создадим функция для ознакомления с таблицами\n",
    "def info (data):\n",
    "    data.info()\n",
    "    display(data.sample(5))\n",
    "    display(data.describe())"
   ]
  },
  {
   "cell_type": "markdown",
   "metadata": {},
   "source": [
    "Познакомимся с данными."
   ]
  },
  {
   "cell_type": "code",
   "execution_count": 4,
   "metadata": {
    "scrolled": true
   },
   "outputs": [
    {
     "name": "stdout",
     "output_type": "stream",
     "text": [
      "<class 'pandas.core.frame.DataFrame'>\n",
      "RangeIndex: 202607 entries, 0 to 202606\n",
      "Data columns (total 4 columns):\n",
      "id           202607 non-null object\n",
      "call_date    202607 non-null object\n",
      "duration     202607 non-null float64\n",
      "user_id      202607 non-null int64\n",
      "dtypes: float64(1), int64(1), object(2)\n",
      "memory usage: 6.2+ MB\n"
     ]
    },
    {
     "data": {
      "text/html": [
       "<div>\n",
       "<style scoped>\n",
       "    .dataframe tbody tr th:only-of-type {\n",
       "        vertical-align: middle;\n",
       "    }\n",
       "\n",
       "    .dataframe tbody tr th {\n",
       "        vertical-align: top;\n",
       "    }\n",
       "\n",
       "    .dataframe thead th {\n",
       "        text-align: right;\n",
       "    }\n",
       "</style>\n",
       "<table border=\"1\" class=\"dataframe\">\n",
       "  <thead>\n",
       "    <tr style=\"text-align: right;\">\n",
       "      <th></th>\n",
       "      <th>id</th>\n",
       "      <th>call_date</th>\n",
       "      <th>duration</th>\n",
       "      <th>user_id</th>\n",
       "    </tr>\n",
       "  </thead>\n",
       "  <tbody>\n",
       "    <tr>\n",
       "      <td>191723</td>\n",
       "      <td>1471_526</td>\n",
       "      <td>2018-07-12</td>\n",
       "      <td>5.48</td>\n",
       "      <td>1471</td>\n",
       "    </tr>\n",
       "    <tr>\n",
       "      <td>147463</td>\n",
       "      <td>1375_294</td>\n",
       "      <td>2018-09-13</td>\n",
       "      <td>1.85</td>\n",
       "      <td>1375</td>\n",
       "    </tr>\n",
       "    <tr>\n",
       "      <td>87798</td>\n",
       "      <td>1219_567</td>\n",
       "      <td>2018-08-31</td>\n",
       "      <td>3.66</td>\n",
       "      <td>1219</td>\n",
       "    </tr>\n",
       "    <tr>\n",
       "      <td>49581</td>\n",
       "      <td>1123_600</td>\n",
       "      <td>2018-11-19</td>\n",
       "      <td>11.91</td>\n",
       "      <td>1123</td>\n",
       "    </tr>\n",
       "    <tr>\n",
       "      <td>164396</td>\n",
       "      <td>1404_233</td>\n",
       "      <td>2018-06-18</td>\n",
       "      <td>8.13</td>\n",
       "      <td>1404</td>\n",
       "    </tr>\n",
       "  </tbody>\n",
       "</table>\n",
       "</div>"
      ],
      "text/plain": [
       "              id   call_date  duration  user_id\n",
       "191723  1471_526  2018-07-12      5.48     1471\n",
       "147463  1375_294  2018-09-13      1.85     1375\n",
       "87798   1219_567  2018-08-31      3.66     1219\n",
       "49581   1123_600  2018-11-19     11.91     1123\n",
       "164396  1404_233  2018-06-18      8.13     1404"
      ]
     },
     "metadata": {},
     "output_type": "display_data"
    },
    {
     "data": {
      "text/html": [
       "<div>\n",
       "<style scoped>\n",
       "    .dataframe tbody tr th:only-of-type {\n",
       "        vertical-align: middle;\n",
       "    }\n",
       "\n",
       "    .dataframe tbody tr th {\n",
       "        vertical-align: top;\n",
       "    }\n",
       "\n",
       "    .dataframe thead th {\n",
       "        text-align: right;\n",
       "    }\n",
       "</style>\n",
       "<table border=\"1\" class=\"dataframe\">\n",
       "  <thead>\n",
       "    <tr style=\"text-align: right;\">\n",
       "      <th></th>\n",
       "      <th>duration</th>\n",
       "      <th>user_id</th>\n",
       "    </tr>\n",
       "  </thead>\n",
       "  <tbody>\n",
       "    <tr>\n",
       "      <td>count</td>\n",
       "      <td>202607.000000</td>\n",
       "      <td>202607.000000</td>\n",
       "    </tr>\n",
       "    <tr>\n",
       "      <td>mean</td>\n",
       "      <td>6.755887</td>\n",
       "      <td>1253.940619</td>\n",
       "    </tr>\n",
       "    <tr>\n",
       "      <td>std</td>\n",
       "      <td>5.843365</td>\n",
       "      <td>144.722751</td>\n",
       "    </tr>\n",
       "    <tr>\n",
       "      <td>min</td>\n",
       "      <td>0.000000</td>\n",
       "      <td>1000.000000</td>\n",
       "    </tr>\n",
       "    <tr>\n",
       "      <td>25%</td>\n",
       "      <td>1.300000</td>\n",
       "      <td>1126.000000</td>\n",
       "    </tr>\n",
       "    <tr>\n",
       "      <td>50%</td>\n",
       "      <td>6.000000</td>\n",
       "      <td>1260.000000</td>\n",
       "    </tr>\n",
       "    <tr>\n",
       "      <td>75%</td>\n",
       "      <td>10.700000</td>\n",
       "      <td>1379.000000</td>\n",
       "    </tr>\n",
       "    <tr>\n",
       "      <td>max</td>\n",
       "      <td>38.000000</td>\n",
       "      <td>1499.000000</td>\n",
       "    </tr>\n",
       "  </tbody>\n",
       "</table>\n",
       "</div>"
      ],
      "text/plain": [
       "            duration        user_id\n",
       "count  202607.000000  202607.000000\n",
       "mean        6.755887    1253.940619\n",
       "std         5.843365     144.722751\n",
       "min         0.000000    1000.000000\n",
       "25%         1.300000    1126.000000\n",
       "50%         6.000000    1260.000000\n",
       "75%        10.700000    1379.000000\n",
       "max        38.000000    1499.000000"
      ]
     },
     "metadata": {},
     "output_type": "display_data"
    }
   ],
   "source": [
    "info(calls)"
   ]
  },
  {
   "cell_type": "markdown",
   "metadata": {},
   "source": [
    "Таблица calls (информация о звонках):\n",
    "- id — уникальный номер звонка\n",
    "- call_date — дата звонка\n",
    "- duration — длительность звонка в минутах\n",
    "- user_id — идентификатор пользователя, сделавшего звонок"
   ]
  },
  {
   "cell_type": "code",
   "execution_count": 5,
   "metadata": {
    "scrolled": true
   },
   "outputs": [
    {
     "name": "stdout",
     "output_type": "stream",
     "text": [
      "<class 'pandas.core.frame.DataFrame'>\n",
      "RangeIndex: 149396 entries, 0 to 149395\n",
      "Data columns (total 5 columns):\n",
      "Unnamed: 0      149396 non-null int64\n",
      "id              149396 non-null object\n",
      "mb_used         149396 non-null float64\n",
      "session_date    149396 non-null object\n",
      "user_id         149396 non-null int64\n",
      "dtypes: float64(1), int64(2), object(2)\n",
      "memory usage: 5.7+ MB\n"
     ]
    },
    {
     "data": {
      "text/html": [
       "<div>\n",
       "<style scoped>\n",
       "    .dataframe tbody tr th:only-of-type {\n",
       "        vertical-align: middle;\n",
       "    }\n",
       "\n",
       "    .dataframe tbody tr th {\n",
       "        vertical-align: top;\n",
       "    }\n",
       "\n",
       "    .dataframe thead th {\n",
       "        text-align: right;\n",
       "    }\n",
       "</style>\n",
       "<table border=\"1\" class=\"dataframe\">\n",
       "  <thead>\n",
       "    <tr style=\"text-align: right;\">\n",
       "      <th></th>\n",
       "      <th>Unnamed: 0</th>\n",
       "      <th>id</th>\n",
       "      <th>mb_used</th>\n",
       "      <th>session_date</th>\n",
       "      <th>user_id</th>\n",
       "    </tr>\n",
       "  </thead>\n",
       "  <tbody>\n",
       "    <tr>\n",
       "      <td>8816</td>\n",
       "      <td>8816</td>\n",
       "      <td>1030_285</td>\n",
       "      <td>309.86</td>\n",
       "      <td>2018-11-27</td>\n",
       "      <td>1030</td>\n",
       "    </tr>\n",
       "    <tr>\n",
       "      <td>80044</td>\n",
       "      <td>80044</td>\n",
       "      <td>1269_56</td>\n",
       "      <td>498.64</td>\n",
       "      <td>2018-12-08</td>\n",
       "      <td>1269</td>\n",
       "    </tr>\n",
       "    <tr>\n",
       "      <td>17106</td>\n",
       "      <td>17106</td>\n",
       "      <td>1059_112</td>\n",
       "      <td>521.43</td>\n",
       "      <td>2018-06-22</td>\n",
       "      <td>1059</td>\n",
       "    </tr>\n",
       "    <tr>\n",
       "      <td>80553</td>\n",
       "      <td>80553</td>\n",
       "      <td>1271_110</td>\n",
       "      <td>825.44</td>\n",
       "      <td>2018-07-21</td>\n",
       "      <td>1271</td>\n",
       "    </tr>\n",
       "    <tr>\n",
       "      <td>146545</td>\n",
       "      <td>146545</td>\n",
       "      <td>1490_288</td>\n",
       "      <td>534.42</td>\n",
       "      <td>2018-06-17</td>\n",
       "      <td>1490</td>\n",
       "    </tr>\n",
       "  </tbody>\n",
       "</table>\n",
       "</div>"
      ],
      "text/plain": [
       "        Unnamed: 0        id  mb_used session_date  user_id\n",
       "8816          8816  1030_285   309.86   2018-11-27     1030\n",
       "80044        80044   1269_56   498.64   2018-12-08     1269\n",
       "17106        17106  1059_112   521.43   2018-06-22     1059\n",
       "80553        80553  1271_110   825.44   2018-07-21     1271\n",
       "146545      146545  1490_288   534.42   2018-06-17     1490"
      ]
     },
     "metadata": {},
     "output_type": "display_data"
    },
    {
     "data": {
      "text/html": [
       "<div>\n",
       "<style scoped>\n",
       "    .dataframe tbody tr th:only-of-type {\n",
       "        vertical-align: middle;\n",
       "    }\n",
       "\n",
       "    .dataframe tbody tr th {\n",
       "        vertical-align: top;\n",
       "    }\n",
       "\n",
       "    .dataframe thead th {\n",
       "        text-align: right;\n",
       "    }\n",
       "</style>\n",
       "<table border=\"1\" class=\"dataframe\">\n",
       "  <thead>\n",
       "    <tr style=\"text-align: right;\">\n",
       "      <th></th>\n",
       "      <th>Unnamed: 0</th>\n",
       "      <th>mb_used</th>\n",
       "      <th>user_id</th>\n",
       "    </tr>\n",
       "  </thead>\n",
       "  <tbody>\n",
       "    <tr>\n",
       "      <td>count</td>\n",
       "      <td>149396.000000</td>\n",
       "      <td>149396.000000</td>\n",
       "      <td>149396.000000</td>\n",
       "    </tr>\n",
       "    <tr>\n",
       "      <td>mean</td>\n",
       "      <td>74697.500000</td>\n",
       "      <td>370.192426</td>\n",
       "      <td>1252.099842</td>\n",
       "    </tr>\n",
       "    <tr>\n",
       "      <td>std</td>\n",
       "      <td>43127.054745</td>\n",
       "      <td>278.300951</td>\n",
       "      <td>144.050823</td>\n",
       "    </tr>\n",
       "    <tr>\n",
       "      <td>min</td>\n",
       "      <td>0.000000</td>\n",
       "      <td>0.000000</td>\n",
       "      <td>1000.000000</td>\n",
       "    </tr>\n",
       "    <tr>\n",
       "      <td>25%</td>\n",
       "      <td>37348.750000</td>\n",
       "      <td>138.187500</td>\n",
       "      <td>1130.000000</td>\n",
       "    </tr>\n",
       "    <tr>\n",
       "      <td>50%</td>\n",
       "      <td>74697.500000</td>\n",
       "      <td>348.015000</td>\n",
       "      <td>1251.000000</td>\n",
       "    </tr>\n",
       "    <tr>\n",
       "      <td>75%</td>\n",
       "      <td>112046.250000</td>\n",
       "      <td>559.552500</td>\n",
       "      <td>1380.000000</td>\n",
       "    </tr>\n",
       "    <tr>\n",
       "      <td>max</td>\n",
       "      <td>149395.000000</td>\n",
       "      <td>1724.830000</td>\n",
       "      <td>1499.000000</td>\n",
       "    </tr>\n",
       "  </tbody>\n",
       "</table>\n",
       "</div>"
      ],
      "text/plain": [
       "          Unnamed: 0        mb_used        user_id\n",
       "count  149396.000000  149396.000000  149396.000000\n",
       "mean    74697.500000     370.192426    1252.099842\n",
       "std     43127.054745     278.300951     144.050823\n",
       "min         0.000000       0.000000    1000.000000\n",
       "25%     37348.750000     138.187500    1130.000000\n",
       "50%     74697.500000     348.015000    1251.000000\n",
       "75%    112046.250000     559.552500    1380.000000\n",
       "max    149395.000000    1724.830000    1499.000000"
      ]
     },
     "metadata": {},
     "output_type": "display_data"
    }
   ],
   "source": [
    "info(internet)"
   ]
  },
  {
   "cell_type": "markdown",
   "metadata": {},
   "source": [
    "Таблица internet (информация об интернет-сессиях):\n",
    "- id — уникальный номер сессии\n",
    "- mb_used — объём потраченного за сессию интернет-трафика (в мегабайтах)\n",
    "- session_date — дата интернет-сессии\n",
    "- user_id — идентификатор пользователя"
   ]
  },
  {
   "cell_type": "code",
   "execution_count": 6,
   "metadata": {
    "scrolled": false
   },
   "outputs": [
    {
     "name": "stdout",
     "output_type": "stream",
     "text": [
      "<class 'pandas.core.frame.DataFrame'>\n",
      "RangeIndex: 123036 entries, 0 to 123035\n",
      "Data columns (total 3 columns):\n",
      "id              123036 non-null object\n",
      "message_date    123036 non-null object\n",
      "user_id         123036 non-null int64\n",
      "dtypes: int64(1), object(2)\n",
      "memory usage: 2.8+ MB\n"
     ]
    },
    {
     "data": {
      "text/html": [
       "<div>\n",
       "<style scoped>\n",
       "    .dataframe tbody tr th:only-of-type {\n",
       "        vertical-align: middle;\n",
       "    }\n",
       "\n",
       "    .dataframe tbody tr th {\n",
       "        vertical-align: top;\n",
       "    }\n",
       "\n",
       "    .dataframe thead th {\n",
       "        text-align: right;\n",
       "    }\n",
       "</style>\n",
       "<table border=\"1\" class=\"dataframe\">\n",
       "  <thead>\n",
       "    <tr style=\"text-align: right;\">\n",
       "      <th></th>\n",
       "      <th>id</th>\n",
       "      <th>message_date</th>\n",
       "      <th>user_id</th>\n",
       "    </tr>\n",
       "  </thead>\n",
       "  <tbody>\n",
       "    <tr>\n",
       "      <td>47378</td>\n",
       "      <td>1209_312</td>\n",
       "      <td>2018-11-01</td>\n",
       "      <td>1209</td>\n",
       "    </tr>\n",
       "    <tr>\n",
       "      <td>3388</td>\n",
       "      <td>1014_5</td>\n",
       "      <td>2018-07-29</td>\n",
       "      <td>1014</td>\n",
       "    </tr>\n",
       "    <tr>\n",
       "      <td>49970</td>\n",
       "      <td>1222_174</td>\n",
       "      <td>2018-12-08</td>\n",
       "      <td>1222</td>\n",
       "    </tr>\n",
       "    <tr>\n",
       "      <td>89772</td>\n",
       "      <td>1374_220</td>\n",
       "      <td>2018-06-14</td>\n",
       "      <td>1374</td>\n",
       "    </tr>\n",
       "    <tr>\n",
       "      <td>45472</td>\n",
       "      <td>1196_922</td>\n",
       "      <td>2018-11-17</td>\n",
       "      <td>1196</td>\n",
       "    </tr>\n",
       "  </tbody>\n",
       "</table>\n",
       "</div>"
      ],
      "text/plain": [
       "             id message_date  user_id\n",
       "47378  1209_312   2018-11-01     1209\n",
       "3388     1014_5   2018-07-29     1014\n",
       "49970  1222_174   2018-12-08     1222\n",
       "89772  1374_220   2018-06-14     1374\n",
       "45472  1196_922   2018-11-17     1196"
      ]
     },
     "metadata": {},
     "output_type": "display_data"
    },
    {
     "data": {
      "text/html": [
       "<div>\n",
       "<style scoped>\n",
       "    .dataframe tbody tr th:only-of-type {\n",
       "        vertical-align: middle;\n",
       "    }\n",
       "\n",
       "    .dataframe tbody tr th {\n",
       "        vertical-align: top;\n",
       "    }\n",
       "\n",
       "    .dataframe thead th {\n",
       "        text-align: right;\n",
       "    }\n",
       "</style>\n",
       "<table border=\"1\" class=\"dataframe\">\n",
       "  <thead>\n",
       "    <tr style=\"text-align: right;\">\n",
       "      <th></th>\n",
       "      <th>user_id</th>\n",
       "    </tr>\n",
       "  </thead>\n",
       "  <tbody>\n",
       "    <tr>\n",
       "      <td>count</td>\n",
       "      <td>123036.000000</td>\n",
       "    </tr>\n",
       "    <tr>\n",
       "      <td>mean</td>\n",
       "      <td>1256.989410</td>\n",
       "    </tr>\n",
       "    <tr>\n",
       "      <td>std</td>\n",
       "      <td>143.523967</td>\n",
       "    </tr>\n",
       "    <tr>\n",
       "      <td>min</td>\n",
       "      <td>1000.000000</td>\n",
       "    </tr>\n",
       "    <tr>\n",
       "      <td>25%</td>\n",
       "      <td>1134.000000</td>\n",
       "    </tr>\n",
       "    <tr>\n",
       "      <td>50%</td>\n",
       "      <td>1271.000000</td>\n",
       "    </tr>\n",
       "    <tr>\n",
       "      <td>75%</td>\n",
       "      <td>1381.000000</td>\n",
       "    </tr>\n",
       "    <tr>\n",
       "      <td>max</td>\n",
       "      <td>1499.000000</td>\n",
       "    </tr>\n",
       "  </tbody>\n",
       "</table>\n",
       "</div>"
      ],
      "text/plain": [
       "             user_id\n",
       "count  123036.000000\n",
       "mean     1256.989410\n",
       "std       143.523967\n",
       "min      1000.000000\n",
       "25%      1134.000000\n",
       "50%      1271.000000\n",
       "75%      1381.000000\n",
       "max      1499.000000"
      ]
     },
     "metadata": {},
     "output_type": "display_data"
    }
   ],
   "source": [
    "info(messages)"
   ]
  },
  {
   "cell_type": "markdown",
   "metadata": {},
   "source": [
    "Таблица messages (информация о сообщениях):\n",
    "- id — уникальный номер сообщения\n",
    "- message_date — дата сообщения\n",
    "- user_id — идентификатор пользователя, отправившего сообщение"
   ]
  },
  {
   "cell_type": "code",
   "execution_count": 7,
   "metadata": {
    "scrolled": true
   },
   "outputs": [
    {
     "name": "stdout",
     "output_type": "stream",
     "text": [
      "<class 'pandas.core.frame.DataFrame'>\n",
      "RangeIndex: 2 entries, 0 to 1\n",
      "Data columns (total 8 columns):\n",
      "messages_included        2 non-null int64\n",
      "mb_per_month_included    2 non-null int64\n",
      "minutes_included         2 non-null int64\n",
      "rub_monthly_fee          2 non-null int64\n",
      "rub_per_gb               2 non-null int64\n",
      "rub_per_message          2 non-null int64\n",
      "rub_per_minute           2 non-null int64\n",
      "tariff_name              2 non-null object\n",
      "dtypes: int64(7), object(1)\n",
      "memory usage: 256.0+ bytes\n"
     ]
    },
    {
     "data": {
      "text/html": [
       "<div>\n",
       "<style scoped>\n",
       "    .dataframe tbody tr th:only-of-type {\n",
       "        vertical-align: middle;\n",
       "    }\n",
       "\n",
       "    .dataframe tbody tr th {\n",
       "        vertical-align: top;\n",
       "    }\n",
       "\n",
       "    .dataframe thead th {\n",
       "        text-align: right;\n",
       "    }\n",
       "</style>\n",
       "<table border=\"1\" class=\"dataframe\">\n",
       "  <thead>\n",
       "    <tr style=\"text-align: right;\">\n",
       "      <th></th>\n",
       "      <th>messages_included</th>\n",
       "      <th>mb_per_month_included</th>\n",
       "      <th>minutes_included</th>\n",
       "      <th>rub_monthly_fee</th>\n",
       "      <th>rub_per_gb</th>\n",
       "      <th>rub_per_message</th>\n",
       "      <th>rub_per_minute</th>\n",
       "      <th>tariff_name</th>\n",
       "    </tr>\n",
       "  </thead>\n",
       "  <tbody>\n",
       "    <tr>\n",
       "      <td>0</td>\n",
       "      <td>50</td>\n",
       "      <td>15360</td>\n",
       "      <td>500</td>\n",
       "      <td>550</td>\n",
       "      <td>200</td>\n",
       "      <td>3</td>\n",
       "      <td>3</td>\n",
       "      <td>smart</td>\n",
       "    </tr>\n",
       "    <tr>\n",
       "      <td>1</td>\n",
       "      <td>1000</td>\n",
       "      <td>30720</td>\n",
       "      <td>3000</td>\n",
       "      <td>1950</td>\n",
       "      <td>150</td>\n",
       "      <td>1</td>\n",
       "      <td>1</td>\n",
       "      <td>ultra</td>\n",
       "    </tr>\n",
       "  </tbody>\n",
       "</table>\n",
       "</div>"
      ],
      "text/plain": [
       "   messages_included  mb_per_month_included  minutes_included  \\\n",
       "0                 50                  15360               500   \n",
       "1               1000                  30720              3000   \n",
       "\n",
       "   rub_monthly_fee  rub_per_gb  rub_per_message  rub_per_minute tariff_name  \n",
       "0              550         200                3               3       smart  \n",
       "1             1950         150                1               1       ultra  "
      ]
     },
     "execution_count": 7,
     "metadata": {},
     "output_type": "execute_result"
    }
   ],
   "source": [
    "tariffs.info()\n",
    "tariffs.head()"
   ]
  },
  {
   "cell_type": "markdown",
   "metadata": {},
   "source": [
    "Таблица tariffs (информация о тарифах):\n",
    "- tariff_name — название тарифа\n",
    "- rub_monthly_fee — ежемесячная абонентская плата в рублях\n",
    "- minutes_included — количество минут разговора в месяц, включённых в абонентскую плату\n",
    "- messages_included — количество сообщений в месяц, включённых в абонентскую плату\n",
    "- mb_per_month_included — объём интернет-трафика, включённого в абонентскую плату (в мегабайтах)\n",
    "- rub_per_minute — стоимость минуты разговора сверх тарифного пакета (например, если в тарифе 100 минут разговора в месяц, то со 101 минуты будет взиматься плата)\n",
    "- rub_per_message — стоимость отправки сообщения сверх тарифного пакета\n",
    "- rub_per_gb — стоимость дополнительного гигабайта интернет-трафика сверх тарифного пакета (1 гигабайт = 1024 мегабайта)"
   ]
  },
  {
   "cell_type": "code",
   "execution_count": 8,
   "metadata": {
    "scrolled": true
   },
   "outputs": [
    {
     "name": "stdout",
     "output_type": "stream",
     "text": [
      "<class 'pandas.core.frame.DataFrame'>\n",
      "RangeIndex: 500 entries, 0 to 499\n",
      "Data columns (total 8 columns):\n",
      "user_id       500 non-null int64\n",
      "age           500 non-null int64\n",
      "churn_date    38 non-null object\n",
      "city          500 non-null object\n",
      "first_name    500 non-null object\n",
      "last_name     500 non-null object\n",
      "reg_date      500 non-null object\n",
      "tariff        500 non-null object\n",
      "dtypes: int64(2), object(6)\n",
      "memory usage: 31.4+ KB\n"
     ]
    },
    {
     "data": {
      "text/html": [
       "<div>\n",
       "<style scoped>\n",
       "    .dataframe tbody tr th:only-of-type {\n",
       "        vertical-align: middle;\n",
       "    }\n",
       "\n",
       "    .dataframe tbody tr th {\n",
       "        vertical-align: top;\n",
       "    }\n",
       "\n",
       "    .dataframe thead th {\n",
       "        text-align: right;\n",
       "    }\n",
       "</style>\n",
       "<table border=\"1\" class=\"dataframe\">\n",
       "  <thead>\n",
       "    <tr style=\"text-align: right;\">\n",
       "      <th></th>\n",
       "      <th>user_id</th>\n",
       "      <th>age</th>\n",
       "      <th>churn_date</th>\n",
       "      <th>city</th>\n",
       "      <th>first_name</th>\n",
       "      <th>last_name</th>\n",
       "      <th>reg_date</th>\n",
       "      <th>tariff</th>\n",
       "    </tr>\n",
       "  </thead>\n",
       "  <tbody>\n",
       "    <tr>\n",
       "      <td>403</td>\n",
       "      <td>1403</td>\n",
       "      <td>18</td>\n",
       "      <td>NaN</td>\n",
       "      <td>Брянск</td>\n",
       "      <td>Ахмет</td>\n",
       "      <td>Амелин</td>\n",
       "      <td>2018-05-20</td>\n",
       "      <td>ultra</td>\n",
       "    </tr>\n",
       "    <tr>\n",
       "      <td>81</td>\n",
       "      <td>1081</td>\n",
       "      <td>42</td>\n",
       "      <td>NaN</td>\n",
       "      <td>Москва</td>\n",
       "      <td>Софья</td>\n",
       "      <td>Терехова</td>\n",
       "      <td>2018-03-25</td>\n",
       "      <td>ultra</td>\n",
       "    </tr>\n",
       "    <tr>\n",
       "      <td>361</td>\n",
       "      <td>1361</td>\n",
       "      <td>38</td>\n",
       "      <td>NaN</td>\n",
       "      <td>Екатеринбург</td>\n",
       "      <td>Рената</td>\n",
       "      <td>Кошелева</td>\n",
       "      <td>2018-09-09</td>\n",
       "      <td>ultra</td>\n",
       "    </tr>\n",
       "    <tr>\n",
       "      <td>108</td>\n",
       "      <td>1108</td>\n",
       "      <td>70</td>\n",
       "      <td>NaN</td>\n",
       "      <td>Москва</td>\n",
       "      <td>Рафаил</td>\n",
       "      <td>Болдырев</td>\n",
       "      <td>2018-11-01</td>\n",
       "      <td>smart</td>\n",
       "    </tr>\n",
       "    <tr>\n",
       "      <td>486</td>\n",
       "      <td>1486</td>\n",
       "      <td>35</td>\n",
       "      <td>NaN</td>\n",
       "      <td>Нижний Новгород</td>\n",
       "      <td>Матвей</td>\n",
       "      <td>Моргунов</td>\n",
       "      <td>2018-10-31</td>\n",
       "      <td>smart</td>\n",
       "    </tr>\n",
       "  </tbody>\n",
       "</table>\n",
       "</div>"
      ],
      "text/plain": [
       "     user_id  age churn_date             city first_name last_name  \\\n",
       "403     1403   18        NaN           Брянск      Ахмет    Амелин   \n",
       "81      1081   42        NaN           Москва      Софья  Терехова   \n",
       "361     1361   38        NaN     Екатеринбург     Рената  Кошелева   \n",
       "108     1108   70        NaN           Москва     Рафаил  Болдырев   \n",
       "486     1486   35        NaN  Нижний Новгород     Матвей  Моргунов   \n",
       "\n",
       "       reg_date tariff  \n",
       "403  2018-05-20  ultra  \n",
       "81   2018-03-25  ultra  \n",
       "361  2018-09-09  ultra  \n",
       "108  2018-11-01  smart  \n",
       "486  2018-10-31  smart  "
      ]
     },
     "metadata": {},
     "output_type": "display_data"
    },
    {
     "data": {
      "text/html": [
       "<div>\n",
       "<style scoped>\n",
       "    .dataframe tbody tr th:only-of-type {\n",
       "        vertical-align: middle;\n",
       "    }\n",
       "\n",
       "    .dataframe tbody tr th {\n",
       "        vertical-align: top;\n",
       "    }\n",
       "\n",
       "    .dataframe thead th {\n",
       "        text-align: right;\n",
       "    }\n",
       "</style>\n",
       "<table border=\"1\" class=\"dataframe\">\n",
       "  <thead>\n",
       "    <tr style=\"text-align: right;\">\n",
       "      <th></th>\n",
       "      <th>user_id</th>\n",
       "      <th>age</th>\n",
       "    </tr>\n",
       "  </thead>\n",
       "  <tbody>\n",
       "    <tr>\n",
       "      <td>count</td>\n",
       "      <td>500.000000</td>\n",
       "      <td>500.00000</td>\n",
       "    </tr>\n",
       "    <tr>\n",
       "      <td>mean</td>\n",
       "      <td>1249.500000</td>\n",
       "      <td>46.58800</td>\n",
       "    </tr>\n",
       "    <tr>\n",
       "      <td>std</td>\n",
       "      <td>144.481833</td>\n",
       "      <td>16.66763</td>\n",
       "    </tr>\n",
       "    <tr>\n",
       "      <td>min</td>\n",
       "      <td>1000.000000</td>\n",
       "      <td>18.00000</td>\n",
       "    </tr>\n",
       "    <tr>\n",
       "      <td>25%</td>\n",
       "      <td>1124.750000</td>\n",
       "      <td>32.00000</td>\n",
       "    </tr>\n",
       "    <tr>\n",
       "      <td>50%</td>\n",
       "      <td>1249.500000</td>\n",
       "      <td>46.00000</td>\n",
       "    </tr>\n",
       "    <tr>\n",
       "      <td>75%</td>\n",
       "      <td>1374.250000</td>\n",
       "      <td>62.00000</td>\n",
       "    </tr>\n",
       "    <tr>\n",
       "      <td>max</td>\n",
       "      <td>1499.000000</td>\n",
       "      <td>75.00000</td>\n",
       "    </tr>\n",
       "  </tbody>\n",
       "</table>\n",
       "</div>"
      ],
      "text/plain": [
       "           user_id        age\n",
       "count   500.000000  500.00000\n",
       "mean   1249.500000   46.58800\n",
       "std     144.481833   16.66763\n",
       "min    1000.000000   18.00000\n",
       "25%    1124.750000   32.00000\n",
       "50%    1249.500000   46.00000\n",
       "75%    1374.250000   62.00000\n",
       "max    1499.000000   75.00000"
      ]
     },
     "metadata": {},
     "output_type": "display_data"
    }
   ],
   "source": [
    "info(users)"
   ]
  },
  {
   "cell_type": "markdown",
   "metadata": {},
   "source": [
    "Таблица users (информация о пользователях):\n",
    "- user_id — уникальный идентификатор пользователя\n",
    "- first_name — имя пользователя\n",
    "- last_name — фамилия пользователя\n",
    "- age — возраст пользователя (годы)\n",
    "- reg_date — дата подключения тарифа (день, месяц, год)\n",
    "- churn_date — дата прекращения пользования тарифом (если значение пропущено, то тариф ещё действовал на момент выгрузки данных)\n",
    "- city — город проживания пользователя\n",
    "- tarif — название тарифного плана"
   ]
  },
  {
   "cell_type": "code",
   "execution_count": 9,
   "metadata": {},
   "outputs": [
    {
     "data": {
      "text/plain": [
       "array(['Краснодар', 'Москва', 'Стерлитамак', 'Новокузнецк',\n",
       "       'Набережные Челны', 'Ульяновск', 'Челябинск', 'Пермь', 'Тюмень',\n",
       "       'Самара', 'Санкт-Петербург', 'Иваново', 'Чебоксары', 'Омск', 'Уфа',\n",
       "       'Томск', 'Чита', 'Мурманск', 'Петрозаводск', 'Тверь',\n",
       "       'Екатеринбург', 'Махачкала', 'Вологда', 'Череповец', 'Ярославль',\n",
       "       'Сочи', 'Хабаровск', 'Ставрополь', 'Рязань', 'Улан-Удэ', 'Тула',\n",
       "       'Саратов', 'Ростов-на-Дону', 'Казань', 'Иркутск', 'Курск',\n",
       "       'Калуга', 'Якутск', 'Астрахань', 'Химки', 'Владикавказ',\n",
       "       'Волгоград', 'Саранск', 'Ижевск', 'Новосибирск', 'Брянск',\n",
       "       'Тольятти', 'Нижний Тагил', 'Орёл', 'Белгород', 'Воронеж',\n",
       "       'Волжский', 'Курган', 'Барнаул', 'Красноярск', 'Архангельск',\n",
       "       'Липецк', 'Кемерово', 'Киров', 'Сургут', 'Пенза', 'Магнитогорск',\n",
       "       'Нижний Новгород', 'Кострома', 'Владивосток', 'Тамбов', 'Балашиха',\n",
       "       'Севастополь', 'Калининград', 'Оренбург', 'Смоленск',\n",
       "       'Нижневартовск', 'Владимир', 'Новороссийск', 'Грозный', 'Подольск'],\n",
       "      dtype=object)"
      ]
     },
     "execution_count": 9,
     "metadata": {},
     "output_type": "execute_result"
    }
   ],
   "source": [
    "users[\"city\"].unique()"
   ]
  },
  {
   "cell_type": "markdown",
   "metadata": {},
   "source": [
    "### Вывод"
   ]
  },
  {
   "cell_type": "markdown",
   "metadata": {},
   "source": [
    "Данные выглядят достаточно чистыми. Есть несколько проблем, а именно:\n",
    "- тип данных `object` в столбцах с датами в таблицах calls, messages, internet\n",
    "- столбец `Unnamed: 0`дублирующий индексы в таблице internet.\n",
    "- трафик интернета посчитан в мегабайтах, но по условиям плата берется за гигабайты."
   ]
  },
  {
   "cell_type": "markdown",
   "metadata": {},
   "source": [
    "## Предобрабока данных и подготовка к анализу"
   ]
  },
  {
   "cell_type": "markdown",
   "metadata": {},
   "source": [
    "### Предобработка"
   ]
  },
  {
   "cell_type": "markdown",
   "metadata": {},
   "source": [
    "Удалим ненужный столбец и приведем колонки с датами к нужному формату."
   ]
  },
  {
   "cell_type": "code",
   "execution_count": 10,
   "metadata": {},
   "outputs": [
    {
     "data": {
      "text/html": [
       "<div>\n",
       "<style scoped>\n",
       "    .dataframe tbody tr th:only-of-type {\n",
       "        vertical-align: middle;\n",
       "    }\n",
       "\n",
       "    .dataframe tbody tr th {\n",
       "        vertical-align: top;\n",
       "    }\n",
       "\n",
       "    .dataframe thead th {\n",
       "        text-align: right;\n",
       "    }\n",
       "</style>\n",
       "<table border=\"1\" class=\"dataframe\">\n",
       "  <thead>\n",
       "    <tr style=\"text-align: right;\">\n",
       "      <th></th>\n",
       "      <th>id</th>\n",
       "      <th>mb_used</th>\n",
       "      <th>session_date</th>\n",
       "      <th>user_id</th>\n",
       "    </tr>\n",
       "  </thead>\n",
       "  <tbody>\n",
       "    <tr>\n",
       "      <td>125075</td>\n",
       "      <td>1421_260</td>\n",
       "      <td>627.80</td>\n",
       "      <td>2018-03-28</td>\n",
       "      <td>1421</td>\n",
       "    </tr>\n",
       "    <tr>\n",
       "      <td>73058</td>\n",
       "      <td>1247_96</td>\n",
       "      <td>245.18</td>\n",
       "      <td>2018-10-01</td>\n",
       "      <td>1247</td>\n",
       "    </tr>\n",
       "    <tr>\n",
       "      <td>106840</td>\n",
       "      <td>1362_70</td>\n",
       "      <td>218.97</td>\n",
       "      <td>2018-09-18</td>\n",
       "      <td>1362</td>\n",
       "    </tr>\n",
       "    <tr>\n",
       "      <td>59946</td>\n",
       "      <td>1204_31</td>\n",
       "      <td>614.96</td>\n",
       "      <td>2018-08-15</td>\n",
       "      <td>1204</td>\n",
       "    </tr>\n",
       "    <tr>\n",
       "      <td>36467</td>\n",
       "      <td>1126_414</td>\n",
       "      <td>572.13</td>\n",
       "      <td>2018-08-12</td>\n",
       "      <td>1126</td>\n",
       "    </tr>\n",
       "  </tbody>\n",
       "</table>\n",
       "</div>"
      ],
      "text/plain": [
       "              id  mb_used session_date  user_id\n",
       "125075  1421_260   627.80   2018-03-28     1421\n",
       "73058    1247_96   245.18   2018-10-01     1247\n",
       "106840   1362_70   218.97   2018-09-18     1362\n",
       "59946    1204_31   614.96   2018-08-15     1204\n",
       "36467   1126_414   572.13   2018-08-12     1126"
      ]
     },
     "execution_count": 10,
     "metadata": {},
     "output_type": "execute_result"
    }
   ],
   "source": [
    "# удаляем столбец Unnamed: 0 в таблице internet\n",
    "internet.drop(\"Unnamed: 0\", axis=1, inplace=True)\n",
    "internet.sample(5)"
   ]
  },
  {
   "cell_type": "code",
   "execution_count": 11,
   "metadata": {
    "scrolled": true
   },
   "outputs": [
    {
     "data": {
      "text/plain": [
       "0   2018-11-25\n",
       "1   2018-09-07\n",
       "2   2018-06-25\n",
       "3   2018-08-22\n",
       "4   2018-09-24\n",
       "Name: session_date, dtype: datetime64[ns]"
      ]
     },
     "execution_count": 11,
     "metadata": {},
     "output_type": "execute_result"
    }
   ],
   "source": [
    "# переводим столбцы с датами в формат datetime\n",
    "calls[\"call_date\"] = pd.to_datetime(calls[\"call_date\"], format=\"%Y-%m-%d\")\n",
    "messages[\"message_date\"] = pd.to_datetime(messages[\"message_date\"], format=\"%Y-%m-%d\")\n",
    "internet[\"session_date\"] = pd.to_datetime(internet[\"session_date\"], format=\"%Y-%m-%d\")\n",
    "users[\"reg_date\"] = pd.to_datetime(users[\"reg_date\"], format=\"%Y-%m-%d\")\n",
    "internet[\"session_date\"].head()"
   ]
  },
  {
   "cell_type": "markdown",
   "metadata": {},
   "source": [
    "### Расчеты"
   ]
  },
  {
   "cell_type": "markdown",
   "metadata": {},
   "source": [
    "Для того чтобы узнать сколько клиент тратит в месяц добавим новый столбец с месяцем совершения операции"
   ]
  },
  {
   "cell_type": "code",
   "execution_count": 12,
   "metadata": {},
   "outputs": [
    {
     "data": {
      "text/html": [
       "<div>\n",
       "<style scoped>\n",
       "    .dataframe tbody tr th:only-of-type {\n",
       "        vertical-align: middle;\n",
       "    }\n",
       "\n",
       "    .dataframe tbody tr th {\n",
       "        vertical-align: top;\n",
       "    }\n",
       "\n",
       "    .dataframe thead th {\n",
       "        text-align: right;\n",
       "    }\n",
       "</style>\n",
       "<table border=\"1\" class=\"dataframe\">\n",
       "  <thead>\n",
       "    <tr style=\"text-align: right;\">\n",
       "      <th></th>\n",
       "      <th>user_id</th>\n",
       "      <th>age</th>\n",
       "      <th>churn_date</th>\n",
       "      <th>city</th>\n",
       "      <th>first_name</th>\n",
       "      <th>last_name</th>\n",
       "      <th>reg_date</th>\n",
       "      <th>tariff</th>\n",
       "      <th>month_reg</th>\n",
       "    </tr>\n",
       "  </thead>\n",
       "  <tbody>\n",
       "    <tr>\n",
       "      <td>228</td>\n",
       "      <td>1228</td>\n",
       "      <td>28</td>\n",
       "      <td>NaN</td>\n",
       "      <td>Нижний Новгород</td>\n",
       "      <td>Денис</td>\n",
       "      <td>Алфимов</td>\n",
       "      <td>2018-04-17</td>\n",
       "      <td>smart</td>\n",
       "      <td>4</td>\n",
       "    </tr>\n",
       "    <tr>\n",
       "      <td>347</td>\n",
       "      <td>1347</td>\n",
       "      <td>29</td>\n",
       "      <td>NaN</td>\n",
       "      <td>Москва</td>\n",
       "      <td>Лола</td>\n",
       "      <td>Фокина</td>\n",
       "      <td>2018-11-01</td>\n",
       "      <td>ultra</td>\n",
       "      <td>11</td>\n",
       "    </tr>\n",
       "    <tr>\n",
       "      <td>172</td>\n",
       "      <td>1172</td>\n",
       "      <td>40</td>\n",
       "      <td>NaN</td>\n",
       "      <td>Санкт-Петербург</td>\n",
       "      <td>Алан</td>\n",
       "      <td>Карасев</td>\n",
       "      <td>2018-05-05</td>\n",
       "      <td>smart</td>\n",
       "      <td>5</td>\n",
       "    </tr>\n",
       "    <tr>\n",
       "      <td>208</td>\n",
       "      <td>1208</td>\n",
       "      <td>69</td>\n",
       "      <td>NaN</td>\n",
       "      <td>Пермь</td>\n",
       "      <td>Ева</td>\n",
       "      <td>Сахарова</td>\n",
       "      <td>2018-03-24</td>\n",
       "      <td>ultra</td>\n",
       "      <td>3</td>\n",
       "    </tr>\n",
       "    <tr>\n",
       "      <td>16</td>\n",
       "      <td>1016</td>\n",
       "      <td>58</td>\n",
       "      <td>NaN</td>\n",
       "      <td>Омск</td>\n",
       "      <td>Марица</td>\n",
       "      <td>Сазонова</td>\n",
       "      <td>2018-11-21</td>\n",
       "      <td>ultra</td>\n",
       "      <td>11</td>\n",
       "    </tr>\n",
       "    <tr>\n",
       "      <td>54</td>\n",
       "      <td>1054</td>\n",
       "      <td>33</td>\n",
       "      <td>NaN</td>\n",
       "      <td>Омск</td>\n",
       "      <td>Кристина</td>\n",
       "      <td>Платонова</td>\n",
       "      <td>2018-03-20</td>\n",
       "      <td>smart</td>\n",
       "      <td>3</td>\n",
       "    </tr>\n",
       "    <tr>\n",
       "      <td>125</td>\n",
       "      <td>1125</td>\n",
       "      <td>69</td>\n",
       "      <td>NaN</td>\n",
       "      <td>Волгоград</td>\n",
       "      <td>Сабина</td>\n",
       "      <td>Озерова</td>\n",
       "      <td>2018-09-01</td>\n",
       "      <td>smart</td>\n",
       "      <td>9</td>\n",
       "    </tr>\n",
       "    <tr>\n",
       "      <td>438</td>\n",
       "      <td>1438</td>\n",
       "      <td>24</td>\n",
       "      <td>2018-12-24</td>\n",
       "      <td>Екатеринбург</td>\n",
       "      <td>Нателла</td>\n",
       "      <td>Бородина</td>\n",
       "      <td>2018-10-05</td>\n",
       "      <td>smart</td>\n",
       "      <td>10</td>\n",
       "    </tr>\n",
       "    <tr>\n",
       "      <td>156</td>\n",
       "      <td>1156</td>\n",
       "      <td>63</td>\n",
       "      <td>NaN</td>\n",
       "      <td>Набережные Челны</td>\n",
       "      <td>Валерий</td>\n",
       "      <td>Галкин</td>\n",
       "      <td>2018-11-12</td>\n",
       "      <td>ultra</td>\n",
       "      <td>11</td>\n",
       "    </tr>\n",
       "    <tr>\n",
       "      <td>328</td>\n",
       "      <td>1328</td>\n",
       "      <td>44</td>\n",
       "      <td>NaN</td>\n",
       "      <td>Мурманск</td>\n",
       "      <td>Рауль</td>\n",
       "      <td>Аркадьев</td>\n",
       "      <td>2018-10-16</td>\n",
       "      <td>ultra</td>\n",
       "      <td>10</td>\n",
       "    </tr>\n",
       "  </tbody>\n",
       "</table>\n",
       "</div>"
      ],
      "text/plain": [
       "     user_id  age  churn_date              city first_name  last_name  \\\n",
       "228     1228   28         NaN   Нижний Новгород      Денис    Алфимов   \n",
       "347     1347   29         NaN            Москва       Лола     Фокина   \n",
       "172     1172   40         NaN   Санкт-Петербург       Алан    Карасев   \n",
       "208     1208   69         NaN             Пермь        Ева   Сахарова   \n",
       "16      1016   58         NaN              Омск     Марица   Сазонова   \n",
       "54      1054   33         NaN              Омск   Кристина  Платонова   \n",
       "125     1125   69         NaN         Волгоград     Сабина    Озерова   \n",
       "438     1438   24  2018-12-24      Екатеринбург    Нателла   Бородина   \n",
       "156     1156   63         NaN  Набережные Челны    Валерий     Галкин   \n",
       "328     1328   44         NaN          Мурманск      Рауль   Аркадьев   \n",
       "\n",
       "      reg_date tariff  month_reg  \n",
       "228 2018-04-17  smart          4  \n",
       "347 2018-11-01  ultra         11  \n",
       "172 2018-05-05  smart          5  \n",
       "208 2018-03-24  ultra          3  \n",
       "16  2018-11-21  ultra         11  \n",
       "54  2018-03-20  smart          3  \n",
       "125 2018-09-01  smart          9  \n",
       "438 2018-10-05  smart         10  \n",
       "156 2018-11-12  ultra         11  \n",
       "328 2018-10-16  ultra         10  "
      ]
     },
     "execution_count": 12,
     "metadata": {},
     "output_type": "execute_result"
    }
   ],
   "source": [
    "# создадим столбец с месяцем для таблиц calls, messages, internet, users\n",
    "calls[\"month\"] = calls[\"call_date\"].dt.month\n",
    "messages[\"month\"] = messages[\"message_date\"].dt.month\n",
    "internet[\"month\"] = internet[\"session_date\"].dt.month\n",
    "users[\"month_reg\"] = users[\"reg_date\"].dt.month\n",
    "users.sample(10)"
   ]
  },
  {
   "cell_type": "markdown",
   "metadata": {},
   "source": [
    "«Мегалайн» всегда округляет секунды до минут. Каждый звонок округляется отдельно: даже если он длился всего 1 секунду, будет засчитан как 1 минута. Поэтому округляем столбец duration таблицы calls."
   ]
  },
  {
   "cell_type": "code",
   "execution_count": 13,
   "metadata": {},
   "outputs": [
    {
     "data": {
      "text/html": [
       "<div>\n",
       "<style scoped>\n",
       "    .dataframe tbody tr th:only-of-type {\n",
       "        vertical-align: middle;\n",
       "    }\n",
       "\n",
       "    .dataframe tbody tr th {\n",
       "        vertical-align: top;\n",
       "    }\n",
       "\n",
       "    .dataframe thead th {\n",
       "        text-align: right;\n",
       "    }\n",
       "</style>\n",
       "<table border=\"1\" class=\"dataframe\">\n",
       "  <thead>\n",
       "    <tr style=\"text-align: right;\">\n",
       "      <th></th>\n",
       "      <th>id</th>\n",
       "      <th>call_date</th>\n",
       "      <th>duration</th>\n",
       "      <th>user_id</th>\n",
       "      <th>month</th>\n",
       "      <th>duration_ceil</th>\n",
       "    </tr>\n",
       "  </thead>\n",
       "  <tbody>\n",
       "    <tr>\n",
       "      <td>111234</td>\n",
       "      <td>1285_162</td>\n",
       "      <td>2018-05-07</td>\n",
       "      <td>12.31</td>\n",
       "      <td>1285</td>\n",
       "      <td>5</td>\n",
       "      <td>13.0</td>\n",
       "    </tr>\n",
       "    <tr>\n",
       "      <td>195055</td>\n",
       "      <td>1478_56</td>\n",
       "      <td>2018-10-18</td>\n",
       "      <td>13.45</td>\n",
       "      <td>1478</td>\n",
       "      <td>10</td>\n",
       "      <td>14.0</td>\n",
       "    </tr>\n",
       "    <tr>\n",
       "      <td>61725</td>\n",
       "      <td>1155_533</td>\n",
       "      <td>2018-05-30</td>\n",
       "      <td>9.35</td>\n",
       "      <td>1155</td>\n",
       "      <td>5</td>\n",
       "      <td>10.0</td>\n",
       "    </tr>\n",
       "    <tr>\n",
       "      <td>163535</td>\n",
       "      <td>1402_358</td>\n",
       "      <td>2018-05-16</td>\n",
       "      <td>0.27</td>\n",
       "      <td>1402</td>\n",
       "      <td>5</td>\n",
       "      <td>1.0</td>\n",
       "    </tr>\n",
       "    <tr>\n",
       "      <td>18659</td>\n",
       "      <td>1051_48</td>\n",
       "      <td>2018-06-19</td>\n",
       "      <td>6.31</td>\n",
       "      <td>1051</td>\n",
       "      <td>6</td>\n",
       "      <td>7.0</td>\n",
       "    </tr>\n",
       "  </tbody>\n",
       "</table>\n",
       "</div>"
      ],
      "text/plain": [
       "              id  call_date  duration  user_id  month  duration_ceil\n",
       "111234  1285_162 2018-05-07     12.31     1285      5           13.0\n",
       "195055   1478_56 2018-10-18     13.45     1478     10           14.0\n",
       "61725   1155_533 2018-05-30      9.35     1155      5           10.0\n",
       "163535  1402_358 2018-05-16      0.27     1402      5            1.0\n",
       "18659    1051_48 2018-06-19      6.31     1051      6            7.0"
      ]
     },
     "execution_count": 13,
     "metadata": {},
     "output_type": "execute_result"
    }
   ],
   "source": [
    "# округлим звонки до минут и сохраним в новый столбец\n",
    "calls[\"duration_ceil\"] = np.ceil(calls[\"duration\"])\n",
    "calls.sample(5)"
   ]
  },
  {
   "cell_type": "code",
   "execution_count": 14,
   "metadata": {},
   "outputs": [
    {
     "data": {
      "text/html": [
       "<div>\n",
       "<style scoped>\n",
       "    .dataframe tbody tr th:only-of-type {\n",
       "        vertical-align: middle;\n",
       "    }\n",
       "\n",
       "    .dataframe tbody tr th {\n",
       "        vertical-align: top;\n",
       "    }\n",
       "\n",
       "    .dataframe thead th {\n",
       "        text-align: right;\n",
       "    }\n",
       "</style>\n",
       "<table border=\"1\" class=\"dataframe\">\n",
       "  <thead>\n",
       "    <tr style=\"text-align: right;\">\n",
       "      <th></th>\n",
       "      <th>month</th>\n",
       "      <th>user_id</th>\n",
       "      <th>duration_ceil</th>\n",
       "    </tr>\n",
       "  </thead>\n",
       "  <tbody>\n",
       "    <tr>\n",
       "      <td>0</td>\n",
       "      <td>1</td>\n",
       "      <td>1005</td>\n",
       "      <td>95.0</td>\n",
       "    </tr>\n",
       "    <tr>\n",
       "      <td>1</td>\n",
       "      <td>1</td>\n",
       "      <td>1032</td>\n",
       "      <td>380.0</td>\n",
       "    </tr>\n",
       "    <tr>\n",
       "      <td>2</td>\n",
       "      <td>1</td>\n",
       "      <td>1045</td>\n",
       "      <td>9.0</td>\n",
       "    </tr>\n",
       "    <tr>\n",
       "      <td>3</td>\n",
       "      <td>1</td>\n",
       "      <td>1055</td>\n",
       "      <td>551.0</td>\n",
       "    </tr>\n",
       "    <tr>\n",
       "      <td>4</td>\n",
       "      <td>1</td>\n",
       "      <td>1071</td>\n",
       "      <td>194.0</td>\n",
       "    </tr>\n",
       "  </tbody>\n",
       "</table>\n",
       "</div>"
      ],
      "text/plain": [
       "   month  user_id  duration_ceil\n",
       "0      1     1005           95.0\n",
       "1      1     1032          380.0\n",
       "2      1     1045            9.0\n",
       "3      1     1055          551.0\n",
       "4      1     1071          194.0"
      ]
     },
     "metadata": {},
     "output_type": "display_data"
    },
    {
     "data": {
      "text/html": [
       "<div>\n",
       "<style scoped>\n",
       "    .dataframe tbody tr th:only-of-type {\n",
       "        vertical-align: middle;\n",
       "    }\n",
       "\n",
       "    .dataframe tbody tr th {\n",
       "        vertical-align: top;\n",
       "    }\n",
       "\n",
       "    .dataframe thead th {\n",
       "        text-align: right;\n",
       "    }\n",
       "</style>\n",
       "<table border=\"1\" class=\"dataframe\">\n",
       "  <thead>\n",
       "    <tr style=\"text-align: right;\">\n",
       "      <th></th>\n",
       "      <th>month</th>\n",
       "      <th>user_id</th>\n",
       "      <th>duration_ceil</th>\n",
       "    </tr>\n",
       "  </thead>\n",
       "  <tbody>\n",
       "    <tr>\n",
       "      <td>404</td>\n",
       "      <td>5</td>\n",
       "      <td>1000</td>\n",
       "      <td>159.0</td>\n",
       "    </tr>\n",
       "    <tr>\n",
       "      <td>609</td>\n",
       "      <td>6</td>\n",
       "      <td>1000</td>\n",
       "      <td>172.0</td>\n",
       "    </tr>\n",
       "    <tr>\n",
       "      <td>853</td>\n",
       "      <td>7</td>\n",
       "      <td>1000</td>\n",
       "      <td>340.0</td>\n",
       "    </tr>\n",
       "    <tr>\n",
       "      <td>1142</td>\n",
       "      <td>8</td>\n",
       "      <td>1000</td>\n",
       "      <td>408.0</td>\n",
       "    </tr>\n",
       "    <tr>\n",
       "      <td>1479</td>\n",
       "      <td>9</td>\n",
       "      <td>1000</td>\n",
       "      <td>466.0</td>\n",
       "    </tr>\n",
       "    <tr>\n",
       "      <td>1849</td>\n",
       "      <td>10</td>\n",
       "      <td>1000</td>\n",
       "      <td>350.0</td>\n",
       "    </tr>\n",
       "    <tr>\n",
       "      <td>2260</td>\n",
       "      <td>11</td>\n",
       "      <td>1000</td>\n",
       "      <td>338.0</td>\n",
       "    </tr>\n",
       "    <tr>\n",
       "      <td>2704</td>\n",
       "      <td>12</td>\n",
       "      <td>1000</td>\n",
       "      <td>333.0</td>\n",
       "    </tr>\n",
       "  </tbody>\n",
       "</table>\n",
       "</div>"
      ],
      "text/plain": [
       "      month  user_id  duration_ceil\n",
       "404       5     1000          159.0\n",
       "609       6     1000          172.0\n",
       "853       7     1000          340.0\n",
       "1142      8     1000          408.0\n",
       "1479      9     1000          466.0\n",
       "1849     10     1000          350.0\n",
       "2260     11     1000          338.0\n",
       "2704     12     1000          333.0"
      ]
     },
     "metadata": {},
     "output_type": "display_data"
    }
   ],
   "source": [
    "# посчитаем количество минут по месяцам и клиентам\n",
    "calls_group = calls.groupby([\"month\", \"user_id\"])[\"duration_ceil\"].sum().reset_index()\n",
    "display(calls_group.head())\n",
    "display(calls_group[calls_group[\"user_id\"] == 1000])"
   ]
  },
  {
   "cell_type": "code",
   "execution_count": 15,
   "metadata": {},
   "outputs": [
    {
     "data": {
      "text/html": [
       "<div>\n",
       "<style scoped>\n",
       "    .dataframe tbody tr th:only-of-type {\n",
       "        vertical-align: middle;\n",
       "    }\n",
       "\n",
       "    .dataframe tbody tr th {\n",
       "        vertical-align: top;\n",
       "    }\n",
       "\n",
       "    .dataframe thead th {\n",
       "        text-align: right;\n",
       "    }\n",
       "</style>\n",
       "<table border=\"1\" class=\"dataframe\">\n",
       "  <thead>\n",
       "    <tr style=\"text-align: right;\">\n",
       "      <th></th>\n",
       "      <th>month</th>\n",
       "      <th>user_id</th>\n",
       "      <th>message_count</th>\n",
       "    </tr>\n",
       "  </thead>\n",
       "  <tbody>\n",
       "    <tr>\n",
       "      <td>0</td>\n",
       "      <td>1</td>\n",
       "      <td>1005</td>\n",
       "      <td>7</td>\n",
       "    </tr>\n",
       "    <tr>\n",
       "      <td>1</td>\n",
       "      <td>1</td>\n",
       "      <td>1032</td>\n",
       "      <td>38</td>\n",
       "    </tr>\n",
       "    <tr>\n",
       "      <td>2</td>\n",
       "      <td>1</td>\n",
       "      <td>1045</td>\n",
       "      <td>5</td>\n",
       "    </tr>\n",
       "    <tr>\n",
       "      <td>3</td>\n",
       "      <td>1</td>\n",
       "      <td>1055</td>\n",
       "      <td>30</td>\n",
       "    </tr>\n",
       "    <tr>\n",
       "      <td>4</td>\n",
       "      <td>1</td>\n",
       "      <td>1071</td>\n",
       "      <td>16</td>\n",
       "    </tr>\n",
       "  </tbody>\n",
       "</table>\n",
       "</div>"
      ],
      "text/plain": [
       "   month  user_id  message_count\n",
       "0      1     1005              7\n",
       "1      1     1032             38\n",
       "2      1     1045              5\n",
       "3      1     1055             30\n",
       "4      1     1071             16"
      ]
     },
     "metadata": {},
     "output_type": "display_data"
    },
    {
     "data": {
      "text/html": [
       "<div>\n",
       "<style scoped>\n",
       "    .dataframe tbody tr th:only-of-type {\n",
       "        vertical-align: middle;\n",
       "    }\n",
       "\n",
       "    .dataframe tbody tr th {\n",
       "        vertical-align: top;\n",
       "    }\n",
       "\n",
       "    .dataframe thead th {\n",
       "        text-align: right;\n",
       "    }\n",
       "</style>\n",
       "<table border=\"1\" class=\"dataframe\">\n",
       "  <thead>\n",
       "    <tr style=\"text-align: right;\">\n",
       "      <th></th>\n",
       "      <th>month</th>\n",
       "      <th>user_id</th>\n",
       "      <th>message_count</th>\n",
       "    </tr>\n",
       "  </thead>\n",
       "  <tbody>\n",
       "    <tr>\n",
       "      <td>333</td>\n",
       "      <td>5</td>\n",
       "      <td>1000</td>\n",
       "      <td>22</td>\n",
       "    </tr>\n",
       "    <tr>\n",
       "      <td>507</td>\n",
       "      <td>6</td>\n",
       "      <td>1000</td>\n",
       "      <td>60</td>\n",
       "    </tr>\n",
       "    <tr>\n",
       "      <td>716</td>\n",
       "      <td>7</td>\n",
       "      <td>1000</td>\n",
       "      <td>75</td>\n",
       "    </tr>\n",
       "    <tr>\n",
       "      <td>963</td>\n",
       "      <td>8</td>\n",
       "      <td>1000</td>\n",
       "      <td>81</td>\n",
       "    </tr>\n",
       "    <tr>\n",
       "      <td>1255</td>\n",
       "      <td>9</td>\n",
       "      <td>1000</td>\n",
       "      <td>57</td>\n",
       "    </tr>\n",
       "    <tr>\n",
       "      <td>1573</td>\n",
       "      <td>10</td>\n",
       "      <td>1000</td>\n",
       "      <td>73</td>\n",
       "    </tr>\n",
       "    <tr>\n",
       "      <td>1930</td>\n",
       "      <td>11</td>\n",
       "      <td>1000</td>\n",
       "      <td>58</td>\n",
       "    </tr>\n",
       "    <tr>\n",
       "      <td>2313</td>\n",
       "      <td>12</td>\n",
       "      <td>1000</td>\n",
       "      <td>70</td>\n",
       "    </tr>\n",
       "  </tbody>\n",
       "</table>\n",
       "</div>"
      ],
      "text/plain": [
       "      month  user_id  message_count\n",
       "333       5     1000             22\n",
       "507       6     1000             60\n",
       "716       7     1000             75\n",
       "963       8     1000             81\n",
       "1255      9     1000             57\n",
       "1573     10     1000             73\n",
       "1930     11     1000             58\n",
       "2313     12     1000             70"
      ]
     },
     "metadata": {},
     "output_type": "display_data"
    }
   ],
   "source": [
    "# считаем количество сообщений по месяцам и клиентам\n",
    "messages_group = messages.groupby([\"month\", \"user_id\"])[\"id\"].count().reset_index()\n",
    "messages_group.rename(columns={\"id\": \"message_count\"}, inplace=True)\n",
    "display(messages_group.head())\n",
    "display(messages_group[messages_group[\"user_id\"] == 1000])"
   ]
  },
  {
   "cell_type": "code",
   "execution_count": 16,
   "metadata": {
    "scrolled": true
   },
   "outputs": [
    {
     "data": {
      "text/html": [
       "<div>\n",
       "<style scoped>\n",
       "    .dataframe tbody tr th:only-of-type {\n",
       "        vertical-align: middle;\n",
       "    }\n",
       "\n",
       "    .dataframe tbody tr th {\n",
       "        vertical-align: top;\n",
       "    }\n",
       "\n",
       "    .dataframe thead th {\n",
       "        text-align: right;\n",
       "    }\n",
       "</style>\n",
       "<table border=\"1\" class=\"dataframe\">\n",
       "  <thead>\n",
       "    <tr style=\"text-align: right;\">\n",
       "      <th></th>\n",
       "      <th>month</th>\n",
       "      <th>user_id</th>\n",
       "      <th>mb_used</th>\n",
       "    </tr>\n",
       "  </thead>\n",
       "  <tbody>\n",
       "    <tr>\n",
       "      <td>0</td>\n",
       "      <td>1</td>\n",
       "      <td>1005</td>\n",
       "      <td>2727.97</td>\n",
       "    </tr>\n",
       "    <tr>\n",
       "      <td>1</td>\n",
       "      <td>1</td>\n",
       "      <td>1032</td>\n",
       "      <td>24127.69</td>\n",
       "    </tr>\n",
       "    <tr>\n",
       "      <td>2</td>\n",
       "      <td>1</td>\n",
       "      <td>1045</td>\n",
       "      <td>2346.71</td>\n",
       "    </tr>\n",
       "    <tr>\n",
       "      <td>3</td>\n",
       "      <td>1</td>\n",
       "      <td>1055</td>\n",
       "      <td>17090.88</td>\n",
       "    </tr>\n",
       "    <tr>\n",
       "      <td>4</td>\n",
       "      <td>1</td>\n",
       "      <td>1071</td>\n",
       "      <td>15604.34</td>\n",
       "    </tr>\n",
       "  </tbody>\n",
       "</table>\n",
       "</div>"
      ],
      "text/plain": [
       "   month  user_id   mb_used\n",
       "0      1     1005   2727.97\n",
       "1      1     1032  24127.69\n",
       "2      1     1045   2346.71\n",
       "3      1     1055  17090.88\n",
       "4      1     1071  15604.34"
      ]
     },
     "metadata": {},
     "output_type": "display_data"
    },
    {
     "data": {
      "text/html": [
       "<div>\n",
       "<style scoped>\n",
       "    .dataframe tbody tr th:only-of-type {\n",
       "        vertical-align: middle;\n",
       "    }\n",
       "\n",
       "    .dataframe tbody tr th {\n",
       "        vertical-align: top;\n",
       "    }\n",
       "\n",
       "    .dataframe thead th {\n",
       "        text-align: right;\n",
       "    }\n",
       "</style>\n",
       "<table border=\"1\" class=\"dataframe\">\n",
       "  <thead>\n",
       "    <tr style=\"text-align: right;\">\n",
       "      <th></th>\n",
       "      <th>month</th>\n",
       "      <th>user_id</th>\n",
       "      <th>mb_used</th>\n",
       "    </tr>\n",
       "  </thead>\n",
       "  <tbody>\n",
       "    <tr>\n",
       "      <td>404</td>\n",
       "      <td>5</td>\n",
       "      <td>1000</td>\n",
       "      <td>2253.49</td>\n",
       "    </tr>\n",
       "    <tr>\n",
       "      <td>611</td>\n",
       "      <td>6</td>\n",
       "      <td>1000</td>\n",
       "      <td>23233.77</td>\n",
       "    </tr>\n",
       "    <tr>\n",
       "      <td>858</td>\n",
       "      <td>7</td>\n",
       "      <td>1000</td>\n",
       "      <td>14003.64</td>\n",
       "    </tr>\n",
       "    <tr>\n",
       "      <td>1149</td>\n",
       "      <td>8</td>\n",
       "      <td>1000</td>\n",
       "      <td>14055.93</td>\n",
       "    </tr>\n",
       "    <tr>\n",
       "      <td>1489</td>\n",
       "      <td>9</td>\n",
       "      <td>1000</td>\n",
       "      <td>14568.91</td>\n",
       "    </tr>\n",
       "    <tr>\n",
       "      <td>1863</td>\n",
       "      <td>10</td>\n",
       "      <td>1000</td>\n",
       "      <td>14702.49</td>\n",
       "    </tr>\n",
       "    <tr>\n",
       "      <td>2279</td>\n",
       "      <td>11</td>\n",
       "      <td>1000</td>\n",
       "      <td>14756.47</td>\n",
       "    </tr>\n",
       "    <tr>\n",
       "      <td>2728</td>\n",
       "      <td>12</td>\n",
       "      <td>1000</td>\n",
       "      <td>9817.61</td>\n",
       "    </tr>\n",
       "  </tbody>\n",
       "</table>\n",
       "</div>"
      ],
      "text/plain": [
       "      month  user_id   mb_used\n",
       "404       5     1000   2253.49\n",
       "611       6     1000  23233.77\n",
       "858       7     1000  14003.64\n",
       "1149      8     1000  14055.93\n",
       "1489      9     1000  14568.91\n",
       "1863     10     1000  14702.49\n",
       "2279     11     1000  14756.47\n",
       "2728     12     1000   9817.61"
      ]
     },
     "metadata": {},
     "output_type": "display_data"
    }
   ],
   "source": [
    "# посчитаем объем интернет трафика по месяцам и клиентам\n",
    "internet_group = internet.groupby([\"month\", \"user_id\"])[\"mb_used\"].sum().reset_index()\n",
    "display(internet_group.head())\n",
    "display(internet_group[internet_group[\"user_id\"] == 1000])"
   ]
  },
  {
   "cell_type": "code",
   "execution_count": 17,
   "metadata": {
    "scrolled": false
   },
   "outputs": [
    {
     "data": {
      "text/html": [
       "<div>\n",
       "<style scoped>\n",
       "    .dataframe tbody tr th:only-of-type {\n",
       "        vertical-align: middle;\n",
       "    }\n",
       "\n",
       "    .dataframe tbody tr th {\n",
       "        vertical-align: top;\n",
       "    }\n",
       "\n",
       "    .dataframe thead th {\n",
       "        text-align: right;\n",
       "    }\n",
       "</style>\n",
       "<table border=\"1\" class=\"dataframe\">\n",
       "  <thead>\n",
       "    <tr style=\"text-align: right;\">\n",
       "      <th></th>\n",
       "      <th>user_id</th>\n",
       "      <th>age</th>\n",
       "      <th>churn_date</th>\n",
       "      <th>city</th>\n",
       "      <th>first_name</th>\n",
       "      <th>last_name</th>\n",
       "      <th>reg_date</th>\n",
       "      <th>tariff</th>\n",
       "      <th>month_reg</th>\n",
       "      <th>month</th>\n",
       "      <th>duration_ceil</th>\n",
       "      <th>message_count</th>\n",
       "      <th>mb_used</th>\n",
       "      <th>messages_included</th>\n",
       "      <th>mb_per_month_included</th>\n",
       "      <th>minutes_included</th>\n",
       "      <th>rub_monthly_fee</th>\n",
       "      <th>rub_per_gb</th>\n",
       "      <th>rub_per_message</th>\n",
       "      <th>rub_per_minute</th>\n",
       "      <th>tariff_name</th>\n",
       "    </tr>\n",
       "  </thead>\n",
       "  <tbody>\n",
       "    <tr>\n",
       "      <td>0</td>\n",
       "      <td>1000</td>\n",
       "      <td>52</td>\n",
       "      <td>NaN</td>\n",
       "      <td>Краснодар</td>\n",
       "      <td>Рафаил</td>\n",
       "      <td>Верещагин</td>\n",
       "      <td>2018-05-25</td>\n",
       "      <td>ultra</td>\n",
       "      <td>5</td>\n",
       "      <td>5.0</td>\n",
       "      <td>159.0</td>\n",
       "      <td>22.0</td>\n",
       "      <td>2253.49</td>\n",
       "      <td>1000</td>\n",
       "      <td>30720</td>\n",
       "      <td>3000</td>\n",
       "      <td>1950</td>\n",
       "      <td>150</td>\n",
       "      <td>1</td>\n",
       "      <td>1</td>\n",
       "      <td>ultra</td>\n",
       "    </tr>\n",
       "    <tr>\n",
       "      <td>1</td>\n",
       "      <td>1000</td>\n",
       "      <td>52</td>\n",
       "      <td>NaN</td>\n",
       "      <td>Краснодар</td>\n",
       "      <td>Рафаил</td>\n",
       "      <td>Верещагин</td>\n",
       "      <td>2018-05-25</td>\n",
       "      <td>ultra</td>\n",
       "      <td>5</td>\n",
       "      <td>6.0</td>\n",
       "      <td>172.0</td>\n",
       "      <td>60.0</td>\n",
       "      <td>23233.77</td>\n",
       "      <td>1000</td>\n",
       "      <td>30720</td>\n",
       "      <td>3000</td>\n",
       "      <td>1950</td>\n",
       "      <td>150</td>\n",
       "      <td>1</td>\n",
       "      <td>1</td>\n",
       "      <td>ultra</td>\n",
       "    </tr>\n",
       "    <tr>\n",
       "      <td>2</td>\n",
       "      <td>1000</td>\n",
       "      <td>52</td>\n",
       "      <td>NaN</td>\n",
       "      <td>Краснодар</td>\n",
       "      <td>Рафаил</td>\n",
       "      <td>Верещагин</td>\n",
       "      <td>2018-05-25</td>\n",
       "      <td>ultra</td>\n",
       "      <td>5</td>\n",
       "      <td>7.0</td>\n",
       "      <td>340.0</td>\n",
       "      <td>75.0</td>\n",
       "      <td>14003.64</td>\n",
       "      <td>1000</td>\n",
       "      <td>30720</td>\n",
       "      <td>3000</td>\n",
       "      <td>1950</td>\n",
       "      <td>150</td>\n",
       "      <td>1</td>\n",
       "      <td>1</td>\n",
       "      <td>ultra</td>\n",
       "    </tr>\n",
       "    <tr>\n",
       "      <td>3</td>\n",
       "      <td>1000</td>\n",
       "      <td>52</td>\n",
       "      <td>NaN</td>\n",
       "      <td>Краснодар</td>\n",
       "      <td>Рафаил</td>\n",
       "      <td>Верещагин</td>\n",
       "      <td>2018-05-25</td>\n",
       "      <td>ultra</td>\n",
       "      <td>5</td>\n",
       "      <td>8.0</td>\n",
       "      <td>408.0</td>\n",
       "      <td>81.0</td>\n",
       "      <td>14055.93</td>\n",
       "      <td>1000</td>\n",
       "      <td>30720</td>\n",
       "      <td>3000</td>\n",
       "      <td>1950</td>\n",
       "      <td>150</td>\n",
       "      <td>1</td>\n",
       "      <td>1</td>\n",
       "      <td>ultra</td>\n",
       "    </tr>\n",
       "    <tr>\n",
       "      <td>4</td>\n",
       "      <td>1000</td>\n",
       "      <td>52</td>\n",
       "      <td>NaN</td>\n",
       "      <td>Краснодар</td>\n",
       "      <td>Рафаил</td>\n",
       "      <td>Верещагин</td>\n",
       "      <td>2018-05-25</td>\n",
       "      <td>ultra</td>\n",
       "      <td>5</td>\n",
       "      <td>9.0</td>\n",
       "      <td>466.0</td>\n",
       "      <td>57.0</td>\n",
       "      <td>14568.91</td>\n",
       "      <td>1000</td>\n",
       "      <td>30720</td>\n",
       "      <td>3000</td>\n",
       "      <td>1950</td>\n",
       "      <td>150</td>\n",
       "      <td>1</td>\n",
       "      <td>1</td>\n",
       "      <td>ultra</td>\n",
       "    </tr>\n",
       "    <tr>\n",
       "      <td>...</td>\n",
       "      <td>...</td>\n",
       "      <td>...</td>\n",
       "      <td>...</td>\n",
       "      <td>...</td>\n",
       "      <td>...</td>\n",
       "      <td>...</td>\n",
       "      <td>...</td>\n",
       "      <td>...</td>\n",
       "      <td>...</td>\n",
       "      <td>...</td>\n",
       "      <td>...</td>\n",
       "      <td>...</td>\n",
       "      <td>...</td>\n",
       "      <td>...</td>\n",
       "      <td>...</td>\n",
       "      <td>...</td>\n",
       "      <td>...</td>\n",
       "      <td>...</td>\n",
       "      <td>...</td>\n",
       "      <td>...</td>\n",
       "      <td>...</td>\n",
       "    </tr>\n",
       "    <tr>\n",
       "      <td>3211</td>\n",
       "      <td>1498</td>\n",
       "      <td>68</td>\n",
       "      <td>2018-10-25</td>\n",
       "      <td>Владикавказ</td>\n",
       "      <td>Всеволод</td>\n",
       "      <td>Акимчин</td>\n",
       "      <td>2018-07-19</td>\n",
       "      <td>smart</td>\n",
       "      <td>7</td>\n",
       "      <td>10.0</td>\n",
       "      <td>247.0</td>\n",
       "      <td>42.0</td>\n",
       "      <td>20579.36</td>\n",
       "      <td>50</td>\n",
       "      <td>15360</td>\n",
       "      <td>500</td>\n",
       "      <td>550</td>\n",
       "      <td>200</td>\n",
       "      <td>3</td>\n",
       "      <td>3</td>\n",
       "      <td>smart</td>\n",
       "    </tr>\n",
       "    <tr>\n",
       "      <td>3212</td>\n",
       "      <td>1499</td>\n",
       "      <td>35</td>\n",
       "      <td>NaN</td>\n",
       "      <td>Пермь</td>\n",
       "      <td>Гектор</td>\n",
       "      <td>Корнилов</td>\n",
       "      <td>2018-09-27</td>\n",
       "      <td>smart</td>\n",
       "      <td>9</td>\n",
       "      <td>9.0</td>\n",
       "      <td>70.0</td>\n",
       "      <td>11.0</td>\n",
       "      <td>1845.75</td>\n",
       "      <td>50</td>\n",
       "      <td>15360</td>\n",
       "      <td>500</td>\n",
       "      <td>550</td>\n",
       "      <td>200</td>\n",
       "      <td>3</td>\n",
       "      <td>3</td>\n",
       "      <td>smart</td>\n",
       "    </tr>\n",
       "    <tr>\n",
       "      <td>3213</td>\n",
       "      <td>1499</td>\n",
       "      <td>35</td>\n",
       "      <td>NaN</td>\n",
       "      <td>Пермь</td>\n",
       "      <td>Гектор</td>\n",
       "      <td>Корнилов</td>\n",
       "      <td>2018-09-27</td>\n",
       "      <td>smart</td>\n",
       "      <td>9</td>\n",
       "      <td>10.0</td>\n",
       "      <td>449.0</td>\n",
       "      <td>48.0</td>\n",
       "      <td>17788.51</td>\n",
       "      <td>50</td>\n",
       "      <td>15360</td>\n",
       "      <td>500</td>\n",
       "      <td>550</td>\n",
       "      <td>200</td>\n",
       "      <td>3</td>\n",
       "      <td>3</td>\n",
       "      <td>smart</td>\n",
       "    </tr>\n",
       "    <tr>\n",
       "      <td>3214</td>\n",
       "      <td>1499</td>\n",
       "      <td>35</td>\n",
       "      <td>NaN</td>\n",
       "      <td>Пермь</td>\n",
       "      <td>Гектор</td>\n",
       "      <td>Корнилов</td>\n",
       "      <td>2018-09-27</td>\n",
       "      <td>smart</td>\n",
       "      <td>9</td>\n",
       "      <td>11.0</td>\n",
       "      <td>612.0</td>\n",
       "      <td>59.0</td>\n",
       "      <td>17963.31</td>\n",
       "      <td>50</td>\n",
       "      <td>15360</td>\n",
       "      <td>500</td>\n",
       "      <td>550</td>\n",
       "      <td>200</td>\n",
       "      <td>3</td>\n",
       "      <td>3</td>\n",
       "      <td>smart</td>\n",
       "    </tr>\n",
       "    <tr>\n",
       "      <td>3215</td>\n",
       "      <td>1499</td>\n",
       "      <td>35</td>\n",
       "      <td>NaN</td>\n",
       "      <td>Пермь</td>\n",
       "      <td>Гектор</td>\n",
       "      <td>Корнилов</td>\n",
       "      <td>2018-09-27</td>\n",
       "      <td>smart</td>\n",
       "      <td>9</td>\n",
       "      <td>12.0</td>\n",
       "      <td>492.0</td>\n",
       "      <td>66.0</td>\n",
       "      <td>13055.58</td>\n",
       "      <td>50</td>\n",
       "      <td>15360</td>\n",
       "      <td>500</td>\n",
       "      <td>550</td>\n",
       "      <td>200</td>\n",
       "      <td>3</td>\n",
       "      <td>3</td>\n",
       "      <td>smart</td>\n",
       "    </tr>\n",
       "  </tbody>\n",
       "</table>\n",
       "<p>3216 rows × 21 columns</p>\n",
       "</div>"
      ],
      "text/plain": [
       "      user_id  age  churn_date         city first_name  last_name   reg_date  \\\n",
       "0        1000   52         NaN    Краснодар     Рафаил  Верещагин 2018-05-25   \n",
       "1        1000   52         NaN    Краснодар     Рафаил  Верещагин 2018-05-25   \n",
       "2        1000   52         NaN    Краснодар     Рафаил  Верещагин 2018-05-25   \n",
       "3        1000   52         NaN    Краснодар     Рафаил  Верещагин 2018-05-25   \n",
       "4        1000   52         NaN    Краснодар     Рафаил  Верещагин 2018-05-25   \n",
       "...       ...  ...         ...          ...        ...        ...        ...   \n",
       "3211     1498   68  2018-10-25  Владикавказ   Всеволод    Акимчин 2018-07-19   \n",
       "3212     1499   35         NaN        Пермь     Гектор   Корнилов 2018-09-27   \n",
       "3213     1499   35         NaN        Пермь     Гектор   Корнилов 2018-09-27   \n",
       "3214     1499   35         NaN        Пермь     Гектор   Корнилов 2018-09-27   \n",
       "3215     1499   35         NaN        Пермь     Гектор   Корнилов 2018-09-27   \n",
       "\n",
       "     tariff  month_reg  month  duration_ceil  message_count   mb_used  \\\n",
       "0     ultra          5    5.0          159.0           22.0   2253.49   \n",
       "1     ultra          5    6.0          172.0           60.0  23233.77   \n",
       "2     ultra          5    7.0          340.0           75.0  14003.64   \n",
       "3     ultra          5    8.0          408.0           81.0  14055.93   \n",
       "4     ultra          5    9.0          466.0           57.0  14568.91   \n",
       "...     ...        ...    ...            ...            ...       ...   \n",
       "3211  smart          7   10.0          247.0           42.0  20579.36   \n",
       "3212  smart          9    9.0           70.0           11.0   1845.75   \n",
       "3213  smart          9   10.0          449.0           48.0  17788.51   \n",
       "3214  smart          9   11.0          612.0           59.0  17963.31   \n",
       "3215  smart          9   12.0          492.0           66.0  13055.58   \n",
       "\n",
       "      messages_included  mb_per_month_included  minutes_included  \\\n",
       "0                  1000                  30720              3000   \n",
       "1                  1000                  30720              3000   \n",
       "2                  1000                  30720              3000   \n",
       "3                  1000                  30720              3000   \n",
       "4                  1000                  30720              3000   \n",
       "...                 ...                    ...               ...   \n",
       "3211                 50                  15360               500   \n",
       "3212                 50                  15360               500   \n",
       "3213                 50                  15360               500   \n",
       "3214                 50                  15360               500   \n",
       "3215                 50                  15360               500   \n",
       "\n",
       "      rub_monthly_fee  rub_per_gb  rub_per_message  rub_per_minute tariff_name  \n",
       "0                1950         150                1               1       ultra  \n",
       "1                1950         150                1               1       ultra  \n",
       "2                1950         150                1               1       ultra  \n",
       "3                1950         150                1               1       ultra  \n",
       "4                1950         150                1               1       ultra  \n",
       "...               ...         ...              ...             ...         ...  \n",
       "3211              550         200                3               3       smart  \n",
       "3212              550         200                3               3       smart  \n",
       "3213              550         200                3               3       smart  \n",
       "3214              550         200                3               3       smart  \n",
       "3215              550         200                3               3       smart  \n",
       "\n",
       "[3216 rows x 21 columns]"
      ]
     },
     "execution_count": 17,
     "metadata": {},
     "output_type": "execute_result"
    }
   ],
   "source": [
    "# объединим таблицы\n",
    "total = calls_group.merge(messages_group, how=\"outer\", on=[\"month\", \"user_id\"])\n",
    "total = total.merge(internet_group, how=\"outer\", on=[\"month\", \"user_id\"])\n",
    "total = users.merge(total, how=\"outer\", on=[\"user_id\"])\n",
    "total = total.merge(tariffs, how=\"outer\", left_on=[\"tariff\"], right_on=[\"tariff_name\"])\n",
    "total"
   ]
  },
  {
   "cell_type": "markdown",
   "metadata": {},
   "source": [
    "Для веб-трафика отдельные сессии не считаются. Вместо этого общая сумма за месяц округляется в бо́льшую сторону. Если абонент использует 1025 мегабайт в этом месяце, с него возьмут плату за 2 гигабайта.\n",
    "Поэтому переведем Мб в Гб и округлим до целых чисел в большую сторону."
   ]
  },
  {
   "cell_type": "code",
   "execution_count": 18,
   "metadata": {
    "scrolled": true
   },
   "outputs": [
    {
     "data": {
      "text/plain": [
       "1810    16.0\n",
       "2625    10.0\n",
       "714      NaN\n",
       "514     25.0\n",
       "808     31.0\n",
       "Name: gb_used, dtype: float64"
      ]
     },
     "metadata": {},
     "output_type": "display_data"
    },
    {
     "data": {
      "text/plain": [
       "3180    15.0\n",
       "32      30.0\n",
       "1971    15.0\n",
       "1996    15.0\n",
       "2816    15.0\n",
       "Name: gb_per_month_included, dtype: float64"
      ]
     },
     "metadata": {},
     "output_type": "display_data"
    }
   ],
   "source": [
    "# переведем Мб в Гб\n",
    "total[\"gb_used\"] = np.ceil(total[\"mb_used\"] / 1024)\n",
    "total[\"gb_per_month_included\"] = total[\"mb_per_month_included\"] / 1024\n",
    "\n",
    "display(total[\"gb_used\"].sample(5))\n",
    "display(total[\"gb_per_month_included\"].sample(5))"
   ]
  },
  {
   "cell_type": "markdown",
   "metadata": {},
   "source": [
    "После слияния в таблицах могли появится аномалии. Посмотрим общую информацию."
   ]
  },
  {
   "cell_type": "code",
   "execution_count": 19,
   "metadata": {
    "scrolled": true
   },
   "outputs": [
    {
     "name": "stdout",
     "output_type": "stream",
     "text": [
      "<class 'pandas.core.frame.DataFrame'>\n",
      "Int64Index: 3216 entries, 0 to 3215\n",
      "Data columns (total 23 columns):\n",
      "user_id                  3216 non-null int64\n",
      "age                      3216 non-null int64\n",
      "churn_date               189 non-null object\n",
      "city                     3216 non-null object\n",
      "first_name               3216 non-null object\n",
      "last_name                3216 non-null object\n",
      "reg_date                 3216 non-null datetime64[ns]\n",
      "tariff                   3216 non-null object\n",
      "month_reg                3216 non-null int64\n",
      "month                    3214 non-null float64\n",
      "duration_ceil            3174 non-null float64\n",
      "message_count            2717 non-null float64\n",
      "mb_used                  3203 non-null float64\n",
      "messages_included        3216 non-null int64\n",
      "mb_per_month_included    3216 non-null int64\n",
      "minutes_included         3216 non-null int64\n",
      "rub_monthly_fee          3216 non-null int64\n",
      "rub_per_gb               3216 non-null int64\n",
      "rub_per_message          3216 non-null int64\n",
      "rub_per_minute           3216 non-null int64\n",
      "tariff_name              3216 non-null object\n",
      "gb_used                  3203 non-null float64\n",
      "gb_per_month_included    3216 non-null float64\n",
      "dtypes: datetime64[ns](1), float64(6), int64(10), object(6)\n",
      "memory usage: 603.0+ KB\n"
     ]
    },
    {
     "data": {
      "text/html": [
       "<div>\n",
       "<style scoped>\n",
       "    .dataframe tbody tr th:only-of-type {\n",
       "        vertical-align: middle;\n",
       "    }\n",
       "\n",
       "    .dataframe tbody tr th {\n",
       "        vertical-align: top;\n",
       "    }\n",
       "\n",
       "    .dataframe thead th {\n",
       "        text-align: right;\n",
       "    }\n",
       "</style>\n",
       "<table border=\"1\" class=\"dataframe\">\n",
       "  <thead>\n",
       "    <tr style=\"text-align: right;\">\n",
       "      <th></th>\n",
       "      <th>user_id</th>\n",
       "      <th>age</th>\n",
       "      <th>churn_date</th>\n",
       "      <th>city</th>\n",
       "      <th>first_name</th>\n",
       "      <th>last_name</th>\n",
       "      <th>reg_date</th>\n",
       "      <th>tariff</th>\n",
       "      <th>month_reg</th>\n",
       "      <th>month</th>\n",
       "      <th>duration_ceil</th>\n",
       "      <th>message_count</th>\n",
       "      <th>mb_used</th>\n",
       "      <th>messages_included</th>\n",
       "      <th>mb_per_month_included</th>\n",
       "      <th>minutes_included</th>\n",
       "      <th>rub_monthly_fee</th>\n",
       "      <th>rub_per_gb</th>\n",
       "      <th>rub_per_message</th>\n",
       "      <th>rub_per_minute</th>\n",
       "      <th>tariff_name</th>\n",
       "      <th>gb_used</th>\n",
       "      <th>gb_per_month_included</th>\n",
       "    </tr>\n",
       "  </thead>\n",
       "  <tbody>\n",
       "    <tr>\n",
       "      <td>3121</td>\n",
       "      <td>1481</td>\n",
       "      <td>70</td>\n",
       "      <td>NaN</td>\n",
       "      <td>Москва</td>\n",
       "      <td>Клавдия</td>\n",
       "      <td>Чижова</td>\n",
       "      <td>2018-02-26</td>\n",
       "      <td>smart</td>\n",
       "      <td>2</td>\n",
       "      <td>2.0</td>\n",
       "      <td>36.0</td>\n",
       "      <td>6.0</td>\n",
       "      <td>2745.82</td>\n",
       "      <td>50</td>\n",
       "      <td>15360</td>\n",
       "      <td>500</td>\n",
       "      <td>550</td>\n",
       "      <td>200</td>\n",
       "      <td>3</td>\n",
       "      <td>3</td>\n",
       "      <td>smart</td>\n",
       "      <td>3.0</td>\n",
       "      <td>15.0</td>\n",
       "    </tr>\n",
       "    <tr>\n",
       "      <td>3054</td>\n",
       "      <td>1468</td>\n",
       "      <td>29</td>\n",
       "      <td>NaN</td>\n",
       "      <td>Тамбов</td>\n",
       "      <td>Иван</td>\n",
       "      <td>Авдышев</td>\n",
       "      <td>2018-02-11</td>\n",
       "      <td>smart</td>\n",
       "      <td>2</td>\n",
       "      <td>2.0</td>\n",
       "      <td>137.0</td>\n",
       "      <td>5.0</td>\n",
       "      <td>9080.94</td>\n",
       "      <td>50</td>\n",
       "      <td>15360</td>\n",
       "      <td>500</td>\n",
       "      <td>550</td>\n",
       "      <td>200</td>\n",
       "      <td>3</td>\n",
       "      <td>3</td>\n",
       "      <td>smart</td>\n",
       "      <td>9.0</td>\n",
       "      <td>15.0</td>\n",
       "    </tr>\n",
       "    <tr>\n",
       "      <td>2960</td>\n",
       "      <td>1443</td>\n",
       "      <td>21</td>\n",
       "      <td>NaN</td>\n",
       "      <td>Казань</td>\n",
       "      <td>Иван</td>\n",
       "      <td>Афинин</td>\n",
       "      <td>2018-09-17</td>\n",
       "      <td>smart</td>\n",
       "      <td>9</td>\n",
       "      <td>9.0</td>\n",
       "      <td>407.0</td>\n",
       "      <td>10.0</td>\n",
       "      <td>3513.25</td>\n",
       "      <td>50</td>\n",
       "      <td>15360</td>\n",
       "      <td>500</td>\n",
       "      <td>550</td>\n",
       "      <td>200</td>\n",
       "      <td>3</td>\n",
       "      <td>3</td>\n",
       "      <td>smart</td>\n",
       "      <td>4.0</td>\n",
       "      <td>15.0</td>\n",
       "    </tr>\n",
       "    <tr>\n",
       "      <td>4</td>\n",
       "      <td>1000</td>\n",
       "      <td>52</td>\n",
       "      <td>NaN</td>\n",
       "      <td>Краснодар</td>\n",
       "      <td>Рафаил</td>\n",
       "      <td>Верещагин</td>\n",
       "      <td>2018-05-25</td>\n",
       "      <td>ultra</td>\n",
       "      <td>5</td>\n",
       "      <td>9.0</td>\n",
       "      <td>466.0</td>\n",
       "      <td>57.0</td>\n",
       "      <td>14568.91</td>\n",
       "      <td>1000</td>\n",
       "      <td>30720</td>\n",
       "      <td>3000</td>\n",
       "      <td>1950</td>\n",
       "      <td>150</td>\n",
       "      <td>1</td>\n",
       "      <td>1</td>\n",
       "      <td>ultra</td>\n",
       "      <td>15.0</td>\n",
       "      <td>30.0</td>\n",
       "    </tr>\n",
       "    <tr>\n",
       "      <td>2832</td>\n",
       "      <td>1419</td>\n",
       "      <td>19</td>\n",
       "      <td>NaN</td>\n",
       "      <td>Новороссийск</td>\n",
       "      <td>Эльмира</td>\n",
       "      <td>Яшина</td>\n",
       "      <td>2018-07-19</td>\n",
       "      <td>smart</td>\n",
       "      <td>7</td>\n",
       "      <td>12.0</td>\n",
       "      <td>538.0</td>\n",
       "      <td>49.0</td>\n",
       "      <td>17368.59</td>\n",
       "      <td>50</td>\n",
       "      <td>15360</td>\n",
       "      <td>500</td>\n",
       "      <td>550</td>\n",
       "      <td>200</td>\n",
       "      <td>3</td>\n",
       "      <td>3</td>\n",
       "      <td>smart</td>\n",
       "      <td>17.0</td>\n",
       "      <td>15.0</td>\n",
       "    </tr>\n",
       "  </tbody>\n",
       "</table>\n",
       "</div>"
      ],
      "text/plain": [
       "      user_id  age churn_date          city first_name  last_name   reg_date  \\\n",
       "3121     1481   70        NaN        Москва    Клавдия     Чижова 2018-02-26   \n",
       "3054     1468   29        NaN        Тамбов       Иван    Авдышев 2018-02-11   \n",
       "2960     1443   21        NaN        Казань       Иван     Афинин 2018-09-17   \n",
       "4        1000   52        NaN     Краснодар     Рафаил  Верещагин 2018-05-25   \n",
       "2832     1419   19        NaN  Новороссийск    Эльмира      Яшина 2018-07-19   \n",
       "\n",
       "     tariff  month_reg  month  duration_ceil  message_count   mb_used  \\\n",
       "3121  smart          2    2.0           36.0            6.0   2745.82   \n",
       "3054  smart          2    2.0          137.0            5.0   9080.94   \n",
       "2960  smart          9    9.0          407.0           10.0   3513.25   \n",
       "4     ultra          5    9.0          466.0           57.0  14568.91   \n",
       "2832  smart          7   12.0          538.0           49.0  17368.59   \n",
       "\n",
       "      messages_included  mb_per_month_included  minutes_included  \\\n",
       "3121                 50                  15360               500   \n",
       "3054                 50                  15360               500   \n",
       "2960                 50                  15360               500   \n",
       "4                  1000                  30720              3000   \n",
       "2832                 50                  15360               500   \n",
       "\n",
       "      rub_monthly_fee  rub_per_gb  rub_per_message  rub_per_minute  \\\n",
       "3121              550         200                3               3   \n",
       "3054              550         200                3               3   \n",
       "2960              550         200                3               3   \n",
       "4                1950         150                1               1   \n",
       "2832              550         200                3               3   \n",
       "\n",
       "     tariff_name  gb_used  gb_per_month_included  \n",
       "3121       smart      3.0                   15.0  \n",
       "3054       smart      9.0                   15.0  \n",
       "2960       smart      4.0                   15.0  \n",
       "4          ultra     15.0                   30.0  \n",
       "2832       smart     17.0                   15.0  "
      ]
     },
     "metadata": {},
     "output_type": "display_data"
    },
    {
     "data": {
      "text/html": [
       "<div>\n",
       "<style scoped>\n",
       "    .dataframe tbody tr th:only-of-type {\n",
       "        vertical-align: middle;\n",
       "    }\n",
       "\n",
       "    .dataframe tbody tr th {\n",
       "        vertical-align: top;\n",
       "    }\n",
       "\n",
       "    .dataframe thead th {\n",
       "        text-align: right;\n",
       "    }\n",
       "</style>\n",
       "<table border=\"1\" class=\"dataframe\">\n",
       "  <thead>\n",
       "    <tr style=\"text-align: right;\">\n",
       "      <th></th>\n",
       "      <th>user_id</th>\n",
       "      <th>age</th>\n",
       "      <th>month_reg</th>\n",
       "      <th>month</th>\n",
       "      <th>duration_ceil</th>\n",
       "      <th>message_count</th>\n",
       "      <th>mb_used</th>\n",
       "      <th>messages_included</th>\n",
       "      <th>mb_per_month_included</th>\n",
       "      <th>minutes_included</th>\n",
       "      <th>rub_monthly_fee</th>\n",
       "      <th>rub_per_gb</th>\n",
       "      <th>rub_per_message</th>\n",
       "      <th>rub_per_minute</th>\n",
       "      <th>gb_used</th>\n",
       "      <th>gb_per_month_included</th>\n",
       "    </tr>\n",
       "  </thead>\n",
       "  <tbody>\n",
       "    <tr>\n",
       "      <td>count</td>\n",
       "      <td>3216.000000</td>\n",
       "      <td>3216.000000</td>\n",
       "      <td>3216.000000</td>\n",
       "      <td>3214.000000</td>\n",
       "      <td>3174.000000</td>\n",
       "      <td>2717.000000</td>\n",
       "      <td>3203.000000</td>\n",
       "      <td>3216.000000</td>\n",
       "      <td>3216.000000</td>\n",
       "      <td>3216.000000</td>\n",
       "      <td>3216.000000</td>\n",
       "      <td>3216.000000</td>\n",
       "      <td>3216.000000</td>\n",
       "      <td>3216.000000</td>\n",
       "      <td>3203.000000</td>\n",
       "      <td>3216.000000</td>\n",
       "    </tr>\n",
       "    <tr>\n",
       "      <td>mean</td>\n",
       "      <td>1251.588930</td>\n",
       "      <td>46.643968</td>\n",
       "      <td>4.723570</td>\n",
       "      <td>8.317362</td>\n",
       "      <td>456.931632</td>\n",
       "      <td>45.283769</td>\n",
       "      <td>17266.708626</td>\n",
       "      <td>341.262438</td>\n",
       "      <td>20069.253731</td>\n",
       "      <td>1266.480100</td>\n",
       "      <td>979.228856</td>\n",
       "      <td>184.670398</td>\n",
       "      <td>2.386816</td>\n",
       "      <td>2.386816</td>\n",
       "      <td>17.358414</td>\n",
       "      <td>19.598881</td>\n",
       "    </tr>\n",
       "    <tr>\n",
       "      <td>std</td>\n",
       "      <td>144.645928</td>\n",
       "      <td>16.581233</td>\n",
       "      <td>2.912794</td>\n",
       "      <td>2.905413</td>\n",
       "      <td>238.031270</td>\n",
       "      <td>35.051363</td>\n",
       "      <td>7516.356902</td>\n",
       "      <td>438.092669</td>\n",
       "      <td>7083.266729</td>\n",
       "      <td>1152.875444</td>\n",
       "      <td>645.610249</td>\n",
       "      <td>23.057509</td>\n",
       "      <td>0.922300</td>\n",
       "      <td>0.922300</td>\n",
       "      <td>7.343379</td>\n",
       "      <td>6.917253</td>\n",
       "    </tr>\n",
       "    <tr>\n",
       "      <td>min</td>\n",
       "      <td>1000.000000</td>\n",
       "      <td>18.000000</td>\n",
       "      <td>1.000000</td>\n",
       "      <td>1.000000</td>\n",
       "      <td>0.000000</td>\n",
       "      <td>1.000000</td>\n",
       "      <td>0.000000</td>\n",
       "      <td>50.000000</td>\n",
       "      <td>15360.000000</td>\n",
       "      <td>500.000000</td>\n",
       "      <td>550.000000</td>\n",
       "      <td>150.000000</td>\n",
       "      <td>1.000000</td>\n",
       "      <td>1.000000</td>\n",
       "      <td>0.000000</td>\n",
       "      <td>15.000000</td>\n",
       "    </tr>\n",
       "    <tr>\n",
       "      <td>25%</td>\n",
       "      <td>1125.000000</td>\n",
       "      <td>32.000000</td>\n",
       "      <td>2.000000</td>\n",
       "      <td>6.000000</td>\n",
       "      <td>290.000000</td>\n",
       "      <td>19.000000</td>\n",
       "      <td>12526.905000</td>\n",
       "      <td>50.000000</td>\n",
       "      <td>15360.000000</td>\n",
       "      <td>500.000000</td>\n",
       "      <td>550.000000</td>\n",
       "      <td>150.000000</td>\n",
       "      <td>1.000000</td>\n",
       "      <td>1.000000</td>\n",
       "      <td>13.000000</td>\n",
       "      <td>15.000000</td>\n",
       "    </tr>\n",
       "    <tr>\n",
       "      <td>50%</td>\n",
       "      <td>1253.000000</td>\n",
       "      <td>46.000000</td>\n",
       "      <td>4.000000</td>\n",
       "      <td>9.000000</td>\n",
       "      <td>447.000000</td>\n",
       "      <td>38.000000</td>\n",
       "      <td>16963.110000</td>\n",
       "      <td>50.000000</td>\n",
       "      <td>15360.000000</td>\n",
       "      <td>500.000000</td>\n",
       "      <td>550.000000</td>\n",
       "      <td>200.000000</td>\n",
       "      <td>3.000000</td>\n",
       "      <td>3.000000</td>\n",
       "      <td>17.000000</td>\n",
       "      <td>15.000000</td>\n",
       "    </tr>\n",
       "    <tr>\n",
       "      <td>75%</td>\n",
       "      <td>1378.250000</td>\n",
       "      <td>62.000000</td>\n",
       "      <td>7.000000</td>\n",
       "      <td>11.000000</td>\n",
       "      <td>592.000000</td>\n",
       "      <td>63.000000</td>\n",
       "      <td>21432.175000</td>\n",
       "      <td>1000.000000</td>\n",
       "      <td>30720.000000</td>\n",
       "      <td>3000.000000</td>\n",
       "      <td>1950.000000</td>\n",
       "      <td>200.000000</td>\n",
       "      <td>3.000000</td>\n",
       "      <td>3.000000</td>\n",
       "      <td>21.000000</td>\n",
       "      <td>30.000000</td>\n",
       "    </tr>\n",
       "    <tr>\n",
       "      <td>max</td>\n",
       "      <td>1499.000000</td>\n",
       "      <td>75.000000</td>\n",
       "      <td>12.000000</td>\n",
       "      <td>12.000000</td>\n",
       "      <td>1673.000000</td>\n",
       "      <td>224.000000</td>\n",
       "      <td>49745.690000</td>\n",
       "      <td>1000.000000</td>\n",
       "      <td>30720.000000</td>\n",
       "      <td>3000.000000</td>\n",
       "      <td>1950.000000</td>\n",
       "      <td>200.000000</td>\n",
       "      <td>3.000000</td>\n",
       "      <td>3.000000</td>\n",
       "      <td>49.000000</td>\n",
       "      <td>30.000000</td>\n",
       "    </tr>\n",
       "  </tbody>\n",
       "</table>\n",
       "</div>"
      ],
      "text/plain": [
       "           user_id          age    month_reg        month  duration_ceil  \\\n",
       "count  3216.000000  3216.000000  3216.000000  3214.000000    3174.000000   \n",
       "mean   1251.588930    46.643968     4.723570     8.317362     456.931632   \n",
       "std     144.645928    16.581233     2.912794     2.905413     238.031270   \n",
       "min    1000.000000    18.000000     1.000000     1.000000       0.000000   \n",
       "25%    1125.000000    32.000000     2.000000     6.000000     290.000000   \n",
       "50%    1253.000000    46.000000     4.000000     9.000000     447.000000   \n",
       "75%    1378.250000    62.000000     7.000000    11.000000     592.000000   \n",
       "max    1499.000000    75.000000    12.000000    12.000000    1673.000000   \n",
       "\n",
       "       message_count       mb_used  messages_included  mb_per_month_included  \\\n",
       "count    2717.000000   3203.000000        3216.000000            3216.000000   \n",
       "mean       45.283769  17266.708626         341.262438           20069.253731   \n",
       "std        35.051363   7516.356902         438.092669            7083.266729   \n",
       "min         1.000000      0.000000          50.000000           15360.000000   \n",
       "25%        19.000000  12526.905000          50.000000           15360.000000   \n",
       "50%        38.000000  16963.110000          50.000000           15360.000000   \n",
       "75%        63.000000  21432.175000        1000.000000           30720.000000   \n",
       "max       224.000000  49745.690000        1000.000000           30720.000000   \n",
       "\n",
       "       minutes_included  rub_monthly_fee   rub_per_gb  rub_per_message  \\\n",
       "count       3216.000000      3216.000000  3216.000000      3216.000000   \n",
       "mean        1266.480100       979.228856   184.670398         2.386816   \n",
       "std         1152.875444       645.610249    23.057509         0.922300   \n",
       "min          500.000000       550.000000   150.000000         1.000000   \n",
       "25%          500.000000       550.000000   150.000000         1.000000   \n",
       "50%          500.000000       550.000000   200.000000         3.000000   \n",
       "75%         3000.000000      1950.000000   200.000000         3.000000   \n",
       "max         3000.000000      1950.000000   200.000000         3.000000   \n",
       "\n",
       "       rub_per_minute      gb_used  gb_per_month_included  \n",
       "count     3216.000000  3203.000000            3216.000000  \n",
       "mean         2.386816    17.358414              19.598881  \n",
       "std          0.922300     7.343379               6.917253  \n",
       "min          1.000000     0.000000              15.000000  \n",
       "25%          1.000000    13.000000              15.000000  \n",
       "50%          3.000000    17.000000              15.000000  \n",
       "75%          3.000000    21.000000              30.000000  \n",
       "max          3.000000    49.000000              30.000000  "
      ]
     },
     "metadata": {},
     "output_type": "display_data"
    }
   ],
   "source": [
    "info(total)"
   ]
  },
  {
   "cell_type": "markdown",
   "metadata": {},
   "source": [
    "После слияния появились пропущенные значения. Посмотрим пропуски в столбце с месяцем. Так же видим что появились пропуски в столбцах со звонками, сообщениями и интернетом. Это произошло потому что в каком-то конкретном месяце абонент не пользовался какой-то из услуг. Заменим пропущенные значения нулями."
   ]
  },
  {
   "cell_type": "code",
   "execution_count": 20,
   "metadata": {},
   "outputs": [
    {
     "data": {
      "text/html": [
       "<div>\n",
       "<style scoped>\n",
       "    .dataframe tbody tr th:only-of-type {\n",
       "        vertical-align: middle;\n",
       "    }\n",
       "\n",
       "    .dataframe tbody tr th {\n",
       "        vertical-align: top;\n",
       "    }\n",
       "\n",
       "    .dataframe thead th {\n",
       "        text-align: right;\n",
       "    }\n",
       "</style>\n",
       "<table border=\"1\" class=\"dataframe\">\n",
       "  <thead>\n",
       "    <tr style=\"text-align: right;\">\n",
       "      <th></th>\n",
       "      <th>user_id</th>\n",
       "      <th>age</th>\n",
       "      <th>churn_date</th>\n",
       "      <th>city</th>\n",
       "      <th>first_name</th>\n",
       "      <th>last_name</th>\n",
       "      <th>reg_date</th>\n",
       "      <th>tariff</th>\n",
       "      <th>month_reg</th>\n",
       "      <th>month</th>\n",
       "      <th>duration_ceil</th>\n",
       "      <th>message_count</th>\n",
       "      <th>mb_used</th>\n",
       "      <th>messages_included</th>\n",
       "      <th>mb_per_month_included</th>\n",
       "      <th>minutes_included</th>\n",
       "      <th>rub_monthly_fee</th>\n",
       "      <th>rub_per_gb</th>\n",
       "      <th>rub_per_message</th>\n",
       "      <th>rub_per_minute</th>\n",
       "      <th>tariff_name</th>\n",
       "      <th>gb_used</th>\n",
       "      <th>gb_per_month_included</th>\n",
       "    </tr>\n",
       "  </thead>\n",
       "  <tbody>\n",
       "    <tr>\n",
       "      <td>243</td>\n",
       "      <td>1128</td>\n",
       "      <td>51</td>\n",
       "      <td>2018-12-23</td>\n",
       "      <td>Волжский</td>\n",
       "      <td>Ксения</td>\n",
       "      <td>Агаева</td>\n",
       "      <td>2018-12-15</td>\n",
       "      <td>ultra</td>\n",
       "      <td>12</td>\n",
       "      <td>NaN</td>\n",
       "      <td>NaN</td>\n",
       "      <td>NaN</td>\n",
       "      <td>NaN</td>\n",
       "      <td>1000</td>\n",
       "      <td>30720</td>\n",
       "      <td>3000</td>\n",
       "      <td>1950</td>\n",
       "      <td>150</td>\n",
       "      <td>1</td>\n",
       "      <td>1</td>\n",
       "      <td>ultra</td>\n",
       "      <td>NaN</td>\n",
       "      <td>30.0</td>\n",
       "    </tr>\n",
       "    <tr>\n",
       "      <td>2619</td>\n",
       "      <td>1371</td>\n",
       "      <td>50</td>\n",
       "      <td>2018-12-30</td>\n",
       "      <td>Омск</td>\n",
       "      <td>Ириней</td>\n",
       "      <td>Трофимов</td>\n",
       "      <td>2018-12-25</td>\n",
       "      <td>smart</td>\n",
       "      <td>12</td>\n",
       "      <td>NaN</td>\n",
       "      <td>NaN</td>\n",
       "      <td>NaN</td>\n",
       "      <td>NaN</td>\n",
       "      <td>50</td>\n",
       "      <td>15360</td>\n",
       "      <td>500</td>\n",
       "      <td>550</td>\n",
       "      <td>200</td>\n",
       "      <td>3</td>\n",
       "      <td>3</td>\n",
       "      <td>smart</td>\n",
       "      <td>NaN</td>\n",
       "      <td>15.0</td>\n",
       "    </tr>\n",
       "  </tbody>\n",
       "</table>\n",
       "</div>"
      ],
      "text/plain": [
       "      user_id  age  churn_date      city first_name last_name   reg_date  \\\n",
       "243      1128   51  2018-12-23  Волжский     Ксения    Агаева 2018-12-15   \n",
       "2619     1371   50  2018-12-30      Омск     Ириней  Трофимов 2018-12-25   \n",
       "\n",
       "     tariff  month_reg  month  duration_ceil  message_count  mb_used  \\\n",
       "243   ultra         12    NaN            NaN            NaN      NaN   \n",
       "2619  smart         12    NaN            NaN            NaN      NaN   \n",
       "\n",
       "      messages_included  mb_per_month_included  minutes_included  \\\n",
       "243                1000                  30720              3000   \n",
       "2619                 50                  15360               500   \n",
       "\n",
       "      rub_monthly_fee  rub_per_gb  rub_per_message  rub_per_minute  \\\n",
       "243              1950         150                1               1   \n",
       "2619              550         200                3               3   \n",
       "\n",
       "     tariff_name  gb_used  gb_per_month_included  \n",
       "243        ultra      NaN                   30.0  \n",
       "2619       smart      NaN                   15.0  "
      ]
     },
     "execution_count": 20,
     "metadata": {},
     "output_type": "execute_result"
    }
   ],
   "source": [
    "total[pd.isnull(total[\"month\"])]"
   ]
  },
  {
   "cell_type": "markdown",
   "metadata": {},
   "source": [
    "После объединения таблиц у нас появилось 2 пользователя, которые по всей видимости не пользовались услугами, и как видим по таблице ушли с тарифа в том же месяце что и пришли. Скорее всего абонплату они все равно должны были бы заплатить, поэтому оставим их в таблице, заполнив пропуски в месяце. "
   ]
  },
  {
   "cell_type": "code",
   "execution_count": 21,
   "metadata": {
    "collapsed": true
   },
   "outputs": [],
   "source": [
    "# заполним пропуски в месяце у пользователей с нулевой активностью\n",
    "total[\"month\"] = total[\"month\"].fillna(12)\n",
    "\n",
    "# заполним NaN в сообщениях, звонках и трафике на 0\n",
    "total[\"duration_ceil\"] = total[\"duration_ceil\"].fillna(0)\n",
    "total[\"message_count\"] = total[\"message_count\"].fillna(0)\n",
    "total[\"gb_used\"] = total[\"gb_used\"].fillna(0)\n",
    "\n",
    "# переведем столбец с месяцем в целочисленный формат\n",
    "total[\"month\"] = total[\"month\"].astype(\"int\")"
   ]
  },
  {
   "cell_type": "markdown",
   "metadata": {},
   "source": [
    "Можем приступить к расчету выручки."
   ]
  },
  {
   "cell_type": "markdown",
   "metadata": {},
   "source": [
    "Описание тарифов:\n",
    "- Тариф «Смарт»\n",
    "Ежемесячная плата: 550 рублей\n",
    "Включено 500 минут разговора, 50 сообщений и 15 Гб интернет-трафика\n",
    "Стоимость услуг сверх тарифного пакета: 1. минута разговора: 3 рубля («Мегалайн» всегда округляет вверх значения минут и мегабайтов. Если пользователь проговорил всего 1 секунду, в тарифе засчитывается целая минута); 2. сообщение: 3 рубля; 3. 1 Гб интернет-трафика: 200 рублей.\n",
    "- Тариф «Ультра»\n",
    "Ежемесячная плата: 1950 рублей\n",
    "Включено 3000 минут разговора, 1000 сообщений и 30 Гб интернет-трафика\n",
    "Стоимость услуг сверх тарифного пакета: 1. минута разговора: 1 рубль; 2. сообщение: 1 рубль; 3. 1 Гб интернет-трафика: 150 рублей.\n",
    "\n",
    "Посчитаем сначала превышение лимита у абонентов, а затем выручку."
   ]
  },
  {
   "cell_type": "code",
   "execution_count": 22,
   "metadata": {
    "scrolled": false
   },
   "outputs": [
    {
     "data": {
      "text/html": [
       "<div>\n",
       "<style scoped>\n",
       "    .dataframe tbody tr th:only-of-type {\n",
       "        vertical-align: middle;\n",
       "    }\n",
       "\n",
       "    .dataframe tbody tr th {\n",
       "        vertical-align: top;\n",
       "    }\n",
       "\n",
       "    .dataframe thead th {\n",
       "        text-align: right;\n",
       "    }\n",
       "</style>\n",
       "<table border=\"1\" class=\"dataframe\">\n",
       "  <thead>\n",
       "    <tr style=\"text-align: right;\">\n",
       "      <th></th>\n",
       "      <th>user_id</th>\n",
       "      <th>age</th>\n",
       "      <th>churn_date</th>\n",
       "      <th>city</th>\n",
       "      <th>first_name</th>\n",
       "      <th>last_name</th>\n",
       "      <th>reg_date</th>\n",
       "      <th>tariff</th>\n",
       "      <th>month_reg</th>\n",
       "      <th>month</th>\n",
       "      <th>duration_ceil</th>\n",
       "      <th>message_count</th>\n",
       "      <th>mb_used</th>\n",
       "      <th>messages_included</th>\n",
       "      <th>mb_per_month_included</th>\n",
       "      <th>minutes_included</th>\n",
       "      <th>rub_monthly_fee</th>\n",
       "      <th>rub_per_gb</th>\n",
       "      <th>rub_per_message</th>\n",
       "      <th>rub_per_minute</th>\n",
       "      <th>tariff_name</th>\n",
       "      <th>gb_used</th>\n",
       "      <th>gb_per_month_included</th>\n",
       "      <th>min_over_limit</th>\n",
       "      <th>masseges_over_limit</th>\n",
       "      <th>internet_over_limit</th>\n",
       "      <th>revenue</th>\n",
       "    </tr>\n",
       "  </thead>\n",
       "  <tbody>\n",
       "    <tr>\n",
       "      <td>1318</td>\n",
       "      <td>1068</td>\n",
       "      <td>34</td>\n",
       "      <td>NaN</td>\n",
       "      <td>Москва</td>\n",
       "      <td>Ким</td>\n",
       "      <td>Демьянов</td>\n",
       "      <td>2018-07-16</td>\n",
       "      <td>smart</td>\n",
       "      <td>7</td>\n",
       "      <td>9</td>\n",
       "      <td>564.0</td>\n",
       "      <td>21.0</td>\n",
       "      <td>21063.37</td>\n",
       "      <td>50</td>\n",
       "      <td>15360</td>\n",
       "      <td>500</td>\n",
       "      <td>550</td>\n",
       "      <td>200</td>\n",
       "      <td>3</td>\n",
       "      <td>3</td>\n",
       "      <td>smart</td>\n",
       "      <td>21.0</td>\n",
       "      <td>15.0</td>\n",
       "      <td>64.0</td>\n",
       "      <td>0.0</td>\n",
       "      <td>6.0</td>\n",
       "      <td>1942.0</td>\n",
       "    </tr>\n",
       "    <tr>\n",
       "      <td>2277</td>\n",
       "      <td>1284</td>\n",
       "      <td>62</td>\n",
       "      <td>NaN</td>\n",
       "      <td>Волгоград</td>\n",
       "      <td>Евфросинья</td>\n",
       "      <td>Петухова</td>\n",
       "      <td>2018-03-16</td>\n",
       "      <td>smart</td>\n",
       "      <td>3</td>\n",
       "      <td>3</td>\n",
       "      <td>261.0</td>\n",
       "      <td>15.0</td>\n",
       "      <td>6572.59</td>\n",
       "      <td>50</td>\n",
       "      <td>15360</td>\n",
       "      <td>500</td>\n",
       "      <td>550</td>\n",
       "      <td>200</td>\n",
       "      <td>3</td>\n",
       "      <td>3</td>\n",
       "      <td>smart</td>\n",
       "      <td>7.0</td>\n",
       "      <td>15.0</td>\n",
       "      <td>0.0</td>\n",
       "      <td>0.0</td>\n",
       "      <td>0.0</td>\n",
       "      <td>550.0</td>\n",
       "    </tr>\n",
       "    <tr>\n",
       "      <td>1364</td>\n",
       "      <td>1077</td>\n",
       "      <td>18</td>\n",
       "      <td>NaN</td>\n",
       "      <td>Москва</td>\n",
       "      <td>Марица</td>\n",
       "      <td>Кольцова</td>\n",
       "      <td>2018-10-23</td>\n",
       "      <td>smart</td>\n",
       "      <td>10</td>\n",
       "      <td>11</td>\n",
       "      <td>686.0</td>\n",
       "      <td>36.0</td>\n",
       "      <td>18981.92</td>\n",
       "      <td>50</td>\n",
       "      <td>15360</td>\n",
       "      <td>500</td>\n",
       "      <td>550</td>\n",
       "      <td>200</td>\n",
       "      <td>3</td>\n",
       "      <td>3</td>\n",
       "      <td>smart</td>\n",
       "      <td>19.0</td>\n",
       "      <td>15.0</td>\n",
       "      <td>186.0</td>\n",
       "      <td>0.0</td>\n",
       "      <td>4.0</td>\n",
       "      <td>1908.0</td>\n",
       "    </tr>\n",
       "    <tr>\n",
       "      <td>940</td>\n",
       "      <td>1469</td>\n",
       "      <td>41</td>\n",
       "      <td>NaN</td>\n",
       "      <td>Сочи</td>\n",
       "      <td>Аксён</td>\n",
       "      <td>Абалкин</td>\n",
       "      <td>2018-07-06</td>\n",
       "      <td>ultra</td>\n",
       "      <td>7</td>\n",
       "      <td>11</td>\n",
       "      <td>795.0</td>\n",
       "      <td>0.0</td>\n",
       "      <td>35501.97</td>\n",
       "      <td>1000</td>\n",
       "      <td>30720</td>\n",
       "      <td>3000</td>\n",
       "      <td>1950</td>\n",
       "      <td>150</td>\n",
       "      <td>1</td>\n",
       "      <td>1</td>\n",
       "      <td>ultra</td>\n",
       "      <td>35.0</td>\n",
       "      <td>30.0</td>\n",
       "      <td>0.0</td>\n",
       "      <td>0.0</td>\n",
       "      <td>5.0</td>\n",
       "      <td>2700.0</td>\n",
       "    </tr>\n",
       "    <tr>\n",
       "      <td>2581</td>\n",
       "      <td>1358</td>\n",
       "      <td>64</td>\n",
       "      <td>NaN</td>\n",
       "      <td>Ставрополь</td>\n",
       "      <td>Демьян</td>\n",
       "      <td>Логинов</td>\n",
       "      <td>2018-02-21</td>\n",
       "      <td>smart</td>\n",
       "      <td>2</td>\n",
       "      <td>6</td>\n",
       "      <td>660.0</td>\n",
       "      <td>55.0</td>\n",
       "      <td>10806.64</td>\n",
       "      <td>50</td>\n",
       "      <td>15360</td>\n",
       "      <td>500</td>\n",
       "      <td>550</td>\n",
       "      <td>200</td>\n",
       "      <td>3</td>\n",
       "      <td>3</td>\n",
       "      <td>smart</td>\n",
       "      <td>11.0</td>\n",
       "      <td>15.0</td>\n",
       "      <td>160.0</td>\n",
       "      <td>5.0</td>\n",
       "      <td>0.0</td>\n",
       "      <td>1045.0</td>\n",
       "    </tr>\n",
       "  </tbody>\n",
       "</table>\n",
       "</div>"
      ],
      "text/plain": [
       "      user_id  age churn_date        city  first_name last_name   reg_date  \\\n",
       "1318     1068   34        NaN      Москва         Ким  Демьянов 2018-07-16   \n",
       "2277     1284   62        NaN   Волгоград  Евфросинья  Петухова 2018-03-16   \n",
       "1364     1077   18        NaN      Москва      Марица  Кольцова 2018-10-23   \n",
       "940      1469   41        NaN        Сочи       Аксён   Абалкин 2018-07-06   \n",
       "2581     1358   64        NaN  Ставрополь      Демьян   Логинов 2018-02-21   \n",
       "\n",
       "     tariff  month_reg  month  duration_ceil  message_count   mb_used  \\\n",
       "1318  smart          7      9          564.0           21.0  21063.37   \n",
       "2277  smart          3      3          261.0           15.0   6572.59   \n",
       "1364  smart         10     11          686.0           36.0  18981.92   \n",
       "940   ultra          7     11          795.0            0.0  35501.97   \n",
       "2581  smart          2      6          660.0           55.0  10806.64   \n",
       "\n",
       "      messages_included  mb_per_month_included  minutes_included  \\\n",
       "1318                 50                  15360               500   \n",
       "2277                 50                  15360               500   \n",
       "1364                 50                  15360               500   \n",
       "940                1000                  30720              3000   \n",
       "2581                 50                  15360               500   \n",
       "\n",
       "      rub_monthly_fee  rub_per_gb  rub_per_message  rub_per_minute  \\\n",
       "1318              550         200                3               3   \n",
       "2277              550         200                3               3   \n",
       "1364              550         200                3               3   \n",
       "940              1950         150                1               1   \n",
       "2581              550         200                3               3   \n",
       "\n",
       "     tariff_name  gb_used  gb_per_month_included  min_over_limit  \\\n",
       "1318       smart     21.0                   15.0            64.0   \n",
       "2277       smart      7.0                   15.0             0.0   \n",
       "1364       smart     19.0                   15.0           186.0   \n",
       "940        ultra     35.0                   30.0             0.0   \n",
       "2581       smart     11.0                   15.0           160.0   \n",
       "\n",
       "      masseges_over_limit  internet_over_limit  revenue  \n",
       "1318                  0.0                  6.0   1942.0  \n",
       "2277                  0.0                  0.0    550.0  \n",
       "1364                  0.0                  4.0   1908.0  \n",
       "940                   0.0                  5.0   2700.0  \n",
       "2581                  5.0                  0.0   1045.0  "
      ]
     },
     "execution_count": 22,
     "metadata": {},
     "output_type": "execute_result"
    }
   ],
   "source": [
    "# посчитаем звонки, сообщения и трафик сверхлимита\n",
    "total[\"min_over_limit\"] = total[\"duration_ceil\"] - total[\"minutes_included\"]\n",
    "total[\"masseges_over_limit\"] = total[\"message_count\"] - total[\"messages_included\"]\n",
    "total[\"internet_over_limit\"] = total[\"gb_used\"] - total[\"gb_per_month_included\"]\n",
    "\n",
    "# уберем отрицательные значения, там где человек недовыбрал тариф\n",
    "total[\"min_over_limit\"] = total[\"min_over_limit\"].where(total[\"min_over_limit\"] > 0, 0)\n",
    "total[\"masseges_over_limit\"] = total[\"masseges_over_limit\"].where(total[\"masseges_over_limit\"] > 0, 0)\n",
    "total[\"internet_over_limit\"] = total[\"internet_over_limit\"].where(total[\"internet_over_limit\"] > 0, 0)\n",
    "\n",
    "# посчитаем помесячную выручку\n",
    "total[\"revenue\"] = (total[\"min_over_limit\"] * total[\"rub_per_minute\"] + \n",
    "                    total[\"masseges_over_limit\"] * total[\"rub_per_message\"] + \n",
    "                    total[\"internet_over_limit\"] * total[\"rub_per_gb\"] +\n",
    "                    total[\"rub_monthly_fee\"]\n",
    "                   )\n",
    "total.sample(5)"
   ]
  },
  {
   "cell_type": "markdown",
   "metadata": {},
   "source": [
    "Посмотрим сколько абонетов каждого тарифа у нас в выборке."
   ]
  },
  {
   "cell_type": "code",
   "execution_count": 23,
   "metadata": {},
   "outputs": [
    {
     "data": {
      "text/plain": [
       "smart    351\n",
       "ultra    149\n",
       "Name: tariff, dtype: int64"
      ]
     },
     "execution_count": 23,
     "metadata": {},
     "output_type": "execute_result"
    }
   ],
   "source": [
    "users.tariff.value_counts()"
   ]
  },
  {
   "cell_type": "markdown",
   "metadata": {},
   "source": [
    "### Вывод"
   ]
  },
  {
   "cell_type": "markdown",
   "metadata": {},
   "source": [
    "Для выполнения задания мы сначала перевели столбцы с датами в формат времени, а затем выделили столбец с месяцем совершения операциии, сгрупировали данные по клиенту и месяцу.\n",
    "Объеденив все данные в одну таблицу мы выявили двух абонентов, которые ушли с тарифа в том же месяце, что и зарегистрировались, чтобы учесть выручку с них - заменили пропуска на месяц регистрации. Далее мы смогли рассчитать помесячные расходы каждого клиента, с учетом превышений тарифа и можем приступить непосредственно к анализу данных.\n",
    "\n",
    "Также мы узнали что абонентов тарифа Смарт у нас более чем в два раза больше чем абонентов тарифа Ультра."
   ]
  },
  {
   "cell_type": "markdown",
   "metadata": {},
   "source": [
    "## Анализ данных"
   ]
  },
  {
   "cell_type": "markdown",
   "metadata": {},
   "source": [
    "### Таблицы, метрики"
   ]
  },
  {
   "cell_type": "markdown",
   "metadata": {},
   "source": [
    "Для анализа нам не потребуются все столбцы, поэтому создадим новую таблицу, а ее разделим на 2 - по тарифам."
   ]
  },
  {
   "cell_type": "code",
   "execution_count": 24,
   "metadata": {
    "scrolled": true
   },
   "outputs": [
    {
     "data": {
      "text/html": [
       "<div>\n",
       "<style scoped>\n",
       "    .dataframe tbody tr th:only-of-type {\n",
       "        vertical-align: middle;\n",
       "    }\n",
       "\n",
       "    .dataframe tbody tr th {\n",
       "        vertical-align: top;\n",
       "    }\n",
       "\n",
       "    .dataframe thead th {\n",
       "        text-align: right;\n",
       "    }\n",
       "</style>\n",
       "<table border=\"1\" class=\"dataframe\">\n",
       "  <thead>\n",
       "    <tr style=\"text-align: right;\">\n",
       "      <th></th>\n",
       "      <th>user_id</th>\n",
       "      <th>month</th>\n",
       "      <th>age</th>\n",
       "      <th>city</th>\n",
       "      <th>duration_ceil</th>\n",
       "      <th>message_count</th>\n",
       "      <th>gb_used</th>\n",
       "      <th>revenue</th>\n",
       "      <th>tariff</th>\n",
       "    </tr>\n",
       "  </thead>\n",
       "  <tbody>\n",
       "    <tr>\n",
       "      <td>377</td>\n",
       "      <td>1222</td>\n",
       "      <td>11</td>\n",
       "      <td>44</td>\n",
       "      <td>Уфа</td>\n",
       "      <td>1027.0</td>\n",
       "      <td>114.0</td>\n",
       "      <td>22.0</td>\n",
       "      <td>1950.0</td>\n",
       "      <td>ultra</td>\n",
       "    </tr>\n",
       "    <tr>\n",
       "      <td>1150</td>\n",
       "      <td>1034</td>\n",
       "      <td>9</td>\n",
       "      <td>66</td>\n",
       "      <td>Вологда</td>\n",
       "      <td>730.0</td>\n",
       "      <td>37.0</td>\n",
       "      <td>17.0</td>\n",
       "      <td>1640.0</td>\n",
       "      <td>smart</td>\n",
       "    </tr>\n",
       "    <tr>\n",
       "      <td>2616</td>\n",
       "      <td>1370</td>\n",
       "      <td>8</td>\n",
       "      <td>48</td>\n",
       "      <td>Новороссийск</td>\n",
       "      <td>123.0</td>\n",
       "      <td>0.0</td>\n",
       "      <td>19.0</td>\n",
       "      <td>1350.0</td>\n",
       "      <td>smart</td>\n",
       "    </tr>\n",
       "    <tr>\n",
       "      <td>3013</td>\n",
       "      <td>1457</td>\n",
       "      <td>7</td>\n",
       "      <td>35</td>\n",
       "      <td>Саратов</td>\n",
       "      <td>472.0</td>\n",
       "      <td>28.0</td>\n",
       "      <td>15.0</td>\n",
       "      <td>550.0</td>\n",
       "      <td>smart</td>\n",
       "    </tr>\n",
       "    <tr>\n",
       "      <td>40</td>\n",
       "      <td>1021</td>\n",
       "      <td>4</td>\n",
       "      <td>61</td>\n",
       "      <td>Краснодар</td>\n",
       "      <td>90.0</td>\n",
       "      <td>13.0</td>\n",
       "      <td>5.0</td>\n",
       "      <td>1950.0</td>\n",
       "      <td>ultra</td>\n",
       "    </tr>\n",
       "  </tbody>\n",
       "</table>\n",
       "</div>"
      ],
      "text/plain": [
       "      user_id  month  age          city  duration_ceil  message_count  \\\n",
       "377      1222     11   44           Уфа         1027.0          114.0   \n",
       "1150     1034      9   66       Вологда          730.0           37.0   \n",
       "2616     1370      8   48  Новороссийск          123.0            0.0   \n",
       "3013     1457      7   35       Саратов          472.0           28.0   \n",
       "40       1021      4   61     Краснодар           90.0           13.0   \n",
       "\n",
       "      gb_used  revenue tariff  \n",
       "377      22.0   1950.0  ultra  \n",
       "1150     17.0   1640.0  smart  \n",
       "2616     19.0   1350.0  smart  \n",
       "3013     15.0    550.0  smart  \n",
       "40        5.0   1950.0  ultra  "
      ]
     },
     "execution_count": 24,
     "metadata": {},
     "output_type": "execute_result"
    }
   ],
   "source": [
    "# создадим таблицу\n",
    "total_1 = total[[\"user_id\", 'month', 'age', \"city\",'duration_ceil', 'message_count', 'gb_used', 'revenue', 'tariff']]\n",
    "total_1.sample(5)"
   ]
  },
  {
   "cell_type": "code",
   "execution_count": 25,
   "metadata": {
    "collapsed": true
   },
   "outputs": [],
   "source": [
    "total_smart = total_1.query('tariff == \"smart\"')"
   ]
  },
  {
   "cell_type": "code",
   "execution_count": 26,
   "metadata": {
    "collapsed": true,
    "scrolled": true
   },
   "outputs": [],
   "source": [
    "total_ultra = total_1.query('tariff == \"ultra\"')"
   ]
  },
  {
   "cell_type": "code",
   "execution_count": 27,
   "metadata": {},
   "outputs": [
    {
     "name": "stdout",
     "output_type": "stream",
     "text": [
      "3216\n"
     ]
    }
   ],
   "source": [
    "# проверим что все строки попали в наши срезы\n",
    "print(len(total_smart)+len(total_ultra))"
   ]
  },
  {
   "cell_type": "markdown",
   "metadata": {},
   "source": [
    "Посчитаем помесячно и годовые среднее, дисперсию и стандартное отклонение для каждого тарифа. В задании указано сделать это для минут, сообщений и трафика, но расчитаем также эти данные для выручки, т.к. при проверке гипотез нам нужны будут именно средние значения."
   ]
  },
  {
   "cell_type": "code",
   "execution_count": 28,
   "metadata": {
    "scrolled": true
   },
   "outputs": [
    {
     "data": {
      "text/html": [
       "<div>\n",
       "<style scoped>\n",
       "    .dataframe tbody tr th:only-of-type {\n",
       "        vertical-align: middle;\n",
       "    }\n",
       "\n",
       "    .dataframe tbody tr th {\n",
       "        vertical-align: top;\n",
       "    }\n",
       "\n",
       "    .dataframe thead th {\n",
       "        text-align: right;\n",
       "    }\n",
       "</style>\n",
       "<table border=\"1\" class=\"dataframe\">\n",
       "  <thead>\n",
       "    <tr style=\"text-align: right;\">\n",
       "      <th></th>\n",
       "      <th>duration_mean</th>\n",
       "      <th>duration_std</th>\n",
       "      <th>duration_var</th>\n",
       "      <th>gb_mean</th>\n",
       "      <th>gb_std</th>\n",
       "      <th>gb_var</th>\n",
       "      <th>message_mean</th>\n",
       "      <th>message_std</th>\n",
       "      <th>message_var</th>\n",
       "      <th>revenue_mean</th>\n",
       "      <th>revenue_std</th>\n",
       "      <th>revenue_var</th>\n",
       "    </tr>\n",
       "    <tr>\n",
       "      <th>month</th>\n",
       "      <th></th>\n",
       "      <th></th>\n",
       "      <th></th>\n",
       "      <th></th>\n",
       "      <th></th>\n",
       "      <th></th>\n",
       "      <th></th>\n",
       "      <th></th>\n",
       "      <th></th>\n",
       "      <th></th>\n",
       "      <th></th>\n",
       "      <th></th>\n",
       "    </tr>\n",
       "  </thead>\n",
       "  <tbody>\n",
       "    <tr>\n",
       "      <td>1</td>\n",
       "      <td>203.852941</td>\n",
       "      <td>154.231454</td>\n",
       "      <td>23787.341355</td>\n",
       "      <td>8.735294</td>\n",
       "      <td>6.277950</td>\n",
       "      <td>39.412656</td>\n",
       "      <td>18.235294</td>\n",
       "      <td>16.197753</td>\n",
       "      <td>262.367201</td>\n",
       "      <td>721.323529</td>\n",
       "      <td>438.766641</td>\n",
       "      <td>1.925162e+05</td>\n",
       "    </tr>\n",
       "    <tr>\n",
       "      <td>2</td>\n",
       "      <td>298.689655</td>\n",
       "      <td>190.820041</td>\n",
       "      <td>36412.287961</td>\n",
       "      <td>11.844828</td>\n",
       "      <td>6.095157</td>\n",
       "      <td>37.150938</td>\n",
       "      <td>24.086207</td>\n",
       "      <td>21.750809</td>\n",
       "      <td>473.097701</td>\n",
       "      <td>827.603448</td>\n",
       "      <td>540.702011</td>\n",
       "      <td>2.923587e+05</td>\n",
       "    </tr>\n",
       "    <tr>\n",
       "      <td>3</td>\n",
       "      <td>390.051948</td>\n",
       "      <td>191.893604</td>\n",
       "      <td>36823.155161</td>\n",
       "      <td>15.233766</td>\n",
       "      <td>5.705252</td>\n",
       "      <td>32.549897</td>\n",
       "      <td>31.857143</td>\n",
       "      <td>26.804710</td>\n",
       "      <td>718.492481</td>\n",
       "      <td>1164.623377</td>\n",
       "      <td>698.025091</td>\n",
       "      <td>4.872390e+05</td>\n",
       "    </tr>\n",
       "    <tr>\n",
       "      <td>4</td>\n",
       "      <td>367.133929</td>\n",
       "      <td>186.489161</td>\n",
       "      <td>34778.207127</td>\n",
       "      <td>13.625000</td>\n",
       "      <td>5.594600</td>\n",
       "      <td>31.299550</td>\n",
       "      <td>30.741071</td>\n",
       "      <td>24.538532</td>\n",
       "      <td>602.139559</td>\n",
       "      <td>963.089286</td>\n",
       "      <td>562.064543</td>\n",
       "      <td>3.159166e+05</td>\n",
       "    </tr>\n",
       "    <tr>\n",
       "      <td>5</td>\n",
       "      <td>387.361702</td>\n",
       "      <td>186.601343</td>\n",
       "      <td>34820.061094</td>\n",
       "      <td>15.907801</td>\n",
       "      <td>5.862594</td>\n",
       "      <td>34.370010</td>\n",
       "      <td>33.773050</td>\n",
       "      <td>27.036845</td>\n",
       "      <td>730.990983</td>\n",
       "      <td>1197.510638</td>\n",
       "      <td>722.973153</td>\n",
       "      <td>5.226902e+05</td>\n",
       "    </tr>\n",
       "    <tr>\n",
       "      <td>6</td>\n",
       "      <td>395.640244</td>\n",
       "      <td>175.336587</td>\n",
       "      <td>30742.918861</td>\n",
       "      <td>15.951220</td>\n",
       "      <td>5.649046</td>\n",
       "      <td>31.911716</td>\n",
       "      <td>33.402439</td>\n",
       "      <td>28.404337</td>\n",
       "      <td>806.806374</td>\n",
       "      <td>1204.018293</td>\n",
       "      <td>745.738005</td>\n",
       "      <td>5.561252e+05</td>\n",
       "    </tr>\n",
       "    <tr>\n",
       "      <td>7</td>\n",
       "      <td>408.353234</td>\n",
       "      <td>179.583601</td>\n",
       "      <td>32250.269602</td>\n",
       "      <td>15.875622</td>\n",
       "      <td>5.780956</td>\n",
       "      <td>33.419453</td>\n",
       "      <td>33.751244</td>\n",
       "      <td>28.282288</td>\n",
       "      <td>799.887811</td>\n",
       "      <td>1223.950249</td>\n",
       "      <td>738.470208</td>\n",
       "      <td>5.453382e+05</td>\n",
       "    </tr>\n",
       "    <tr>\n",
       "      <td>8</td>\n",
       "      <td>421.468085</td>\n",
       "      <td>186.530382</td>\n",
       "      <td>34793.583379</td>\n",
       "      <td>16.736170</td>\n",
       "      <td>5.480986</td>\n",
       "      <td>30.041207</td>\n",
       "      <td>33.638298</td>\n",
       "      <td>28.952677</td>\n",
       "      <td>838.257501</td>\n",
       "      <td>1320.595745</td>\n",
       "      <td>792.224318</td>\n",
       "      <td>6.276194e+05</td>\n",
       "    </tr>\n",
       "    <tr>\n",
       "      <td>9</td>\n",
       "      <td>428.611538</td>\n",
       "      <td>183.126576</td>\n",
       "      <td>33535.342723</td>\n",
       "      <td>16.392308</td>\n",
       "      <td>5.087643</td>\n",
       "      <td>25.884110</td>\n",
       "      <td>33.638462</td>\n",
       "      <td>28.117927</td>\n",
       "      <td>790.617820</td>\n",
       "      <td>1249.946154</td>\n",
       "      <td>732.590262</td>\n",
       "      <td>5.366885e+05</td>\n",
       "    </tr>\n",
       "    <tr>\n",
       "      <td>10</td>\n",
       "      <td>426.136054</td>\n",
       "      <td>188.128510</td>\n",
       "      <td>35392.336375</td>\n",
       "      <td>16.880952</td>\n",
       "      <td>5.735594</td>\n",
       "      <td>32.897042</td>\n",
       "      <td>33.765306</td>\n",
       "      <td>28.567673</td>\n",
       "      <td>816.111966</td>\n",
       "      <td>1364.853741</td>\n",
       "      <td>842.773037</td>\n",
       "      <td>7.102664e+05</td>\n",
       "    </tr>\n",
       "    <tr>\n",
       "      <td>11</td>\n",
       "      <td>435.265823</td>\n",
       "      <td>177.778618</td>\n",
       "      <td>31605.237050</td>\n",
       "      <td>17.000000</td>\n",
       "      <td>5.213535</td>\n",
       "      <td>27.180952</td>\n",
       "      <td>34.075949</td>\n",
       "      <td>28.389031</td>\n",
       "      <td>805.937071</td>\n",
       "      <td>1343.047468</td>\n",
       "      <td>795.729727</td>\n",
       "      <td>6.331858e+05</td>\n",
       "    </tr>\n",
       "    <tr>\n",
       "      <td>12</td>\n",
       "      <td>477.144970</td>\n",
       "      <td>200.644953</td>\n",
       "      <td>40258.397319</td>\n",
       "      <td>18.147929</td>\n",
       "      <td>5.538804</td>\n",
       "      <td>30.678349</td>\n",
       "      <td>35.887574</td>\n",
       "      <td>30.594298</td>\n",
       "      <td>936.011062</td>\n",
       "      <td>1575.488166</td>\n",
       "      <td>1034.713106</td>\n",
       "      <td>1.070631e+06</td>\n",
       "    </tr>\n",
       "  </tbody>\n",
       "</table>\n",
       "</div>"
      ],
      "text/plain": [
       "       duration_mean  duration_std  duration_var    gb_mean    gb_std  \\\n",
       "month                                                                   \n",
       "1         203.852941    154.231454  23787.341355   8.735294  6.277950   \n",
       "2         298.689655    190.820041  36412.287961  11.844828  6.095157   \n",
       "3         390.051948    191.893604  36823.155161  15.233766  5.705252   \n",
       "4         367.133929    186.489161  34778.207127  13.625000  5.594600   \n",
       "5         387.361702    186.601343  34820.061094  15.907801  5.862594   \n",
       "6         395.640244    175.336587  30742.918861  15.951220  5.649046   \n",
       "7         408.353234    179.583601  32250.269602  15.875622  5.780956   \n",
       "8         421.468085    186.530382  34793.583379  16.736170  5.480986   \n",
       "9         428.611538    183.126576  33535.342723  16.392308  5.087643   \n",
       "10        426.136054    188.128510  35392.336375  16.880952  5.735594   \n",
       "11        435.265823    177.778618  31605.237050  17.000000  5.213535   \n",
       "12        477.144970    200.644953  40258.397319  18.147929  5.538804   \n",
       "\n",
       "          gb_var  message_mean  message_std  message_var  revenue_mean  \\\n",
       "month                                                                    \n",
       "1      39.412656     18.235294    16.197753   262.367201    721.323529   \n",
       "2      37.150938     24.086207    21.750809   473.097701    827.603448   \n",
       "3      32.549897     31.857143    26.804710   718.492481   1164.623377   \n",
       "4      31.299550     30.741071    24.538532   602.139559    963.089286   \n",
       "5      34.370010     33.773050    27.036845   730.990983   1197.510638   \n",
       "6      31.911716     33.402439    28.404337   806.806374   1204.018293   \n",
       "7      33.419453     33.751244    28.282288   799.887811   1223.950249   \n",
       "8      30.041207     33.638298    28.952677   838.257501   1320.595745   \n",
       "9      25.884110     33.638462    28.117927   790.617820   1249.946154   \n",
       "10     32.897042     33.765306    28.567673   816.111966   1364.853741   \n",
       "11     27.180952     34.075949    28.389031   805.937071   1343.047468   \n",
       "12     30.678349     35.887574    30.594298   936.011062   1575.488166   \n",
       "\n",
       "       revenue_std   revenue_var  \n",
       "month                             \n",
       "1       438.766641  1.925162e+05  \n",
       "2       540.702011  2.923587e+05  \n",
       "3       698.025091  4.872390e+05  \n",
       "4       562.064543  3.159166e+05  \n",
       "5       722.973153  5.226902e+05  \n",
       "6       745.738005  5.561252e+05  \n",
       "7       738.470208  5.453382e+05  \n",
       "8       792.224318  6.276194e+05  \n",
       "9       732.590262  5.366885e+05  \n",
       "10      842.773037  7.102664e+05  \n",
       "11      795.729727  6.331858e+05  \n",
       "12     1034.713106  1.070631e+06  "
      ]
     },
     "execution_count": 28,
     "metadata": {},
     "output_type": "execute_result"
    }
   ],
   "source": [
    "# сводная для тарифа смарт\n",
    "total_smart_1 = total_smart.pivot_table(index=\"month\", values=(\"duration_ceil\", \"message_count\", \"gb_used\", \"revenue\"), aggfunc=('mean', 'var', 'std'))\n",
    "total_smart_1.columns = [\"duration_mean\", \"duration_std\", \"duration_var\", \"gb_mean\", \"gb_std\", \"gb_var\", \"message_mean\", \"message_std\", \"message_var\", \"revenue_mean\", \"revenue_std\", \"revenue_var\"]\n",
    "total_smart_1"
   ]
  },
  {
   "cell_type": "code",
   "execution_count": 29,
   "metadata": {},
   "outputs": [
    {
     "data": {
      "text/plain": [
       "duration_ceil     417.747534\n",
       "message_count      33.369058\n",
       "gb_used            16.321525\n",
       "revenue          1289.641704\n",
       "dtype: float64"
      ]
     },
     "execution_count": 29,
     "metadata": {},
     "output_type": "execute_result"
    }
   ],
   "source": [
    "np.mean(total_smart[[\"duration_ceil\", \"message_count\", \"gb_used\", \"revenue\"]])"
   ]
  },
  {
   "cell_type": "code",
   "execution_count": 30,
   "metadata": {
    "scrolled": true
   },
   "outputs": [
    {
     "data": {
      "text/plain": [
       "duration_ceil     36281.393836\n",
       "message_count       796.955256\n",
       "gb_used              33.133453\n",
       "revenue          669730.763895\n",
       "dtype: float64"
      ]
     },
     "execution_count": 30,
     "metadata": {},
     "output_type": "execute_result"
    }
   ],
   "source": [
    "np.var(total_smart[[\"duration_ceil\", \"message_count\", \"gb_used\", \"revenue\"]], ddof=1)"
   ]
  },
  {
   "cell_type": "code",
   "execution_count": 31,
   "metadata": {
    "scrolled": true
   },
   "outputs": [
    {
     "data": {
      "text/plain": [
       "duration_ceil    190.476754\n",
       "message_count     28.230396\n",
       "gb_used            5.756167\n",
       "revenue          818.370799\n",
       "dtype: float64"
      ]
     },
     "execution_count": 31,
     "metadata": {},
     "output_type": "execute_result"
    }
   ],
   "source": [
    "np.std(total_smart[[\"duration_ceil\", \"message_count\", \"gb_used\", \"revenue\"]], ddof=1)"
   ]
  },
  {
   "cell_type": "markdown",
   "metadata": {},
   "source": [
    "В среднем абонентам тарифа смарт необходимо 417 мин разговора в месяц, причем эта цифра с начала года увеличилась более чем в два раза. Что касается интернета то трафик тоже значительно вырос с 8Гб в среднем в январе до 18Гб в декабре, если говорить в среднем по году то абоненту требуется 16Гб трафика, что превышаяет бесплатный лимит в 15Гб по этому тарифу. По сообщениям потребность выросла тоже почти в 2 раза, до 35 сообщений в месяц. В целом абоненты тарифа смарт укладываются в бесплатный лимит по звонкам и сообщениям, но есть тенденция к увеличению потребностей."
   ]
  },
  {
   "cell_type": "code",
   "execution_count": 32,
   "metadata": {
    "scrolled": false
   },
   "outputs": [
    {
     "data": {
      "text/html": [
       "<div>\n",
       "<style scoped>\n",
       "    .dataframe tbody tr th:only-of-type {\n",
       "        vertical-align: middle;\n",
       "    }\n",
       "\n",
       "    .dataframe tbody tr th {\n",
       "        vertical-align: top;\n",
       "    }\n",
       "\n",
       "    .dataframe thead th {\n",
       "        text-align: right;\n",
       "    }\n",
       "</style>\n",
       "<table border=\"1\" class=\"dataframe\">\n",
       "  <thead>\n",
       "    <tr style=\"text-align: right;\">\n",
       "      <th></th>\n",
       "      <th>duration_mean</th>\n",
       "      <th>duration_std</th>\n",
       "      <th>duration_var</th>\n",
       "      <th>gb_mean</th>\n",
       "      <th>gb_std</th>\n",
       "      <th>gb_var</th>\n",
       "      <th>message_mean</th>\n",
       "      <th>message_std</th>\n",
       "      <th>message_var</th>\n",
       "      <th>revenue_mean</th>\n",
       "      <th>revenue_std</th>\n",
       "      <th>revenue_var</th>\n",
       "    </tr>\n",
       "    <tr>\n",
       "      <th>month</th>\n",
       "      <th></th>\n",
       "      <th></th>\n",
       "      <th></th>\n",
       "      <th></th>\n",
       "      <th></th>\n",
       "      <th></th>\n",
       "      <th></th>\n",
       "      <th></th>\n",
       "      <th></th>\n",
       "      <th></th>\n",
       "      <th></th>\n",
       "      <th></th>\n",
       "    </tr>\n",
       "  </thead>\n",
       "  <tbody>\n",
       "    <tr>\n",
       "      <td>1</td>\n",
       "      <td>428.111111</td>\n",
       "      <td>269.757968</td>\n",
       "      <td>72769.361111</td>\n",
       "      <td>13.222222</td>\n",
       "      <td>6.666667</td>\n",
       "      <td>44.444444</td>\n",
       "      <td>33.777778</td>\n",
       "      <td>30.670742</td>\n",
       "      <td>940.694444</td>\n",
       "      <td>1950.000000</td>\n",
       "      <td>0.000000</td>\n",
       "      <td>0.000000</td>\n",
       "    </tr>\n",
       "    <tr>\n",
       "      <td>2</td>\n",
       "      <td>297.125000</td>\n",
       "      <td>296.512528</td>\n",
       "      <td>87919.679348</td>\n",
       "      <td>12.000000</td>\n",
       "      <td>10.446551</td>\n",
       "      <td>109.130435</td>\n",
       "      <td>21.958333</td>\n",
       "      <td>26.773574</td>\n",
       "      <td>716.824275</td>\n",
       "      <td>1975.000000</td>\n",
       "      <td>84.698955</td>\n",
       "      <td>7173.913043</td>\n",
       "    </tr>\n",
       "    <tr>\n",
       "      <td>3</td>\n",
       "      <td>489.648649</td>\n",
       "      <td>333.743765</td>\n",
       "      <td>111384.900901</td>\n",
       "      <td>17.648649</td>\n",
       "      <td>10.693238</td>\n",
       "      <td>114.345345</td>\n",
       "      <td>32.297297</td>\n",
       "      <td>41.621886</td>\n",
       "      <td>1732.381381</td>\n",
       "      <td>2014.864865</td>\n",
       "      <td>207.787573</td>\n",
       "      <td>43175.675676</td>\n",
       "    </tr>\n",
       "    <tr>\n",
       "      <td>4</td>\n",
       "      <td>458.018182</td>\n",
       "      <td>267.682405</td>\n",
       "      <td>71653.870034</td>\n",
       "      <td>16.963636</td>\n",
       "      <td>9.457436</td>\n",
       "      <td>89.443098</td>\n",
       "      <td>31.563636</td>\n",
       "      <td>37.513831</td>\n",
       "      <td>1407.287542</td>\n",
       "      <td>2001.818182</td>\n",
       "      <td>196.252775</td>\n",
       "      <td>38515.151515</td>\n",
       "    </tr>\n",
       "    <tr>\n",
       "      <td>5</td>\n",
       "      <td>510.328358</td>\n",
       "      <td>289.603511</td>\n",
       "      <td>83870.193578</td>\n",
       "      <td>19.373134</td>\n",
       "      <td>9.779130</td>\n",
       "      <td>95.631389</td>\n",
       "      <td>37.850746</td>\n",
       "      <td>40.306874</td>\n",
       "      <td>1624.644052</td>\n",
       "      <td>2059.701493</td>\n",
       "      <td>403.323204</td>\n",
       "      <td>162669.606513</td>\n",
       "    </tr>\n",
       "    <tr>\n",
       "      <td>6</td>\n",
       "      <td>479.702381</td>\n",
       "      <td>302.549081</td>\n",
       "      <td>91535.946500</td>\n",
       "      <td>18.940476</td>\n",
       "      <td>9.077114</td>\n",
       "      <td>82.394005</td>\n",
       "      <td>41.726190</td>\n",
       "      <td>44.567899</td>\n",
       "      <td>1986.297619</td>\n",
       "      <td>2039.285714</td>\n",
       "      <td>315.948698</td>\n",
       "      <td>99823.580034</td>\n",
       "    </tr>\n",
       "    <tr>\n",
       "      <td>7</td>\n",
       "      <td>545.791209</td>\n",
       "      <td>307.119322</td>\n",
       "      <td>94322.278144</td>\n",
       "      <td>20.505495</td>\n",
       "      <td>9.819905</td>\n",
       "      <td>96.430525</td>\n",
       "      <td>49.846154</td>\n",
       "      <td>48.703621</td>\n",
       "      <td>2372.042735</td>\n",
       "      <td>2118.131868</td>\n",
       "      <td>446.001774</td>\n",
       "      <td>198917.582418</td>\n",
       "    </tr>\n",
       "    <tr>\n",
       "      <td>8</td>\n",
       "      <td>510.775701</td>\n",
       "      <td>312.980026</td>\n",
       "      <td>97956.496385</td>\n",
       "      <td>19.598131</td>\n",
       "      <td>10.254184</td>\n",
       "      <td>105.148298</td>\n",
       "      <td>48.439252</td>\n",
       "      <td>46.601923</td>\n",
       "      <td>2171.739199</td>\n",
       "      <td>2083.177570</td>\n",
       "      <td>399.701771</td>\n",
       "      <td>159761.505907</td>\n",
       "    </tr>\n",
       "    <tr>\n",
       "      <td>9</td>\n",
       "      <td>539.443478</td>\n",
       "      <td>325.141162</td>\n",
       "      <td>105716.775286</td>\n",
       "      <td>19.243478</td>\n",
       "      <td>9.287410</td>\n",
       "      <td>86.255988</td>\n",
       "      <td>52.286957</td>\n",
       "      <td>46.398874</td>\n",
       "      <td>2152.855530</td>\n",
       "      <td>2024.347826</td>\n",
       "      <td>246.854352</td>\n",
       "      <td>60937.070938</td>\n",
       "    </tr>\n",
       "    <tr>\n",
       "      <td>10</td>\n",
       "      <td>558.081301</td>\n",
       "      <td>326.289110</td>\n",
       "      <td>106464.583500</td>\n",
       "      <td>20.065041</td>\n",
       "      <td>9.552907</td>\n",
       "      <td>91.258030</td>\n",
       "      <td>58.430894</td>\n",
       "      <td>51.934398</td>\n",
       "      <td>2697.181661</td>\n",
       "      <td>2065.853659</td>\n",
       "      <td>386.891620</td>\n",
       "      <td>149685.125950</td>\n",
       "    </tr>\n",
       "    <tr>\n",
       "      <td>11</td>\n",
       "      <td>541.380597</td>\n",
       "      <td>310.757232</td>\n",
       "      <td>96570.057064</td>\n",
       "      <td>19.805970</td>\n",
       "      <td>9.684867</td>\n",
       "      <td>93.796656</td>\n",
       "      <td>55.791045</td>\n",
       "      <td>49.768951</td>\n",
       "      <td>2476.948491</td>\n",
       "      <td>2092.164179</td>\n",
       "      <td>409.375762</td>\n",
       "      <td>167588.514196</td>\n",
       "    </tr>\n",
       "    <tr>\n",
       "      <td>12</td>\n",
       "      <td>588.571429</td>\n",
       "      <td>344.880777</td>\n",
       "      <td>118942.750257</td>\n",
       "      <td>21.585714</td>\n",
       "      <td>10.289329</td>\n",
       "      <td>105.870298</td>\n",
       "      <td>60.178571</td>\n",
       "      <td>51.854843</td>\n",
       "      <td>2688.924717</td>\n",
       "      <td>2137.500000</td>\n",
       "      <td>480.823821</td>\n",
       "      <td>231191.546763</td>\n",
       "    </tr>\n",
       "  </tbody>\n",
       "</table>\n",
       "</div>"
      ],
      "text/plain": [
       "       duration_mean  duration_std   duration_var    gb_mean     gb_std  \\\n",
       "month                                                                     \n",
       "1         428.111111    269.757968   72769.361111  13.222222   6.666667   \n",
       "2         297.125000    296.512528   87919.679348  12.000000  10.446551   \n",
       "3         489.648649    333.743765  111384.900901  17.648649  10.693238   \n",
       "4         458.018182    267.682405   71653.870034  16.963636   9.457436   \n",
       "5         510.328358    289.603511   83870.193578  19.373134   9.779130   \n",
       "6         479.702381    302.549081   91535.946500  18.940476   9.077114   \n",
       "7         545.791209    307.119322   94322.278144  20.505495   9.819905   \n",
       "8         510.775701    312.980026   97956.496385  19.598131  10.254184   \n",
       "9         539.443478    325.141162  105716.775286  19.243478   9.287410   \n",
       "10        558.081301    326.289110  106464.583500  20.065041   9.552907   \n",
       "11        541.380597    310.757232   96570.057064  19.805970   9.684867   \n",
       "12        588.571429    344.880777  118942.750257  21.585714  10.289329   \n",
       "\n",
       "           gb_var  message_mean  message_std  message_var  revenue_mean  \\\n",
       "month                                                                     \n",
       "1       44.444444     33.777778    30.670742   940.694444   1950.000000   \n",
       "2      109.130435     21.958333    26.773574   716.824275   1975.000000   \n",
       "3      114.345345     32.297297    41.621886  1732.381381   2014.864865   \n",
       "4       89.443098     31.563636    37.513831  1407.287542   2001.818182   \n",
       "5       95.631389     37.850746    40.306874  1624.644052   2059.701493   \n",
       "6       82.394005     41.726190    44.567899  1986.297619   2039.285714   \n",
       "7       96.430525     49.846154    48.703621  2372.042735   2118.131868   \n",
       "8      105.148298     48.439252    46.601923  2171.739199   2083.177570   \n",
       "9       86.255988     52.286957    46.398874  2152.855530   2024.347826   \n",
       "10      91.258030     58.430894    51.934398  2697.181661   2065.853659   \n",
       "11      93.796656     55.791045    49.768951  2476.948491   2092.164179   \n",
       "12     105.870298     60.178571    51.854843  2688.924717   2137.500000   \n",
       "\n",
       "       revenue_std    revenue_var  \n",
       "month                              \n",
       "1         0.000000       0.000000  \n",
       "2        84.698955    7173.913043  \n",
       "3       207.787573   43175.675676  \n",
       "4       196.252775   38515.151515  \n",
       "5       403.323204  162669.606513  \n",
       "6       315.948698   99823.580034  \n",
       "7       446.001774  198917.582418  \n",
       "8       399.701771  159761.505907  \n",
       "9       246.854352   60937.070938  \n",
       "10      386.891620  149685.125950  \n",
       "11      409.375762  167588.514196  \n",
       "12      480.823821  231191.546763  "
      ]
     },
     "execution_count": 32,
     "metadata": {},
     "output_type": "execute_result"
    }
   ],
   "source": [
    "# сводная для тарифа ультра\n",
    "total_ultra_1 = total_ultra.pivot_table(index=\"month\", values=(\"duration_ceil\", \"message_count\", \"gb_used\", \"revenue\"), aggfunc=('mean', 'var', 'std'))\n",
    "total_ultra_1.columns = [\"duration_mean\", \"duration_std\", \"duration_var\", \"gb_mean\", \"gb_std\", \"gb_var\", \"message_mean\", \"message_std\", \"message_var\", \"revenue_mean\", \"revenue_std\", \"revenue_var\"]\n",
    "total_ultra_1"
   ]
  },
  {
   "cell_type": "code",
   "execution_count": 33,
   "metadata": {},
   "outputs": [
    {
     "data": {
      "text/plain": [
       "duration_ceil     526.089249\n",
       "message_count      49.313387\n",
       "gb_used            19.474645\n",
       "revenue          2070.030426\n",
       "dtype: float64"
      ]
     },
     "execution_count": 33,
     "metadata": {},
     "output_type": "execute_result"
    }
   ],
   "source": [
    "np.mean(total_ultra[[\"duration_ceil\", \"message_count\", \"gb_used\", \"revenue\"]])"
   ]
  },
  {
   "cell_type": "code",
   "execution_count": 34,
   "metadata": {
    "scrolled": true
   },
   "outputs": [
    {
     "data": {
      "text/plain": [
       "duration_ceil    101052.493549\n",
       "message_count      2285.417425\n",
       "gb_used              97.378544\n",
       "revenue          141387.714809\n",
       "dtype: float64"
      ]
     },
     "execution_count": 34,
     "metadata": {},
     "output_type": "execute_result"
    }
   ],
   "source": [
    "np.var(total_ultra[[\"duration_ceil\", \"message_count\", \"gb_used\", \"revenue\"]], ddof=1)"
   ]
  },
  {
   "cell_type": "code",
   "execution_count": 35,
   "metadata": {},
   "outputs": [
    {
     "data": {
      "text/plain": [
       "duration_ceil    317.887549\n",
       "message_count     47.806040\n",
       "gb_used            9.868057\n",
       "revenue          376.015578\n",
       "dtype: float64"
      ]
     },
     "execution_count": 35,
     "metadata": {},
     "output_type": "execute_result"
    }
   ],
   "source": [
    "np.std(total_ultra[[\"duration_ceil\", \"message_count\", \"gb_used\", \"revenue\"]], ddof=1)"
   ]
  },
  {
   "cell_type": "markdown",
   "metadata": {},
   "source": [
    "Абоненты тарифа Ультра тоже стали больше звонить, но количество минут выросло не так стремительно, как в тарифе Смарт (с 428минут в январе до 588минут в декабре). Среднемесячное количество выговоренных минут за год - 526мин. По трафику видим что абоненты также чаще стали пользоваться интернетом(с 13Гб в начале года до 21,5Гб в конце). Почти в два раза увеличилось среднемесячное количество отправленных смс(до 60смс в месяц в конце года)."
   ]
  },
  {
   "cell_type": "markdown",
   "metadata": {},
   "source": [
    "### Графики"
   ]
  },
  {
   "cell_type": "markdown",
   "metadata": {},
   "source": [
    "Картина по средним показателям в целом ясна, но нужно проверить есть ли в наших данных выбросы, т.к.они могут сильно искажать картину."
   ]
  },
  {
   "cell_type": "code",
   "execution_count": 36,
   "metadata": {},
   "outputs": [
    {
     "data": {
      "image/png": "[encoded data removed]",
      "text/plain": [
       "<Figure size 1008x504 with 3 Axes>"
      ]
     },
     "metadata": {
      "needs_background": "light"
     },
     "output_type": "display_data"
    }
   ],
   "source": [
    "# построим боксплоты\n",
    "fig, (ax1, ax2, ax3) = plt.subplots(nrows=1, ncols=3, figsize=(14,7))\n",
    "\n",
    "ax1.boxplot(total_smart[\"duration_ceil\"])\n",
    "ax1.set_title(\"Минуты тарифа смарт\")\n",
    "ax1.grid()\n",
    "ax2.boxplot(total_smart[\"message_count\"])\n",
    "ax2.set_title(\"Сообщения тарифа смарт\")\n",
    "ax2.grid()\n",
    "ax3.boxplot(total_smart[\"gb_used\"])\n",
    "ax3.set_title(\"Трафик тарифа смарт\")\n",
    "ax3.grid()"
   ]
  },
  {
   "cell_type": "markdown",
   "metadata": {
    "collapsed": true
   },
   "source": [
    "Выбросы есть, но они в целом не искажают картину, поэтому будем считать среднее удачным показателем для характеристики поведения абонентов тарифа Смарт.\n",
    "\n",
    "Посмотрим на выбросы в выборке тарифа Ультра."
   ]
  },
  {
   "cell_type": "code",
   "execution_count": 37,
   "metadata": {},
   "outputs": [
    {
     "data": {
      "image/png": "[encoded data removed]",
      "text/plain": [
       "<Figure size 1008x504 with 3 Axes>"
      ]
     },
     "metadata": {
      "needs_background": "light"
     },
     "output_type": "display_data"
    }
   ],
   "source": [
    "# построим боксплоты\n",
    "fig, (ax1, ax2, ax3) = plt.subplots(nrows=1, ncols=3, figsize=(14,7))\n",
    "\n",
    "ax1.boxplot(total_ultra[\"duration_ceil\"])\n",
    "ax1.set_title(\"Минуты тарифа ультра\")\n",
    "ax1.grid()\n",
    "ax2.boxplot(total_ultra[\"message_count\"])\n",
    "ax2.set_title(\"Сообщения тарифа ультра\")\n",
    "ax2.grid()\n",
    "ax3.boxplot(total_ultra[\"gb_used\"])\n",
    "ax3.set_title(\"Трафик тарифа ультра\")\n",
    "ax3.grid()"
   ]
  },
  {
   "cell_type": "markdown",
   "metadata": {
    "collapsed": true
   },
   "source": [
    "Тоже картина вцелом хорошая. Выбросов очень мало."
   ]
  },
  {
   "cell_type": "markdown",
   "metadata": {},
   "source": [
    "Построим гистограммы и посмотрим частоту распределения абонентов по объему выбраных услуг."
   ]
  },
  {
   "cell_type": "code",
   "execution_count": 38,
   "metadata": {
    "scrolled": true
   },
   "outputs": [
    {
     "data": {
      "image/png": "[encoded data removed]",
      "text/plain": [
       "<Figure size 432x288 with 1 Axes>"
      ]
     },
     "metadata": {
      "needs_background": "light"
     },
     "output_type": "display_data"
    }
   ],
   "source": [
    "# совмещенная гистограмма для минут\n",
    "plt.hist(total_smart[\"duration_ceil\"], label=\"smart\", alpha=0.5, bins=30);\n",
    "plt.hist(total_ultra[\"duration_ceil\"], label=\"ultra\", alpha=0.4, bins=30);\n",
    "\n",
    "plt.xlabel(\"минуты\")\n",
    "plt.ylabel(\"частота\")\n",
    "plt.title(\"Распределение минут для обоих тарифов\")\n",
    "plt.grid()\n",
    "plt.legend()\n",
    "plt.show();"
   ]
  },
  {
   "cell_type": "markdown",
   "metadata": {},
   "source": [
    "Основная масса абонентов тарифа Смарт укладывается в бесплатные 500мин, что подтверждает и расчет среднего. В тарифе Ультра абоненты тоже тратят в целом до 750мин в месяц при лимите в 3000мин. "
   ]
  },
  {
   "cell_type": "code",
   "execution_count": 39,
   "metadata": {},
   "outputs": [
    {
     "data": {
      "image/png": "[encoded data removed]",
      "text/plain": [
       "<Figure size 432x288 with 1 Axes>"
      ]
     },
     "metadata": {
      "needs_background": "light"
     },
     "output_type": "display_data"
    }
   ],
   "source": [
    "# совмещенная гистограмма по сообщениям\n",
    "plt.hist(total_smart[\"message_count\"], label=\"smart\", alpha=0.5, bins=30);\n",
    "plt.hist(total_ultra[\"message_count\"], label=\"ultra\", alpha=0.4, bins=30);\n",
    "\n",
    "plt.xlabel(\"сообщения\")\n",
    "plt.ylabel(\"частота\")\n",
    "plt.title(\"Распределение сообщений для обоих тарифов\")\n",
    "plt.grid()\n",
    "plt.legend()\n",
    "plt.show();"
   ]
  },
  {
   "cell_type": "markdown",
   "metadata": {},
   "source": [
    "На гистограмме видно, что есть много абонентов, которые отправляют мало сообщений. Причем в обоих тарифах."
   ]
  },
  {
   "cell_type": "code",
   "execution_count": 40,
   "metadata": {},
   "outputs": [
    {
     "data": {
      "image/png": "[encoded data removed]",
      "text/plain": [
       "<Figure size 432x288 with 1 Axes>"
      ]
     },
     "metadata": {
      "needs_background": "light"
     },
     "output_type": "display_data"
    }
   ],
   "source": [
    "# совмещенная гистограмма по трафику\n",
    "plt.hist(total_smart[\"gb_used\"], label=\"smart\", alpha=0.5, bins=15);\n",
    "plt.hist(total_ultra[\"gb_used\"], label=\"ultra\", alpha=0.4, bins=15);\n",
    "\n",
    "plt.xlabel(\"гигабайты\")\n",
    "plt.ylabel(\"частота\")\n",
    "plt.title(\"Распределение трафика для обоих тарифов\")\n",
    "plt.grid()\n",
    "plt.legend()\n",
    "plt.show();"
   ]
  },
  {
   "cell_type": "markdown",
   "metadata": {},
   "source": [
    "Как видим абоненты тарифа Смарт превышают бесплатный лимит в 15Гб, тогда как большая часть абонентов Ультра свои 30Гб даже не выбирают."
   ]
  },
  {
   "cell_type": "markdown",
   "metadata": {},
   "source": [
    "### Дополнительное исследование"
   ]
  },
  {
   "cell_type": "markdown",
   "metadata": {},
   "source": [
    "В условии не прямо не указано исследовать выручку, но как мне кажется это для компании будет интересно."
   ]
  },
  {
   "cell_type": "code",
   "execution_count": 41,
   "metadata": {},
   "outputs": [
    {
     "data": {
      "image/png": "[encoded data removed]",
      "text/plain": [
       "<Figure size 432x288 with 1 Axes>"
      ]
     },
     "metadata": {
      "needs_background": "light"
     },
     "output_type": "display_data"
    }
   ],
   "source": [
    "# совмещенная гистограмма по выручке\n",
    "plt.hist(total_smart[\"revenue\"], label=\"smart\", alpha=0.5, bins=50);\n",
    "plt.hist(total_ultra[\"revenue\"], label=\"ultra\", alpha=0.4, bins=50);\n",
    "\n",
    "plt.xlabel(\"выручка\")\n",
    "plt.ylabel(\"частота\")\n",
    "plt.title(\"Распределение выручки для обоих тарифов\")\n",
    "plt.grid()\n",
    "plt.legend()\n",
    "plt.show();"
   ]
  },
  {
   "cell_type": "markdown",
   "metadata": {},
   "source": [
    "Большинство абонентов тарифа Ультра платят только абонплату(высокий пик на отметке 1950р), по Смарту тоже есть пик на уровне абонплаты - 550р, но многие абоненты этого тарифа все же переплачивают."
   ]
  },
  {
   "cell_type": "markdown",
   "metadata": {},
   "source": [
    "### Вывод"
   ]
  },
  {
   "cell_type": "markdown",
   "metadata": {},
   "source": [
    "В среднем абонентам тарифа ультра необходимо 417 мин разговора в месяц, причем эта цифра с начала года увеличилась более чем в два раза. Получается абоненты этого тарифа укладываются в бесплатный лимит. Что касается интернета то трафик тоже значительно вырос с 8Гб в среднем в январе до 18Гб в декабре, если говорить по году то абоненту требуется 16Гб трафика, что превышаяет бесплатный лимит в 15Гб по этому тарифу. По сообщениям потребность выросла тоже почти в 2 раза, до 35 сообщений в месяц. В целом абоненты тарифа смарт укладываются в бесплатный лимит по звонкам и сообщениям, но есть тенденция к увеличению потребностей.\n",
    "Абоненты тарифа Ультра тоже стали больше звонить, но количество минут выросло не так стремительно, как в тарифе Смарт (с 428минут в январе до 588минут в декабре). Странный провал по среднему количеству минут в феврале в этом тарифе. Среднемесячное количество выговоренных минут за год - 526мин. Это при том что бесплатный месячный объем - 3000мин!!! По трафику видим, что абоненты также чаще стали пользоваться интернетом(с 13Гб в начале года до 21,5Гб в конце). Почти в два раза увеличилось среднемесячное количество отправленных смс(до 60смс в месяц в конце года). \n",
    "По выручке можно сказать, что абоненты тарифа Ультра в основном платят только абонплату, в то время как абоненты тарифа Смарт часто превышают лимит трафика и поэтому должны доплачивать."
   ]
  },
  {
   "cell_type": "markdown",
   "metadata": {},
   "source": [
    "## Проверка гипотез"
   ]
  },
  {
   "cell_type": "markdown",
   "metadata": {},
   "source": [
    "На данном этапе нам нужно проверить 2 гипотезы:\n",
    "- средняя выручка пользователей тарифов «Ультра» и «Смарт» различаются;\n",
    "- средняя выручка пользователей из Москвы отличается от выручки пользователей из других регионов.\n",
    "\n",
    "Пороговое значение alpha задайте самостоятельно.\n",
    "А так же пояснить как формулировали нулевую и альтернативную гипотезы; какой критерий использовали для проверки гипотез и почему."
   ]
  },
  {
   "cell_type": "markdown",
   "metadata": {},
   "source": [
    "### Гипотеза о различии средних выручек"
   ]
  },
  {
   "cell_type": "markdown",
   "metadata": {
    "collapsed": true
   },
   "source": [
    "Посчитаем для начала равные ли у нас дисперсии для выборок"
   ]
  },
  {
   "cell_type": "code",
   "execution_count": 42,
   "metadata": {},
   "outputs": [
    {
     "name": "stdout",
     "output_type": "stream",
     "text": [
      "Дисперсия по тарифу Смарт: 669430.4361979931\n",
      "Дисперсия по тарифу Ультра: 141244.31956107615\n"
     ]
    }
   ],
   "source": [
    "print(\"Дисперсия по тарифу Смарт:\", np.var(total_smart[\"revenue\"]))\n",
    "print(\"Дисперсия по тарифу Ультра:\", np.var(total_ultra[\"revenue\"]))"
   ]
  },
  {
   "cell_type": "markdown",
   "metadata": {},
   "source": [
    "Дисперсии отличаются почти в 5 раз поэтому параметр `equal_var` поставим `False`.\n",
    "\n",
    "`alpha` выберем равным **0,05**, т.к.мне кажется, для этой ситуации сверхточность нам ни к чему.\n",
    "\n",
    "Теперь нужно сформулировать нулевую и альтернативную гипотезу.\n",
    "Т.к.по теории мы знаем, что нулевая гипотеза всегда формулируется так, чтобы использовать знак равенства она будет звучать так: **\"Средняя выручка пользователей тарифов Смарт и Ультра равны\"**. Альтернативная гипотеза: **\"Средняя выручка пользователей тарифов Смарт и Ультра различаются\"**. Так как мы не знаем в какую сторону проверять различие тест будет двухсторонним."
   ]
  },
  {
   "cell_type": "code",
   "execution_count": 43,
   "metadata": {},
   "outputs": [
    {
     "name": "stdout",
     "output_type": "stream",
     "text": [
      "p-значение: 1.927011394420941e-250\n",
      "Отвергаем нулевую гипотезу\n"
     ]
    }
   ],
   "source": [
    "alpha = 0.05\n",
    "results = st.ttest_ind(\n",
    "    total_smart[\"revenue\"], \n",
    "    total_ultra[\"revenue\"], equal_var=False)\n",
    "\n",
    "print('p-значение:', results.pvalue)\n",
    "if results.pvalue < alpha: \n",
    "    print(\"Отвергаем нулевую гипотезу\")\n",
    "else:\n",
    "    print(\"Не получилось отвергнуть нулевую гипотезу\")"
   ]
  },
  {
   "cell_type": "markdown",
   "metadata": {},
   "source": [
    "Нулевая гипотеза о равенстве двух выручек не подтвердилась, поэтому принимаем альтернативную гипотезу, о различии средних выручек. Средняя выручка пользователей тарифов Смарт и Ультра **различаются**."
   ]
  },
  {
   "cell_type": "markdown",
   "metadata": {},
   "source": [
    "### Гипотеза о различии средней выручки пользователей Москвы и других регионов"
   ]
  },
  {
   "cell_type": "markdown",
   "metadata": {
    "collapsed": true
   },
   "source": [
    "Вторая гипотеза. которую нужно проверить звучит так: \"средняя выручка пользователей из Москвы отличается от выручки пользователей из других регионов\".\n",
    "\n",
    "`alpha` оставим на уровне **0.05**.\n",
    "\n",
    "У нас нет данных отдельно по Москве и остальным городам, чтобы расчитать средние выручки. поэтому сначала сделаем срезы."
   ]
  },
  {
   "cell_type": "code",
   "execution_count": 44,
   "metadata": {},
   "outputs": [
    {
     "name": "stdout",
     "output_type": "stream",
     "text": [
      "3216\n"
     ]
    }
   ],
   "source": [
    "total_moscow = total_1.query('city == \"Москва\"')\n",
    "total_other = total_1.query('city != \"Москва\"')\n",
    "\n",
    "# проверим что все строки попали в наши срезы\n",
    "print(len(total_moscow)+len(total_other))"
   ]
  },
  {
   "cell_type": "code",
   "execution_count": 45,
   "metadata": {
    "scrolled": true
   },
   "outputs": [
    {
     "name": "stdout",
     "output_type": "stream",
     "text": [
      "Дисперсия по Москве: 564710.7117467273\n",
      "Дисперсия по другим городам: 653818.4925923498\n"
     ]
    }
   ],
   "source": [
    "print(\"Дисперсия по Москве:\", np.var(total_moscow[\"revenue\"]))\n",
    "print(\"Дисперсия по другим городам:\", np.var(total_other[\"revenue\"]))"
   ]
  },
  {
   "cell_type": "markdown",
   "metadata": {},
   "source": [
    "   Как видим дисперсия отличается не сильно. поэтому параметр `equal_var` указывать не будем(по умолчанию он принимает значение `True`)"
   ]
  },
  {
   "cell_type": "markdown",
   "metadata": {},
   "source": [
    "Осталось сформулировать нулевую и альтернативную гипотезу. Нулевая гипотеза будет звучать так: **\"средняя выручка пользователей из Москвы равна выручке пользователей из других регионов\"**. Альтернативная тогда - **\"средние выручки по Москве и регионам отличаются\"**."
   ]
  },
  {
   "cell_type": "code",
   "execution_count": 46,
   "metadata": {},
   "outputs": [
    {
     "name": "stdout",
     "output_type": "stream",
     "text": [
      "p-значение: 0.5400751614511182\n",
      "Не получилось отвергнуть нулевую гипотезу\n"
     ]
    }
   ],
   "source": [
    "alpha = 0.05\n",
    "results = st.ttest_ind(\n",
    "    total_moscow[\"revenue\"], \n",
    "    total_other[\"revenue\"])\n",
    "\n",
    "print('p-значение:', results.pvalue)\n",
    "if results.pvalue < alpha: \n",
    "    print(\"Отвергаем нулевую гипотезу\")\n",
    "else:\n",
    "    print(\"Не получилось отвергнуть нулевую гипотезу\")"
   ]
  },
  {
   "cell_type": "markdown",
   "metadata": {},
   "source": [
    "Мы не можем отвергнуть нулевую гипотезу. Полученный результат говорит о том, что средние значения выручки статистически значимо **не отличаются**."
   ]
  },
  {
   "cell_type": "markdown",
   "metadata": {},
   "source": [
    "### Вывод"
   ]
  },
  {
   "cell_type": "markdown",
   "metadata": {},
   "source": [
    "Мы проверили две гипотезы. По итогам можем сказать, что средние выручки разных тарифов статистически значимо различаются, а средние выручки абонентов Москвы и других регионов - нет."
   ]
  },
  {
   "cell_type": "markdown",
   "metadata": {},
   "source": [
    "## Общий вывод"
   ]
  },
  {
   "cell_type": "markdown",
   "metadata": {},
   "source": [
    "На входе мы получили 4 таблицы с данными о 500-х абонентах оператора \"Мегалайн\" и о совершенных ими действиях(звонках, сообщениях, трафике интернета). В пятой таблице хранятся данные о тарифах оператора - Смарт и Ультра.\n",
    "\n",
    "**Размер анализируемых групп:**\n",
    "- smart    351 чел\n",
    "- ultra    149 чел\n",
    "\n",
    "Данные в основном поступили в чистом виде. На этапе предобработки мы лишь заменили тип данных в нескольких столбцах с датами, удалили ненужный столбец из таблицы internet.\n",
    "\n",
    "**Результаты анализа:**\n",
    "- Абоненты тарифа Смарт часто переплачивают за счет того, что им нехватает бесплатного лимита по интернету.\n",
    "- Абоненты тарифа Ультра в основном платят только абонплату, т.к.укладываются в бесплатные лимиты.\n",
    "- Смс - непопулярная ныне услуга. Многие либо вообще не пользуются ею, либо очень редко.\n",
    "- Вобщем заметна тенденция к увеличению количества потребляемых услуг для обоих тарифов, но для тарифа Смарт быстрее.\n",
    "- Возможно некоторым абонентам тарифа Ультра было бы даже выгодно перейти на тариф Смарт, т.к. средние показатели лежат не так далеко от лимитов этого тарифа.\n",
    "\n",
    "**Результаты проверки гипотез:**\n",
    "- Средняя выручка пользователей тарифов Смарт и Ультра статистически значимо **различаются**.\n",
    "- Средняя выручка пользователей из Москвы и других регионов статистически значимо **не различаются**.\n",
    "\n",
    "**Рекомендации:**\n",
    "\n",
    "Коммерческому отделу стоит скорректировать рекламный бюджет в сторону тарифа Смарт, т.к.он более выгоден для абонентов в плане привлекательности абонплаты, при этом он приносит больше выручки, т.к.абоненты часто переплачивают сверх лимита за счет трафика."
   ]
  }
 ],
 "metadata": {
  "ExecuteTimeLog": [
   {
    "duration": 336,
    "start_time": "2022-02-07T05:35:02.795Z"
   },
   {
    "duration": 1366,
    "start_time": "2022-02-07T05:35:22.322Z"
   },
   {
    "duration": 679,
    "start_time": "2022-02-07T05:35:23.690Z"
   },
   {
    "duration": 4,
    "start_time": "2022-02-07T05:35:24.372Z"
   },
   {
    "duration": 87,
    "start_time": "2022-02-07T05:35:24.379Z"
   },
   {
    "duration": 75,
    "start_time": "2022-02-07T05:35:24.469Z"
   },
   {
    "duration": 38,
    "start_time": "2022-02-07T05:35:24.547Z"
   },
   {
    "duration": 15,
    "start_time": "2022-02-07T05:35:24.587Z"
   },
   {
    "duration": 45,
    "start_time": "2022-02-07T05:35:24.606Z"
   },
   {
    "duration": 6,
    "start_time": "2022-02-07T05:35:24.654Z"
   },
   {
    "duration": 24,
    "start_time": "2022-02-07T05:35:24.662Z"
   },
   {
    "duration": 127,
    "start_time": "2022-02-07T05:35:24.689Z"
   },
   {
    "duration": 24,
    "start_time": "2022-02-07T05:35:24.819Z"
   },
   {
    "duration": 99,
    "start_time": "2022-02-07T05:35:24.845Z"
   },
   {
    "duration": 33,
    "start_time": "2022-02-07T05:35:24.946Z"
   },
   {
    "duration": 25,
    "start_time": "2022-02-07T05:35:24.981Z"
   },
   {
    "duration": 28,
    "start_time": "2022-02-07T05:35:25.032Z"
   },
   {
    "duration": 23,
    "start_time": "2022-02-07T05:35:25.063Z"
   },
   {
    "duration": 77,
    "start_time": "2022-02-07T05:35:25.088Z"
   },
   {
    "duration": 8,
    "start_time": "2022-02-07T05:35:25.168Z"
   },
   {
    "duration": 68,
    "start_time": "2022-02-07T05:35:25.179Z"
   },
   {
    "duration": 21,
    "start_time": "2022-02-07T05:35:25.251Z"
   },
   {
    "duration": 23,
    "start_time": "2022-02-07T05:35:25.275Z"
   },
   {
    "duration": 24,
    "start_time": "2022-02-07T05:35:25.336Z"
   },
   {
    "duration": 37,
    "start_time": "2022-02-07T05:35:25.363Z"
   },
   {
    "duration": 63,
    "start_time": "2022-02-07T05:35:25.403Z"
   },
   {
    "duration": 11,
    "start_time": "2022-02-07T05:35:25.469Z"
   },
   {
    "duration": 52,
    "start_time": "2022-02-07T05:35:25.483Z"
   },
   {
    "duration": 11,
    "start_time": "2022-02-07T05:35:25.538Z"
   },
   {
    "duration": 11,
    "start_time": "2022-02-07T05:35:25.551Z"
   },
   {
    "duration": 399,
    "start_time": "2022-02-07T05:35:25.564Z"
   },
   {
    "duration": 75,
    "start_time": "2022-02-07T05:37:31.802Z"
   },
   {
    "duration": 47,
    "start_time": "2022-02-07T05:38:06.301Z"
   },
   {
    "duration": 44,
    "start_time": "2022-02-07T05:38:58.559Z"
   },
   {
    "duration": 27,
    "start_time": "2022-02-07T05:44:05.703Z"
   },
   {
    "duration": 1361,
    "start_time": "2022-02-07T05:49:54.010Z"
   },
   {
    "duration": 681,
    "start_time": "2022-02-07T05:49:55.373Z"
   },
   {
    "duration": 3,
    "start_time": "2022-02-07T05:49:56.057Z"
   },
   {
    "duration": 82,
    "start_time": "2022-02-07T05:49:56.063Z"
   },
   {
    "duration": 86,
    "start_time": "2022-02-07T05:49:56.148Z"
   },
   {
    "duration": 45,
    "start_time": "2022-02-07T05:49:56.236Z"
   },
   {
    "duration": 17,
    "start_time": "2022-02-07T05:49:56.284Z"
   },
   {
    "duration": 37,
    "start_time": "2022-02-07T05:49:56.332Z"
   },
   {
    "duration": 6,
    "start_time": "2022-02-07T05:49:56.373Z"
   },
   {
    "duration": 67,
    "start_time": "2022-02-07T05:49:56.382Z"
   },
   {
    "duration": 109,
    "start_time": "2022-02-07T05:49:56.452Z"
   },
   {
    "duration": 92,
    "start_time": "2022-02-07T05:49:56.564Z"
   },
   {
    "duration": 31,
    "start_time": "2022-02-07T05:49:56.659Z"
   },
   {
    "duration": 51,
    "start_time": "2022-02-07T05:49:56.693Z"
   },
   {
    "duration": 29,
    "start_time": "2022-02-07T05:49:56.746Z"
   },
   {
    "duration": 23,
    "start_time": "2022-02-07T05:49:56.777Z"
   },
   {
    "duration": 41,
    "start_time": "2022-02-07T05:49:56.803Z"
   },
   {
    "duration": 49,
    "start_time": "2022-02-07T05:49:56.846Z"
   },
   {
    "duration": 7477,
    "start_time": "2022-02-07T05:49:56.897Z"
   },
   {
    "duration": -2,
    "start_time": "2022-02-07T05:50:04.379Z"
   },
   {
    "duration": -8,
    "start_time": "2022-02-07T05:50:04.387Z"
   },
   {
    "duration": -10,
    "start_time": "2022-02-07T05:50:04.390Z"
   },
   {
    "duration": -11,
    "start_time": "2022-02-07T05:50:04.393Z"
   },
   {
    "duration": -12,
    "start_time": "2022-02-07T05:50:04.395Z"
   },
   {
    "duration": -13,
    "start_time": "2022-02-07T05:50:04.397Z"
   },
   {
    "duration": -14,
    "start_time": "2022-02-07T05:50:04.400Z"
   },
   {
    "duration": -15,
    "start_time": "2022-02-07T05:50:04.402Z"
   },
   {
    "duration": -16,
    "start_time": "2022-02-07T05:50:04.404Z"
   },
   {
    "duration": -17,
    "start_time": "2022-02-07T05:50:04.407Z"
   },
   {
    "duration": -18,
    "start_time": "2022-02-07T05:50:04.409Z"
   },
   {
    "duration": 70,
    "start_time": "2022-02-07T05:52:15.289Z"
   },
   {
    "duration": 1304,
    "start_time": "2022-02-07T05:53:20.685Z"
   },
   {
    "duration": 672,
    "start_time": "2022-02-07T05:53:21.992Z"
   },
   {
    "duration": 4,
    "start_time": "2022-02-07T05:53:22.667Z"
   },
   {
    "duration": 81,
    "start_time": "2022-02-07T05:53:22.674Z"
   },
   {
    "duration": 89,
    "start_time": "2022-02-07T05:53:22.757Z"
   },
   {
    "duration": 43,
    "start_time": "2022-02-07T05:53:22.849Z"
   },
   {
    "duration": 38,
    "start_time": "2022-02-07T05:53:22.894Z"
   },
   {
    "duration": 37,
    "start_time": "2022-02-07T05:53:22.936Z"
   },
   {
    "duration": 6,
    "start_time": "2022-02-07T05:53:22.976Z"
   },
   {
    "duration": 63,
    "start_time": "2022-02-07T05:53:22.984Z"
   },
   {
    "duration": 112,
    "start_time": "2022-02-07T05:53:23.050Z"
   },
   {
    "duration": 94,
    "start_time": "2022-02-07T05:53:23.165Z"
   },
   {
    "duration": 33,
    "start_time": "2022-02-07T05:53:23.261Z"
   },
   {
    "duration": 50,
    "start_time": "2022-02-07T05:53:23.296Z"
   },
   {
    "duration": 27,
    "start_time": "2022-02-07T05:53:23.349Z"
   },
   {
    "duration": 23,
    "start_time": "2022-02-07T05:53:23.378Z"
   },
   {
    "duration": 87,
    "start_time": "2022-02-07T05:53:23.404Z"
   },
   {
    "duration": 15,
    "start_time": "2022-02-07T05:53:23.494Z"
   },
   {
    "duration": 42,
    "start_time": "2022-02-07T05:53:23.511Z"
   },
   {
    "duration": 9,
    "start_time": "2022-02-07T05:53:23.555Z"
   },
   {
    "duration": 73,
    "start_time": "2022-02-07T05:53:23.567Z"
   },
   {
    "duration": 19,
    "start_time": "2022-02-07T05:53:23.642Z"
   },
   {
    "duration": 20,
    "start_time": "2022-02-07T05:53:23.666Z"
   },
   {
    "duration": 48,
    "start_time": "2022-02-07T05:53:23.688Z"
   },
   {
    "duration": 35,
    "start_time": "2022-02-07T05:53:23.739Z"
   },
   {
    "duration": 61,
    "start_time": "2022-02-07T05:53:23.776Z"
   },
   {
    "duration": 8,
    "start_time": "2022-02-07T05:53:23.839Z"
   },
   {
    "duration": 9,
    "start_time": "2022-02-07T05:53:23.850Z"
   },
   {
    "duration": 9,
    "start_time": "2022-02-07T05:53:23.861Z"
   },
   {
    "duration": 10,
    "start_time": "2022-02-07T05:53:23.872Z"
   },
   {
    "duration": 412,
    "start_time": "2022-02-07T05:53:23.884Z"
   },
   {
    "duration": 11,
    "start_time": "2022-02-07T05:54:54.019Z"
   },
   {
    "duration": 11,
    "start_time": "2022-02-07T05:55:01.850Z"
   },
   {
    "duration": 26,
    "start_time": "2022-02-07T05:55:25.618Z"
   },
   {
    "duration": 1313,
    "start_time": "2022-02-07T05:55:49.267Z"
   },
   {
    "duration": 670,
    "start_time": "2022-02-07T05:55:50.585Z"
   },
   {
    "duration": 4,
    "start_time": "2022-02-07T05:55:51.258Z"
   },
   {
    "duration": 86,
    "start_time": "2022-02-07T05:55:51.264Z"
   },
   {
    "duration": 85,
    "start_time": "2022-02-07T05:55:51.353Z"
   },
   {
    "duration": 44,
    "start_time": "2022-02-07T05:55:51.441Z"
   },
   {
    "duration": 16,
    "start_time": "2022-02-07T05:55:51.487Z"
   },
   {
    "duration": 36,
    "start_time": "2022-02-07T05:55:51.533Z"
   },
   {
    "duration": 6,
    "start_time": "2022-02-07T05:55:51.572Z"
   },
   {
    "duration": 61,
    "start_time": "2022-02-07T05:55:51.580Z"
   },
   {
    "duration": 101,
    "start_time": "2022-02-07T05:55:51.644Z"
   },
   {
    "duration": 97,
    "start_time": "2022-02-07T05:55:51.748Z"
   },
   {
    "duration": 32,
    "start_time": "2022-02-07T05:55:51.848Z"
   },
   {
    "duration": 51,
    "start_time": "2022-02-07T05:55:51.882Z"
   },
   {
    "duration": 29,
    "start_time": "2022-02-07T05:55:51.936Z"
   },
   {
    "duration": 24,
    "start_time": "2022-02-07T05:55:51.967Z"
   },
   {
    "duration": 90,
    "start_time": "2022-02-07T05:55:51.994Z"
   },
   {
    "duration": 16,
    "start_time": "2022-02-07T05:55:52.086Z"
   },
   {
    "duration": 57,
    "start_time": "2022-02-07T05:55:52.104Z"
   },
   {
    "duration": 10,
    "start_time": "2022-02-07T05:55:52.165Z"
   },
   {
    "duration": 79,
    "start_time": "2022-02-07T05:55:52.178Z"
   },
   {
    "duration": 22,
    "start_time": "2022-02-07T05:55:52.260Z"
   },
   {
    "duration": 50,
    "start_time": "2022-02-07T05:55:52.285Z"
   },
   {
    "duration": 21,
    "start_time": "2022-02-07T05:55:52.337Z"
   },
   {
    "duration": 35,
    "start_time": "2022-02-07T05:55:52.361Z"
   },
   {
    "duration": 60,
    "start_time": "2022-02-07T05:55:52.400Z"
   },
   {
    "duration": 9,
    "start_time": "2022-02-07T05:55:52.463Z"
   },
   {
    "duration": 8,
    "start_time": "2022-02-07T05:55:52.475Z"
   },
   {
    "duration": 46,
    "start_time": "2022-02-07T05:55:52.486Z"
   },
   {
    "duration": 9,
    "start_time": "2022-02-07T05:55:52.535Z"
   },
   {
    "duration": 369,
    "start_time": "2022-02-07T05:55:52.547Z"
   },
   {
    "duration": 10,
    "start_time": "2022-02-07T05:58:32.558Z"
   },
   {
    "duration": 48,
    "start_time": "2022-02-07T05:59:52.772Z"
   },
   {
    "duration": 51,
    "start_time": "2022-02-07T06:00:51.012Z"
   },
   {
    "duration": 30,
    "start_time": "2022-02-07T06:02:54.125Z"
   },
   {
    "duration": 35,
    "start_time": "2022-02-07T06:03:29.127Z"
   },
   {
    "duration": 14,
    "start_time": "2022-02-07T06:08:30.942Z"
   },
   {
    "duration": 137,
    "start_time": "2022-02-07T06:11:22.205Z"
   },
   {
    "duration": 1304,
    "start_time": "2022-02-07T06:11:51.678Z"
   },
   {
    "duration": 665,
    "start_time": "2022-02-07T06:11:52.985Z"
   },
   {
    "duration": 3,
    "start_time": "2022-02-07T06:11:53.653Z"
   },
   {
    "duration": 82,
    "start_time": "2022-02-07T06:11:53.659Z"
   },
   {
    "duration": 66,
    "start_time": "2022-02-07T06:11:53.743Z"
   },
   {
    "duration": 48,
    "start_time": "2022-02-07T06:11:53.832Z"
   },
   {
    "duration": 18,
    "start_time": "2022-02-07T06:11:53.883Z"
   },
   {
    "duration": 42,
    "start_time": "2022-02-07T06:11:53.935Z"
   },
   {
    "duration": 6,
    "start_time": "2022-02-07T06:11:53.981Z"
   },
   {
    "duration": 26,
    "start_time": "2022-02-07T06:11:54.032Z"
   },
   {
    "duration": 112,
    "start_time": "2022-02-07T06:11:54.061Z"
   },
   {
    "duration": 98,
    "start_time": "2022-02-07T06:11:54.175Z"
   },
   {
    "duration": 33,
    "start_time": "2022-02-07T06:11:54.275Z"
   },
   {
    "duration": 51,
    "start_time": "2022-02-07T06:11:54.310Z"
   },
   {
    "duration": 33,
    "start_time": "2022-02-07T06:11:54.364Z"
   },
   {
    "duration": 62,
    "start_time": "2022-02-07T06:11:54.400Z"
   },
   {
    "duration": 83,
    "start_time": "2022-02-07T06:11:54.464Z"
   },
   {
    "duration": 19,
    "start_time": "2022-02-07T06:11:54.550Z"
   },
   {
    "duration": 137,
    "start_time": "2022-02-07T06:11:54.571Z"
   },
   {
    "duration": 38,
    "start_time": "2022-02-07T06:11:54.710Z"
   },
   {
    "duration": 9,
    "start_time": "2022-02-07T06:11:54.751Z"
   },
   {
    "duration": 78,
    "start_time": "2022-02-07T06:11:54.762Z"
   },
   {
    "duration": 21,
    "start_time": "2022-02-07T06:11:54.845Z"
   },
   {
    "duration": 24,
    "start_time": "2022-02-07T06:11:54.869Z"
   },
   {
    "duration": 49,
    "start_time": "2022-02-07T06:11:54.895Z"
   },
   {
    "duration": 36,
    "start_time": "2022-02-07T06:11:54.946Z"
   },
   {
    "duration": 54,
    "start_time": "2022-02-07T06:11:54.984Z"
   },
   {
    "duration": 9,
    "start_time": "2022-02-07T06:11:55.040Z"
   },
   {
    "duration": 8,
    "start_time": "2022-02-07T06:11:55.052Z"
   },
   {
    "duration": 9,
    "start_time": "2022-02-07T06:11:55.062Z"
   },
   {
    "duration": 8,
    "start_time": "2022-02-07T06:11:55.073Z"
   },
   {
    "duration": 422,
    "start_time": "2022-02-07T06:11:55.084Z"
   },
   {
    "duration": 1340,
    "start_time": "2022-02-07T06:18:26.937Z"
   },
   {
    "duration": 721,
    "start_time": "2022-02-07T06:18:28.279Z"
   },
   {
    "duration": 4,
    "start_time": "2022-02-07T06:18:29.003Z"
   },
   {
    "duration": 85,
    "start_time": "2022-02-07T06:18:29.009Z"
   },
   {
    "duration": 90,
    "start_time": "2022-02-07T06:18:29.096Z"
   },
   {
    "duration": 55,
    "start_time": "2022-02-07T06:18:29.189Z"
   },
   {
    "duration": 17,
    "start_time": "2022-02-07T06:18:29.246Z"
   },
   {
    "duration": 74,
    "start_time": "2022-02-07T06:18:29.267Z"
   },
   {
    "duration": 5,
    "start_time": "2022-02-07T06:18:29.344Z"
   },
   {
    "duration": 33,
    "start_time": "2022-02-07T06:18:29.351Z"
   },
   {
    "duration": 118,
    "start_time": "2022-02-07T06:18:29.386Z"
   },
   {
    "duration": 94,
    "start_time": "2022-02-07T06:18:29.506Z"
   },
   {
    "duration": 45,
    "start_time": "2022-02-07T06:18:29.602Z"
   },
   {
    "duration": 33,
    "start_time": "2022-02-07T06:18:29.649Z"
   },
   {
    "duration": 55,
    "start_time": "2022-02-07T06:18:29.685Z"
   },
   {
    "duration": 32,
    "start_time": "2022-02-07T06:18:29.742Z"
   },
   {
    "duration": 102,
    "start_time": "2022-02-07T06:18:29.776Z"
   },
   {
    "duration": 25,
    "start_time": "2022-02-07T06:18:29.880Z"
   },
   {
    "duration": 147,
    "start_time": "2022-02-07T06:18:29.908Z"
   },
   {
    "duration": 25,
    "start_time": "2022-02-07T06:18:30.057Z"
   },
   {
    "duration": 19,
    "start_time": "2022-02-07T06:18:30.085Z"
   },
   {
    "duration": 65,
    "start_time": "2022-02-07T06:18:30.107Z"
   },
   {
    "duration": 21,
    "start_time": "2022-02-07T06:18:30.177Z"
   },
   {
    "duration": 49,
    "start_time": "2022-02-07T06:18:30.201Z"
   },
   {
    "duration": 28,
    "start_time": "2022-02-07T06:18:30.253Z"
   },
   {
    "duration": 61,
    "start_time": "2022-02-07T06:18:30.284Z"
   },
   {
    "duration": 36,
    "start_time": "2022-02-07T06:18:30.347Z"
   },
   {
    "duration": 12,
    "start_time": "2022-02-07T06:18:30.386Z"
   },
   {
    "duration": 35,
    "start_time": "2022-02-07T06:18:30.401Z"
   },
   {
    "duration": 21,
    "start_time": "2022-02-07T06:18:30.439Z"
   },
   {
    "duration": 17,
    "start_time": "2022-02-07T06:18:30.463Z"
   },
   {
    "duration": 404,
    "start_time": "2022-02-07T06:18:30.483Z"
   },
   {
    "duration": 45,
    "start_time": "2022-02-07T06:21:11.596Z"
   },
   {
    "duration": 45,
    "start_time": "2022-02-07T06:26:30.314Z"
   },
   {
    "duration": 47,
    "start_time": "2022-02-07T06:27:02.936Z"
   },
   {
    "duration": 47,
    "start_time": "2022-02-07T06:27:15.271Z"
   },
   {
    "duration": 682,
    "start_time": "2022-02-07T06:35:36.293Z"
   },
   {
    "duration": 11,
    "start_time": "2022-02-07T06:35:43.910Z"
   },
   {
    "duration": 12,
    "start_time": "2022-02-07T06:36:25.616Z"
   },
   {
    "duration": 44,
    "start_time": "2022-02-07T06:44:32.058Z"
   },
   {
    "duration": 45,
    "start_time": "2022-02-07T06:45:30.865Z"
   },
   {
    "duration": 1476,
    "start_time": "2022-02-07T06:56:39.017Z"
   },
   {
    "duration": 979,
    "start_time": "2022-02-07T06:56:40.496Z"
   },
   {
    "duration": 4,
    "start_time": "2022-02-07T06:56:41.479Z"
   },
   {
    "duration": 85,
    "start_time": "2022-02-07T06:56:41.486Z"
   },
   {
    "duration": 84,
    "start_time": "2022-02-07T06:56:41.574Z"
   },
   {
    "duration": 42,
    "start_time": "2022-02-07T06:56:41.661Z"
   },
   {
    "duration": 41,
    "start_time": "2022-02-07T06:56:41.706Z"
   },
   {
    "duration": 37,
    "start_time": "2022-02-07T06:56:41.751Z"
   },
   {
    "duration": 6,
    "start_time": "2022-02-07T06:56:41.791Z"
   },
   {
    "duration": 57,
    "start_time": "2022-02-07T06:56:41.800Z"
   },
   {
    "duration": 129,
    "start_time": "2022-02-07T06:56:41.861Z"
   },
   {
    "duration": 106,
    "start_time": "2022-02-07T06:56:41.993Z"
   },
   {
    "duration": 44,
    "start_time": "2022-02-07T06:56:42.101Z"
   },
   {
    "duration": 35,
    "start_time": "2022-02-07T06:56:42.148Z"
   },
   {
    "duration": 58,
    "start_time": "2022-02-07T06:56:42.186Z"
   },
   {
    "duration": 32,
    "start_time": "2022-02-07T06:56:42.246Z"
   },
   {
    "duration": 89,
    "start_time": "2022-02-07T06:56:42.280Z"
   },
   {
    "duration": 18,
    "start_time": "2022-02-07T06:56:42.372Z"
   },
   {
    "duration": 140,
    "start_time": "2022-02-07T06:56:42.392Z"
   },
   {
    "duration": 26,
    "start_time": "2022-02-07T06:56:42.535Z"
   },
   {
    "duration": 6,
    "start_time": "2022-02-07T06:56:42.564Z"
   },
   {
    "duration": 78,
    "start_time": "2022-02-07T06:56:42.572Z"
   },
   {
    "duration": 20,
    "start_time": "2022-02-07T06:56:42.655Z"
   },
   {
    "duration": 21,
    "start_time": "2022-02-07T06:56:42.678Z"
   },
   {
    "duration": 40,
    "start_time": "2022-02-07T06:56:42.701Z"
   },
   {
    "duration": 45,
    "start_time": "2022-02-07T06:56:42.744Z"
   },
   {
    "duration": 40,
    "start_time": "2022-02-07T06:56:42.792Z"
   },
   {
    "duration": 9,
    "start_time": "2022-02-07T06:56:42.834Z"
   },
   {
    "duration": 10,
    "start_time": "2022-02-07T06:56:42.845Z"
   },
   {
    "duration": 83,
    "start_time": "2022-02-07T06:56:42.857Z"
   },
   {
    "duration": 8,
    "start_time": "2022-02-07T06:56:42.943Z"
   },
   {
    "duration": 12,
    "start_time": "2022-02-07T06:56:42.953Z"
   },
   {
    "duration": 9,
    "start_time": "2022-02-07T06:56:42.967Z"
   },
   {
    "duration": 404,
    "start_time": "2022-02-07T06:56:42.979Z"
   },
   {
    "duration": 9,
    "start_time": "2022-02-07T07:09:15.413Z"
   },
   {
    "duration": 15,
    "start_time": "2022-02-07T07:11:03.001Z"
   },
   {
    "duration": 19,
    "start_time": "2022-02-07T07:13:41.970Z"
   },
   {
    "duration": 17,
    "start_time": "2022-02-07T07:14:35.206Z"
   },
   {
    "duration": 12,
    "start_time": "2022-02-07T07:14:46.452Z"
   },
   {
    "duration": 1317,
    "start_time": "2022-02-07T07:18:20.672Z"
   },
   {
    "duration": 682,
    "start_time": "2022-02-07T07:18:21.992Z"
   },
   {
    "duration": 5,
    "start_time": "2022-02-07T07:18:22.677Z"
   },
   {
    "duration": 83,
    "start_time": "2022-02-07T07:18:22.686Z"
   },
   {
    "duration": 89,
    "start_time": "2022-02-07T07:18:22.772Z"
   },
   {
    "duration": 42,
    "start_time": "2022-02-07T07:18:22.863Z"
   },
   {
    "duration": 39,
    "start_time": "2022-02-07T07:18:22.907Z"
   },
   {
    "duration": 39,
    "start_time": "2022-02-07T07:18:22.952Z"
   },
   {
    "duration": 41,
    "start_time": "2022-02-07T07:18:22.995Z"
   },
   {
    "duration": 28,
    "start_time": "2022-02-07T07:18:23.039Z"
   },
   {
    "duration": 130,
    "start_time": "2022-02-07T07:18:23.070Z"
   },
   {
    "duration": 94,
    "start_time": "2022-02-07T07:18:23.202Z"
   },
   {
    "duration": 44,
    "start_time": "2022-02-07T07:18:23.299Z"
   },
   {
    "duration": 36,
    "start_time": "2022-02-07T07:18:23.346Z"
   },
   {
    "duration": 71,
    "start_time": "2022-02-07T07:18:23.385Z"
   },
   {
    "duration": 33,
    "start_time": "2022-02-07T07:18:23.459Z"
   },
   {
    "duration": 94,
    "start_time": "2022-02-07T07:18:23.495Z"
   },
   {
    "duration": 19,
    "start_time": "2022-02-07T07:18:23.592Z"
   },
   {
    "duration": 122,
    "start_time": "2022-02-07T07:18:23.633Z"
   },
   {
    "duration": 23,
    "start_time": "2022-02-07T07:18:23.757Z"
   },
   {
    "duration": 9,
    "start_time": "2022-02-07T07:18:23.782Z"
   },
   {
    "duration": 73,
    "start_time": "2022-02-07T07:18:23.793Z"
   },
   {
    "duration": 17,
    "start_time": "2022-02-07T07:18:23.870Z"
   },
   {
    "duration": 21,
    "start_time": "2022-02-07T07:18:23.889Z"
   },
   {
    "duration": 35,
    "start_time": "2022-02-07T07:18:23.912Z"
   },
   {
    "duration": 41,
    "start_time": "2022-02-07T07:18:23.949Z"
   },
   {
    "duration": 8,
    "start_time": "2022-02-07T07:18:23.992Z"
   },
   {
    "duration": 8,
    "start_time": "2022-02-07T07:18:24.033Z"
   },
   {
    "duration": 8,
    "start_time": "2022-02-07T07:18:24.043Z"
   },
   {
    "duration": 42,
    "start_time": "2022-02-07T07:18:24.053Z"
   },
   {
    "duration": 8,
    "start_time": "2022-02-07T07:18:24.133Z"
   },
   {
    "duration": 8,
    "start_time": "2022-02-07T07:18:24.143Z"
   },
   {
    "duration": 8,
    "start_time": "2022-02-07T07:18:24.153Z"
   },
   {
    "duration": 395,
    "start_time": "2022-02-07T07:18:24.163Z"
   },
   {
    "duration": 7,
    "start_time": "2022-02-07T07:36:06.867Z"
   },
   {
    "duration": 443,
    "start_time": "2022-02-07T08:02:19.953Z"
   },
   {
    "duration": 268,
    "start_time": "2022-02-07T08:02:43.345Z"
   },
   {
    "duration": 274,
    "start_time": "2022-02-07T08:02:55.700Z"
   },
   {
    "duration": 264,
    "start_time": "2022-02-07T08:04:48.699Z"
   },
   {
    "duration": 274,
    "start_time": "2022-02-07T08:05:11.531Z"
   },
   {
    "duration": 285,
    "start_time": "2022-02-07T08:05:24.330Z"
   },
   {
    "duration": 517,
    "start_time": "2022-02-07T08:06:05.005Z"
   },
   {
    "duration": 695,
    "start_time": "2022-02-07T08:06:57.626Z"
   },
   {
    "duration": 618,
    "start_time": "2022-02-07T08:07:05.216Z"
   },
   {
    "duration": 606,
    "start_time": "2022-02-07T08:07:27.041Z"
   },
   {
    "duration": 929,
    "start_time": "2022-02-07T08:09:16.972Z"
   },
   {
    "duration": 671,
    "start_time": "2022-02-07T08:11:44.599Z"
   },
   {
    "duration": 642,
    "start_time": "2022-02-07T08:17:57.978Z"
   },
   {
    "duration": 623,
    "start_time": "2022-02-07T08:20:11.568Z"
   },
   {
    "duration": 610,
    "start_time": "2022-02-07T08:20:43.871Z"
   },
   {
    "duration": 356,
    "start_time": "2022-02-07T08:29:19.216Z"
   },
   {
    "duration": 700,
    "start_time": "2022-02-07T08:29:56.597Z"
   },
   {
    "duration": 497,
    "start_time": "2022-02-07T08:31:16.257Z"
   },
   {
    "duration": 493,
    "start_time": "2022-02-07T08:35:35.286Z"
   },
   {
    "duration": 483,
    "start_time": "2022-02-07T08:36:04.651Z"
   },
   {
    "duration": 517,
    "start_time": "2022-02-07T08:44:56.632Z"
   },
   {
    "duration": 490,
    "start_time": "2022-02-07T08:48:44.145Z"
   },
   {
    "duration": 358,
    "start_time": "2022-02-07T08:49:27.815Z"
   },
   {
    "duration": 367,
    "start_time": "2022-02-07T08:49:43.065Z"
   },
   {
    "duration": 593,
    "start_time": "2022-02-07T09:01:24.350Z"
   },
   {
    "duration": 371,
    "start_time": "2022-02-07T09:01:40.979Z"
   },
   {
    "duration": 948,
    "start_time": "2022-02-07T09:44:40.855Z"
   },
   {
    "duration": 919,
    "start_time": "2022-02-07T09:47:59.592Z"
   },
   {
    "duration": 3636,
    "start_time": "2022-02-07T09:52:50.011Z"
   },
   {
    "duration": 3931,
    "start_time": "2022-02-07T09:53:24.010Z"
   },
   {
    "duration": 621,
    "start_time": "2022-02-07T09:53:37.202Z"
   },
   {
    "duration": 3741,
    "start_time": "2022-02-07T09:53:49.097Z"
   },
   {
    "duration": 1204,
    "start_time": "2022-02-07T09:55:21.224Z"
   },
   {
    "duration": 884,
    "start_time": "2022-02-07T09:56:39.475Z"
   },
   {
    "duration": 3304,
    "start_time": "2022-02-07T09:57:06.681Z"
   },
   {
    "duration": 2308,
    "start_time": "2022-02-07T09:58:34.443Z"
   },
   {
    "duration": 3659,
    "start_time": "2022-02-07T10:00:25.034Z"
   },
   {
    "duration": 616,
    "start_time": "2022-02-07T10:01:37.091Z"
   },
   {
    "duration": 3441,
    "start_time": "2022-02-07T10:02:08.918Z"
   },
   {
    "duration": 3,
    "start_time": "2022-02-07T10:15:43.316Z"
   },
   {
    "duration": 7,
    "start_time": "2022-02-07T10:15:58.395Z"
   },
   {
    "duration": 6,
    "start_time": "2022-02-07T10:16:17.416Z"
   },
   {
    "duration": 6,
    "start_time": "2022-02-07T10:18:24.015Z"
   },
   {
    "duration": 6,
    "start_time": "2022-02-07T10:19:08.797Z"
   },
   {
    "duration": 7,
    "start_time": "2022-02-07T10:42:17.537Z"
   },
   {
    "duration": 1224,
    "start_time": "2022-02-07T10:47:12.984Z"
   },
   {
    "duration": 51,
    "start_time": "2022-02-07T10:48:16.832Z"
   },
   {
    "duration": 52,
    "start_time": "2022-02-07T10:49:31.980Z"
   },
   {
    "duration": 7,
    "start_time": "2022-02-07T10:51:03.384Z"
   },
   {
    "duration": 9,
    "start_time": "2022-02-07T11:43:06.228Z"
   },
   {
    "duration": 9,
    "start_time": "2022-02-07T11:43:12.905Z"
   },
   {
    "duration": 1444,
    "start_time": "2022-02-07T11:43:37.045Z"
   },
   {
    "duration": 690,
    "start_time": "2022-02-07T11:43:38.492Z"
   },
   {
    "duration": 4,
    "start_time": "2022-02-07T11:43:39.185Z"
   },
   {
    "duration": 86,
    "start_time": "2022-02-07T11:43:39.192Z"
   },
   {
    "duration": 91,
    "start_time": "2022-02-07T11:43:39.280Z"
   },
   {
    "duration": 60,
    "start_time": "2022-02-07T11:43:39.373Z"
   },
   {
    "duration": 16,
    "start_time": "2022-02-07T11:43:39.436Z"
   },
   {
    "duration": 38,
    "start_time": "2022-02-07T11:43:39.456Z"
   },
   {
    "duration": 7,
    "start_time": "2022-02-07T11:43:39.535Z"
   },
   {
    "duration": 30,
    "start_time": "2022-02-07T11:43:39.545Z"
   },
   {
    "duration": 133,
    "start_time": "2022-02-07T11:43:39.578Z"
   },
   {
    "duration": 98,
    "start_time": "2022-02-07T11:43:39.714Z"
   },
   {
    "duration": 46,
    "start_time": "2022-02-07T11:43:39.815Z"
   },
   {
    "duration": 40,
    "start_time": "2022-02-07T11:43:39.864Z"
   },
   {
    "duration": 39,
    "start_time": "2022-02-07T11:43:39.931Z"
   },
   {
    "duration": 62,
    "start_time": "2022-02-07T11:43:39.973Z"
   },
   {
    "duration": 70,
    "start_time": "2022-02-07T11:43:40.038Z"
   },
   {
    "duration": 40,
    "start_time": "2022-02-07T11:43:40.110Z"
   },
   {
    "duration": 137,
    "start_time": "2022-02-07T11:43:40.152Z"
   },
   {
    "duration": 24,
    "start_time": "2022-02-07T11:43:40.291Z"
   },
   {
    "duration": 21,
    "start_time": "2022-02-07T11:43:40.317Z"
   },
   {
    "duration": 49,
    "start_time": "2022-02-07T11:43:40.342Z"
   },
   {
    "duration": 38,
    "start_time": "2022-02-07T11:43:40.395Z"
   },
   {
    "duration": 19,
    "start_time": "2022-02-07T11:43:40.436Z"
   },
   {
    "duration": 24,
    "start_time": "2022-02-07T11:43:40.457Z"
   },
   {
    "duration": 49,
    "start_time": "2022-02-07T11:43:40.483Z"
   },
   {
    "duration": 50,
    "start_time": "2022-02-07T11:43:40.535Z"
   },
   {
    "duration": 9,
    "start_time": "2022-02-07T11:43:40.587Z"
   },
   {
    "duration": 35,
    "start_time": "2022-02-07T11:43:40.599Z"
   },
   {
    "duration": 11,
    "start_time": "2022-02-07T11:43:40.637Z"
   },
   {
    "duration": 89,
    "start_time": "2022-02-07T11:43:40.651Z"
   },
   {
    "duration": 9,
    "start_time": "2022-02-07T11:43:40.742Z"
   },
   {
    "duration": 12,
    "start_time": "2022-02-07T11:43:40.753Z"
   },
   {
    "duration": 9,
    "start_time": "2022-02-07T11:43:40.767Z"
   },
   {
    "duration": 703,
    "start_time": "2022-02-07T11:43:40.778Z"
   },
   {
    "duration": 639,
    "start_time": "2022-02-07T11:43:41.483Z"
   },
   {
    "duration": 502,
    "start_time": "2022-02-07T11:43:42.132Z"
   },
   {
    "duration": 511,
    "start_time": "2022-02-07T11:43:42.637Z"
   },
   {
    "duration": 386,
    "start_time": "2022-02-07T11:43:43.151Z"
   },
   {
    "duration": 3495,
    "start_time": "2022-02-07T11:43:43.540Z"
   },
   {
    "duration": 8,
    "start_time": "2022-02-07T11:43:47.038Z"
   },
   {
    "duration": 15,
    "start_time": "2022-02-07T11:43:47.049Z"
   },
   {
    "duration": 16,
    "start_time": "2022-02-07T11:43:47.068Z"
   },
   {
    "duration": 7,
    "start_time": "2022-02-07T11:46:31.825Z"
   },
   {
    "duration": 28,
    "start_time": "2022-02-07T11:46:48.945Z"
   },
   {
    "duration": 12,
    "start_time": "2022-02-07T11:48:28.061Z"
   },
   {
    "duration": 5,
    "start_time": "2022-02-07T11:50:37.845Z"
   },
   {
    "duration": 1303,
    "start_time": "2022-02-07T11:51:05.586Z"
   },
   {
    "duration": 687,
    "start_time": "2022-02-07T11:51:06.892Z"
   },
   {
    "duration": 3,
    "start_time": "2022-02-07T11:51:07.585Z"
   },
   {
    "duration": 85,
    "start_time": "2022-02-07T11:51:07.590Z"
   },
   {
    "duration": 85,
    "start_time": "2022-02-07T11:51:07.678Z"
   },
   {
    "duration": 69,
    "start_time": "2022-02-07T11:51:07.765Z"
   },
   {
    "duration": 17,
    "start_time": "2022-02-07T11:51:07.838Z"
   },
   {
    "duration": 38,
    "start_time": "2022-02-07T11:51:07.858Z"
   },
   {
    "duration": 34,
    "start_time": "2022-02-07T11:51:07.898Z"
   },
   {
    "duration": 24,
    "start_time": "2022-02-07T11:51:07.935Z"
   },
   {
    "duration": 119,
    "start_time": "2022-02-07T11:51:07.962Z"
   },
   {
    "duration": 99,
    "start_time": "2022-02-07T11:51:08.083Z"
   },
   {
    "duration": 33,
    "start_time": "2022-02-07T11:51:08.184Z"
   },
   {
    "duration": 32,
    "start_time": "2022-02-07T11:51:08.232Z"
   },
   {
    "duration": 35,
    "start_time": "2022-02-07T11:51:08.266Z"
   },
   {
    "duration": 57,
    "start_time": "2022-02-07T11:51:08.303Z"
   },
   {
    "duration": 86,
    "start_time": "2022-02-07T11:51:08.362Z"
   },
   {
    "duration": 18,
    "start_time": "2022-02-07T11:51:08.451Z"
   },
   {
    "duration": 141,
    "start_time": "2022-02-07T11:51:08.471Z"
   },
   {
    "duration": 38,
    "start_time": "2022-02-07T11:51:08.614Z"
   },
   {
    "duration": 11,
    "start_time": "2022-02-07T11:51:08.655Z"
   },
   {
    "duration": 88,
    "start_time": "2022-02-07T11:51:08.673Z"
   },
   {
    "duration": 8,
    "start_time": "2022-02-07T11:51:08.765Z"
   },
   {
    "duration": 20,
    "start_time": "2022-02-07T11:51:08.776Z"
   },
   {
    "duration": 38,
    "start_time": "2022-02-07T11:51:08.799Z"
   },
   {
    "duration": 9,
    "start_time": "2022-02-07T11:51:08.840Z"
   },
   {
    "duration": 12,
    "start_time": "2022-02-07T11:51:08.851Z"
   },
   {
    "duration": 53,
    "start_time": "2022-02-07T11:51:08.865Z"
   },
   {
    "duration": 27,
    "start_time": "2022-02-07T11:51:08.920Z"
   },
   {
    "duration": 11,
    "start_time": "2022-02-07T11:51:08.950Z"
   },
   {
    "duration": 11,
    "start_time": "2022-02-07T11:51:08.963Z"
   },
   {
    "duration": 87,
    "start_time": "2022-02-07T11:51:08.976Z"
   },
   {
    "duration": 9,
    "start_time": "2022-02-07T11:51:09.065Z"
   },
   {
    "duration": 12,
    "start_time": "2022-02-07T11:51:09.077Z"
   },
   {
    "duration": 45,
    "start_time": "2022-02-07T11:51:09.092Z"
   },
   {
    "duration": 664,
    "start_time": "2022-02-07T11:51:09.140Z"
   },
   {
    "duration": 641,
    "start_time": "2022-02-07T11:51:09.807Z"
   },
   {
    "duration": 521,
    "start_time": "2022-02-07T11:51:10.450Z"
   },
   {
    "duration": 529,
    "start_time": "2022-02-07T11:51:10.973Z"
   },
   {
    "duration": 400,
    "start_time": "2022-02-07T11:51:11.504Z"
   },
   {
    "duration": 3795,
    "start_time": "2022-02-07T11:51:11.906Z"
   },
   {
    "duration": 7,
    "start_time": "2022-02-07T11:51:15.704Z"
   },
   {
    "duration": 8,
    "start_time": "2022-02-07T11:51:15.739Z"
   },
   {
    "duration": 10,
    "start_time": "2022-02-07T11:51:15.750Z"
   },
   {
    "duration": 14,
    "start_time": "2022-02-07T11:51:15.762Z"
   },
   {
    "duration": 18,
    "start_time": "2022-02-07T11:56:10.209Z"
   },
   {
    "duration": 21,
    "start_time": "2022-02-07T11:58:07.235Z"
   },
   {
    "duration": 6,
    "start_time": "2022-02-07T11:59:54.765Z"
   },
   {
    "duration": 6,
    "start_time": "2022-02-07T12:00:44.763Z"
   },
   {
    "duration": 6,
    "start_time": "2022-02-07T12:01:07.843Z"
   },
   {
    "duration": 93,
    "start_time": "2022-02-07T12:01:50.533Z"
   },
   {
    "duration": 400,
    "start_time": "2022-02-07T12:02:05.590Z"
   },
   {
    "duration": 13,
    "start_time": "2022-02-07T12:02:20.003Z"
   },
   {
    "duration": 6,
    "start_time": "2022-02-07T12:03:48.120Z"
   },
   {
    "duration": 7,
    "start_time": "2022-02-07T12:16:40.249Z"
   },
   {
    "duration": 93,
    "start_time": "2022-02-07T12:20:20.991Z"
   },
   {
    "duration": 1873,
    "start_time": "2022-02-07T12:20:45.330Z"
   },
   {
    "duration": 410,
    "start_time": "2022-02-07T12:23:39.130Z"
   },
   {
    "duration": 852,
    "start_time": "2022-02-07T12:23:57.408Z"
   },
   {
    "duration": 916,
    "start_time": "2022-02-07T12:24:55.935Z"
   },
   {
    "duration": 862,
    "start_time": "2022-02-07T12:25:28.777Z"
   },
   {
    "duration": 912,
    "start_time": "2022-02-07T12:26:29.447Z"
   },
   {
    "duration": 695,
    "start_time": "2022-02-07T12:27:31.137Z"
   },
   {
    "duration": 666,
    "start_time": "2022-02-07T12:27:54.279Z"
   },
   {
    "duration": 1001,
    "start_time": "2022-02-07T12:28:13.148Z"
   },
   {
    "duration": 2682,
    "start_time": "2022-02-07T12:28:26.088Z"
   },
   {
    "duration": 656,
    "start_time": "2022-02-07T12:28:31.999Z"
   },
   {
    "duration": 1515,
    "start_time": "2022-02-07T12:39:45.269Z"
   },
   {
    "duration": 1509,
    "start_time": "2022-02-07T12:40:19.693Z"
   },
   {
    "duration": 1061,
    "start_time": "2022-02-07T12:40:35.980Z"
   },
   {
    "duration": 10931,
    "start_time": "2022-02-07T12:49:53.109Z"
   },
   {
    "duration": 11657,
    "start_time": "2022-02-07T12:52:20.552Z"
   },
   {
    "duration": 11914,
    "start_time": "2022-02-07T12:52:38.995Z"
   },
   {
    "duration": 11626,
    "start_time": "2022-02-07T12:53:17.199Z"
   },
   {
    "duration": 12188,
    "start_time": "2022-02-07T12:56:01.090Z"
   },
   {
    "duration": 12472,
    "start_time": "2022-02-07T12:56:46.620Z"
   },
   {
    "duration": 12254,
    "start_time": "2022-02-07T12:58:01.902Z"
   },
   {
    "duration": 12588,
    "start_time": "2022-02-07T13:05:04.554Z"
   },
   {
    "duration": 14798,
    "start_time": "2022-02-07T13:05:19.242Z"
   },
   {
    "duration": 16369,
    "start_time": "2022-02-07T13:05:52.921Z"
   },
   {
    "duration": 14818,
    "start_time": "2022-02-07T13:08:10.945Z"
   },
   {
    "duration": 14236,
    "start_time": "2022-02-07T13:09:15.319Z"
   },
   {
    "duration": 14484,
    "start_time": "2022-02-07T13:09:48.510Z"
   },
   {
    "duration": 16659,
    "start_time": "2022-02-07T13:11:16.576Z"
   },
   {
    "duration": 7192,
    "start_time": "2022-02-07T13:14:12.670Z"
   },
   {
    "duration": 7593,
    "start_time": "2022-02-07T13:14:36.537Z"
   },
   {
    "duration": 7536,
    "start_time": "2022-02-07T13:15:03.136Z"
   },
   {
    "duration": 6969,
    "start_time": "2022-02-07T13:19:15.797Z"
   },
   {
    "duration": 299,
    "start_time": "2022-02-07T13:19:41.599Z"
   },
   {
    "duration": 14061,
    "start_time": "2022-02-07T13:24:57.578Z"
   },
   {
    "duration": 44,
    "start_time": "2022-02-07T13:26:12.803Z"
   },
   {
    "duration": 44,
    "start_time": "2022-02-07T13:26:50.999Z"
   },
   {
    "duration": 18517,
    "start_time": "2022-02-07T13:31:57.943Z"
   },
   {
    "duration": 15871,
    "start_time": "2022-02-07T13:33:49.128Z"
   },
   {
    "duration": 16091,
    "start_time": "2022-02-07T13:34:18.412Z"
   },
   {
    "duration": 1346,
    "start_time": "2022-02-07T13:41:59.363Z"
   },
   {
    "duration": 719,
    "start_time": "2022-02-07T13:42:00.712Z"
   },
   {
    "duration": 4,
    "start_time": "2022-02-07T13:42:01.434Z"
   },
   {
    "duration": 106,
    "start_time": "2022-02-07T13:42:01.440Z"
   },
   {
    "duration": 105,
    "start_time": "2022-02-07T13:42:01.548Z"
   },
   {
    "duration": 52,
    "start_time": "2022-02-07T13:42:01.656Z"
   },
   {
    "duration": 24,
    "start_time": "2022-02-07T13:42:01.732Z"
   },
   {
    "duration": 71,
    "start_time": "2022-02-07T13:42:01.763Z"
   },
   {
    "duration": 6,
    "start_time": "2022-02-07T13:42:01.837Z"
   },
   {
    "duration": 39,
    "start_time": "2022-02-07T13:42:01.845Z"
   },
   {
    "duration": 123,
    "start_time": "2022-02-07T13:42:01.887Z"
   },
   {
    "duration": 95,
    "start_time": "2022-02-07T13:42:02.012Z"
   },
   {
    "duration": 46,
    "start_time": "2022-02-07T13:42:02.109Z"
   },
   {
    "duration": 39,
    "start_time": "2022-02-07T13:42:02.158Z"
   },
   {
    "duration": 65,
    "start_time": "2022-02-07T13:42:02.200Z"
   },
   {
    "duration": 36,
    "start_time": "2022-02-07T13:42:02.268Z"
   },
   {
    "duration": 65,
    "start_time": "2022-02-07T13:42:02.332Z"
   },
   {
    "duration": 42,
    "start_time": "2022-02-07T13:42:02.401Z"
   },
   {
    "duration": 135,
    "start_time": "2022-02-07T13:42:02.445Z"
   },
   {
    "duration": 26,
    "start_time": "2022-02-07T13:42:02.582Z"
   },
   {
    "duration": 32,
    "start_time": "2022-02-07T13:42:02.610Z"
   },
   {
    "duration": 82,
    "start_time": "2022-02-07T13:42:02.644Z"
   },
   {
    "duration": 8,
    "start_time": "2022-02-07T13:42:02.732Z"
   },
   {
    "duration": 27,
    "start_time": "2022-02-07T13:42:02.743Z"
   },
   {
    "duration": 16,
    "start_time": "2022-02-07T13:42:02.774Z"
   },
   {
    "duration": 9,
    "start_time": "2022-02-07T13:42:02.792Z"
   },
   {
    "duration": 31,
    "start_time": "2022-02-07T13:42:02.804Z"
   },
   {
    "duration": 57,
    "start_time": "2022-02-07T13:42:02.837Z"
   },
   {
    "duration": 9,
    "start_time": "2022-02-07T13:42:02.896Z"
   },
   {
    "duration": 11,
    "start_time": "2022-02-07T13:42:02.931Z"
   },
   {
    "duration": 11,
    "start_time": "2022-02-07T13:42:02.944Z"
   },
   {
    "duration": 106,
    "start_time": "2022-02-07T13:42:02.958Z"
   },
   {
    "duration": 12,
    "start_time": "2022-02-07T13:42:03.067Z"
   },
   {
    "duration": 11,
    "start_time": "2022-02-07T13:42:03.082Z"
   },
   {
    "duration": 44,
    "start_time": "2022-02-07T13:42:03.095Z"
   },
   {
    "duration": 713,
    "start_time": "2022-02-07T13:42:03.142Z"
   },
   {
    "duration": 661,
    "start_time": "2022-02-07T13:42:03.857Z"
   },
   {
    "duration": 515,
    "start_time": "2022-02-07T13:42:04.520Z"
   },
   {
    "duration": 537,
    "start_time": "2022-02-07T13:42:05.038Z"
   },
   {
    "duration": 404,
    "start_time": "2022-02-07T13:42:05.578Z"
   },
   {
    "duration": 747,
    "start_time": "2022-02-07T13:42:05.985Z"
   },
   {
    "duration": 8,
    "start_time": "2022-02-07T13:42:06.734Z"
   },
   {
    "duration": 10,
    "start_time": "2022-02-07T13:42:06.744Z"
   },
   {
    "duration": 13,
    "start_time": "2022-02-07T13:42:06.756Z"
   },
   {
    "duration": 20,
    "start_time": "2022-02-07T13:42:06.771Z"
   },
   {
    "duration": 19,
    "start_time": "2022-02-07T13:42:06.834Z"
   },
   {
    "duration": 7,
    "start_time": "2022-02-07T13:42:06.855Z"
   },
   {
    "duration": 7,
    "start_time": "2022-02-07T13:42:06.865Z"
   },
   {
    "duration": 1008,
    "start_time": "2022-02-07T16:01:38.470Z"
   },
   {
    "duration": 539,
    "start_time": "2022-02-07T16:01:39.480Z"
   },
   {
    "duration": 3,
    "start_time": "2022-02-07T16:01:40.021Z"
   },
   {
    "duration": 63,
    "start_time": "2022-02-07T16:01:40.025Z"
   },
   {
    "duration": 55,
    "start_time": "2022-02-07T16:01:40.090Z"
   },
   {
    "duration": 29,
    "start_time": "2022-02-07T16:01:40.147Z"
   },
   {
    "duration": 10,
    "start_time": "2022-02-07T16:01:40.178Z"
   },
   {
    "duration": 24,
    "start_time": "2022-02-07T16:01:40.213Z"
   },
   {
    "duration": 4,
    "start_time": "2022-02-07T16:01:40.238Z"
   },
   {
    "duration": 16,
    "start_time": "2022-02-07T16:01:40.244Z"
   },
   {
    "duration": 93,
    "start_time": "2022-02-07T16:01:40.261Z"
   },
   {
    "duration": 62,
    "start_time": "2022-02-07T16:01:40.355Z"
   },
   {
    "duration": 23,
    "start_time": "2022-02-07T16:01:40.419Z"
   },
   {
    "duration": 25,
    "start_time": "2022-02-07T16:01:40.443Z"
   },
   {
    "duration": 48,
    "start_time": "2022-02-07T16:01:40.469Z"
   },
   {
    "duration": 23,
    "start_time": "2022-02-07T16:01:40.519Z"
   },
   {
    "duration": 39,
    "start_time": "2022-02-07T16:01:40.544Z"
   },
   {
    "duration": 35,
    "start_time": "2022-02-07T16:01:40.585Z"
   },
   {
    "duration": 96,
    "start_time": "2022-02-07T16:01:40.622Z"
   },
   {
    "duration": 16,
    "start_time": "2022-02-07T16:01:40.720Z"
   },
   {
    "duration": 5,
    "start_time": "2022-02-07T16:01:40.738Z"
   },
   {
    "duration": 28,
    "start_time": "2022-02-07T16:01:40.745Z"
   },
   {
    "duration": 5,
    "start_time": "2022-02-07T16:01:40.776Z"
   },
   {
    "duration": 41,
    "start_time": "2022-02-07T16:01:40.783Z"
   },
   {
    "duration": 10,
    "start_time": "2022-02-07T16:01:40.825Z"
   },
   {
    "duration": 6,
    "start_time": "2022-02-07T16:01:40.836Z"
   },
   {
    "duration": 5,
    "start_time": "2022-02-07T16:01:40.843Z"
   },
   {
    "duration": 33,
    "start_time": "2022-02-07T16:01:40.849Z"
   },
   {
    "duration": 29,
    "start_time": "2022-02-07T16:01:40.884Z"
   },
   {
    "duration": 6,
    "start_time": "2022-02-07T16:01:40.915Z"
   },
   {
    "duration": 9,
    "start_time": "2022-02-07T16:01:40.922Z"
   },
   {
    "duration": 31,
    "start_time": "2022-02-07T16:01:40.933Z"
   },
   {
    "duration": 5,
    "start_time": "2022-02-07T16:01:40.966Z"
   },
   {
    "duration": 11,
    "start_time": "2022-02-07T16:01:40.973Z"
   },
   {
    "duration": 32,
    "start_time": "2022-02-07T16:01:40.985Z"
   },
   {
    "duration": 439,
    "start_time": "2022-02-07T16:01:41.018Z"
   },
   {
    "duration": 411,
    "start_time": "2022-02-07T16:01:41.459Z"
   },
   {
    "duration": 321,
    "start_time": "2022-02-07T16:01:41.872Z"
   },
   {
    "duration": 334,
    "start_time": "2022-02-07T16:01:42.194Z"
   },
   {
    "duration": 253,
    "start_time": "2022-02-07T16:01:42.530Z"
   },
   {
    "duration": 483,
    "start_time": "2022-02-07T16:01:42.784Z"
   },
   {
    "duration": 5,
    "start_time": "2022-02-07T16:01:43.270Z"
   },
   {
    "duration": 6,
    "start_time": "2022-02-07T16:01:43.277Z"
   },
   {
    "duration": 31,
    "start_time": "2022-02-07T16:01:43.285Z"
   },
   {
    "duration": 13,
    "start_time": "2022-02-07T16:01:43.318Z"
   },
   {
    "duration": 14,
    "start_time": "2022-02-07T16:01:43.333Z"
   },
   {
    "duration": 5,
    "start_time": "2022-02-07T16:01:43.349Z"
   },
   {
    "duration": 5,
    "start_time": "2022-02-07T16:01:43.356Z"
   },
   {
    "duration": 103,
    "start_time": "2022-02-07T17:03:25.812Z"
   },
   {
    "duration": 98,
    "start_time": "2022-02-07T17:03:58.352Z"
   },
   {
    "duration": 125,
    "start_time": "2022-02-07T17:04:45.431Z"
   },
   {
    "duration": 1112,
    "start_time": "2022-02-08T16:07:08.396Z"
   },
   {
    "duration": 558,
    "start_time": "2022-02-08T16:07:09.510Z"
   },
   {
    "duration": 4,
    "start_time": "2022-02-08T16:07:10.070Z"
   },
   {
    "duration": 83,
    "start_time": "2022-02-08T16:07:10.077Z"
   },
   {
    "duration": 75,
    "start_time": "2022-02-08T16:07:10.162Z"
   },
   {
    "duration": 36,
    "start_time": "2022-02-08T16:07:10.238Z"
   },
   {
    "duration": 34,
    "start_time": "2022-02-08T16:07:10.275Z"
   },
   {
    "duration": 64,
    "start_time": "2022-02-08T16:07:10.312Z"
   },
   {
    "duration": 31,
    "start_time": "2022-02-08T16:07:10.378Z"
   },
   {
    "duration": 27,
    "start_time": "2022-02-08T16:07:10.412Z"
   },
   {
    "duration": 84,
    "start_time": "2022-02-08T16:07:10.441Z"
   },
   {
    "duration": 65,
    "start_time": "2022-02-08T16:07:10.527Z"
   },
   {
    "duration": 34,
    "start_time": "2022-02-08T16:07:10.594Z"
   },
   {
    "duration": 27,
    "start_time": "2022-02-08T16:07:10.630Z"
   },
   {
    "duration": 58,
    "start_time": "2022-02-08T16:07:10.659Z"
   },
   {
    "duration": 25,
    "start_time": "2022-02-08T16:07:10.719Z"
   },
   {
    "duration": 67,
    "start_time": "2022-02-08T16:07:10.746Z"
   },
   {
    "duration": 15,
    "start_time": "2022-02-08T16:07:10.815Z"
   },
   {
    "duration": 100,
    "start_time": "2022-02-08T16:07:10.832Z"
   },
   {
    "duration": 19,
    "start_time": "2022-02-08T16:07:10.934Z"
   },
   {
    "duration": 12,
    "start_time": "2022-02-08T16:07:10.955Z"
   },
   {
    "duration": 52,
    "start_time": "2022-02-08T16:07:10.969Z"
   },
   {
    "duration": 7,
    "start_time": "2022-02-08T16:07:11.025Z"
   },
   {
    "duration": 21,
    "start_time": "2022-02-08T16:07:11.034Z"
   },
   {
    "duration": 21,
    "start_time": "2022-02-08T16:07:11.057Z"
   },
   {
    "duration": 12,
    "start_time": "2022-02-08T16:07:11.080Z"
   },
   {
    "duration": 19,
    "start_time": "2022-02-08T16:07:11.094Z"
   },
   {
    "duration": 59,
    "start_time": "2022-02-08T16:07:11.115Z"
   },
   {
    "duration": 7,
    "start_time": "2022-02-08T16:07:11.176Z"
   },
   {
    "duration": 19,
    "start_time": "2022-02-08T16:07:11.185Z"
   },
   {
    "duration": 14,
    "start_time": "2022-02-08T16:07:11.206Z"
   },
   {
    "duration": 42,
    "start_time": "2022-02-08T16:07:11.222Z"
   },
   {
    "duration": 7,
    "start_time": "2022-02-08T16:07:11.266Z"
   },
   {
    "duration": 22,
    "start_time": "2022-02-08T16:07:11.274Z"
   },
   {
    "duration": 10,
    "start_time": "2022-02-08T16:07:11.297Z"
   },
   {
    "duration": 429,
    "start_time": "2022-02-08T16:07:11.309Z"
   },
   {
    "duration": 412,
    "start_time": "2022-02-08T16:07:11.740Z"
   },
   {
    "duration": 327,
    "start_time": "2022-02-08T16:07:12.154Z"
   },
   {
    "duration": 347,
    "start_time": "2022-02-08T16:07:12.484Z"
   },
   {
    "duration": 274,
    "start_time": "2022-02-08T16:07:12.833Z"
   },
   {
    "duration": 491,
    "start_time": "2022-02-08T16:07:13.109Z"
   },
   {
    "duration": 8,
    "start_time": "2022-02-08T16:07:13.602Z"
   },
   {
    "duration": 15,
    "start_time": "2022-02-08T16:07:13.611Z"
   },
   {
    "duration": 18,
    "start_time": "2022-02-08T16:07:13.628Z"
   },
   {
    "duration": 22,
    "start_time": "2022-02-08T16:07:13.648Z"
   },
   {
    "duration": 14,
    "start_time": "2022-02-08T16:07:13.673Z"
   }
  ],
  "kernelspec": {
   "display_name": "Python 3",
   "language": "python",
   "name": "python3"
  },
  "language_info": {
   "codemirror_mode": {
    "name": "ipython",
    "version": 3
   },
   "file_extension": ".py",
   "mimetype": "text/x-python",
   "name": "python",
   "nbconvert_exporter": "python",
   "pygments_lexer": "ipython3",
   "version": "3.6.1"
  },
  "toc": {
   "base_numbering": 1,
   "nav_menu": {},
   "number_sections": true,
   "sideBar": true,
   "skip_h1_title": true,
   "title_cell": "Table of Contents",
   "title_sidebar": "Contents",
   "toc_cell": false,
   "toc_position": {
    "height": "calc(100% - 180px)",
    "left": "10px",
    "top": "150px",
    "width": "165px"
   },
   "toc_section_display": true,
   "toc_window_display": true
  }
 },
 "nbformat": 4,
 "nbformat_minor": 2
}
