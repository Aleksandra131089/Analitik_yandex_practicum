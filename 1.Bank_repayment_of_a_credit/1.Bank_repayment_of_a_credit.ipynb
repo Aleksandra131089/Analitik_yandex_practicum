{
 "cells": [
  {
   "cell_type": "markdown",
   "metadata": {},
   "source": [
    "# Исследование надёжности заёмщиков\n",
    "\n",
    "Заказчик — кредитный отдел банка. Нужно разобраться, влияет ли семейное положение и количество детей клиента на факт погашения кредита в срок. Входные данные от банка — статистика о платёжеспособности клиентов.\n",
    "\n",
    "Результаты исследования будут учтены при построении модели **кредитного скоринга** — специальной системы, которая оценивает способность потенциального заёмщика вернуть кредит банку."
   ]
  },
  {
   "cell_type": "markdown",
   "metadata": {},
   "source": [
    "## Шаг 1. Изучение данных"
   ]
  },
  {
   "cell_type": "code",
   "execution_count": 167,
   "metadata": {
    "collapsed": true,
    "scrolled": true
   },
   "outputs": [],
   "source": [
    "#подгружаем необходимые для работы библиотеки\n",
    "import pandas as pd\n",
    "\n",
    "from pymystem3 import Mystem\n",
    "m = Mystem()"
   ]
  },
  {
   "cell_type": "code",
   "execution_count": 168,
   "metadata": {},
   "outputs": [
    {
     "name": "stdout",
     "output_type": "stream",
     "text": [
      "<class 'pandas.core.frame.DataFrame'>\n",
      "RangeIndex: 21525 entries, 0 to 21524\n",
      "Data columns (total 12 columns):\n",
      "children            21525 non-null int64\n",
      "days_employed       19351 non-null float64\n",
      "dob_years           21525 non-null int64\n",
      "education           21525 non-null object\n",
      "education_id        21525 non-null int64\n",
      "family_status       21525 non-null object\n",
      "family_status_id    21525 non-null int64\n",
      "gender              21525 non-null object\n",
      "income_type         21525 non-null object\n",
      "debt                21525 non-null int64\n",
      "total_income        19351 non-null float64\n",
      "purpose             21525 non-null object\n",
      "dtypes: float64(2), int64(5), object(5)\n",
      "memory usage: 2.0+ MB\n"
     ]
    }
   ],
   "source": [
    "#читаем файл методом read_csv() и знакомимся с общей информацией\n",
    "try:\n",
    "    data = pd.read_csv(\"data.csv\")\n",
    "except:\n",
    "    data = pd.read_csv(\"/datasets/data.csv\")\n",
    "data.info()"
   ]
  },
  {
   "cell_type": "code",
   "execution_count": 169,
   "metadata": {
    "scrolled": true
   },
   "outputs": [
    {
     "data": {
      "text/html": [
       "<div>\n",
       "<style scoped>\n",
       "    .dataframe tbody tr th:only-of-type {\n",
       "        vertical-align: middle;\n",
       "    }\n",
       "\n",
       "    .dataframe tbody tr th {\n",
       "        vertical-align: top;\n",
       "    }\n",
       "\n",
       "    .dataframe thead th {\n",
       "        text-align: right;\n",
       "    }\n",
       "</style>\n",
       "<table border=\"1\" class=\"dataframe\">\n",
       "  <thead>\n",
       "    <tr style=\"text-align: right;\">\n",
       "      <th></th>\n",
       "      <th>children</th>\n",
       "      <th>days_employed</th>\n",
       "      <th>dob_years</th>\n",
       "      <th>education</th>\n",
       "      <th>education_id</th>\n",
       "      <th>family_status</th>\n",
       "      <th>family_status_id</th>\n",
       "      <th>gender</th>\n",
       "      <th>income_type</th>\n",
       "      <th>debt</th>\n",
       "      <th>total_income</th>\n",
       "      <th>purpose</th>\n",
       "    </tr>\n",
       "  </thead>\n",
       "  <tbody>\n",
       "    <tr>\n",
       "      <td>0</td>\n",
       "      <td>1</td>\n",
       "      <td>-8437.673028</td>\n",
       "      <td>42</td>\n",
       "      <td>высшее</td>\n",
       "      <td>0</td>\n",
       "      <td>женат / замужем</td>\n",
       "      <td>0</td>\n",
       "      <td>F</td>\n",
       "      <td>сотрудник</td>\n",
       "      <td>0</td>\n",
       "      <td>253875.639453</td>\n",
       "      <td>покупка жилья</td>\n",
       "    </tr>\n",
       "    <tr>\n",
       "      <td>1</td>\n",
       "      <td>1</td>\n",
       "      <td>-4024.803754</td>\n",
       "      <td>36</td>\n",
       "      <td>среднее</td>\n",
       "      <td>1</td>\n",
       "      <td>женат / замужем</td>\n",
       "      <td>0</td>\n",
       "      <td>F</td>\n",
       "      <td>сотрудник</td>\n",
       "      <td>0</td>\n",
       "      <td>112080.014102</td>\n",
       "      <td>приобретение автомобиля</td>\n",
       "    </tr>\n",
       "    <tr>\n",
       "      <td>2</td>\n",
       "      <td>0</td>\n",
       "      <td>-5623.422610</td>\n",
       "      <td>33</td>\n",
       "      <td>Среднее</td>\n",
       "      <td>1</td>\n",
       "      <td>женат / замужем</td>\n",
       "      <td>0</td>\n",
       "      <td>M</td>\n",
       "      <td>сотрудник</td>\n",
       "      <td>0</td>\n",
       "      <td>145885.952297</td>\n",
       "      <td>покупка жилья</td>\n",
       "    </tr>\n",
       "    <tr>\n",
       "      <td>3</td>\n",
       "      <td>3</td>\n",
       "      <td>-4124.747207</td>\n",
       "      <td>32</td>\n",
       "      <td>среднее</td>\n",
       "      <td>1</td>\n",
       "      <td>женат / замужем</td>\n",
       "      <td>0</td>\n",
       "      <td>M</td>\n",
       "      <td>сотрудник</td>\n",
       "      <td>0</td>\n",
       "      <td>267628.550329</td>\n",
       "      <td>дополнительное образование</td>\n",
       "    </tr>\n",
       "    <tr>\n",
       "      <td>4</td>\n",
       "      <td>0</td>\n",
       "      <td>340266.072047</td>\n",
       "      <td>53</td>\n",
       "      <td>среднее</td>\n",
       "      <td>1</td>\n",
       "      <td>гражданский брак</td>\n",
       "      <td>1</td>\n",
       "      <td>F</td>\n",
       "      <td>пенсионер</td>\n",
       "      <td>0</td>\n",
       "      <td>158616.077870</td>\n",
       "      <td>сыграть свадьбу</td>\n",
       "    </tr>\n",
       "    <tr>\n",
       "      <td>5</td>\n",
       "      <td>0</td>\n",
       "      <td>-926.185831</td>\n",
       "      <td>27</td>\n",
       "      <td>высшее</td>\n",
       "      <td>0</td>\n",
       "      <td>гражданский брак</td>\n",
       "      <td>1</td>\n",
       "      <td>M</td>\n",
       "      <td>компаньон</td>\n",
       "      <td>0</td>\n",
       "      <td>255763.565419</td>\n",
       "      <td>покупка жилья</td>\n",
       "    </tr>\n",
       "    <tr>\n",
       "      <td>6</td>\n",
       "      <td>0</td>\n",
       "      <td>-2879.202052</td>\n",
       "      <td>43</td>\n",
       "      <td>высшее</td>\n",
       "      <td>0</td>\n",
       "      <td>женат / замужем</td>\n",
       "      <td>0</td>\n",
       "      <td>F</td>\n",
       "      <td>компаньон</td>\n",
       "      <td>0</td>\n",
       "      <td>240525.971920</td>\n",
       "      <td>операции с жильем</td>\n",
       "    </tr>\n",
       "    <tr>\n",
       "      <td>7</td>\n",
       "      <td>0</td>\n",
       "      <td>-152.779569</td>\n",
       "      <td>50</td>\n",
       "      <td>СРЕДНЕЕ</td>\n",
       "      <td>1</td>\n",
       "      <td>женат / замужем</td>\n",
       "      <td>0</td>\n",
       "      <td>M</td>\n",
       "      <td>сотрудник</td>\n",
       "      <td>0</td>\n",
       "      <td>135823.934197</td>\n",
       "      <td>образование</td>\n",
       "    </tr>\n",
       "    <tr>\n",
       "      <td>8</td>\n",
       "      <td>2</td>\n",
       "      <td>-6929.865299</td>\n",
       "      <td>35</td>\n",
       "      <td>ВЫСШЕЕ</td>\n",
       "      <td>0</td>\n",
       "      <td>гражданский брак</td>\n",
       "      <td>1</td>\n",
       "      <td>F</td>\n",
       "      <td>сотрудник</td>\n",
       "      <td>0</td>\n",
       "      <td>95856.832424</td>\n",
       "      <td>на проведение свадьбы</td>\n",
       "    </tr>\n",
       "    <tr>\n",
       "      <td>9</td>\n",
       "      <td>0</td>\n",
       "      <td>-2188.756445</td>\n",
       "      <td>41</td>\n",
       "      <td>среднее</td>\n",
       "      <td>1</td>\n",
       "      <td>женат / замужем</td>\n",
       "      <td>0</td>\n",
       "      <td>M</td>\n",
       "      <td>сотрудник</td>\n",
       "      <td>0</td>\n",
       "      <td>144425.938277</td>\n",
       "      <td>покупка жилья для семьи</td>\n",
       "    </tr>\n",
       "    <tr>\n",
       "      <td>10</td>\n",
       "      <td>2</td>\n",
       "      <td>-4171.483647</td>\n",
       "      <td>36</td>\n",
       "      <td>высшее</td>\n",
       "      <td>0</td>\n",
       "      <td>женат / замужем</td>\n",
       "      <td>0</td>\n",
       "      <td>M</td>\n",
       "      <td>компаньон</td>\n",
       "      <td>0</td>\n",
       "      <td>113943.491460</td>\n",
       "      <td>покупка недвижимости</td>\n",
       "    </tr>\n",
       "    <tr>\n",
       "      <td>11</td>\n",
       "      <td>0</td>\n",
       "      <td>-792.701887</td>\n",
       "      <td>40</td>\n",
       "      <td>среднее</td>\n",
       "      <td>1</td>\n",
       "      <td>женат / замужем</td>\n",
       "      <td>0</td>\n",
       "      <td>F</td>\n",
       "      <td>сотрудник</td>\n",
       "      <td>0</td>\n",
       "      <td>77069.234271</td>\n",
       "      <td>покупка коммерческой недвижимости</td>\n",
       "    </tr>\n",
       "    <tr>\n",
       "      <td>12</td>\n",
       "      <td>0</td>\n",
       "      <td>NaN</td>\n",
       "      <td>65</td>\n",
       "      <td>среднее</td>\n",
       "      <td>1</td>\n",
       "      <td>гражданский брак</td>\n",
       "      <td>1</td>\n",
       "      <td>M</td>\n",
       "      <td>пенсионер</td>\n",
       "      <td>0</td>\n",
       "      <td>NaN</td>\n",
       "      <td>сыграть свадьбу</td>\n",
       "    </tr>\n",
       "    <tr>\n",
       "      <td>13</td>\n",
       "      <td>0</td>\n",
       "      <td>-1846.641941</td>\n",
       "      <td>54</td>\n",
       "      <td>неоконченное высшее</td>\n",
       "      <td>2</td>\n",
       "      <td>женат / замужем</td>\n",
       "      <td>0</td>\n",
       "      <td>F</td>\n",
       "      <td>сотрудник</td>\n",
       "      <td>0</td>\n",
       "      <td>130458.228857</td>\n",
       "      <td>приобретение автомобиля</td>\n",
       "    </tr>\n",
       "    <tr>\n",
       "      <td>14</td>\n",
       "      <td>0</td>\n",
       "      <td>-1844.956182</td>\n",
       "      <td>56</td>\n",
       "      <td>высшее</td>\n",
       "      <td>0</td>\n",
       "      <td>гражданский брак</td>\n",
       "      <td>1</td>\n",
       "      <td>F</td>\n",
       "      <td>компаньон</td>\n",
       "      <td>1</td>\n",
       "      <td>165127.911772</td>\n",
       "      <td>покупка жилой недвижимости</td>\n",
       "    </tr>\n",
       "  </tbody>\n",
       "</table>\n",
       "</div>"
      ],
      "text/plain": [
       "    children  days_employed  dob_years            education  education_id  \\\n",
       "0          1   -8437.673028         42               высшее             0   \n",
       "1          1   -4024.803754         36              среднее             1   \n",
       "2          0   -5623.422610         33              Среднее             1   \n",
       "3          3   -4124.747207         32              среднее             1   \n",
       "4          0  340266.072047         53              среднее             1   \n",
       "5          0    -926.185831         27               высшее             0   \n",
       "6          0   -2879.202052         43               высшее             0   \n",
       "7          0    -152.779569         50              СРЕДНЕЕ             1   \n",
       "8          2   -6929.865299         35               ВЫСШЕЕ             0   \n",
       "9          0   -2188.756445         41              среднее             1   \n",
       "10         2   -4171.483647         36               высшее             0   \n",
       "11         0    -792.701887         40              среднее             1   \n",
       "12         0            NaN         65              среднее             1   \n",
       "13         0   -1846.641941         54  неоконченное высшее             2   \n",
       "14         0   -1844.956182         56               высшее             0   \n",
       "\n",
       "       family_status  family_status_id gender income_type  debt  \\\n",
       "0    женат / замужем                 0      F   сотрудник     0   \n",
       "1    женат / замужем                 0      F   сотрудник     0   \n",
       "2    женат / замужем                 0      M   сотрудник     0   \n",
       "3    женат / замужем                 0      M   сотрудник     0   \n",
       "4   гражданский брак                 1      F   пенсионер     0   \n",
       "5   гражданский брак                 1      M   компаньон     0   \n",
       "6    женат / замужем                 0      F   компаньон     0   \n",
       "7    женат / замужем                 0      M   сотрудник     0   \n",
       "8   гражданский брак                 1      F   сотрудник     0   \n",
       "9    женат / замужем                 0      M   сотрудник     0   \n",
       "10   женат / замужем                 0      M   компаньон     0   \n",
       "11   женат / замужем                 0      F   сотрудник     0   \n",
       "12  гражданский брак                 1      M   пенсионер     0   \n",
       "13   женат / замужем                 0      F   сотрудник     0   \n",
       "14  гражданский брак                 1      F   компаньон     1   \n",
       "\n",
       "     total_income                            purpose  \n",
       "0   253875.639453                      покупка жилья  \n",
       "1   112080.014102            приобретение автомобиля  \n",
       "2   145885.952297                      покупка жилья  \n",
       "3   267628.550329         дополнительное образование  \n",
       "4   158616.077870                    сыграть свадьбу  \n",
       "5   255763.565419                      покупка жилья  \n",
       "6   240525.971920                  операции с жильем  \n",
       "7   135823.934197                        образование  \n",
       "8    95856.832424              на проведение свадьбы  \n",
       "9   144425.938277            покупка жилья для семьи  \n",
       "10  113943.491460               покупка недвижимости  \n",
       "11   77069.234271  покупка коммерческой недвижимости  \n",
       "12            NaN                    сыграть свадьбу  \n",
       "13  130458.228857            приобретение автомобиля  \n",
       "14  165127.911772         покупка жилой недвижимости  "
      ]
     },
     "metadata": {},
     "output_type": "display_data"
    }
   ],
   "source": [
    "#выводим на экран первые 15 строк датасета\n",
    "display(data.head(15))"
   ]
  },
  {
   "cell_type": "code",
   "execution_count": 170,
   "metadata": {},
   "outputs": [
    {
     "data": {
      "text/plain": [
       "children\n",
       "-1        47\n",
       " 0     14149\n",
       " 1      4818\n",
       " 2      2055\n",
       " 3       330\n",
       " 4        41\n",
       " 5         9\n",
       " 20       76\n",
       "Name: children, dtype: int64"
      ]
     },
     "execution_count": 170,
     "metadata": {},
     "output_type": "execute_result"
    }
   ],
   "source": [
    "#смотрим уникальные значения столбца \"children\"\n",
    "data.groupby(\"children\")[\"children\"].count()"
   ]
  },
  {
   "cell_type": "code",
   "execution_count": 171,
   "metadata": {},
   "outputs": [
    {
     "data": {
      "text/plain": [
       "401755.40047533"
      ]
     },
     "metadata": {},
     "output_type": "display_data"
    },
    {
     "data": {
      "text/plain": [
       "-18388.949900568383"
      ]
     },
     "metadata": {},
     "output_type": "display_data"
    }
   ],
   "source": [
    "#ознакамливаемся с граничными показаниями столбца \"days_employed\"\n",
    "display(data[\"days_employed\"].max())\n",
    "display(data[\"days_employed\"].min())"
   ]
  },
  {
   "cell_type": "code",
   "execution_count": 172,
   "metadata": {
    "scrolled": true
   },
   "outputs": [
    {
     "data": {
      "text/plain": [
       "array(['высшее', 'среднее', 'Среднее', 'СРЕДНЕЕ', 'ВЫСШЕЕ',\n",
       "       'неоконченное высшее', 'начальное', 'Высшее',\n",
       "       'НЕОКОНЧЕННОЕ ВЫСШЕЕ', 'Неоконченное высшее', 'НАЧАЛЬНОЕ',\n",
       "       'Начальное', 'Ученая степень', 'УЧЕНАЯ СТЕПЕНЬ', 'ученая степень'],\n",
       "      dtype=object)"
      ]
     },
     "execution_count": 172,
     "metadata": {},
     "output_type": "execute_result"
    }
   ],
   "source": [
    "#смотрим уникальные значения столбца \"education\"\n",
    "data[\"education\"].unique()"
   ]
  },
  {
   "cell_type": "code",
   "execution_count": 173,
   "metadata": {},
   "outputs": [
    {
     "data": {
      "text/plain": [
       "array(['женат / замужем', 'гражданский брак', 'вдовец / вдова',\n",
       "       'в разводе', 'Не женат / не замужем'], dtype=object)"
      ]
     },
     "execution_count": 173,
     "metadata": {},
     "output_type": "execute_result"
    }
   ],
   "source": [
    "#смотрим уникальные значения столбца \"family_status\"\n",
    "data[\"family_status\"].unique()"
   ]
  },
  {
   "cell_type": "code",
   "execution_count": 174,
   "metadata": {},
   "outputs": [
    {
     "data": {
      "text/plain": [
       "array(['сотрудник', 'пенсионер', 'компаньон', 'госслужащий',\n",
       "       'безработный', 'предприниматель', 'студент', 'в декрете'],\n",
       "      dtype=object)"
      ]
     },
     "execution_count": 174,
     "metadata": {},
     "output_type": "execute_result"
    }
   ],
   "source": [
    "#смотрим уникальные значения столбца \"income_type\"\n",
    "data[\"income_type\"].unique()"
   ]
  },
  {
   "cell_type": "code",
   "execution_count": 175,
   "metadata": {},
   "outputs": [
    {
     "data": {
      "text/plain": [
       "2265604.028722744"
      ]
     },
     "metadata": {},
     "output_type": "display_data"
    },
    {
     "data": {
      "text/plain": [
       "20667.26379327158"
      ]
     },
     "metadata": {},
     "output_type": "display_data"
    }
   ],
   "source": [
    "#ознакамливаемся с граничными показаниями столбца \"total_income\t\"\n",
    "display(data[\"total_income\"].max())\n",
    "display(data[\"total_income\"].min())"
   ]
  },
  {
   "cell_type": "markdown",
   "metadata": {},
   "source": [
    "**Вывод**"
   ]
  },
  {
   "cell_type": "markdown",
   "metadata": {},
   "source": [
    "Т.к. проект можно выполнять как на домашнем компьютере, так и в окружении практикума процесс считывания файла поместили в связку try-except, чтобы датасет мог считываться в любом случае и программа не выдавала ошибку. \n",
    "\n",
    "В датафрейме 21525 строк в 12 колонках. Используются числовые и строковые типы данных.\n",
    "\n",
    "Из информацию к проекту мы знаем, что означают столбцы датасета:\n",
    "- `children` — количество детей в семье\n",
    "- `days_employed` — общий трудовой стаж в днях\n",
    "- `dob_years` — возраст клиента в годах\n",
    "- `education` — уровень образования клиента\n",
    "- `education_id` — идентификатор уровня образования\n",
    "- `family_status` — семейное положение\n",
    "- `family_status_id` — идентификатор семейного положения\n",
    "- `gender` — пол клиента\n",
    "- `income_type` — тип занятости\n",
    "- `debt` — имел ли задолженность по возврату кредитов\n",
    "- `total_income` — ежемесячный доход\n",
    "- `purpose` — цель получения кредита\n",
    "\n",
    "После первичного ознакомления с данными таблицы можно увидеть некоторые проблемы в данных, а именно: \n",
    "- в столбце **\"days_employed\"** и  **\"total_income\"** есть пропущенные значения типа NaN. Также столбец **\"days_employed\"**, в котором указан стаж работы заемщика в днях логично перевести из вещественного типа в целочисленный. \n",
    "- в столбце **\"education\"** использован верхний и нижний регистр из-за чего некоторые виды образования дублируются, \n",
    "- в столбце **\"purpose\"** данные, по всей вероятности вносились вручную, поэтому необходимо будет провести лемматизацию, для того чтобы разбить цели, на которые брался кредит по группам. \n",
    "\n",
    "Если копать глубже то вызывает вопрос почему большинство значений в столбце **\"days_employed\"** отрицательные. Возможно это ошибка выгрузки, как и наличие неправдоподобного стажа в 401755дней, что приблизительно равно 1116годам работы. Но т.к.этот столбец не является основным для выполнения проекта можно не применять к нему метод `abs()` и не вычленять артефакты.\n",
    "Еще ошибки есть в столбце **\"children\"**, т.к.вызывает сомнение наличие в семье 20 детей(встречается 76 раз) или значение \"-1\"(встречается 47 раз). Считаю что эти ошибки возникли при вводе данных, но нам интересно именно наличие или отсутствие детей, поэтому оставим эти данные без изменения."
   ]
  },
  {
   "cell_type": "markdown",
   "metadata": {},
   "source": [
    "## Шаг 2. Предобработка данных"
   ]
  },
  {
   "cell_type": "markdown",
   "metadata": {},
   "source": [
    "### Обработка пропусков"
   ]
  },
  {
   "cell_type": "code",
   "execution_count": 176,
   "metadata": {},
   "outputs": [
    {
     "name": "stdout",
     "output_type": "stream",
     "text": [
      "<class 'pandas.core.frame.DataFrame'>\n",
      "RangeIndex: 21525 entries, 0 to 21524\n",
      "Data columns (total 12 columns):\n",
      "children            21525 non-null int64\n",
      "days_employed       21525 non-null float64\n",
      "dob_years           21525 non-null int64\n",
      "education           21525 non-null object\n",
      "education_id        21525 non-null int64\n",
      "family_status       21525 non-null object\n",
      "family_status_id    21525 non-null int64\n",
      "gender              21525 non-null object\n",
      "income_type         21525 non-null object\n",
      "debt                21525 non-null int64\n",
      "total_income        21525 non-null float64\n",
      "purpose             21525 non-null object\n",
      "dtypes: float64(2), int64(5), object(5)\n",
      "memory usage: 2.0+ MB\n"
     ]
    }
   ],
   "source": [
    "#пропуска в столбцах \"days_employed\" и \"total_income\" заменяем средним и медианным значением соответственно\n",
    "data[\"days_employed\"] = data[\"days_employed\"].fillna(data[\"days_employed\"].mean())\n",
    "data[\"total_income\"] = data[\"total_income\"].fillna(data.groupby(\"income_type\")[\"total_income\"].transform(\"median\"))\n",
    "\n",
    "data.info()"
   ]
  },
  {
   "cell_type": "markdown",
   "metadata": {},
   "source": [
    "**Вывод**"
   ]
  },
  {
   "cell_type": "markdown",
   "metadata": {},
   "source": [
    "   Пропуска в столбцах **\"days_employed\"** и **\"total_income\"** составляют больше 2тысяч строк, что равно приблизительно 10% от всего массива данных. Удалять такой большой кусок информации нецелесообразно, поэтому применяем метод `fillna()` для заполнения пустых ячеек. В столбце **\"days_employed\"** заполнили пропуски средними значениями, а в столбце **\"total_income\"** заменив их медианными значениями для каждой из групп по типу занятости, т.к.разброс дохода у безработного и допустим предпринимателя может быть значительным."
   ]
  },
  {
   "cell_type": "markdown",
   "metadata": {},
   "source": [
    "### Замена типа данных"
   ]
  },
  {
   "cell_type": "code",
   "execution_count": 177,
   "metadata": {},
   "outputs": [
    {
     "name": "stdout",
     "output_type": "stream",
     "text": [
      "<class 'pandas.core.frame.DataFrame'>\n",
      "RangeIndex: 21525 entries, 0 to 21524\n",
      "Data columns (total 12 columns):\n",
      "children            21525 non-null int64\n",
      "days_employed       21525 non-null int64\n",
      "dob_years           21525 non-null int64\n",
      "education           21525 non-null object\n",
      "education_id        21525 non-null int64\n",
      "family_status       21525 non-null object\n",
      "family_status_id    21525 non-null int64\n",
      "gender              21525 non-null object\n",
      "income_type         21525 non-null object\n",
      "debt                21525 non-null int64\n",
      "total_income        21525 non-null float64\n",
      "purpose             21525 non-null object\n",
      "dtypes: float64(1), int64(6), object(5)\n",
      "memory usage: 2.0+ MB\n"
     ]
    }
   ],
   "source": [
    "#переводим столбец \"days_employed\" в целочисленный формат\n",
    "data[\"days_employed\"] = data[\"days_employed\"].astype(\"int\")\n",
    "\n",
    "data.info()"
   ]
  },
  {
   "cell_type": "markdown",
   "metadata": {},
   "source": [
    "**Вывод**"
   ]
  },
  {
   "cell_type": "markdown",
   "metadata": {},
   "source": [
    "С помощью метода `astype()` с аргументом `int` меняем тип данных в столбце **\"days_employed\"** на целочисленный."
   ]
  },
  {
   "cell_type": "markdown",
   "metadata": {},
   "source": [
    "### Обработка дубликатов"
   ]
  },
  {
   "cell_type": "code",
   "execution_count": 178,
   "metadata": {
    "collapsed": true
   },
   "outputs": [],
   "source": [
    "#приводим данные в столбце \"education\" к нижнему регистру\n",
    "data[\"education\"] = data[\"education\"].str.lower()"
   ]
  },
  {
   "cell_type": "code",
   "execution_count": 179,
   "metadata": {},
   "outputs": [
    {
     "data": {
      "text/plain": [
       "71"
      ]
     },
     "execution_count": 179,
     "metadata": {},
     "output_type": "execute_result"
    }
   ],
   "source": [
    "#проверяем датасет на наличие явных дубликатов\n",
    "data.duplicated().sum()"
   ]
  },
  {
   "cell_type": "code",
   "execution_count": 180,
   "metadata": {},
   "outputs": [
    {
     "data": {
      "text/plain": [
       "(21454, 12)"
      ]
     },
     "execution_count": 180,
     "metadata": {},
     "output_type": "execute_result"
    }
   ],
   "source": [
    "#удаляем явные дубликаты и делаем переиндексацию строк\n",
    "data = data.drop_duplicates().reset_index(drop=True)\n",
    "data.shape"
   ]
  },
  {
   "cell_type": "markdown",
   "metadata": {},
   "source": [
    "**Вывод**"
   ]
  },
  {
   "cell_type": "markdown",
   "metadata": {},
   "source": [
    "Проверка явных дубликатов показала их в количестве 71. Так как 71 это ничтожно малое число из выборки в 21525 строк мы можем себе позволить избавиться от этих дубликатов. Методом `drop_duplicates()` избавляемся от них. Если бы количество дубликатов угрожало точности исследования необходимо было бы разбираться что это: ошибка выгрузки или человеческий фактор и исправлять данные. Методом `reset_index(drop=True)` переиндексируем строки датафрейма."
   ]
  },
  {
   "cell_type": "markdown",
   "metadata": {},
   "source": [
    "### Лемматизация"
   ]
  },
  {
   "cell_type": "code",
   "execution_count": 181,
   "metadata": {
    "collapsed": true
   },
   "outputs": [],
   "source": [
    "#пишем функцию для лемматизации столбца с целями кредита\n",
    "def lemma(row):\n",
    "    lemmas_purpose = m.lemmatize(row[\"purpose\"])\n",
    "    if \"автомобиль\" in lemmas_purpose:\n",
    "        return \"автомобиль\"\n",
    "    if (\"жилье\" in lemmas_purpose) or (\"недвижимость\" in lemmas_purpose):\n",
    "        return \"недвижимость\"\n",
    "    if \"свадьба\" in lemmas_purpose:\n",
    "        return \"свадьба\"\n",
    "    if \"образование\" in lemmas_purpose:\n",
    "        return \"образование\"\n"
   ]
  },
  {
   "cell_type": "markdown",
   "metadata": {},
   "source": [
    "**Вывод**"
   ]
  },
  {
   "cell_type": "markdown",
   "metadata": {},
   "source": [
    "Еще при первоначальном ознакомлении с таблицей было замечено, что столбец с целями на которые берется кредит заполнен очень разрозненной информацией. Для того чтобы выделить основные категории целей необходимо провести лемматизацию. Так как лемматизировать нам нужно целый столбец напишем свою функцию, которая будет перебирать значения в столбце **\"purpose\"** и возвращать лемматизированные формы слова. "
   ]
  },
  {
   "cell_type": "markdown",
   "metadata": {},
   "source": [
    "### Категоризация данных"
   ]
  },
  {
   "cell_type": "code",
   "execution_count": 182,
   "metadata": {
    "collapsed": true
   },
   "outputs": [],
   "source": [
    "#применяем функцию для категоризации целей и создания нового столбца в датафрейме\n",
    "data[\"purpose_category\"] = data.apply(lemma,axis=1)"
   ]
  },
  {
   "cell_type": "code",
   "execution_count": 183,
   "metadata": {
    "collapsed": true
   },
   "outputs": [],
   "source": [
    "#пишем и применяем функцию для категоризации семей с детьми и без\n",
    "def child (row):\n",
    "    if row == 0:\n",
    "        return \"бездетные\"\n",
    "    else:\n",
    "        return \"есть дети\"\n",
    "\n",
    "data[\"children_category\"] = data[\"children\"].apply(child)"
   ]
  },
  {
   "cell_type": "code",
   "execution_count": 184,
   "metadata": {},
   "outputs": [
    {
     "data": {
      "text/html": [
       "<div>\n",
       "<style scoped>\n",
       "    .dataframe tbody tr th:only-of-type {\n",
       "        vertical-align: middle;\n",
       "    }\n",
       "\n",
       "    .dataframe tbody tr th {\n",
       "        vertical-align: top;\n",
       "    }\n",
       "\n",
       "    .dataframe thead th {\n",
       "        text-align: right;\n",
       "    }\n",
       "</style>\n",
       "<table border=\"1\" class=\"dataframe\">\n",
       "  <thead>\n",
       "    <tr style=\"text-align: right;\">\n",
       "      <th></th>\n",
       "      <th>children</th>\n",
       "      <th>days_employed</th>\n",
       "      <th>dob_years</th>\n",
       "      <th>education</th>\n",
       "      <th>education_id</th>\n",
       "      <th>family_status</th>\n",
       "      <th>family_status_id</th>\n",
       "      <th>gender</th>\n",
       "      <th>income_type</th>\n",
       "      <th>debt</th>\n",
       "      <th>total_income</th>\n",
       "      <th>purpose</th>\n",
       "      <th>purpose_category</th>\n",
       "      <th>children_category</th>\n",
       "      <th>income_level</th>\n",
       "    </tr>\n",
       "  </thead>\n",
       "  <tbody>\n",
       "    <tr>\n",
       "      <td>0</td>\n",
       "      <td>1</td>\n",
       "      <td>-8437</td>\n",
       "      <td>42</td>\n",
       "      <td>высшее</td>\n",
       "      <td>0</td>\n",
       "      <td>женат / замужем</td>\n",
       "      <td>0</td>\n",
       "      <td>F</td>\n",
       "      <td>сотрудник</td>\n",
       "      <td>0</td>\n",
       "      <td>253875.639453</td>\n",
       "      <td>покупка жилья</td>\n",
       "      <td>недвижимость</td>\n",
       "      <td>есть дети</td>\n",
       "      <td>выше среднего</td>\n",
       "    </tr>\n",
       "    <tr>\n",
       "      <td>1</td>\n",
       "      <td>1</td>\n",
       "      <td>-4024</td>\n",
       "      <td>36</td>\n",
       "      <td>среднее</td>\n",
       "      <td>1</td>\n",
       "      <td>женат / замужем</td>\n",
       "      <td>0</td>\n",
       "      <td>F</td>\n",
       "      <td>сотрудник</td>\n",
       "      <td>0</td>\n",
       "      <td>112080.014102</td>\n",
       "      <td>приобретение автомобиля</td>\n",
       "      <td>автомобиль</td>\n",
       "      <td>есть дети</td>\n",
       "      <td>предсредний класс</td>\n",
       "    </tr>\n",
       "    <tr>\n",
       "      <td>2</td>\n",
       "      <td>0</td>\n",
       "      <td>-5623</td>\n",
       "      <td>33</td>\n",
       "      <td>среднее</td>\n",
       "      <td>1</td>\n",
       "      <td>женат / замужем</td>\n",
       "      <td>0</td>\n",
       "      <td>M</td>\n",
       "      <td>сотрудник</td>\n",
       "      <td>0</td>\n",
       "      <td>145885.952297</td>\n",
       "      <td>покупка жилья</td>\n",
       "      <td>недвижимость</td>\n",
       "      <td>бездетные</td>\n",
       "      <td>предсредний класс</td>\n",
       "    </tr>\n",
       "    <tr>\n",
       "      <td>3</td>\n",
       "      <td>3</td>\n",
       "      <td>-4124</td>\n",
       "      <td>32</td>\n",
       "      <td>среднее</td>\n",
       "      <td>1</td>\n",
       "      <td>женат / замужем</td>\n",
       "      <td>0</td>\n",
       "      <td>M</td>\n",
       "      <td>сотрудник</td>\n",
       "      <td>0</td>\n",
       "      <td>267628.550329</td>\n",
       "      <td>дополнительное образование</td>\n",
       "      <td>образование</td>\n",
       "      <td>есть дети</td>\n",
       "      <td>выше среднего</td>\n",
       "    </tr>\n",
       "    <tr>\n",
       "      <td>4</td>\n",
       "      <td>0</td>\n",
       "      <td>340266</td>\n",
       "      <td>53</td>\n",
       "      <td>среднее</td>\n",
       "      <td>1</td>\n",
       "      <td>гражданский брак</td>\n",
       "      <td>1</td>\n",
       "      <td>F</td>\n",
       "      <td>пенсионер</td>\n",
       "      <td>0</td>\n",
       "      <td>158616.077870</td>\n",
       "      <td>сыграть свадьбу</td>\n",
       "      <td>свадьба</td>\n",
       "      <td>бездетные</td>\n",
       "      <td>средний класс</td>\n",
       "    </tr>\n",
       "    <tr>\n",
       "      <td>5</td>\n",
       "      <td>0</td>\n",
       "      <td>-926</td>\n",
       "      <td>27</td>\n",
       "      <td>высшее</td>\n",
       "      <td>0</td>\n",
       "      <td>гражданский брак</td>\n",
       "      <td>1</td>\n",
       "      <td>M</td>\n",
       "      <td>компаньон</td>\n",
       "      <td>0</td>\n",
       "      <td>255763.565419</td>\n",
       "      <td>покупка жилья</td>\n",
       "      <td>недвижимость</td>\n",
       "      <td>бездетные</td>\n",
       "      <td>выше среднего</td>\n",
       "    </tr>\n",
       "    <tr>\n",
       "      <td>6</td>\n",
       "      <td>0</td>\n",
       "      <td>-2879</td>\n",
       "      <td>43</td>\n",
       "      <td>высшее</td>\n",
       "      <td>0</td>\n",
       "      <td>женат / замужем</td>\n",
       "      <td>0</td>\n",
       "      <td>F</td>\n",
       "      <td>компаньон</td>\n",
       "      <td>0</td>\n",
       "      <td>240525.971920</td>\n",
       "      <td>операции с жильем</td>\n",
       "      <td>недвижимость</td>\n",
       "      <td>бездетные</td>\n",
       "      <td>средний класс</td>\n",
       "    </tr>\n",
       "    <tr>\n",
       "      <td>7</td>\n",
       "      <td>0</td>\n",
       "      <td>-152</td>\n",
       "      <td>50</td>\n",
       "      <td>среднее</td>\n",
       "      <td>1</td>\n",
       "      <td>женат / замужем</td>\n",
       "      <td>0</td>\n",
       "      <td>M</td>\n",
       "      <td>сотрудник</td>\n",
       "      <td>0</td>\n",
       "      <td>135823.934197</td>\n",
       "      <td>образование</td>\n",
       "      <td>образование</td>\n",
       "      <td>бездетные</td>\n",
       "      <td>предсредний класс</td>\n",
       "    </tr>\n",
       "    <tr>\n",
       "      <td>8</td>\n",
       "      <td>2</td>\n",
       "      <td>-6929</td>\n",
       "      <td>35</td>\n",
       "      <td>высшее</td>\n",
       "      <td>0</td>\n",
       "      <td>гражданский брак</td>\n",
       "      <td>1</td>\n",
       "      <td>F</td>\n",
       "      <td>сотрудник</td>\n",
       "      <td>0</td>\n",
       "      <td>95856.832424</td>\n",
       "      <td>на проведение свадьбы</td>\n",
       "      <td>свадьба</td>\n",
       "      <td>есть дети</td>\n",
       "      <td>предсредний класс</td>\n",
       "    </tr>\n",
       "    <tr>\n",
       "      <td>9</td>\n",
       "      <td>0</td>\n",
       "      <td>-2188</td>\n",
       "      <td>41</td>\n",
       "      <td>среднее</td>\n",
       "      <td>1</td>\n",
       "      <td>женат / замужем</td>\n",
       "      <td>0</td>\n",
       "      <td>M</td>\n",
       "      <td>сотрудник</td>\n",
       "      <td>0</td>\n",
       "      <td>144425.938277</td>\n",
       "      <td>покупка жилья для семьи</td>\n",
       "      <td>недвижимость</td>\n",
       "      <td>бездетные</td>\n",
       "      <td>предсредний класс</td>\n",
       "    </tr>\n",
       "    <tr>\n",
       "      <td>10</td>\n",
       "      <td>2</td>\n",
       "      <td>-4171</td>\n",
       "      <td>36</td>\n",
       "      <td>высшее</td>\n",
       "      <td>0</td>\n",
       "      <td>женат / замужем</td>\n",
       "      <td>0</td>\n",
       "      <td>M</td>\n",
       "      <td>компаньон</td>\n",
       "      <td>0</td>\n",
       "      <td>113943.491460</td>\n",
       "      <td>покупка недвижимости</td>\n",
       "      <td>недвижимость</td>\n",
       "      <td>есть дети</td>\n",
       "      <td>предсредний класс</td>\n",
       "    </tr>\n",
       "    <tr>\n",
       "      <td>11</td>\n",
       "      <td>0</td>\n",
       "      <td>-792</td>\n",
       "      <td>40</td>\n",
       "      <td>среднее</td>\n",
       "      <td>1</td>\n",
       "      <td>женат / замужем</td>\n",
       "      <td>0</td>\n",
       "      <td>F</td>\n",
       "      <td>сотрудник</td>\n",
       "      <td>0</td>\n",
       "      <td>77069.234271</td>\n",
       "      <td>покупка коммерческой недвижимости</td>\n",
       "      <td>недвижимость</td>\n",
       "      <td>бездетные</td>\n",
       "      <td>предсредний класс</td>\n",
       "    </tr>\n",
       "    <tr>\n",
       "      <td>12</td>\n",
       "      <td>0</td>\n",
       "      <td>63046</td>\n",
       "      <td>65</td>\n",
       "      <td>среднее</td>\n",
       "      <td>1</td>\n",
       "      <td>гражданский брак</td>\n",
       "      <td>1</td>\n",
       "      <td>M</td>\n",
       "      <td>пенсионер</td>\n",
       "      <td>0</td>\n",
       "      <td>118514.486412</td>\n",
       "      <td>сыграть свадьбу</td>\n",
       "      <td>свадьба</td>\n",
       "      <td>бездетные</td>\n",
       "      <td>предсредний класс</td>\n",
       "    </tr>\n",
       "    <tr>\n",
       "      <td>13</td>\n",
       "      <td>0</td>\n",
       "      <td>-1846</td>\n",
       "      <td>54</td>\n",
       "      <td>неоконченное высшее</td>\n",
       "      <td>2</td>\n",
       "      <td>женат / замужем</td>\n",
       "      <td>0</td>\n",
       "      <td>F</td>\n",
       "      <td>сотрудник</td>\n",
       "      <td>0</td>\n",
       "      <td>130458.228857</td>\n",
       "      <td>приобретение автомобиля</td>\n",
       "      <td>автомобиль</td>\n",
       "      <td>бездетные</td>\n",
       "      <td>предсредний класс</td>\n",
       "    </tr>\n",
       "    <tr>\n",
       "      <td>14</td>\n",
       "      <td>0</td>\n",
       "      <td>-1844</td>\n",
       "      <td>56</td>\n",
       "      <td>высшее</td>\n",
       "      <td>0</td>\n",
       "      <td>гражданский брак</td>\n",
       "      <td>1</td>\n",
       "      <td>F</td>\n",
       "      <td>компаньон</td>\n",
       "      <td>1</td>\n",
       "      <td>165127.911772</td>\n",
       "      <td>покупка жилой недвижимости</td>\n",
       "      <td>недвижимость</td>\n",
       "      <td>бездетные</td>\n",
       "      <td>средний класс</td>\n",
       "    </tr>\n",
       "  </tbody>\n",
       "</table>\n",
       "</div>"
      ],
      "text/plain": [
       "    children  days_employed  dob_years            education  education_id  \\\n",
       "0          1          -8437         42               высшее             0   \n",
       "1          1          -4024         36              среднее             1   \n",
       "2          0          -5623         33              среднее             1   \n",
       "3          3          -4124         32              среднее             1   \n",
       "4          0         340266         53              среднее             1   \n",
       "5          0           -926         27               высшее             0   \n",
       "6          0          -2879         43               высшее             0   \n",
       "7          0           -152         50              среднее             1   \n",
       "8          2          -6929         35               высшее             0   \n",
       "9          0          -2188         41              среднее             1   \n",
       "10         2          -4171         36               высшее             0   \n",
       "11         0           -792         40              среднее             1   \n",
       "12         0          63046         65              среднее             1   \n",
       "13         0          -1846         54  неоконченное высшее             2   \n",
       "14         0          -1844         56               высшее             0   \n",
       "\n",
       "       family_status  family_status_id gender income_type  debt  \\\n",
       "0    женат / замужем                 0      F   сотрудник     0   \n",
       "1    женат / замужем                 0      F   сотрудник     0   \n",
       "2    женат / замужем                 0      M   сотрудник     0   \n",
       "3    женат / замужем                 0      M   сотрудник     0   \n",
       "4   гражданский брак                 1      F   пенсионер     0   \n",
       "5   гражданский брак                 1      M   компаньон     0   \n",
       "6    женат / замужем                 0      F   компаньон     0   \n",
       "7    женат / замужем                 0      M   сотрудник     0   \n",
       "8   гражданский брак                 1      F   сотрудник     0   \n",
       "9    женат / замужем                 0      M   сотрудник     0   \n",
       "10   женат / замужем                 0      M   компаньон     0   \n",
       "11   женат / замужем                 0      F   сотрудник     0   \n",
       "12  гражданский брак                 1      M   пенсионер     0   \n",
       "13   женат / замужем                 0      F   сотрудник     0   \n",
       "14  гражданский брак                 1      F   компаньон     1   \n",
       "\n",
       "     total_income                            purpose purpose_category  \\\n",
       "0   253875.639453                      покупка жилья     недвижимость   \n",
       "1   112080.014102            приобретение автомобиля       автомобиль   \n",
       "2   145885.952297                      покупка жилья     недвижимость   \n",
       "3   267628.550329         дополнительное образование      образование   \n",
       "4   158616.077870                    сыграть свадьбу          свадьба   \n",
       "5   255763.565419                      покупка жилья     недвижимость   \n",
       "6   240525.971920                  операции с жильем     недвижимость   \n",
       "7   135823.934197                        образование      образование   \n",
       "8    95856.832424              на проведение свадьбы          свадьба   \n",
       "9   144425.938277            покупка жилья для семьи     недвижимость   \n",
       "10  113943.491460               покупка недвижимости     недвижимость   \n",
       "11   77069.234271  покупка коммерческой недвижимости     недвижимость   \n",
       "12  118514.486412                    сыграть свадьбу          свадьба   \n",
       "13  130458.228857            приобретение автомобиля       автомобиль   \n",
       "14  165127.911772         покупка жилой недвижимости     недвижимость   \n",
       "\n",
       "   children_category       income_level  \n",
       "0          есть дети      выше среднего  \n",
       "1          есть дети  предсредний класс  \n",
       "2          бездетные  предсредний класс  \n",
       "3          есть дети      выше среднего  \n",
       "4          бездетные      средний класс  \n",
       "5          бездетные      выше среднего  \n",
       "6          бездетные      средний класс  \n",
       "7          бездетные  предсредний класс  \n",
       "8          есть дети  предсредний класс  \n",
       "9          бездетные  предсредний класс  \n",
       "10         есть дети  предсредний класс  \n",
       "11         бездетные  предсредний класс  \n",
       "12         бездетные  предсредний класс  \n",
       "13         бездетные  предсредний класс  \n",
       "14         бездетные      средний класс  "
      ]
     },
     "metadata": {},
     "output_type": "display_data"
    }
   ],
   "source": [
    "#пишем функцию, которая разделит заемщиков на категории по уровню дохода\n",
    "def income_level (row):\n",
    "    if row <=36000:\n",
    "        return \"бедные и выше бедности\"\n",
    "    if (row > 36000) and (row <=150000):\n",
    "        return \"предсредний класс\"\n",
    "    if (row > 150000) and (row <=250000):\n",
    "        return \"средний класс\"\n",
    "    if (row > 250000) and (row <=500000):\n",
    "        return \"выше среднего\"\n",
    "    else:\n",
    "        return \"богатые\"\n",
    "\n",
    "data[\"income_level\"] = data[\"total_income\"].apply(income_level)\n",
    "\n",
    "display(data.head(15))"
   ]
  },
  {
   "cell_type": "markdown",
   "metadata": {},
   "source": [
    "**Вывод**"
   ]
  },
  {
   "cell_type": "markdown",
   "metadata": {},
   "source": [
    "Для того чтобы ответить на вопросы исследования, а именно как влияют цели кредита, наличие детей и уровень дохода на возврат кредита в срок проводим категоризацию соответствующих колонок. В дальнейшем это поможет удобно их группировать и проводить расчеты. Cоздадим новый столбец **\"purpose_category\"**, в который благодаря методу `apply()` будут попадать категоризированые цели кредита. Далее создадим функцию, которая распределит заемщиков на тех кто имеет детей и кто нет. \n",
    "\n",
    "С тем как категоризировать цели и наличие детей вопросов не возникает, но в исходных данных не указано, на какие категории по уровню дохода необходимо разделить заемщиков. В идеале нужно обратиться к заказчику исследования и уточнить какие категории выделять. Но т.к.в учебном проекте мы не коммуницируем с заказчиком будем опираться на распределение указаное в статье [Яндекс.Дзен](https://zen.yandex.ru/media/dogecrypto/kak-poschitat-k-kakomu-klassu-vy-otnosites-po-urovniu-dohoda-5b150b5aea0fe700a848e1b1) сократив количество категорий до 5."
   ]
  },
  {
   "cell_type": "markdown",
   "metadata": {},
   "source": [
    "## Шаг 3. Ответьте на вопросы"
   ]
  },
  {
   "cell_type": "markdown",
   "metadata": {},
   "source": [
    "- Есть ли зависимость между наличием детей и возвратом кредита в срок?"
   ]
  },
  {
   "cell_type": "code",
   "execution_count": 185,
   "metadata": {},
   "outputs": [
    {
     "data": {
      "text/html": [
       "<style  type=\"text/css\" >\n",
       "</style><table id=\"T_43328d88_7160_11ec_b384_02420a39d411\" ><thead>    <tr>        <th class=\"blank level0\" ></th>        <th class=\"col_heading level0 col0\" >не было задолженности</th>        <th class=\"col_heading level0 col1\" >была задолженность</th>        <th class=\"col_heading level0 col2\" >процент заемщиков с задолженностью</th>    </tr>    <tr>        <th class=\"index_name level0\" >children_category</th>        <th class=\"blank\" ></th>        <th class=\"blank\" ></th>        <th class=\"blank\" ></th>    </tr></thead><tbody>\n",
       "                <tr>\n",
       "                        <th id=\"T_43328d88_7160_11ec_b384_02420a39d411level0_row0\" class=\"row_heading level0 row0\" >бездетные</th>\n",
       "                        <td id=\"T_43328d88_7160_11ec_b384_02420a39d411row0_col0\" class=\"data row0 col0\" >13028</td>\n",
       "                        <td id=\"T_43328d88_7160_11ec_b384_02420a39d411row0_col1\" class=\"data row0 col1\" >1063</td>\n",
       "                        <td id=\"T_43328d88_7160_11ec_b384_02420a39d411row0_col2\" class=\"data row0 col2\" >7.54%</td>\n",
       "            </tr>\n",
       "            <tr>\n",
       "                        <th id=\"T_43328d88_7160_11ec_b384_02420a39d411level0_row1\" class=\"row_heading level0 row1\" >есть дети</th>\n",
       "                        <td id=\"T_43328d88_7160_11ec_b384_02420a39d411row1_col0\" class=\"data row1 col0\" >6685</td>\n",
       "                        <td id=\"T_43328d88_7160_11ec_b384_02420a39d411row1_col1\" class=\"data row1 col1\" >678</td>\n",
       "                        <td id=\"T_43328d88_7160_11ec_b384_02420a39d411row1_col2\" class=\"data row1 col2\" >9.21%</td>\n",
       "            </tr>\n",
       "    </tbody></table>"
      ],
      "text/plain": [
       "<pandas.io.formats.style.Styler at 0x7f438dfa7dd0>"
      ]
     },
     "execution_count": 185,
     "metadata": {},
     "output_type": "execute_result"
    }
   ],
   "source": [
    "#создадим новую таблицу для работы с зависимостью возврата кредита от наличия детей\n",
    "children_and_debt = data[[\"children\",\"children_category\",\"debt\"]]\n",
    "\n",
    "#сделаем сводную таблицу по категориям\n",
    "children_and_debt_pivot = children_and_debt.pivot_table(index=\"children_category\",columns=\"debt\",values=\"children\", aggfunc='count')\n",
    "\n",
    "#выясним какой процент заемщиков имеет задолженность по каждой категории\n",
    "children_and_debt_pivot[\"percent_debt\"] = (children_and_debt_pivot[1] / (children_and_debt_pivot[0] + children_and_debt_pivot[1])) * 100\n",
    "\n",
    "#переименуем столбцы для наглядности\n",
    "children_and_debt_pivot.set_axis([\"не было задолженности\",\"была задолженность\",\"процент заемщиков с задолженностью\"],axis=\"columns\",inplace=True)\n",
    "\n",
    "#отформатируем колонку с процентами, оставив 2 знака после запятой\n",
    "children_and_debt_pivot.style.format({\"процент заемщиков с задолженностью\":\"{:.2f}%\"})\n"
   ]
  },
  {
   "cell_type": "markdown",
   "metadata": {},
   "source": [
    "**Вывод**"
   ]
  },
  {
   "cell_type": "markdown",
   "metadata": {},
   "source": [
    "Предположим что в столбце **\"debt\"** 0 - принимает значение если заемщик не имел задолженности по кредиту, а 1 - если имел. Хотя эту информацию следует уточнять у разработчиков или искать в документации. Тогда путем вычислений мы можем определить что среди семей с детьми процент должников выше чем у семей без детей. Как мне кажется целесообразно было бы посмотреть как меняется этот показатель еще и от количества детей, а не просто от их наличия. Но так как по заданию нам необходимо определить зависимость от наличия детей впринципе, то произведенных манипуляций достаточно."
   ]
  },
  {
   "cell_type": "markdown",
   "metadata": {},
   "source": [
    "- Есть ли зависимость между семейным положением и возвратом кредита в срок?"
   ]
  },
  {
   "cell_type": "code",
   "execution_count": 186,
   "metadata": {},
   "outputs": [
    {
     "data": {
      "text/html": [
       "<style  type=\"text/css\" >\n",
       "</style><table id=\"T_4338407a_7160_11ec_b384_02420a39d411\" ><thead>    <tr>        <th class=\"blank level0\" ></th>        <th class=\"col_heading level0 col0\" >не было задолженности</th>        <th class=\"col_heading level0 col1\" >была задолженность</th>        <th class=\"col_heading level0 col2\" >процент заемщиков с задолженностью</th>    </tr>    <tr>        <th class=\"index_name level0\" >family_status</th>        <th class=\"blank\" ></th>        <th class=\"blank\" ></th>        <th class=\"blank\" ></th>    </tr></thead><tbody>\n",
       "                <tr>\n",
       "                        <th id=\"T_4338407a_7160_11ec_b384_02420a39d411level0_row0\" class=\"row_heading level0 row0\" >Не женат / не замужем</th>\n",
       "                        <td id=\"T_4338407a_7160_11ec_b384_02420a39d411row0_col0\" class=\"data row0 col0\" >2536</td>\n",
       "                        <td id=\"T_4338407a_7160_11ec_b384_02420a39d411row0_col1\" class=\"data row0 col1\" >274</td>\n",
       "                        <td id=\"T_4338407a_7160_11ec_b384_02420a39d411row0_col2\" class=\"data row0 col2\" >9.75%</td>\n",
       "            </tr>\n",
       "            <tr>\n",
       "                        <th id=\"T_4338407a_7160_11ec_b384_02420a39d411level0_row1\" class=\"row_heading level0 row1\" >в разводе</th>\n",
       "                        <td id=\"T_4338407a_7160_11ec_b384_02420a39d411row1_col0\" class=\"data row1 col0\" >1110</td>\n",
       "                        <td id=\"T_4338407a_7160_11ec_b384_02420a39d411row1_col1\" class=\"data row1 col1\" >85</td>\n",
       "                        <td id=\"T_4338407a_7160_11ec_b384_02420a39d411row1_col2\" class=\"data row1 col2\" >7.11%</td>\n",
       "            </tr>\n",
       "            <tr>\n",
       "                        <th id=\"T_4338407a_7160_11ec_b384_02420a39d411level0_row2\" class=\"row_heading level0 row2\" >вдовец / вдова</th>\n",
       "                        <td id=\"T_4338407a_7160_11ec_b384_02420a39d411row2_col0\" class=\"data row2 col0\" >896</td>\n",
       "                        <td id=\"T_4338407a_7160_11ec_b384_02420a39d411row2_col1\" class=\"data row2 col1\" >63</td>\n",
       "                        <td id=\"T_4338407a_7160_11ec_b384_02420a39d411row2_col2\" class=\"data row2 col2\" >6.57%</td>\n",
       "            </tr>\n",
       "            <tr>\n",
       "                        <th id=\"T_4338407a_7160_11ec_b384_02420a39d411level0_row3\" class=\"row_heading level0 row3\" >гражданский брак</th>\n",
       "                        <td id=\"T_4338407a_7160_11ec_b384_02420a39d411row3_col0\" class=\"data row3 col0\" >3763</td>\n",
       "                        <td id=\"T_4338407a_7160_11ec_b384_02420a39d411row3_col1\" class=\"data row3 col1\" >388</td>\n",
       "                        <td id=\"T_4338407a_7160_11ec_b384_02420a39d411row3_col2\" class=\"data row3 col2\" >9.35%</td>\n",
       "            </tr>\n",
       "            <tr>\n",
       "                        <th id=\"T_4338407a_7160_11ec_b384_02420a39d411level0_row4\" class=\"row_heading level0 row4\" >женат / замужем</th>\n",
       "                        <td id=\"T_4338407a_7160_11ec_b384_02420a39d411row4_col0\" class=\"data row4 col0\" >11408</td>\n",
       "                        <td id=\"T_4338407a_7160_11ec_b384_02420a39d411row4_col1\" class=\"data row4 col1\" >931</td>\n",
       "                        <td id=\"T_4338407a_7160_11ec_b384_02420a39d411row4_col2\" class=\"data row4 col2\" >7.55%</td>\n",
       "            </tr>\n",
       "    </tbody></table>"
      ],
      "text/plain": [
       "<pandas.io.formats.style.Styler at 0x7f438d570b90>"
      ]
     },
     "execution_count": 186,
     "metadata": {},
     "output_type": "execute_result"
    }
   ],
   "source": [
    "#создадим новую таблицу для работы с зависимостью возврата кредита от наличия детей\n",
    "family_and_debt = data[[\"family_status\",\"family_status_id\",\"debt\"]]\n",
    "\n",
    "#сделаем сводную таблицу по категориям\n",
    "family_and_debt_pivot = family_and_debt.pivot_table(index=\"family_status\",columns=\"debt\",values=\"family_status_id\", aggfunc='count')\n",
    "\n",
    "#выясним какой процент заемщиков имеет задолженность по каждой категории\n",
    "family_and_debt_pivot[\"percent_debt\"] = (family_and_debt_pivot[1] / (family_and_debt_pivot[0] + family_and_debt_pivot[1])) * 100\n",
    "\n",
    "#переименуем столбцы для наглядности\n",
    "family_and_debt_pivot.set_axis([\"не было задолженности\",\"была задолженность\",\"процент заемщиков с задолженностью\"],axis=\"columns\",inplace=True)\n",
    "\n",
    "#отформатируем колонку с процентами, оставив 2 знака после запятой\n",
    "family_and_debt_pivot.style.format({\"процент заемщиков с задолженностью\":\"{:.2f}%\"})\n"
   ]
  },
  {
   "cell_type": "markdown",
   "metadata": {},
   "source": [
    "**Вывод**"
   ]
  },
  {
   "cell_type": "markdown",
   "metadata": {},
   "source": [
    "По сводной таблице можно сказать, что наибольший процент невернувших кредит у заемщиков со статусом \"Не женат / не замужем\" и \"гражданский брак\", а наименьший у вдовцов. Это можно связать с возрастом заемщиков."
   ]
  },
  {
   "cell_type": "markdown",
   "metadata": {},
   "source": [
    "- Есть ли зависимость между уровнем дохода и возвратом кредита в срок?"
   ]
  },
  {
   "cell_type": "code",
   "execution_count": 187,
   "metadata": {},
   "outputs": [
    {
     "data": {
      "text/html": [
       "<style  type=\"text/css\" >\n",
       "</style><table id=\"T_434258c6_7160_11ec_b384_02420a39d411\" ><thead>    <tr>        <th class=\"blank level0\" ></th>        <th class=\"col_heading level0 col0\" >не было задолженности</th>        <th class=\"col_heading level0 col1\" >была задолженность</th>        <th class=\"col_heading level0 col2\" >процент заемщиков с задолженностью</th>    </tr>    <tr>        <th class=\"index_name level0\" >income_level</th>        <th class=\"blank\" ></th>        <th class=\"blank\" ></th>        <th class=\"blank\" ></th>    </tr></thead><tbody>\n",
       "                <tr>\n",
       "                        <th id=\"T_434258c6_7160_11ec_b384_02420a39d411level0_row0\" class=\"row_heading level0 row0\" >бедные и выше бедности</th>\n",
       "                        <td id=\"T_434258c6_7160_11ec_b384_02420a39d411row0_col0\" class=\"data row0 col0\" >71</td>\n",
       "                        <td id=\"T_434258c6_7160_11ec_b384_02420a39d411row0_col1\" class=\"data row0 col1\" >4</td>\n",
       "                        <td id=\"T_434258c6_7160_11ec_b384_02420a39d411row0_col2\" class=\"data row0 col2\" >5.33%</td>\n",
       "            </tr>\n",
       "            <tr>\n",
       "                        <th id=\"T_434258c6_7160_11ec_b384_02420a39d411level0_row1\" class=\"row_heading level0 row1\" >богатые</th>\n",
       "                        <td id=\"T_434258c6_7160_11ec_b384_02420a39d411row1_col0\" class=\"data row1 col0\" >208</td>\n",
       "                        <td id=\"T_434258c6_7160_11ec_b384_02420a39d411row1_col1\" class=\"data row1 col1\" >14</td>\n",
       "                        <td id=\"T_434258c6_7160_11ec_b384_02420a39d411row1_col2\" class=\"data row1 col2\" >6.31%</td>\n",
       "            </tr>\n",
       "            <tr>\n",
       "                        <th id=\"T_434258c6_7160_11ec_b384_02420a39d411level0_row2\" class=\"row_heading level0 row2\" >выше среднего</th>\n",
       "                        <td id=\"T_434258c6_7160_11ec_b384_02420a39d411row2_col0\" class=\"data row2 col0\" >2411</td>\n",
       "                        <td id=\"T_434258c6_7160_11ec_b384_02420a39d411row2_col1\" class=\"data row2 col1\" >180</td>\n",
       "                        <td id=\"T_434258c6_7160_11ec_b384_02420a39d411row2_col2\" class=\"data row2 col2\" >6.95%</td>\n",
       "            </tr>\n",
       "            <tr>\n",
       "                        <th id=\"T_434258c6_7160_11ec_b384_02420a39d411level0_row3\" class=\"row_heading level0 row3\" >предсредний класс</th>\n",
       "                        <td id=\"T_434258c6_7160_11ec_b384_02420a39d411row3_col0\" class=\"data row3 col0\" >10574</td>\n",
       "                        <td id=\"T_434258c6_7160_11ec_b384_02420a39d411row3_col1\" class=\"data row3 col1\" >974</td>\n",
       "                        <td id=\"T_434258c6_7160_11ec_b384_02420a39d411row3_col2\" class=\"data row3 col2\" >8.43%</td>\n",
       "            </tr>\n",
       "            <tr>\n",
       "                        <th id=\"T_434258c6_7160_11ec_b384_02420a39d411level0_row4\" class=\"row_heading level0 row4\" >средний класс</th>\n",
       "                        <td id=\"T_434258c6_7160_11ec_b384_02420a39d411row4_col0\" class=\"data row4 col0\" >6449</td>\n",
       "                        <td id=\"T_434258c6_7160_11ec_b384_02420a39d411row4_col1\" class=\"data row4 col1\" >569</td>\n",
       "                        <td id=\"T_434258c6_7160_11ec_b384_02420a39d411row4_col2\" class=\"data row4 col2\" >8.11%</td>\n",
       "            </tr>\n",
       "    </tbody></table>"
      ],
      "text/plain": [
       "<pandas.io.formats.style.Styler at 0x7f438e2fea90>"
      ]
     },
     "execution_count": 187,
     "metadata": {},
     "output_type": "execute_result"
    }
   ],
   "source": [
    "#создадим новую таблицу для работы с зависимостью возврата кредита от наличия детей\n",
    "income_and_debt = data[[\"income_level\",\"total_income\",\"debt\"]]\n",
    "\n",
    "#сделаем сводную таблицу по категориям\n",
    "income_and_debt_pivot = income_and_debt.pivot_table(index=\"income_level\",columns=\"debt\",values=\"total_income\", aggfunc='count')\n",
    "\n",
    "#выясним какой процент заемщиков имеет задолженность по каждой категории\n",
    "income_and_debt_pivot[\"percent_debt\"] = (income_and_debt_pivot[1] / (income_and_debt_pivot[0] + income_and_debt_pivot[1])) * 100\n",
    "\n",
    "#переименуем столбцы для наглядности\n",
    "income_and_debt_pivot.set_axis([\"не было задолженности\",\"была задолженность\",\"процент заемщиков с задолженностью\"],axis=\"columns\",inplace=True)\n",
    "\n",
    "#отформатируем колонку с процентами, оставив 2 знака после запятой\n",
    "income_and_debt_pivot.style.format({\"процент заемщиков с задолженностью\":\"{:.2f}%\"})\n"
   ]
  },
  {
   "cell_type": "markdown",
   "metadata": {},
   "source": [
    "**Вывод**"
   ]
  },
  {
   "cell_type": "markdown",
   "metadata": {},
   "source": [
    "По данным таблицы видно, что наибольший процент среди задолженников у предсреднего и среднего класса, что и понятно так как на долю этих категорий приходится наибольшее количество значений. Что показательно люди с наименьшим доходом имеют меньший процент просрочек, но количество данных не позволяет делать из этого каких-то выводов, т.к.в нашем исследовании всего 75 семей попали в эту категорию."
   ]
  },
  {
   "cell_type": "markdown",
   "metadata": {},
   "source": [
    "- Как разные цели кредита влияют на его возврат в срок?"
   ]
  },
  {
   "cell_type": "code",
   "execution_count": 188,
   "metadata": {},
   "outputs": [
    {
     "data": {
      "text/html": [
       "<style  type=\"text/css\" >\n",
       "</style><table id=\"T_4347e0de_7160_11ec_b384_02420a39d411\" ><thead>    <tr>        <th class=\"blank level0\" ></th>        <th class=\"col_heading level0 col0\" >не было задолженности</th>        <th class=\"col_heading level0 col1\" >была задолженность</th>        <th class=\"col_heading level0 col2\" >процент заемщиков с задолженностью</th>    </tr>    <tr>        <th class=\"index_name level0\" >purpose_category</th>        <th class=\"blank\" ></th>        <th class=\"blank\" ></th>        <th class=\"blank\" ></th>    </tr></thead><tbody>\n",
       "                <tr>\n",
       "                        <th id=\"T_4347e0de_7160_11ec_b384_02420a39d411level0_row0\" class=\"row_heading level0 row0\" >автомобиль</th>\n",
       "                        <td id=\"T_4347e0de_7160_11ec_b384_02420a39d411row0_col0\" class=\"data row0 col0\" >3903</td>\n",
       "                        <td id=\"T_4347e0de_7160_11ec_b384_02420a39d411row0_col1\" class=\"data row0 col1\" >403</td>\n",
       "                        <td id=\"T_4347e0de_7160_11ec_b384_02420a39d411row0_col2\" class=\"data row0 col2\" >9.36%</td>\n",
       "            </tr>\n",
       "            <tr>\n",
       "                        <th id=\"T_4347e0de_7160_11ec_b384_02420a39d411level0_row1\" class=\"row_heading level0 row1\" >недвижимость</th>\n",
       "                        <td id=\"T_4347e0de_7160_11ec_b384_02420a39d411row1_col0\" class=\"data row1 col0\" >10029</td>\n",
       "                        <td id=\"T_4347e0de_7160_11ec_b384_02420a39d411row1_col1\" class=\"data row1 col1\" >782</td>\n",
       "                        <td id=\"T_4347e0de_7160_11ec_b384_02420a39d411row1_col2\" class=\"data row1 col2\" >7.23%</td>\n",
       "            </tr>\n",
       "            <tr>\n",
       "                        <th id=\"T_4347e0de_7160_11ec_b384_02420a39d411level0_row2\" class=\"row_heading level0 row2\" >образование</th>\n",
       "                        <td id=\"T_4347e0de_7160_11ec_b384_02420a39d411row2_col0\" class=\"data row2 col0\" >3643</td>\n",
       "                        <td id=\"T_4347e0de_7160_11ec_b384_02420a39d411row2_col1\" class=\"data row2 col1\" >370</td>\n",
       "                        <td id=\"T_4347e0de_7160_11ec_b384_02420a39d411row2_col2\" class=\"data row2 col2\" >9.22%</td>\n",
       "            </tr>\n",
       "            <tr>\n",
       "                        <th id=\"T_4347e0de_7160_11ec_b384_02420a39d411level0_row3\" class=\"row_heading level0 row3\" >свадьба</th>\n",
       "                        <td id=\"T_4347e0de_7160_11ec_b384_02420a39d411row3_col0\" class=\"data row3 col0\" >2138</td>\n",
       "                        <td id=\"T_4347e0de_7160_11ec_b384_02420a39d411row3_col1\" class=\"data row3 col1\" >186</td>\n",
       "                        <td id=\"T_4347e0de_7160_11ec_b384_02420a39d411row3_col2\" class=\"data row3 col2\" >8.00%</td>\n",
       "            </tr>\n",
       "    </tbody></table>"
      ],
      "text/plain": [
       "<pandas.io.formats.style.Styler at 0x7f438d887a10>"
      ]
     },
     "execution_count": 188,
     "metadata": {},
     "output_type": "execute_result"
    }
   ],
   "source": [
    "#создадим новую таблицу для работы с зависимостью возврата кредита от наличия детей\n",
    "purpose_and_debt = data[[\"purpose_category\",\"purpose\",\"debt\"]]\n",
    "\n",
    "#сделаем сводную таблицу по категориям\n",
    "purpose_and_debt_pivot = purpose_and_debt.pivot_table(index=\"purpose_category\",columns=\"debt\",values=\"purpose\", aggfunc='count')\n",
    "\n",
    "#выясним какой процент заемщиков имеет задолженность по каждой категории\n",
    "purpose_and_debt_pivot[\"percent_debt\"] = (purpose_and_debt_pivot[1] / (purpose_and_debt_pivot[0] + purpose_and_debt_pivot[1])) * 100\n",
    "\n",
    "#переименуем столбцы для наглядности\n",
    "purpose_and_debt_pivot.set_axis([\"не было задолженности\",\"была задолженность\",\"процент заемщиков с задолженностью\"],axis=\"columns\",inplace=True)\n",
    "\n",
    "#отформатируем колонку с процентами, оставив 2 знака после запятой\n",
    "purpose_and_debt_pivot.style.format({\"процент заемщиков с задолженностью\":\"{:.2f}%\"})"
   ]
  },
  {
   "cell_type": "markdown",
   "metadata": {},
   "source": [
    "**Вывод**"
   ]
  },
  {
   "cell_type": "markdown",
   "metadata": {},
   "source": [
    "Наибольший процент невозвратов у кредитов взятых на покупку автомобиля и на образование. Я бы связала это как и в случае с семейным статусом с возрастом заемщика, на образование в основном берут кредиты молодые студенты."
   ]
  },
  {
   "cell_type": "markdown",
   "metadata": {},
   "source": [
    "## Шаг 4. Общий вывод"
   ]
  },
  {
   "cell_type": "markdown",
   "metadata": {},
   "source": [
    "В процессе проведения исследования мы сделали предобработку данных, сохранили строки с пропущенными значениями и удалили всего 71 дубликат, т.е.сохранили основной массив информации. Также для удобства пользования информацией воспользовались лемматизацией и категоризировали некоторые данные.\n",
    "\n",
    "Отвечая на поставленные в исследовании вопросы было замечено следующее:\n",
    "- бездетные заемщики реже просрочивают платежи;\n",
    "- наибольший процент невернувших кредит у заемщиков со статусом \"Не женат / не замужем\" и \"гражданский брак\";\n",
    "- наибольший процент среди задолженников у предсреднего и среднего класса по уровню дохода;\n",
    "- у кредитов, взятых на покупку автомобиля или образование, больше вероятность быть просроченным. \n"
   ]
  },
  {
   "cell_type": "code",
   "execution_count": null,
   "metadata": {
    "collapsed": true
   },
   "outputs": [],
   "source": []
  }
 ],
 "metadata": {
  "ExecuteTimeLog": [
   {
    "duration": 828,
    "start_time": "2022-01-08T15:57:44.817Z"
   },
   {
    "duration": 31,
    "start_time": "2022-01-08T15:57:55.822Z"
   },
   {
    "duration": 53,
    "start_time": "2022-01-08T15:58:11.864Z"
   },
   {
    "duration": 36,
    "start_time": "2022-01-08T15:58:51.696Z"
   },
   {
    "duration": 416,
    "start_time": "2022-01-08T15:59:00.913Z"
   },
   {
    "duration": 903,
    "start_time": "2022-01-08T15:59:39.147Z"
   },
   {
    "duration": 919,
    "start_time": "2022-01-08T16:00:52.932Z"
   },
   {
    "duration": 988,
    "start_time": "2022-01-08T16:01:37.009Z"
   },
   {
    "duration": 374,
    "start_time": "2022-01-08T16:01:48.385Z"
   },
   {
    "duration": 380,
    "start_time": "2022-01-08T16:12:51.458Z"
   },
   {
    "duration": 39,
    "start_time": "2022-01-08T16:12:56.070Z"
   },
   {
    "duration": 1237,
    "start_time": "2022-01-08T16:12:59.925Z"
   },
   {
    "duration": 877,
    "start_time": "2022-01-08T16:13:40.404Z"
   },
   {
    "duration": 1040,
    "start_time": "2022-01-08T16:15:59.104Z"
   },
   {
    "duration": 424,
    "start_time": "2022-01-08T16:21:03.057Z"
   },
   {
    "duration": 335,
    "start_time": "2022-01-08T16:21:27.535Z"
   },
   {
    "duration": 4847,
    "start_time": "2022-01-08T16:43:26.643Z"
   },
   {
    "duration": 2798,
    "start_time": "2022-01-08T16:44:01.203Z"
   },
   {
    "duration": 104,
    "start_time": "2022-01-08T16:44:43.007Z"
   },
   {
    "duration": 1530,
    "start_time": "2022-01-08T16:45:03.431Z"
   },
   {
    "duration": 553,
    "start_time": "2022-01-08T16:47:19.416Z"
   },
   {
    "duration": 3789,
    "start_time": "2022-01-08T16:56:16.176Z"
   },
   {
    "duration": 4273,
    "start_time": "2022-01-08T16:56:57.129Z"
   },
   {
    "duration": 4025,
    "start_time": "2022-01-08T16:57:15.585Z"
   },
   {
    "duration": 64,
    "start_time": "2022-01-08T16:58:24.350Z"
   },
   {
    "duration": 70,
    "start_time": "2022-01-08T16:58:38.927Z"
   },
   {
    "duration": 51,
    "start_time": "2022-01-08T16:58:39.000Z"
   },
   {
    "duration": 15,
    "start_time": "2022-01-08T16:58:39.054Z"
   },
   {
    "duration": 84,
    "start_time": "2022-01-08T16:58:39.072Z"
   },
   {
    "duration": 5866,
    "start_time": "2022-01-08T16:58:39.159Z"
   },
   {
    "duration": 1422,
    "start_time": "2022-01-08T17:00:15.050Z"
   },
   {
    "duration": 6602,
    "start_time": "2022-01-08T17:01:04.041Z"
   },
   {
    "duration": 5889,
    "start_time": "2022-01-08T17:01:35.878Z"
   },
   {
    "duration": 5895,
    "start_time": "2022-01-08T17:03:14.849Z"
   },
   {
    "duration": 5915,
    "start_time": "2022-01-08T17:13:44.695Z"
   },
   {
    "duration": 21,
    "start_time": "2022-01-08T17:22:51.687Z"
   },
   {
    "duration": 63,
    "start_time": "2022-01-08T17:22:57.097Z"
   },
   {
    "duration": 62,
    "start_time": "2022-01-08T17:24:57.069Z"
   },
   {
    "duration": 78,
    "start_time": "2022-01-08T17:27:18.269Z"
   },
   {
    "duration": 71,
    "start_time": "2022-01-08T17:28:42.580Z"
   },
   {
    "duration": 82,
    "start_time": "2022-01-08T17:28:42.654Z"
   },
   {
    "duration": 23,
    "start_time": "2022-01-08T17:28:42.740Z"
   },
   {
    "duration": 101,
    "start_time": "2022-01-08T17:28:42.765Z"
   },
   {
    "duration": 6100,
    "start_time": "2022-01-08T17:28:42.868Z"
   },
   {
    "duration": 6064,
    "start_time": "2022-01-08T17:31:14.787Z"
   },
   {
    "duration": 102,
    "start_time": "2022-01-08T18:37:19.960Z"
   },
   {
    "duration": 102,
    "start_time": "2022-01-08T18:37:28.266Z"
   },
   {
    "duration": 49,
    "start_time": "2022-01-08T18:47:43.810Z"
   },
   {
    "duration": 73,
    "start_time": "2022-01-08T18:47:59.263Z"
   },
   {
    "duration": 51,
    "start_time": "2022-01-08T18:47:59.338Z"
   },
   {
    "duration": 36,
    "start_time": "2022-01-08T18:47:59.392Z"
   },
   {
    "duration": 75,
    "start_time": "2022-01-08T18:47:59.431Z"
   },
   {
    "duration": 5986,
    "start_time": "2022-01-08T18:47:59.523Z"
   },
   {
    "duration": 767,
    "start_time": "2022-01-09T06:17:59.821Z"
   },
   {
    "duration": 5,
    "start_time": "2022-01-09T06:20:19.928Z"
   },
   {
    "duration": 79,
    "start_time": "2022-01-09T06:20:19.936Z"
   },
   {
    "duration": 50,
    "start_time": "2022-01-09T06:20:20.019Z"
   },
   {
    "duration": 110,
    "start_time": "2022-01-09T06:20:20.073Z"
   },
   {
    "duration": -13,
    "start_time": "2022-01-09T06:20:20.199Z"
   },
   {
    "duration": -15,
    "start_time": "2022-01-09T06:20:20.202Z"
   },
   {
    "duration": -22,
    "start_time": "2022-01-09T06:20:20.211Z"
   },
   {
    "duration": 289,
    "start_time": "2022-01-09T06:21:59.460Z"
   },
   {
    "duration": 192,
    "start_time": "2022-01-09T06:29:37.112Z"
   },
   {
    "duration": 170,
    "start_time": "2022-01-09T06:30:02.109Z"
   },
   {
    "duration": 4,
    "start_time": "2022-01-09T06:30:18.867Z"
   },
   {
    "duration": 382,
    "start_time": "2022-01-09T06:30:18.874Z"
   },
   {
    "duration": 22,
    "start_time": "2022-01-09T06:30:19.258Z"
   },
   {
    "duration": 166,
    "start_time": "2022-01-09T06:30:19.283Z"
   },
   {
    "duration": -373,
    "start_time": "2022-01-09T06:30:19.824Z"
   },
   {
    "duration": 83,
    "start_time": "2022-01-09T06:30:19.720Z"
   },
   {
    "duration": 5903,
    "start_time": "2022-01-09T06:30:19.806Z"
   },
   {
    "duration": 592,
    "start_time": "2022-01-09T06:33:20.553Z"
   },
   {
    "duration": 6,
    "start_time": "2022-01-09T06:33:38.131Z"
   },
   {
    "duration": 7,
    "start_time": "2022-01-09T06:43:23.879Z"
   },
   {
    "duration": 30,
    "start_time": "2022-01-09T06:43:35.084Z"
   },
   {
    "duration": 285,
    "start_time": "2022-01-09T06:43:35.116Z"
   },
   {
    "duration": 20,
    "start_time": "2022-01-09T06:43:35.404Z"
   },
   {
    "duration": 7,
    "start_time": "2022-01-09T06:43:35.427Z"
   },
   {
    "duration": 33,
    "start_time": "2022-01-09T06:43:35.436Z"
   },
   {
    "duration": 102,
    "start_time": "2022-01-09T06:43:35.471Z"
   },
   {
    "duration": 6,
    "start_time": "2022-01-09T06:43:35.569Z"
   },
   {
    "duration": 6,
    "start_time": "2022-01-09T06:43:35.571Z"
   },
   {
    "duration": -11,
    "start_time": "2022-01-09T06:43:35.590Z"
   },
   {
    "duration": 7,
    "start_time": "2022-01-09T06:46:24.295Z"
   },
   {
    "duration": 42,
    "start_time": "2022-01-09T06:47:14.052Z"
   },
   {
    "duration": 7,
    "start_time": "2022-01-09T06:51:20.478Z"
   },
   {
    "duration": 8,
    "start_time": "2022-01-09T06:52:05.574Z"
   },
   {
    "duration": 5,
    "start_time": "2022-01-09T06:54:40.251Z"
   },
   {
    "duration": 315,
    "start_time": "2022-01-09T06:55:02.512Z"
   },
   {
    "duration": 328,
    "start_time": "2022-01-09T06:56:51.406Z"
   },
   {
    "duration": 6,
    "start_time": "2022-01-09T06:57:01.028Z"
   },
   {
    "duration": 6,
    "start_time": "2022-01-09T06:57:10.977Z"
   },
   {
    "duration": 8,
    "start_time": "2022-01-09T07:01:16.943Z"
   },
   {
    "duration": 7,
    "start_time": "2022-01-09T07:02:46.127Z"
   },
   {
    "duration": 10,
    "start_time": "2022-01-09T07:04:16.549Z"
   },
   {
    "duration": 22,
    "start_time": "2022-01-09T07:09:31.480Z"
   },
   {
    "duration": 18,
    "start_time": "2022-01-09T07:16:28.250Z"
   },
   {
    "duration": 49,
    "start_time": "2022-01-09T07:22:25.371Z"
   },
   {
    "duration": 16,
    "start_time": "2022-01-09T07:23:10.801Z"
   },
   {
    "duration": 24,
    "start_time": "2022-01-09T07:24:45.350Z"
   },
   {
    "duration": 27,
    "start_time": "2022-01-09T07:25:17.450Z"
   },
   {
    "duration": 313,
    "start_time": "2022-01-09T07:30:30.194Z"
   },
   {
    "duration": 45,
    "start_time": "2022-01-09T07:30:47.948Z"
   },
   {
    "duration": 5,
    "start_time": "2022-01-09T07:31:10.316Z"
   },
   {
    "duration": 271,
    "start_time": "2022-01-09T07:31:10.324Z"
   },
   {
    "duration": 21,
    "start_time": "2022-01-09T07:31:10.598Z"
   },
   {
    "duration": 7,
    "start_time": "2022-01-09T07:31:10.623Z"
   },
   {
    "duration": 39,
    "start_time": "2022-01-09T07:31:10.633Z"
   },
   {
    "duration": 8,
    "start_time": "2022-01-09T07:31:10.676Z"
   },
   {
    "duration": 8,
    "start_time": "2022-01-09T07:31:10.689Z"
   },
   {
    "duration": 7,
    "start_time": "2022-01-09T07:31:10.700Z"
   },
   {
    "duration": 63,
    "start_time": "2022-01-09T07:31:10.711Z"
   },
   {
    "duration": 24,
    "start_time": "2022-01-09T07:31:10.777Z"
   },
   {
    "duration": 16,
    "start_time": "2022-01-09T07:31:11.056Z"
   },
   {
    "duration": 15,
    "start_time": "2022-01-09T07:31:11.075Z"
   },
   {
    "duration": 46,
    "start_time": "2022-01-09T07:31:11.093Z"
   },
   {
    "duration": 50,
    "start_time": "2022-01-09T07:31:11.142Z"
   },
   {
    "duration": 5790,
    "start_time": "2022-01-09T07:31:11.194Z"
   },
   {
    "duration": 29,
    "start_time": "2022-01-09T07:31:41.126Z"
   },
   {
    "duration": 37,
    "start_time": "2022-01-09T07:31:45.724Z"
   },
   {
    "duration": 30,
    "start_time": "2022-01-09T07:31:54.564Z"
   },
   {
    "duration": 649,
    "start_time": "2022-01-09T07:31:54.597Z"
   },
   {
    "duration": 21,
    "start_time": "2022-01-09T07:31:55.250Z"
   },
   {
    "duration": 5,
    "start_time": "2022-01-09T07:31:55.274Z"
   },
   {
    "duration": 8,
    "start_time": "2022-01-09T07:31:55.282Z"
   },
   {
    "duration": 7,
    "start_time": "2022-01-09T07:31:55.292Z"
   },
   {
    "duration": 7,
    "start_time": "2022-01-09T07:31:55.301Z"
   },
   {
    "duration": 56,
    "start_time": "2022-01-09T07:31:55.312Z"
   },
   {
    "duration": 8,
    "start_time": "2022-01-09T07:31:55.371Z"
   },
   {
    "duration": 23,
    "start_time": "2022-01-09T07:31:55.381Z"
   },
   {
    "duration": 16,
    "start_time": "2022-01-09T07:31:55.407Z"
   },
   {
    "duration": 52,
    "start_time": "2022-01-09T07:31:55.426Z"
   },
   {
    "duration": 36,
    "start_time": "2022-01-09T07:31:55.481Z"
   },
   {
    "duration": 28,
    "start_time": "2022-01-09T07:31:55.520Z"
   },
   {
    "duration": 5831,
    "start_time": "2022-01-09T07:31:55.568Z"
   },
   {
    "duration": 4947,
    "start_time": "2022-01-09T07:33:14.674Z"
   },
   {
    "duration": 5,
    "start_time": "2022-01-09T07:52:38.877Z"
   },
   {
    "duration": 565,
    "start_time": "2022-01-09T07:58:42.779Z"
   },
   {
    "duration": 30,
    "start_time": "2022-01-09T08:02:51.156Z"
   },
   {
    "duration": 8,
    "start_time": "2022-01-09T08:03:24.237Z"
   },
   {
    "duration": 31,
    "start_time": "2022-01-09T08:12:33.412Z"
   },
   {
    "duration": 15,
    "start_time": "2022-01-09T08:15:41.401Z"
   },
   {
    "duration": 4647,
    "start_time": "2022-01-09T08:15:59.544Z"
   },
   {
    "duration": 4949,
    "start_time": "2022-01-09T08:16:23.220Z"
   },
   {
    "duration": 14,
    "start_time": "2022-01-09T08:16:35.939Z"
   },
   {
    "duration": 3923,
    "start_time": "2022-01-09T08:17:05.287Z"
   },
   {
    "duration": 332,
    "start_time": "2022-01-09T08:18:05.241Z"
   },
   {
    "duration": 32,
    "start_time": "2022-01-09T08:18:29.686Z"
   },
   {
    "duration": 29,
    "start_time": "2022-01-09T09:24:20.607Z"
   },
   {
    "duration": 37,
    "start_time": "2022-01-09T09:24:38.158Z"
   },
   {
    "duration": 22,
    "start_time": "2022-01-09T09:25:59.425Z"
   },
   {
    "duration": 15,
    "start_time": "2022-01-09T09:35:39.860Z"
   },
   {
    "duration": 15,
    "start_time": "2022-01-09T09:36:09.237Z"
   },
   {
    "duration": 35,
    "start_time": "2022-01-09T10:05:26.077Z"
   },
   {
    "duration": 33,
    "start_time": "2022-01-09T10:05:30.504Z"
   },
   {
    "duration": 28,
    "start_time": "2022-01-09T10:05:38.223Z"
   },
   {
    "duration": 284,
    "start_time": "2022-01-09T10:05:38.254Z"
   },
   {
    "duration": 26,
    "start_time": "2022-01-09T10:05:38.542Z"
   },
   {
    "duration": 12,
    "start_time": "2022-01-09T10:05:38.571Z"
   },
   {
    "duration": 12,
    "start_time": "2022-01-09T10:05:38.586Z"
   },
   {
    "duration": 11,
    "start_time": "2022-01-09T10:05:38.601Z"
   },
   {
    "duration": 9,
    "start_time": "2022-01-09T10:05:38.616Z"
   },
   {
    "duration": 8,
    "start_time": "2022-01-09T10:05:38.669Z"
   },
   {
    "duration": 13,
    "start_time": "2022-01-09T10:05:38.681Z"
   },
   {
    "duration": 25,
    "start_time": "2022-01-09T10:05:38.905Z"
   },
   {
    "duration": 15,
    "start_time": "2022-01-09T10:05:38.932Z"
   },
   {
    "duration": 19,
    "start_time": "2022-01-09T10:05:38.950Z"
   },
   {
    "duration": 39,
    "start_time": "2022-01-09T10:05:38.972Z"
   },
   {
    "duration": 29,
    "start_time": "2022-01-09T10:05:39.014Z"
   },
   {
    "duration": 25,
    "start_time": "2022-01-09T10:05:39.045Z"
   },
   {
    "duration": 6046,
    "start_time": "2022-01-09T10:05:39.072Z"
   },
   {
    "duration": 48,
    "start_time": "2022-01-09T10:05:45.121Z"
   },
   {
    "duration": 23,
    "start_time": "2022-01-09T10:05:45.172Z"
   },
   {
    "duration": 39,
    "start_time": "2022-01-09T10:05:45.198Z"
   },
   {
    "duration": 87,
    "start_time": "2022-01-09T10:12:08.557Z"
   },
   {
    "duration": 37,
    "start_time": "2022-01-09T10:12:41.403Z"
   },
   {
    "duration": 29,
    "start_time": "2022-01-09T10:12:50.155Z"
   },
   {
    "duration": 331,
    "start_time": "2022-01-09T10:12:50.186Z"
   },
   {
    "duration": 21,
    "start_time": "2022-01-09T10:12:50.520Z"
   },
   {
    "duration": 24,
    "start_time": "2022-01-09T10:12:50.545Z"
   },
   {
    "duration": 9,
    "start_time": "2022-01-09T10:12:50.571Z"
   },
   {
    "duration": 7,
    "start_time": "2022-01-09T10:12:50.583Z"
   },
   {
    "duration": 9,
    "start_time": "2022-01-09T10:12:50.592Z"
   },
   {
    "duration": 7,
    "start_time": "2022-01-09T10:12:51.836Z"
   },
   {
    "duration": 8,
    "start_time": "2022-01-09T10:12:51.845Z"
   },
   {
    "duration": 23,
    "start_time": "2022-01-09T10:12:51.856Z"
   },
   {
    "duration": 18,
    "start_time": "2022-01-09T10:12:51.882Z"
   },
   {
    "duration": 16,
    "start_time": "2022-01-09T10:12:51.903Z"
   },
   {
    "duration": 55,
    "start_time": "2022-01-09T10:12:51.921Z"
   },
   {
    "duration": 26,
    "start_time": "2022-01-09T10:12:51.979Z"
   },
   {
    "duration": 4,
    "start_time": "2022-01-09T10:12:52.008Z"
   },
   {
    "duration": 5865,
    "start_time": "2022-01-09T10:12:52.017Z"
   },
   {
    "duration": 32,
    "start_time": "2022-01-09T10:12:57.885Z"
   },
   {
    "duration": 21,
    "start_time": "2022-01-09T10:12:57.920Z"
   },
   {
    "duration": 36,
    "start_time": "2022-01-09T10:12:57.967Z"
   },
   {
    "duration": 33,
    "start_time": "2022-01-09T10:13:17.250Z"
   },
   {
    "duration": 28,
    "start_time": "2022-01-09T10:13:32.339Z"
   },
   {
    "duration": 35,
    "start_time": "2022-01-09T10:19:57.229Z"
   },
   {
    "duration": 1054,
    "start_time": "2022-01-09T10:29:02.802Z"
   },
   {
    "duration": 31,
    "start_time": "2022-01-09T10:29:37.883Z"
   },
   {
    "duration": 1230,
    "start_time": "2022-01-09T10:29:37.917Z"
   },
   {
    "duration": 22,
    "start_time": "2022-01-09T10:29:39.150Z"
   },
   {
    "duration": 9,
    "start_time": "2022-01-09T10:29:39.175Z"
   },
   {
    "duration": 9,
    "start_time": "2022-01-09T10:29:39.187Z"
   },
   {
    "duration": 7,
    "start_time": "2022-01-09T10:29:39.198Z"
   },
   {
    "duration": 7,
    "start_time": "2022-01-09T10:29:39.208Z"
   },
   {
    "duration": 6,
    "start_time": "2022-01-09T10:29:39.268Z"
   },
   {
    "duration": 8,
    "start_time": "2022-01-09T10:29:39.277Z"
   },
   {
    "duration": 26,
    "start_time": "2022-01-09T10:29:39.288Z"
   },
   {
    "duration": 68,
    "start_time": "2022-01-09T10:29:39.316Z"
   },
   {
    "duration": 22,
    "start_time": "2022-01-09T10:29:39.387Z"
   },
   {
    "duration": 30,
    "start_time": "2022-01-09T10:29:39.412Z"
   },
   {
    "duration": 49,
    "start_time": "2022-01-09T10:29:39.444Z"
   },
   {
    "duration": 5,
    "start_time": "2022-01-09T10:29:39.495Z"
   },
   {
    "duration": 6254,
    "start_time": "2022-01-09T10:29:39.503Z"
   },
   {
    "duration": 32,
    "start_time": "2022-01-09T10:29:45.769Z"
   },
   {
    "duration": 23,
    "start_time": "2022-01-09T10:29:45.803Z"
   },
   {
    "duration": 65,
    "start_time": "2022-01-09T10:29:45.829Z"
   },
   {
    "duration": 64,
    "start_time": "2022-01-09T10:32:04.947Z"
   },
   {
    "duration": 90,
    "start_time": "2022-01-09T10:32:22.438Z"
   },
   {
    "duration": 342,
    "start_time": "2022-01-09T10:40:28.203Z"
   },
   {
    "duration": 34,
    "start_time": "2022-01-09T10:42:15.692Z"
   },
   {
    "duration": 30,
    "start_time": "2022-01-09T10:43:01.230Z"
   },
   {
    "duration": 32,
    "start_time": "2022-01-09T10:43:06.225Z"
   },
   {
    "duration": 332,
    "start_time": "2022-01-09T10:43:06.260Z"
   },
   {
    "duration": 22,
    "start_time": "2022-01-09T10:43:06.595Z"
   },
   {
    "duration": 11,
    "start_time": "2022-01-09T10:43:06.621Z"
   },
   {
    "duration": 38,
    "start_time": "2022-01-09T10:43:06.635Z"
   },
   {
    "duration": 7,
    "start_time": "2022-01-09T10:43:06.675Z"
   },
   {
    "duration": 6,
    "start_time": "2022-01-09T10:43:06.685Z"
   },
   {
    "duration": 7,
    "start_time": "2022-01-09T10:43:06.695Z"
   },
   {
    "duration": 65,
    "start_time": "2022-01-09T10:43:06.705Z"
   },
   {
    "duration": 22,
    "start_time": "2022-01-09T10:43:06.772Z"
   },
   {
    "duration": 17,
    "start_time": "2022-01-09T10:43:06.796Z"
   },
   {
    "duration": 61,
    "start_time": "2022-01-09T10:43:06.815Z"
   },
   {
    "duration": 34,
    "start_time": "2022-01-09T10:43:06.878Z"
   },
   {
    "duration": 52,
    "start_time": "2022-01-09T10:43:06.914Z"
   },
   {
    "duration": 5,
    "start_time": "2022-01-09T10:43:06.969Z"
   },
   {
    "duration": 5677,
    "start_time": "2022-01-09T10:43:06.976Z"
   },
   {
    "duration": 40,
    "start_time": "2022-01-09T10:43:12.656Z"
   },
   {
    "duration": 24,
    "start_time": "2022-01-09T10:43:12.699Z"
   },
   {
    "duration": 79,
    "start_time": "2022-01-09T10:43:12.726Z"
   },
   {
    "duration": 32,
    "start_time": "2022-01-09T10:43:34.209Z"
   },
   {
    "duration": 28,
    "start_time": "2022-01-09T10:43:46.607Z"
   },
   {
    "duration": 519,
    "start_time": "2022-01-09T13:26:02.847Z"
   },
   {
    "duration": 856,
    "start_time": "2022-01-09T13:26:11.374Z"
   },
   {
    "duration": 2025,
    "start_time": "2022-01-09T13:26:12.232Z"
   },
   {
    "duration": 30,
    "start_time": "2022-01-09T13:26:14.260Z"
   },
   {
    "duration": 7,
    "start_time": "2022-01-09T13:26:14.294Z"
   },
   {
    "duration": 9,
    "start_time": "2022-01-09T13:26:14.304Z"
   },
   {
    "duration": 7,
    "start_time": "2022-01-09T13:26:14.315Z"
   },
   {
    "duration": 46,
    "start_time": "2022-01-09T13:26:14.325Z"
   },
   {
    "duration": 6,
    "start_time": "2022-01-09T13:26:14.376Z"
   },
   {
    "duration": 17,
    "start_time": "2022-01-09T13:26:14.385Z"
   },
   {
    "duration": 63,
    "start_time": "2022-01-09T13:26:14.404Z"
   },
   {
    "duration": 17,
    "start_time": "2022-01-09T13:26:14.470Z"
   },
   {
    "duration": 17,
    "start_time": "2022-01-09T13:26:14.489Z"
   },
   {
    "duration": 64,
    "start_time": "2022-01-09T13:26:14.508Z"
   },
   {
    "duration": 45,
    "start_time": "2022-01-09T13:26:14.575Z"
   },
   {
    "duration": 6,
    "start_time": "2022-01-09T13:26:14.623Z"
   },
   {
    "duration": 6424,
    "start_time": "2022-01-09T13:26:14.632Z"
   },
   {
    "duration": 35,
    "start_time": "2022-01-09T13:26:21.068Z"
   },
   {
    "duration": 27,
    "start_time": "2022-01-09T13:26:21.106Z"
   },
   {
    "duration": 896,
    "start_time": "2022-01-09T13:26:21.136Z"
   },
   {
    "duration": 32,
    "start_time": "2022-01-09T13:26:22.089Z"
   },
   {
    "duration": 427,
    "start_time": "2022-01-09T13:41:20.580Z"
   },
   {
    "duration": 433,
    "start_time": "2022-01-09T13:41:38.530Z"
   },
   {
    "duration": 319,
    "start_time": "2022-01-09T13:41:46.140Z"
   },
   {
    "duration": 339,
    "start_time": "2022-01-09T13:42:38.624Z"
   },
   {
    "duration": 27,
    "start_time": "2022-01-09T13:42:44.070Z"
   },
   {
    "duration": 330,
    "start_time": "2022-01-09T13:42:44.100Z"
   },
   {
    "duration": 44,
    "start_time": "2022-01-09T13:42:44.435Z"
   },
   {
    "duration": 11,
    "start_time": "2022-01-09T13:42:44.483Z"
   },
   {
    "duration": 11,
    "start_time": "2022-01-09T13:42:44.497Z"
   },
   {
    "duration": 61,
    "start_time": "2022-01-09T13:42:44.512Z"
   },
   {
    "duration": 16,
    "start_time": "2022-01-09T13:42:44.576Z"
   },
   {
    "duration": 31,
    "start_time": "2022-01-09T13:42:44.598Z"
   },
   {
    "duration": 35,
    "start_time": "2022-01-09T13:42:44.634Z"
   },
   {
    "duration": 32,
    "start_time": "2022-01-09T13:42:44.675Z"
   },
   {
    "duration": 25,
    "start_time": "2022-01-09T13:42:44.710Z"
   },
   {
    "duration": 50,
    "start_time": "2022-01-09T13:42:44.738Z"
   },
   {
    "duration": 30,
    "start_time": "2022-01-09T13:42:44.792Z"
   },
   {
    "duration": 64,
    "start_time": "2022-01-09T13:42:44.825Z"
   },
   {
    "duration": 6,
    "start_time": "2022-01-09T13:42:44.892Z"
   },
   {
    "duration": 6666,
    "start_time": "2022-01-09T13:42:44.901Z"
   },
   {
    "duration": 31,
    "start_time": "2022-01-09T13:42:51.570Z"
   },
   {
    "duration": 23,
    "start_time": "2022-01-09T13:42:51.603Z"
   },
   {
    "duration": 71,
    "start_time": "2022-01-09T13:42:51.629Z"
   },
   {
    "duration": 32,
    "start_time": "2022-01-09T13:42:51.703Z"
   },
   {
    "duration": 339,
    "start_time": "2022-01-09T13:42:51.767Z"
   },
   {
    "duration": 31,
    "start_time": "2022-01-09T13:43:16.585Z"
   },
   {
    "duration": 21,
    "start_time": "2022-01-09T13:53:57.924Z"
   },
   {
    "duration": 29,
    "start_time": "2022-01-09T13:55:13.617Z"
   },
   {
    "duration": 271,
    "start_time": "2022-01-09T13:55:13.649Z"
   },
   {
    "duration": 20,
    "start_time": "2022-01-09T13:55:13.923Z"
   },
   {
    "duration": 23,
    "start_time": "2022-01-09T13:55:13.946Z"
   },
   {
    "duration": 10,
    "start_time": "2022-01-09T13:55:13.972Z"
   },
   {
    "duration": 7,
    "start_time": "2022-01-09T13:55:13.985Z"
   },
   {
    "duration": 7,
    "start_time": "2022-01-09T13:55:13.995Z"
   },
   {
    "duration": 63,
    "start_time": "2022-01-09T13:55:14.006Z"
   },
   {
    "duration": 9,
    "start_time": "2022-01-09T13:55:14.072Z"
   },
   {
    "duration": 22,
    "start_time": "2022-01-09T13:55:14.083Z"
   },
   {
    "duration": 69,
    "start_time": "2022-01-09T13:55:14.107Z"
   },
   {
    "duration": 14,
    "start_time": "2022-01-09T13:55:14.178Z"
   },
   {
    "duration": 30,
    "start_time": "2022-01-09T13:55:14.194Z"
   },
   {
    "duration": 52,
    "start_time": "2022-01-09T13:55:14.226Z"
   },
   {
    "duration": 6,
    "start_time": "2022-01-09T13:55:14.281Z"
   },
   {
    "duration": 6133,
    "start_time": "2022-01-09T13:55:14.290Z"
   },
   {
    "duration": 43,
    "start_time": "2022-01-09T13:55:20.425Z"
   },
   {
    "duration": 24,
    "start_time": "2022-01-09T13:55:20.471Z"
   },
   {
    "duration": 75,
    "start_time": "2022-01-09T13:55:20.498Z"
   },
   {
    "duration": 32,
    "start_time": "2022-01-09T13:55:20.576Z"
   },
   {
    "duration": 65,
    "start_time": "2022-01-09T13:55:20.612Z"
   },
   {
    "duration": 31,
    "start_time": "2022-01-09T14:01:49.075Z"
   },
   {
    "duration": 28,
    "start_time": "2022-01-09T14:14:58.496Z"
   },
   {
    "duration": 464,
    "start_time": "2022-01-09T14:14:58.528Z"
   },
   {
    "duration": 22,
    "start_time": "2022-01-09T14:14:58.995Z"
   },
   {
    "duration": 9,
    "start_time": "2022-01-09T14:14:59.020Z"
   },
   {
    "duration": 8,
    "start_time": "2022-01-09T14:14:59.032Z"
   },
   {
    "duration": 6,
    "start_time": "2022-01-09T14:14:59.042Z"
   },
   {
    "duration": 17,
    "start_time": "2022-01-09T14:14:59.051Z"
   },
   {
    "duration": 7,
    "start_time": "2022-01-09T14:14:59.071Z"
   },
   {
    "duration": 15,
    "start_time": "2022-01-09T14:14:59.083Z"
   },
   {
    "duration": 36,
    "start_time": "2022-01-09T14:14:59.102Z"
   },
   {
    "duration": 131,
    "start_time": "2022-01-09T14:14:59.141Z"
   },
   {
    "duration": 17,
    "start_time": "2022-01-09T14:14:59.274Z"
   },
   {
    "duration": 98,
    "start_time": "2022-01-09T14:14:59.294Z"
   },
   {
    "duration": 32,
    "start_time": "2022-01-09T14:14:59.395Z"
   },
   {
    "duration": 6,
    "start_time": "2022-01-09T14:14:59.468Z"
   },
   {
    "duration": 7226,
    "start_time": "2022-01-09T14:14:59.476Z"
   },
   {
    "duration": 34,
    "start_time": "2022-01-09T14:15:06.705Z"
   },
   {
    "duration": 43,
    "start_time": "2022-01-09T14:15:06.742Z"
   },
   {
    "duration": 42,
    "start_time": "2022-01-09T14:15:06.787Z"
   },
   {
    "duration": 55,
    "start_time": "2022-01-09T14:15:06.832Z"
   },
   {
    "duration": 31,
    "start_time": "2022-01-09T14:15:06.889Z"
   },
   {
    "duration": 66,
    "start_time": "2022-01-09T14:15:06.922Z"
   },
   {
    "duration": 32,
    "start_time": "2022-01-09T14:15:44.076Z"
   },
   {
    "duration": 31,
    "start_time": "2022-01-09T14:15:57.826Z"
   },
   {
    "duration": 28,
    "start_time": "2022-01-09T14:16:02.103Z"
   },
   {
    "duration": 277,
    "start_time": "2022-01-09T14:16:02.135Z"
   },
   {
    "duration": 21,
    "start_time": "2022-01-09T14:16:02.415Z"
   },
   {
    "duration": 29,
    "start_time": "2022-01-09T14:16:02.440Z"
   },
   {
    "duration": 10,
    "start_time": "2022-01-09T14:16:02.473Z"
   },
   {
    "duration": 7,
    "start_time": "2022-01-09T14:16:02.487Z"
   },
   {
    "duration": 10,
    "start_time": "2022-01-09T14:16:02.497Z"
   },
   {
    "duration": 59,
    "start_time": "2022-01-09T14:16:02.511Z"
   },
   {
    "duration": 8,
    "start_time": "2022-01-09T14:16:02.574Z"
   },
   {
    "duration": 23,
    "start_time": "2022-01-09T14:16:02.585Z"
   },
   {
    "duration": 74,
    "start_time": "2022-01-09T14:16:02.611Z"
   },
   {
    "duration": 23,
    "start_time": "2022-01-09T14:16:02.688Z"
   },
   {
    "duration": 54,
    "start_time": "2022-01-09T14:16:02.715Z"
   },
   {
    "duration": 30,
    "start_time": "2022-01-09T14:16:02.771Z"
   },
   {
    "duration": 6,
    "start_time": "2022-01-09T14:16:02.803Z"
   },
   {
    "duration": 6521,
    "start_time": "2022-01-09T14:16:02.811Z"
   },
   {
    "duration": 40,
    "start_time": "2022-01-09T14:16:09.335Z"
   },
   {
    "duration": 34,
    "start_time": "2022-01-09T14:16:09.380Z"
   },
   {
    "duration": 86,
    "start_time": "2022-01-09T14:16:09.417Z"
   },
   {
    "duration": 72,
    "start_time": "2022-01-09T14:16:09.506Z"
   },
   {
    "duration": 35,
    "start_time": "2022-01-09T14:16:09.581Z"
   },
   {
    "duration": 63,
    "start_time": "2022-01-09T14:16:09.619Z"
   },
   {
    "duration": 31,
    "start_time": "2022-01-09T14:17:22.470Z"
   },
   {
    "duration": 33,
    "start_time": "2022-01-09T14:17:53.647Z"
   },
   {
    "duration": 21,
    "start_time": "2022-01-09T14:18:10.780Z"
   },
   {
    "duration": 41,
    "start_time": "2022-01-09T14:43:59.797Z"
   },
   {
    "duration": 287,
    "start_time": "2022-01-09T14:43:59.841Z"
   },
   {
    "duration": 21,
    "start_time": "2022-01-09T14:44:00.133Z"
   },
   {
    "duration": 9,
    "start_time": "2022-01-09T14:44:00.170Z"
   },
   {
    "duration": 12,
    "start_time": "2022-01-09T14:44:00.182Z"
   },
   {
    "duration": 14,
    "start_time": "2022-01-09T14:44:00.197Z"
   },
   {
    "duration": 9,
    "start_time": "2022-01-09T14:44:00.214Z"
   },
   {
    "duration": 7,
    "start_time": "2022-01-09T14:44:00.267Z"
   },
   {
    "duration": 12,
    "start_time": "2022-01-09T14:44:00.277Z"
   },
   {
    "duration": 25,
    "start_time": "2022-01-09T14:44:00.292Z"
   },
   {
    "duration": 64,
    "start_time": "2022-01-09T14:44:00.320Z"
   },
   {
    "duration": 18,
    "start_time": "2022-01-09T14:44:00.387Z"
   },
   {
    "duration": 34,
    "start_time": "2022-01-09T14:44:00.408Z"
   },
   {
    "duration": 50,
    "start_time": "2022-01-09T14:44:00.444Z"
   },
   {
    "duration": 5,
    "start_time": "2022-01-09T14:44:00.496Z"
   },
   {
    "duration": 6794,
    "start_time": "2022-01-09T14:44:00.505Z"
   },
   {
    "duration": 35,
    "start_time": "2022-01-09T14:44:07.303Z"
   },
   {
    "duration": 43,
    "start_time": "2022-01-09T14:44:07.341Z"
   },
   {
    "duration": 37,
    "start_time": "2022-01-09T14:44:07.387Z"
   },
   {
    "duration": 59,
    "start_time": "2022-01-09T14:44:07.427Z"
   },
   {
    "duration": 30,
    "start_time": "2022-01-09T14:44:07.489Z"
   },
   {
    "duration": 60,
    "start_time": "2022-01-09T14:44:07.522Z"
   },
   {
    "duration": 38,
    "start_time": "2022-01-09T14:44:32.168Z"
   },
   {
    "duration": 287,
    "start_time": "2022-01-09T14:44:32.209Z"
   },
   {
    "duration": 34,
    "start_time": "2022-01-09T14:44:32.501Z"
   },
   {
    "duration": 9,
    "start_time": "2022-01-09T14:44:32.538Z"
   },
   {
    "duration": 25,
    "start_time": "2022-01-09T14:44:32.549Z"
   },
   {
    "duration": 7,
    "start_time": "2022-01-09T14:44:32.577Z"
   },
   {
    "duration": 13,
    "start_time": "2022-01-09T14:44:32.588Z"
   },
   {
    "duration": 7,
    "start_time": "2022-01-09T14:44:32.606Z"
   },
   {
    "duration": 56,
    "start_time": "2022-01-09T14:44:32.616Z"
   },
   {
    "duration": 25,
    "start_time": "2022-01-09T14:44:32.674Z"
   },
   {
    "duration": 18,
    "start_time": "2022-01-09T14:44:32.702Z"
   },
   {
    "duration": 50,
    "start_time": "2022-01-09T14:44:32.723Z"
   },
   {
    "duration": 40,
    "start_time": "2022-01-09T14:44:32.775Z"
   },
   {
    "duration": 28,
    "start_time": "2022-01-09T14:44:32.817Z"
   },
   {
    "duration": 5,
    "start_time": "2022-01-09T14:44:32.868Z"
   },
   {
    "duration": 6612,
    "start_time": "2022-01-09T14:44:32.876Z"
   },
   {
    "duration": 33,
    "start_time": "2022-01-09T14:44:39.491Z"
   },
   {
    "duration": 41,
    "start_time": "2022-01-09T14:44:39.527Z"
   },
   {
    "duration": 37,
    "start_time": "2022-01-09T14:44:39.571Z"
   },
   {
    "duration": 65,
    "start_time": "2022-01-09T14:44:39.610Z"
   },
   {
    "duration": 32,
    "start_time": "2022-01-09T14:44:39.677Z"
   },
   {
    "duration": 62,
    "start_time": "2022-01-09T14:44:39.712Z"
   },
   {
    "duration": 38,
    "start_time": "2022-01-09T15:16:53.595Z"
   },
   {
    "duration": 61,
    "start_time": "2022-01-09T15:17:12.196Z"
   },
   {
    "duration": 30,
    "start_time": "2022-01-09T15:24:32.434Z"
   },
   {
    "duration": 1184,
    "start_time": "2022-01-09T15:24:32.467Z"
   },
   {
    "duration": 22,
    "start_time": "2022-01-09T15:24:33.654Z"
   },
   {
    "duration": 8,
    "start_time": "2022-01-09T15:24:33.678Z"
   },
   {
    "duration": 7,
    "start_time": "2022-01-09T15:24:33.689Z"
   },
   {
    "duration": 6,
    "start_time": "2022-01-09T15:24:33.699Z"
   },
   {
    "duration": 10,
    "start_time": "2022-01-09T15:24:33.707Z"
   },
   {
    "duration": 7,
    "start_time": "2022-01-09T15:24:33.767Z"
   },
   {
    "duration": 9,
    "start_time": "2022-01-09T15:24:33.777Z"
   },
   {
    "duration": 22,
    "start_time": "2022-01-09T15:24:33.789Z"
   },
   {
    "duration": 67,
    "start_time": "2022-01-09T15:24:33.814Z"
   },
   {
    "duration": 16,
    "start_time": "2022-01-09T15:24:33.883Z"
   },
   {
    "duration": 37,
    "start_time": "2022-01-09T15:24:33.903Z"
   },
   {
    "duration": 45,
    "start_time": "2022-01-09T15:24:33.943Z"
   },
   {
    "duration": 5,
    "start_time": "2022-01-09T15:24:33.991Z"
   },
   {
    "duration": 5846,
    "start_time": "2022-01-09T15:24:33.999Z"
   },
   {
    "duration": 29,
    "start_time": "2022-01-09T15:24:39.847Z"
   },
   {
    "duration": 45,
    "start_time": "2022-01-09T15:24:39.879Z"
   },
   {
    "duration": 60,
    "start_time": "2022-01-09T15:24:39.927Z"
   },
   {
    "duration": 36,
    "start_time": "2022-01-09T15:24:39.990Z"
   },
   {
    "duration": 62,
    "start_time": "2022-01-09T15:24:40.029Z"
   },
   {
    "duration": 33,
    "start_time": "2022-01-09T15:24:40.094Z"
   }
  ],
  "kernelspec": {
   "display_name": "Python 3",
   "language": "python",
   "name": "python3"
  },
  "language_info": {
   "codemirror_mode": {
    "name": "ipython",
    "version": 3
   },
   "file_extension": ".py",
   "mimetype": "text/x-python",
   "name": "python",
   "nbconvert_exporter": "python",
   "pygments_lexer": "ipython3",
   "version": "3.6.1"
  },
  "toc": {
   "base_numbering": 1,
   "nav_menu": {},
   "number_sections": true,
   "sideBar": true,
   "skip_h1_title": true,
   "title_cell": "Table of Contents",
   "title_sidebar": "Contents",
   "toc_cell": false,
   "toc_position": {},
   "toc_section_display": true,
   "toc_window_display": false
  }
 },
 "nbformat": 4,
 "nbformat_minor": 2
}
