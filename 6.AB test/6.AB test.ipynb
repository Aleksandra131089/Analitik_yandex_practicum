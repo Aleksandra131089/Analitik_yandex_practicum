{
 "cells": [
  {
   "cell_type": "markdown",
   "metadata": {},
   "source": [
    "# Проект: Приоритизация гипотез и анализ А/В-теста"
   ]
  },
  {
   "cell_type": "code",
   "execution_count": 1,
   "metadata": {
    "collapsed": true
   },
   "outputs": [],
   "source": [
    "# загружаем необходимые библиотеки\n",
    "import pandas as pd\n",
    "import numpy as np\n",
    "import matplotlib.pyplot as plt\n",
    "%matplotlib inline\n",
    "import datetime as dt\n",
    "import scipy.stats as stats\n",
    "from pandas.plotting import register_matplotlib_converters\n",
    "import warnings\n",
    "# конвертеры, которые позволяют использовать типы pandas в matplotlib  \n",
    "register_matplotlib_converters()\n",
    "pd.set_option('display.max_colwidth', 150)"
   ]
  },
  {
   "cell_type": "markdown",
   "metadata": {},
   "source": [
    "## Часть 1 Приоритезация гипотез"
   ]
  },
  {
   "cell_type": "markdown",
   "metadata": {},
   "source": [
    "В файле /datasets/hypothesis.csv 9 гипотез по увеличению выручки интернет-магазина. Необходимо их приоритизировать."
   ]
  },
  {
   "cell_type": "code",
   "execution_count": 2,
   "metadata": {
    "collapsed": true
   },
   "outputs": [],
   "source": [
    "# загружаем файл с данными\n",
    "try:\n",
    "    hypothesis = pd.read_csv(\"hypothesis.csv\")\n",
    "except:\n",
    "    hypothesis = pd.read_csv(\"/datasets/hypothesis.csv\")"
   ]
  },
  {
   "cell_type": "code",
   "execution_count": 3,
   "metadata": {},
   "outputs": [
    {
     "name": "stdout",
     "output_type": "stream",
     "text": [
      "<class 'pandas.core.frame.DataFrame'>\n",
      "RangeIndex: 9 entries, 0 to 8\n",
      "Data columns (total 5 columns):\n",
      " #   Column      Non-Null Count  Dtype \n",
      "---  ------      --------------  ----- \n",
      " 0   Hypothesis  9 non-null      object\n",
      " 1   Reach       9 non-null      int64 \n",
      " 2   Impact      9 non-null      int64 \n",
      " 3   Confidence  9 non-null      int64 \n",
      " 4   Efforts     9 non-null      int64 \n",
      "dtypes: int64(4), object(1)\n",
      "memory usage: 488.0+ bytes\n",
      "**************************************************\n"
     ]
    },
    {
     "data": {
      "text/html": [
       "<div>\n",
       "<style scoped>\n",
       "    .dataframe tbody tr th:only-of-type {\n",
       "        vertical-align: middle;\n",
       "    }\n",
       "\n",
       "    .dataframe tbody tr th {\n",
       "        vertical-align: top;\n",
       "    }\n",
       "\n",
       "    .dataframe thead th {\n",
       "        text-align: right;\n",
       "    }\n",
       "</style>\n",
       "<table border=\"1\" class=\"dataframe\">\n",
       "  <thead>\n",
       "    <tr style=\"text-align: right;\">\n",
       "      <th></th>\n",
       "      <th>Reach</th>\n",
       "      <th>Impact</th>\n",
       "      <th>Confidence</th>\n",
       "      <th>Efforts</th>\n",
       "    </tr>\n",
       "  </thead>\n",
       "  <tbody>\n",
       "    <tr>\n",
       "      <th>count</th>\n",
       "      <td>9.000000</td>\n",
       "      <td>9.000000</td>\n",
       "      <td>9.000000</td>\n",
       "      <td>9.000000</td>\n",
       "    </tr>\n",
       "    <tr>\n",
       "      <th>mean</th>\n",
       "      <td>4.777778</td>\n",
       "      <td>4.777778</td>\n",
       "      <td>5.555556</td>\n",
       "      <td>4.888889</td>\n",
       "    </tr>\n",
       "    <tr>\n",
       "      <th>std</th>\n",
       "      <td>3.153481</td>\n",
       "      <td>3.192874</td>\n",
       "      <td>3.045944</td>\n",
       "      <td>2.803767</td>\n",
       "    </tr>\n",
       "    <tr>\n",
       "      <th>min</th>\n",
       "      <td>1.000000</td>\n",
       "      <td>1.000000</td>\n",
       "      <td>1.000000</td>\n",
       "      <td>1.000000</td>\n",
       "    </tr>\n",
       "    <tr>\n",
       "      <th>25%</th>\n",
       "      <td>3.000000</td>\n",
       "      <td>3.000000</td>\n",
       "      <td>3.000000</td>\n",
       "      <td>3.000000</td>\n",
       "    </tr>\n",
       "    <tr>\n",
       "      <th>50%</th>\n",
       "      <td>3.000000</td>\n",
       "      <td>3.000000</td>\n",
       "      <td>7.000000</td>\n",
       "      <td>5.000000</td>\n",
       "    </tr>\n",
       "    <tr>\n",
       "      <th>75%</th>\n",
       "      <td>8.000000</td>\n",
       "      <td>7.000000</td>\n",
       "      <td>8.000000</td>\n",
       "      <td>6.000000</td>\n",
       "    </tr>\n",
       "    <tr>\n",
       "      <th>max</th>\n",
       "      <td>10.000000</td>\n",
       "      <td>10.000000</td>\n",
       "      <td>9.000000</td>\n",
       "      <td>10.000000</td>\n",
       "    </tr>\n",
       "  </tbody>\n",
       "</table>\n",
       "</div>"
      ],
      "text/plain": [
       "           Reach     Impact  Confidence    Efforts\n",
       "count   9.000000   9.000000    9.000000   9.000000\n",
       "mean    4.777778   4.777778    5.555556   4.888889\n",
       "std     3.153481   3.192874    3.045944   2.803767\n",
       "min     1.000000   1.000000    1.000000   1.000000\n",
       "25%     3.000000   3.000000    3.000000   3.000000\n",
       "50%     3.000000   3.000000    7.000000   5.000000\n",
       "75%     8.000000   7.000000    8.000000   6.000000\n",
       "max    10.000000  10.000000    9.000000  10.000000"
      ]
     },
     "metadata": {},
     "output_type": "display_data"
    },
    {
     "name": "stdout",
     "output_type": "stream",
     "text": [
      "**************************************************\n"
     ]
    },
    {
     "data": {
      "text/html": [
       "<div>\n",
       "<style scoped>\n",
       "    .dataframe tbody tr th:only-of-type {\n",
       "        vertical-align: middle;\n",
       "    }\n",
       "\n",
       "    .dataframe tbody tr th {\n",
       "        vertical-align: top;\n",
       "    }\n",
       "\n",
       "    .dataframe thead th {\n",
       "        text-align: right;\n",
       "    }\n",
       "</style>\n",
       "<table border=\"1\" class=\"dataframe\">\n",
       "  <thead>\n",
       "    <tr style=\"text-align: right;\">\n",
       "      <th></th>\n",
       "      <th>Hypothesis</th>\n",
       "      <th>Reach</th>\n",
       "      <th>Impact</th>\n",
       "      <th>Confidence</th>\n",
       "      <th>Efforts</th>\n",
       "    </tr>\n",
       "  </thead>\n",
       "  <tbody>\n",
       "    <tr>\n",
       "      <th>0</th>\n",
       "      <td>Добавить два новых канала привлечения трафика, что позволит привлекать на 30% больше пользователей</td>\n",
       "      <td>3</td>\n",
       "      <td>10</td>\n",
       "      <td>8</td>\n",
       "      <td>6</td>\n",
       "    </tr>\n",
       "    <tr>\n",
       "      <th>1</th>\n",
       "      <td>Запустить собственную службу доставки, что сократит срок доставки заказов</td>\n",
       "      <td>2</td>\n",
       "      <td>5</td>\n",
       "      <td>4</td>\n",
       "      <td>10</td>\n",
       "    </tr>\n",
       "    <tr>\n",
       "      <th>2</th>\n",
       "      <td>Добавить блоки рекомендаций товаров на сайт интернет магазина, чтобы повысить конверсию и средний чек заказа</td>\n",
       "      <td>8</td>\n",
       "      <td>3</td>\n",
       "      <td>7</td>\n",
       "      <td>3</td>\n",
       "    </tr>\n",
       "    <tr>\n",
       "      <th>3</th>\n",
       "      <td>Изменить структура категорий, что увеличит конверсию, т.к. пользователи быстрее найдут нужный товар</td>\n",
       "      <td>8</td>\n",
       "      <td>3</td>\n",
       "      <td>3</td>\n",
       "      <td>8</td>\n",
       "    </tr>\n",
       "    <tr>\n",
       "      <th>4</th>\n",
       "      <td>Изменить цвет фона главной страницы, чтобы увеличить вовлеченность пользователей</td>\n",
       "      <td>3</td>\n",
       "      <td>1</td>\n",
       "      <td>1</td>\n",
       "      <td>1</td>\n",
       "    </tr>\n",
       "    <tr>\n",
       "      <th>5</th>\n",
       "      <td>Добавить страницу отзывов клиентов о магазине, что позволит увеличить количество заказов</td>\n",
       "      <td>3</td>\n",
       "      <td>2</td>\n",
       "      <td>2</td>\n",
       "      <td>3</td>\n",
       "    </tr>\n",
       "    <tr>\n",
       "      <th>6</th>\n",
       "      <td>Показать на главной странице баннеры с актуальными акциями и распродажами, чтобы увеличить конверсию</td>\n",
       "      <td>5</td>\n",
       "      <td>3</td>\n",
       "      <td>8</td>\n",
       "      <td>3</td>\n",
       "    </tr>\n",
       "    <tr>\n",
       "      <th>7</th>\n",
       "      <td>Добавить форму подписки на все основные страницы, чтобы собрать базу клиентов для email-рассылок</td>\n",
       "      <td>10</td>\n",
       "      <td>7</td>\n",
       "      <td>8</td>\n",
       "      <td>5</td>\n",
       "    </tr>\n",
       "    <tr>\n",
       "      <th>8</th>\n",
       "      <td>Запустить акцию, дающую скидку на товар в день рождения</td>\n",
       "      <td>1</td>\n",
       "      <td>9</td>\n",
       "      <td>9</td>\n",
       "      <td>5</td>\n",
       "    </tr>\n",
       "  </tbody>\n",
       "</table>\n",
       "</div>"
      ],
      "text/plain": [
       "                                                                                                     Hypothesis  \\\n",
       "0            Добавить два новых канала привлечения трафика, что позволит привлекать на 30% больше пользователей   \n",
       "1                                     Запустить собственную службу доставки, что сократит срок доставки заказов   \n",
       "2  Добавить блоки рекомендаций товаров на сайт интернет магазина, чтобы повысить конверсию и средний чек заказа   \n",
       "3           Изменить структура категорий, что увеличит конверсию, т.к. пользователи быстрее найдут нужный товар   \n",
       "4                              Изменить цвет фона главной страницы, чтобы увеличить вовлеченность пользователей   \n",
       "5                      Добавить страницу отзывов клиентов о магазине, что позволит увеличить количество заказов   \n",
       "6          Показать на главной странице баннеры с актуальными акциями и распродажами, чтобы увеличить конверсию   \n",
       "7              Добавить форму подписки на все основные страницы, чтобы собрать базу клиентов для email-рассылок   \n",
       "8                                                       Запустить акцию, дающую скидку на товар в день рождения   \n",
       "\n",
       "   Reach  Impact  Confidence  Efforts  \n",
       "0      3      10           8        6  \n",
       "1      2       5           4       10  \n",
       "2      8       3           7        3  \n",
       "3      8       3           3        8  \n",
       "4      3       1           1        1  \n",
       "5      3       2           2        3  \n",
       "6      5       3           8        3  \n",
       "7     10       7           8        5  \n",
       "8      1       9           9        5  "
      ]
     },
     "metadata": {},
     "output_type": "display_data"
    }
   ],
   "source": [
    "# посмотрим на данные поближе\n",
    "def info(data):\n",
    "    data.info()\n",
    "    print('*'*50)\n",
    "    display(data.describe())\n",
    "    print('*'*50)\n",
    "    display(data)\n",
    "\n",
    "info(hypothesis)"
   ]
  },
  {
   "cell_type": "markdown",
   "metadata": {},
   "source": [
    "Таблица имеет следующие колонки:\n",
    "- `Hypothesis` — краткое описание гипотезы;\n",
    "- `Reach` — охват пользователей по 10-балльной шкале;\n",
    "- `Impact` — влияние на пользователей по 10-балльной шкале;\n",
    "- `Confidence` — уверенность в гипотезе по 10-балльной шкале;\n",
    "- `Efforts` — затраты ресурсов на проверку гипотезы по 10-балльной шкале. Чем больше значение Efforts, тем дороже проверка гипотезы.\n",
    "\n",
    "Данные без пропусков. Все типы соответствуют данным. Приступим к приоритизации."
   ]
  },
  {
   "cell_type": "markdown",
   "metadata": {},
   "source": [
    "### Фреймворк ICE для приоритизации"
   ]
  },
  {
   "cell_type": "code",
   "execution_count": 4,
   "metadata": {},
   "outputs": [
    {
     "data": {
      "text/html": [
       "<div>\n",
       "<style scoped>\n",
       "    .dataframe tbody tr th:only-of-type {\n",
       "        vertical-align: middle;\n",
       "    }\n",
       "\n",
       "    .dataframe tbody tr th {\n",
       "        vertical-align: top;\n",
       "    }\n",
       "\n",
       "    .dataframe thead th {\n",
       "        text-align: right;\n",
       "    }\n",
       "</style>\n",
       "<table border=\"1\" class=\"dataframe\">\n",
       "  <thead>\n",
       "    <tr style=\"text-align: right;\">\n",
       "      <th></th>\n",
       "      <th>Hypothesis</th>\n",
       "      <th>ICE</th>\n",
       "    </tr>\n",
       "  </thead>\n",
       "  <tbody>\n",
       "    <tr>\n",
       "      <th>8</th>\n",
       "      <td>Запустить акцию, дающую скидку на товар в день рождения</td>\n",
       "      <td>16.0</td>\n",
       "    </tr>\n",
       "    <tr>\n",
       "      <th>0</th>\n",
       "      <td>Добавить два новых канала привлечения трафика, что позволит привлекать на 30% больше пользователей</td>\n",
       "      <td>13.0</td>\n",
       "    </tr>\n",
       "    <tr>\n",
       "      <th>7</th>\n",
       "      <td>Добавить форму подписки на все основные страницы, чтобы собрать базу клиентов для email-рассылок</td>\n",
       "      <td>11.0</td>\n",
       "    </tr>\n",
       "    <tr>\n",
       "      <th>6</th>\n",
       "      <td>Показать на главной странице баннеры с актуальными акциями и распродажами, чтобы увеличить конверсию</td>\n",
       "      <td>8.0</td>\n",
       "    </tr>\n",
       "    <tr>\n",
       "      <th>2</th>\n",
       "      <td>Добавить блоки рекомендаций товаров на сайт интернет магазина, чтобы повысить конверсию и средний чек заказа</td>\n",
       "      <td>7.0</td>\n",
       "    </tr>\n",
       "    <tr>\n",
       "      <th>1</th>\n",
       "      <td>Запустить собственную службу доставки, что сократит срок доставки заказов</td>\n",
       "      <td>2.0</td>\n",
       "    </tr>\n",
       "    <tr>\n",
       "      <th>3</th>\n",
       "      <td>Изменить структура категорий, что увеличит конверсию, т.к. пользователи быстрее найдут нужный товар</td>\n",
       "      <td>1.0</td>\n",
       "    </tr>\n",
       "    <tr>\n",
       "      <th>4</th>\n",
       "      <td>Изменить цвет фона главной страницы, чтобы увеличить вовлеченность пользователей</td>\n",
       "      <td>1.0</td>\n",
       "    </tr>\n",
       "    <tr>\n",
       "      <th>5</th>\n",
       "      <td>Добавить страницу отзывов клиентов о магазине, что позволит увеличить количество заказов</td>\n",
       "      <td>1.0</td>\n",
       "    </tr>\n",
       "  </tbody>\n",
       "</table>\n",
       "</div>"
      ],
      "text/plain": [
       "                                                                                                     Hypothesis  \\\n",
       "8                                                       Запустить акцию, дающую скидку на товар в день рождения   \n",
       "0            Добавить два новых канала привлечения трафика, что позволит привлекать на 30% больше пользователей   \n",
       "7              Добавить форму подписки на все основные страницы, чтобы собрать базу клиентов для email-рассылок   \n",
       "6          Показать на главной странице баннеры с актуальными акциями и распродажами, чтобы увеличить конверсию   \n",
       "2  Добавить блоки рекомендаций товаров на сайт интернет магазина, чтобы повысить конверсию и средний чек заказа   \n",
       "1                                     Запустить собственную службу доставки, что сократит срок доставки заказов   \n",
       "3           Изменить структура категорий, что увеличит конверсию, т.к. пользователи быстрее найдут нужный товар   \n",
       "4                              Изменить цвет фона главной страницы, чтобы увеличить вовлеченность пользователей   \n",
       "5                      Добавить страницу отзывов клиентов о магазине, что позволит увеличить количество заказов   \n",
       "\n",
       "    ICE  \n",
       "8  16.0  \n",
       "0  13.0  \n",
       "7  11.0  \n",
       "6   8.0  \n",
       "2   7.0  \n",
       "1   2.0  \n",
       "3   1.0  \n",
       "4   1.0  \n",
       "5   1.0  "
      ]
     },
     "metadata": {},
     "output_type": "display_data"
    }
   ],
   "source": [
    "# расcчитаем ICE\n",
    "hypothesis['ICE'] = round((hypothesis['Impact']*hypothesis['Confidence'])/hypothesis['Efforts'])\n",
    "display(hypothesis[['Hypothesis', 'ICE']].sort_values(by='ICE', ascending=False))"
   ]
  },
  {
   "cell_type": "markdown",
   "metadata": {},
   "source": [
    "Наиболее приоритетными являются гипотезы:\n",
    "1. 8-Запустить акцию, дающую скидку на товар, \n",
    "2. 0-Добавить два новых канала привлечения трафика, \n",
    "3. 7-Добавить форму подписки на все основные страницы."
   ]
  },
  {
   "cell_type": "markdown",
   "metadata": {},
   "source": [
    "### Фреймворк RICE для приоритизации"
   ]
  },
  {
   "cell_type": "code",
   "execution_count": 5,
   "metadata": {},
   "outputs": [
    {
     "data": {
      "text/html": [
       "<div>\n",
       "<style scoped>\n",
       "    .dataframe tbody tr th:only-of-type {\n",
       "        vertical-align: middle;\n",
       "    }\n",
       "\n",
       "    .dataframe tbody tr th {\n",
       "        vertical-align: top;\n",
       "    }\n",
       "\n",
       "    .dataframe thead th {\n",
       "        text-align: right;\n",
       "    }\n",
       "</style>\n",
       "<table border=\"1\" class=\"dataframe\">\n",
       "  <thead>\n",
       "    <tr style=\"text-align: right;\">\n",
       "      <th></th>\n",
       "      <th>Hypothesis</th>\n",
       "      <th>RICE</th>\n",
       "    </tr>\n",
       "  </thead>\n",
       "  <tbody>\n",
       "    <tr>\n",
       "      <th>7</th>\n",
       "      <td>Добавить форму подписки на все основные страницы, чтобы собрать базу клиентов для email-рассылок</td>\n",
       "      <td>112.0</td>\n",
       "    </tr>\n",
       "    <tr>\n",
       "      <th>2</th>\n",
       "      <td>Добавить блоки рекомендаций товаров на сайт интернет магазина, чтобы повысить конверсию и средний чек заказа</td>\n",
       "      <td>56.0</td>\n",
       "    </tr>\n",
       "    <tr>\n",
       "      <th>0</th>\n",
       "      <td>Добавить два новых канала привлечения трафика, что позволит привлекать на 30% больше пользователей</td>\n",
       "      <td>40.0</td>\n",
       "    </tr>\n",
       "    <tr>\n",
       "      <th>6</th>\n",
       "      <td>Показать на главной странице баннеры с актуальными акциями и распродажами, чтобы увеличить конверсию</td>\n",
       "      <td>40.0</td>\n",
       "    </tr>\n",
       "    <tr>\n",
       "      <th>8</th>\n",
       "      <td>Запустить акцию, дающую скидку на товар в день рождения</td>\n",
       "      <td>16.0</td>\n",
       "    </tr>\n",
       "    <tr>\n",
       "      <th>3</th>\n",
       "      <td>Изменить структура категорий, что увеличит конверсию, т.к. пользователи быстрее найдут нужный товар</td>\n",
       "      <td>9.0</td>\n",
       "    </tr>\n",
       "    <tr>\n",
       "      <th>1</th>\n",
       "      <td>Запустить собственную службу доставки, что сократит срок доставки заказов</td>\n",
       "      <td>4.0</td>\n",
       "    </tr>\n",
       "    <tr>\n",
       "      <th>5</th>\n",
       "      <td>Добавить страницу отзывов клиентов о магазине, что позволит увеличить количество заказов</td>\n",
       "      <td>4.0</td>\n",
       "    </tr>\n",
       "    <tr>\n",
       "      <th>4</th>\n",
       "      <td>Изменить цвет фона главной страницы, чтобы увеличить вовлеченность пользователей</td>\n",
       "      <td>3.0</td>\n",
       "    </tr>\n",
       "  </tbody>\n",
       "</table>\n",
       "</div>"
      ],
      "text/plain": [
       "                                                                                                     Hypothesis  \\\n",
       "7              Добавить форму подписки на все основные страницы, чтобы собрать базу клиентов для email-рассылок   \n",
       "2  Добавить блоки рекомендаций товаров на сайт интернет магазина, чтобы повысить конверсию и средний чек заказа   \n",
       "0            Добавить два новых канала привлечения трафика, что позволит привлекать на 30% больше пользователей   \n",
       "6          Показать на главной странице баннеры с актуальными акциями и распродажами, чтобы увеличить конверсию   \n",
       "8                                                       Запустить акцию, дающую скидку на товар в день рождения   \n",
       "3           Изменить структура категорий, что увеличит конверсию, т.к. пользователи быстрее найдут нужный товар   \n",
       "1                                     Запустить собственную службу доставки, что сократит срок доставки заказов   \n",
       "5                      Добавить страницу отзывов клиентов о магазине, что позволит увеличить количество заказов   \n",
       "4                              Изменить цвет фона главной страницы, чтобы увеличить вовлеченность пользователей   \n",
       "\n",
       "    RICE  \n",
       "7  112.0  \n",
       "2   56.0  \n",
       "0   40.0  \n",
       "6   40.0  \n",
       "8   16.0  \n",
       "3    9.0  \n",
       "1    4.0  \n",
       "5    4.0  \n",
       "4    3.0  "
      ]
     },
     "metadata": {},
     "output_type": "display_data"
    }
   ],
   "source": [
    "# расcчитаем RICE\n",
    "hypothesis['RICE'] = round((hypothesis['Reach']*hypothesis['Impact']*hypothesis['Confidence'])/hypothesis['Efforts'])\n",
    "display(hypothesis[['Hypothesis', 'RICE']].sort_values(by='RICE', ascending=False))"
   ]
  },
  {
   "cell_type": "raw",
   "metadata": {},
   "source": [
    "При применении фреймворка RICE приоритизация гипотез изменилась\n",
    "1. 7-Добавить форму подписки на все основные страницы\n",
    "2. 2-Добавить блоки рекомендаций товаров на сайт\n",
    "3. 0-Добавить два новых канала привлечения трафика"
   ]
  },
  {
   "cell_type": "markdown",
   "metadata": {},
   "source": [
    "### Вывод:"
   ]
  },
  {
   "cell_type": "code",
   "execution_count": 6,
   "metadata": {},
   "outputs": [
    {
     "data": {
      "text/html": [
       "<div>\n",
       "<style scoped>\n",
       "    .dataframe tbody tr th:only-of-type {\n",
       "        vertical-align: middle;\n",
       "    }\n",
       "\n",
       "    .dataframe tbody tr th {\n",
       "        vertical-align: top;\n",
       "    }\n",
       "\n",
       "    .dataframe thead th {\n",
       "        text-align: right;\n",
       "    }\n",
       "</style>\n",
       "<table border=\"1\" class=\"dataframe\">\n",
       "  <thead>\n",
       "    <tr style=\"text-align: right;\">\n",
       "      <th></th>\n",
       "      <th>Hypothesis</th>\n",
       "      <th>ICE</th>\n",
       "      <th>RICE</th>\n",
       "    </tr>\n",
       "  </thead>\n",
       "  <tbody>\n",
       "    <tr>\n",
       "      <th>8</th>\n",
       "      <td>Запустить акцию, дающую скидку на товар в день рождения</td>\n",
       "      <td>16.0</td>\n",
       "      <td>16.0</td>\n",
       "    </tr>\n",
       "    <tr>\n",
       "      <th>0</th>\n",
       "      <td>Добавить два новых канала привлечения трафика, что позволит привлекать на 30% больше пользователей</td>\n",
       "      <td>13.0</td>\n",
       "      <td>40.0</td>\n",
       "    </tr>\n",
       "    <tr>\n",
       "      <th>7</th>\n",
       "      <td>Добавить форму подписки на все основные страницы, чтобы собрать базу клиентов для email-рассылок</td>\n",
       "      <td>11.0</td>\n",
       "      <td>112.0</td>\n",
       "    </tr>\n",
       "    <tr>\n",
       "      <th>6</th>\n",
       "      <td>Показать на главной странице баннеры с актуальными акциями и распродажами, чтобы увеличить конверсию</td>\n",
       "      <td>8.0</td>\n",
       "      <td>40.0</td>\n",
       "    </tr>\n",
       "    <tr>\n",
       "      <th>2</th>\n",
       "      <td>Добавить блоки рекомендаций товаров на сайт интернет магазина, чтобы повысить конверсию и средний чек заказа</td>\n",
       "      <td>7.0</td>\n",
       "      <td>56.0</td>\n",
       "    </tr>\n",
       "    <tr>\n",
       "      <th>1</th>\n",
       "      <td>Запустить собственную службу доставки, что сократит срок доставки заказов</td>\n",
       "      <td>2.0</td>\n",
       "      <td>4.0</td>\n",
       "    </tr>\n",
       "    <tr>\n",
       "      <th>3</th>\n",
       "      <td>Изменить структура категорий, что увеличит конверсию, т.к. пользователи быстрее найдут нужный товар</td>\n",
       "      <td>1.0</td>\n",
       "      <td>9.0</td>\n",
       "    </tr>\n",
       "    <tr>\n",
       "      <th>4</th>\n",
       "      <td>Изменить цвет фона главной страницы, чтобы увеличить вовлеченность пользователей</td>\n",
       "      <td>1.0</td>\n",
       "      <td>3.0</td>\n",
       "    </tr>\n",
       "    <tr>\n",
       "      <th>5</th>\n",
       "      <td>Добавить страницу отзывов клиентов о магазине, что позволит увеличить количество заказов</td>\n",
       "      <td>1.0</td>\n",
       "      <td>4.0</td>\n",
       "    </tr>\n",
       "  </tbody>\n",
       "</table>\n",
       "</div>"
      ],
      "text/plain": [
       "                                                                                                     Hypothesis  \\\n",
       "8                                                       Запустить акцию, дающую скидку на товар в день рождения   \n",
       "0            Добавить два новых канала привлечения трафика, что позволит привлекать на 30% больше пользователей   \n",
       "7              Добавить форму подписки на все основные страницы, чтобы собрать базу клиентов для email-рассылок   \n",
       "6          Показать на главной странице баннеры с актуальными акциями и распродажами, чтобы увеличить конверсию   \n",
       "2  Добавить блоки рекомендаций товаров на сайт интернет магазина, чтобы повысить конверсию и средний чек заказа   \n",
       "1                                     Запустить собственную службу доставки, что сократит срок доставки заказов   \n",
       "3           Изменить структура категорий, что увеличит конверсию, т.к. пользователи быстрее найдут нужный товар   \n",
       "4                              Изменить цвет фона главной страницы, чтобы увеличить вовлеченность пользователей   \n",
       "5                      Добавить страницу отзывов клиентов о магазине, что позволит увеличить количество заказов   \n",
       "\n",
       "    ICE   RICE  \n",
       "8  16.0   16.0  \n",
       "0  13.0   40.0  \n",
       "7  11.0  112.0  \n",
       "6   8.0   40.0  \n",
       "2   7.0   56.0  \n",
       "1   2.0    4.0  \n",
       "3   1.0    9.0  \n",
       "4   1.0    3.0  \n",
       "5   1.0    4.0  "
      ]
     },
     "metadata": {},
     "output_type": "display_data"
    }
   ],
   "source": [
    "display(hypothesis[['Hypothesis', 'ICE', 'RICE']].sort_values(by='ICE', ascending=False))"
   ]
  },
  {
   "cell_type": "markdown",
   "metadata": {},
   "source": [
    "Проведя приоритизацию с помощью двух фрейворков видим что порядок приоритетности гипотез меняется. Параметр `Reach` отвечающий за оценку того как много пользователей затронет гипотеза существенно влияет на приоритет. Если при применении фреймворка `ICE` 7я гипотеза была лишь третьей в списке, то за счет оценки `Reach` в **10** баллов при применении фреймворка `RICE` она поднялась на первое место, в то всремя как лидер фреймворка `ICE` 8-Запустить акцию, дающую скидку на товар, опустился аж на пятую позицию при применении `RICE`."
   ]
  },
  {
   "cell_type": "markdown",
   "metadata": {},
   "source": [
    "## Часть 2 Анализ А/В-теста"
   ]
  },
  {
   "cell_type": "markdown",
   "metadata": {},
   "source": [
    "**Задача:** проанализировать ранее проведенный А/В-тест. Результаты описаны в файлах /datasets/orders.csv и /datasets/visitors.csv."
   ]
  },
  {
   "cell_type": "code",
   "execution_count": 7,
   "metadata": {
    "collapsed": true
   },
   "outputs": [],
   "source": [
    "# загружаем файлы с данными\n",
    "try:\n",
    "    orders = pd.read_csv(\"orders.csv\")\n",
    "    visitors = pd.read_csv(\"visitors.csv\")\n",
    "except:\n",
    "    orders = pd.read_csv(\"/datasets/orders.csv\")\n",
    "    visitors = pd.read_csv(\"/datasets/visitors.csv\")"
   ]
  },
  {
   "cell_type": "code",
   "execution_count": 8,
   "metadata": {
    "scrolled": true
   },
   "outputs": [
    {
     "name": "stdout",
     "output_type": "stream",
     "text": [
      "<class 'pandas.core.frame.DataFrame'>\n",
      "RangeIndex: 1197 entries, 0 to 1196\n",
      "Data columns (total 5 columns):\n",
      " #   Column         Non-Null Count  Dtype \n",
      "---  ------         --------------  ----- \n",
      " 0   transactionId  1197 non-null   int64 \n",
      " 1   visitorId      1197 non-null   int64 \n",
      " 2   date           1197 non-null   object\n",
      " 3   revenue        1197 non-null   int64 \n",
      " 4   group          1197 non-null   object\n",
      "dtypes: int64(3), object(2)\n",
      "memory usage: 46.9+ KB\n",
      "**************************************************\n"
     ]
    },
    {
     "data": {
      "text/html": [
       "<div>\n",
       "<style scoped>\n",
       "    .dataframe tbody tr th:only-of-type {\n",
       "        vertical-align: middle;\n",
       "    }\n",
       "\n",
       "    .dataframe tbody tr th {\n",
       "        vertical-align: top;\n",
       "    }\n",
       "\n",
       "    .dataframe thead th {\n",
       "        text-align: right;\n",
       "    }\n",
       "</style>\n",
       "<table border=\"1\" class=\"dataframe\">\n",
       "  <thead>\n",
       "    <tr style=\"text-align: right;\">\n",
       "      <th></th>\n",
       "      <th>transactionId</th>\n",
       "      <th>visitorId</th>\n",
       "      <th>revenue</th>\n",
       "    </tr>\n",
       "  </thead>\n",
       "  <tbody>\n",
       "    <tr>\n",
       "      <th>count</th>\n",
       "      <td>1.197000e+03</td>\n",
       "      <td>1.197000e+03</td>\n",
       "      <td>1.197000e+03</td>\n",
       "    </tr>\n",
       "    <tr>\n",
       "      <th>mean</th>\n",
       "      <td>2.155621e+09</td>\n",
       "      <td>2.165960e+09</td>\n",
       "      <td>8.348006e+03</td>\n",
       "    </tr>\n",
       "    <tr>\n",
       "      <th>std</th>\n",
       "      <td>1.229085e+09</td>\n",
       "      <td>1.236014e+09</td>\n",
       "      <td>3.919113e+04</td>\n",
       "    </tr>\n",
       "    <tr>\n",
       "      <th>min</th>\n",
       "      <td>1.062393e+06</td>\n",
       "      <td>5.114589e+06</td>\n",
       "      <td>5.000000e+01</td>\n",
       "    </tr>\n",
       "    <tr>\n",
       "      <th>25%</th>\n",
       "      <td>1.166776e+09</td>\n",
       "      <td>1.111826e+09</td>\n",
       "      <td>1.220000e+03</td>\n",
       "    </tr>\n",
       "    <tr>\n",
       "      <th>50%</th>\n",
       "      <td>2.145194e+09</td>\n",
       "      <td>2.217985e+09</td>\n",
       "      <td>2.978000e+03</td>\n",
       "    </tr>\n",
       "    <tr>\n",
       "      <th>75%</th>\n",
       "      <td>3.237740e+09</td>\n",
       "      <td>3.177606e+09</td>\n",
       "      <td>8.290000e+03</td>\n",
       "    </tr>\n",
       "    <tr>\n",
       "      <th>max</th>\n",
       "      <td>4.293856e+09</td>\n",
       "      <td>4.283872e+09</td>\n",
       "      <td>1.294500e+06</td>\n",
       "    </tr>\n",
       "  </tbody>\n",
       "</table>\n",
       "</div>"
      ],
      "text/plain": [
       "       transactionId     visitorId       revenue\n",
       "count   1.197000e+03  1.197000e+03  1.197000e+03\n",
       "mean    2.155621e+09  2.165960e+09  8.348006e+03\n",
       "std     1.229085e+09  1.236014e+09  3.919113e+04\n",
       "min     1.062393e+06  5.114589e+06  5.000000e+01\n",
       "25%     1.166776e+09  1.111826e+09  1.220000e+03\n",
       "50%     2.145194e+09  2.217985e+09  2.978000e+03\n",
       "75%     3.237740e+09  3.177606e+09  8.290000e+03\n",
       "max     4.293856e+09  4.283872e+09  1.294500e+06"
      ]
     },
     "metadata": {},
     "output_type": "display_data"
    },
    {
     "name": "stdout",
     "output_type": "stream",
     "text": [
      "**************************************************\n"
     ]
    },
    {
     "data": {
      "text/html": [
       "<div>\n",
       "<style scoped>\n",
       "    .dataframe tbody tr th:only-of-type {\n",
       "        vertical-align: middle;\n",
       "    }\n",
       "\n",
       "    .dataframe tbody tr th {\n",
       "        vertical-align: top;\n",
       "    }\n",
       "\n",
       "    .dataframe thead th {\n",
       "        text-align: right;\n",
       "    }\n",
       "</style>\n",
       "<table border=\"1\" class=\"dataframe\">\n",
       "  <thead>\n",
       "    <tr style=\"text-align: right;\">\n",
       "      <th></th>\n",
       "      <th>transactionId</th>\n",
       "      <th>visitorId</th>\n",
       "      <th>date</th>\n",
       "      <th>revenue</th>\n",
       "      <th>group</th>\n",
       "    </tr>\n",
       "  </thead>\n",
       "  <tbody>\n",
       "    <tr>\n",
       "      <th>0</th>\n",
       "      <td>3667963787</td>\n",
       "      <td>3312258926</td>\n",
       "      <td>2019-08-15</td>\n",
       "      <td>1650</td>\n",
       "      <td>B</td>\n",
       "    </tr>\n",
       "    <tr>\n",
       "      <th>1</th>\n",
       "      <td>2804400009</td>\n",
       "      <td>3642806036</td>\n",
       "      <td>2019-08-15</td>\n",
       "      <td>730</td>\n",
       "      <td>B</td>\n",
       "    </tr>\n",
       "    <tr>\n",
       "      <th>2</th>\n",
       "      <td>2961555356</td>\n",
       "      <td>4069496402</td>\n",
       "      <td>2019-08-15</td>\n",
       "      <td>400</td>\n",
       "      <td>A</td>\n",
       "    </tr>\n",
       "    <tr>\n",
       "      <th>3</th>\n",
       "      <td>3797467345</td>\n",
       "      <td>1196621759</td>\n",
       "      <td>2019-08-15</td>\n",
       "      <td>9759</td>\n",
       "      <td>B</td>\n",
       "    </tr>\n",
       "    <tr>\n",
       "      <th>4</th>\n",
       "      <td>2282983706</td>\n",
       "      <td>2322279887</td>\n",
       "      <td>2019-08-15</td>\n",
       "      <td>2308</td>\n",
       "      <td>B</td>\n",
       "    </tr>\n",
       "    <tr>\n",
       "      <th>...</th>\n",
       "      <td>...</td>\n",
       "      <td>...</td>\n",
       "      <td>...</td>\n",
       "      <td>...</td>\n",
       "      <td>...</td>\n",
       "    </tr>\n",
       "    <tr>\n",
       "      <th>1192</th>\n",
       "      <td>2662137336</td>\n",
       "      <td>3733762160</td>\n",
       "      <td>2019-08-14</td>\n",
       "      <td>6490</td>\n",
       "      <td>B</td>\n",
       "    </tr>\n",
       "    <tr>\n",
       "      <th>1193</th>\n",
       "      <td>2203539145</td>\n",
       "      <td>370388673</td>\n",
       "      <td>2019-08-14</td>\n",
       "      <td>3190</td>\n",
       "      <td>A</td>\n",
       "    </tr>\n",
       "    <tr>\n",
       "      <th>1194</th>\n",
       "      <td>1807773912</td>\n",
       "      <td>573423106</td>\n",
       "      <td>2019-08-14</td>\n",
       "      <td>10550</td>\n",
       "      <td>A</td>\n",
       "    </tr>\n",
       "    <tr>\n",
       "      <th>1195</th>\n",
       "      <td>1947021204</td>\n",
       "      <td>1614305549</td>\n",
       "      <td>2019-08-14</td>\n",
       "      <td>100</td>\n",
       "      <td>A</td>\n",
       "    </tr>\n",
       "    <tr>\n",
       "      <th>1196</th>\n",
       "      <td>3936777065</td>\n",
       "      <td>2108080724</td>\n",
       "      <td>2019-08-15</td>\n",
       "      <td>202740</td>\n",
       "      <td>B</td>\n",
       "    </tr>\n",
       "  </tbody>\n",
       "</table>\n",
       "<p>1197 rows × 5 columns</p>\n",
       "</div>"
      ],
      "text/plain": [
       "      transactionId   visitorId        date  revenue group\n",
       "0        3667963787  3312258926  2019-08-15     1650     B\n",
       "1        2804400009  3642806036  2019-08-15      730     B\n",
       "2        2961555356  4069496402  2019-08-15      400     A\n",
       "3        3797467345  1196621759  2019-08-15     9759     B\n",
       "4        2282983706  2322279887  2019-08-15     2308     B\n",
       "...             ...         ...         ...      ...   ...\n",
       "1192     2662137336  3733762160  2019-08-14     6490     B\n",
       "1193     2203539145   370388673  2019-08-14     3190     A\n",
       "1194     1807773912   573423106  2019-08-14    10550     A\n",
       "1195     1947021204  1614305549  2019-08-14      100     A\n",
       "1196     3936777065  2108080724  2019-08-15   202740     B\n",
       "\n",
       "[1197 rows x 5 columns]"
      ]
     },
     "metadata": {},
     "output_type": "display_data"
    }
   ],
   "source": [
    "# посмотрим на данные поближе\n",
    "info(orders)"
   ]
  },
  {
   "cell_type": "markdown",
   "metadata": {},
   "source": [
    "Датасет содержит колонки:\n",
    "- `transactionId` — идентификатор заказа;\n",
    "- `visitorId` — идентификатор пользователя, совершившего заказ;\n",
    "- `date` — дата, когда был совершён заказ;\n",
    "- `revenue` — выручка заказа;\n",
    "- `group` — группа A/B-теста, в которую попал заказ.\n",
    "\n",
    "Данные без пропусков. Тип данных в столбце `date` не соответствует формату времени."
   ]
  },
  {
   "cell_type": "code",
   "execution_count": 9,
   "metadata": {
    "collapsed": true
   },
   "outputs": [],
   "source": [
    "orders['date'] = orders['date'].map(\n",
    "    lambda x: dt.datetime.strptime(x, '%Y-%m-%d')\n",
    ")"
   ]
  },
  {
   "cell_type": "code",
   "execution_count": 10,
   "metadata": {},
   "outputs": [
    {
     "name": "stdout",
     "output_type": "stream",
     "text": [
      "<class 'pandas.core.frame.DataFrame'>\n",
      "RangeIndex: 62 entries, 0 to 61\n",
      "Data columns (total 3 columns):\n",
      " #   Column    Non-Null Count  Dtype \n",
      "---  ------    --------------  ----- \n",
      " 0   date      62 non-null     object\n",
      " 1   group     62 non-null     object\n",
      " 2   visitors  62 non-null     int64 \n",
      "dtypes: int64(1), object(2)\n",
      "memory usage: 1.6+ KB\n",
      "**************************************************\n"
     ]
    },
    {
     "data": {
      "text/html": [
       "<div>\n",
       "<style scoped>\n",
       "    .dataframe tbody tr th:only-of-type {\n",
       "        vertical-align: middle;\n",
       "    }\n",
       "\n",
       "    .dataframe tbody tr th {\n",
       "        vertical-align: top;\n",
       "    }\n",
       "\n",
       "    .dataframe thead th {\n",
       "        text-align: right;\n",
       "    }\n",
       "</style>\n",
       "<table border=\"1\" class=\"dataframe\">\n",
       "  <thead>\n",
       "    <tr style=\"text-align: right;\">\n",
       "      <th></th>\n",
       "      <th>visitors</th>\n",
       "    </tr>\n",
       "  </thead>\n",
       "  <tbody>\n",
       "    <tr>\n",
       "      <th>count</th>\n",
       "      <td>62.000000</td>\n",
       "    </tr>\n",
       "    <tr>\n",
       "      <th>mean</th>\n",
       "      <td>607.290323</td>\n",
       "    </tr>\n",
       "    <tr>\n",
       "      <th>std</th>\n",
       "      <td>114.400560</td>\n",
       "    </tr>\n",
       "    <tr>\n",
       "      <th>min</th>\n",
       "      <td>361.000000</td>\n",
       "    </tr>\n",
       "    <tr>\n",
       "      <th>25%</th>\n",
       "      <td>534.000000</td>\n",
       "    </tr>\n",
       "    <tr>\n",
       "      <th>50%</th>\n",
       "      <td>624.500000</td>\n",
       "    </tr>\n",
       "    <tr>\n",
       "      <th>75%</th>\n",
       "      <td>710.500000</td>\n",
       "    </tr>\n",
       "    <tr>\n",
       "      <th>max</th>\n",
       "      <td>770.000000</td>\n",
       "    </tr>\n",
       "  </tbody>\n",
       "</table>\n",
       "</div>"
      ],
      "text/plain": [
       "         visitors\n",
       "count   62.000000\n",
       "mean   607.290323\n",
       "std    114.400560\n",
       "min    361.000000\n",
       "25%    534.000000\n",
       "50%    624.500000\n",
       "75%    710.500000\n",
       "max    770.000000"
      ]
     },
     "metadata": {},
     "output_type": "display_data"
    },
    {
     "name": "stdout",
     "output_type": "stream",
     "text": [
      "**************************************************\n"
     ]
    },
    {
     "data": {
      "text/html": [
       "<div>\n",
       "<style scoped>\n",
       "    .dataframe tbody tr th:only-of-type {\n",
       "        vertical-align: middle;\n",
       "    }\n",
       "\n",
       "    .dataframe tbody tr th {\n",
       "        vertical-align: top;\n",
       "    }\n",
       "\n",
       "    .dataframe thead th {\n",
       "        text-align: right;\n",
       "    }\n",
       "</style>\n",
       "<table border=\"1\" class=\"dataframe\">\n",
       "  <thead>\n",
       "    <tr style=\"text-align: right;\">\n",
       "      <th></th>\n",
       "      <th>date</th>\n",
       "      <th>group</th>\n",
       "      <th>visitors</th>\n",
       "    </tr>\n",
       "  </thead>\n",
       "  <tbody>\n",
       "    <tr>\n",
       "      <th>0</th>\n",
       "      <td>2019-08-01</td>\n",
       "      <td>A</td>\n",
       "      <td>719</td>\n",
       "    </tr>\n",
       "    <tr>\n",
       "      <th>1</th>\n",
       "      <td>2019-08-02</td>\n",
       "      <td>A</td>\n",
       "      <td>619</td>\n",
       "    </tr>\n",
       "    <tr>\n",
       "      <th>2</th>\n",
       "      <td>2019-08-03</td>\n",
       "      <td>A</td>\n",
       "      <td>507</td>\n",
       "    </tr>\n",
       "    <tr>\n",
       "      <th>3</th>\n",
       "      <td>2019-08-04</td>\n",
       "      <td>A</td>\n",
       "      <td>717</td>\n",
       "    </tr>\n",
       "    <tr>\n",
       "      <th>4</th>\n",
       "      <td>2019-08-05</td>\n",
       "      <td>A</td>\n",
       "      <td>756</td>\n",
       "    </tr>\n",
       "    <tr>\n",
       "      <th>...</th>\n",
       "      <td>...</td>\n",
       "      <td>...</td>\n",
       "      <td>...</td>\n",
       "    </tr>\n",
       "    <tr>\n",
       "      <th>57</th>\n",
       "      <td>2019-08-27</td>\n",
       "      <td>B</td>\n",
       "      <td>720</td>\n",
       "    </tr>\n",
       "    <tr>\n",
       "      <th>58</th>\n",
       "      <td>2019-08-28</td>\n",
       "      <td>B</td>\n",
       "      <td>654</td>\n",
       "    </tr>\n",
       "    <tr>\n",
       "      <th>59</th>\n",
       "      <td>2019-08-29</td>\n",
       "      <td>B</td>\n",
       "      <td>531</td>\n",
       "    </tr>\n",
       "    <tr>\n",
       "      <th>60</th>\n",
       "      <td>2019-08-30</td>\n",
       "      <td>B</td>\n",
       "      <td>490</td>\n",
       "    </tr>\n",
       "    <tr>\n",
       "      <th>61</th>\n",
       "      <td>2019-08-31</td>\n",
       "      <td>B</td>\n",
       "      <td>718</td>\n",
       "    </tr>\n",
       "  </tbody>\n",
       "</table>\n",
       "<p>62 rows × 3 columns</p>\n",
       "</div>"
      ],
      "text/plain": [
       "          date group  visitors\n",
       "0   2019-08-01     A       719\n",
       "1   2019-08-02     A       619\n",
       "2   2019-08-03     A       507\n",
       "3   2019-08-04     A       717\n",
       "4   2019-08-05     A       756\n",
       "..         ...   ...       ...\n",
       "57  2019-08-27     B       720\n",
       "58  2019-08-28     B       654\n",
       "59  2019-08-29     B       531\n",
       "60  2019-08-30     B       490\n",
       "61  2019-08-31     B       718\n",
       "\n",
       "[62 rows x 3 columns]"
      ]
     },
     "metadata": {},
     "output_type": "display_data"
    }
   ],
   "source": [
    "info(visitors)"
   ]
  },
  {
   "cell_type": "markdown",
   "metadata": {},
   "source": [
    "В таблице три столбца:\n",
    "- `date` — дата;\n",
    "- `group` — группа A/B-теста;\n",
    "- `visitors` — количество пользователей в указанную дату в указанной группе A/B-теста\n",
    "\n",
    "Данные без пропусков. Тип данных в столбце `date` не соответствует формату времени. Количество посетителей от 62 до 770."
   ]
  },
  {
   "cell_type": "code",
   "execution_count": 11,
   "metadata": {
    "collapsed": true
   },
   "outputs": [],
   "source": [
    "visitors['date'] = visitors['date'].map(\n",
    "    lambda x: dt.datetime.strptime(x, '%Y-%m-%d')\n",
    ")"
   ]
  },
  {
   "cell_type": "code",
   "execution_count": 12,
   "metadata": {
    "scrolled": true
   },
   "outputs": [
    {
     "data": {
      "text/plain": [
       "4266935830    2\n",
       "237748145     2\n",
       "3766097110    2\n",
       "3234906277    2\n",
       "3891541246    2\n",
       "199603092     2\n",
       "1294878855    2\n",
       "2712142231    2\n",
       "3202540741    2\n",
       "3803269165    2\n",
       "3984495233    2\n",
       "2600415354    2\n",
       "818047933     2\n",
       "963407295     2\n",
       "2780786433    2\n",
       "232979603     2\n",
       "4120364173    2\n",
       "3941795274    2\n",
       "2038680547    2\n",
       "1648269707    2\n",
       "8300375       2\n",
       "2716752286    2\n",
       "3957174400    2\n",
       "457167155     2\n",
       "477780734     2\n",
       "393266494     2\n",
       "3972127743    2\n",
       "1614305549    2\n",
       "2044997962    2\n",
       "3951559397    2\n",
       "2458001652    2\n",
       "1668030113    2\n",
       "2654030115    2\n",
       "2949041841    2\n",
       "1959144690    2\n",
       "2579882178    2\n",
       "3062433592    2\n",
       "4186807279    2\n",
       "1230306981    2\n",
       "1316129916    2\n",
       "4256040402    2\n",
       "4069496402    2\n",
       "3656415546    2\n",
       "2686716486    2\n",
       "2587333274    2\n",
       "1404934699    2\n",
       "1738359350    2\n",
       "2927087541    2\n",
       "276558944     2\n",
       "3963646447    2\n",
       "1333886533    2\n",
       "1801183820    2\n",
       "351125977     2\n",
       "2954449915    2\n",
       "471551937     2\n",
       "2378935119    2\n",
       "1602967004    2\n",
       "3717692402    2\n",
       "721509856     1\n",
       "3102053760    1\n",
       "Name: visitorId, dtype: int64"
      ]
     },
     "metadata": {},
     "output_type": "display_data"
    }
   ],
   "source": [
    "visitor_group = orders[['visitorId','group']].drop_duplicates().sort_values(by=['visitorId','group']).reset_index(drop=True)\n",
    "display(visitor_group['visitorId'].value_counts().head(60))"
   ]
  },
  {
   "cell_type": "markdown",
   "metadata": {},
   "source": [
    "### График кумулятивной выручки по группам"
   ]
  },
  {
   "cell_type": "markdown",
   "metadata": {},
   "source": [
    "Для начала чтобы построить графики, нужно собрать кумулятивные данные."
   ]
  },
  {
   "cell_type": "code",
   "execution_count": 13,
   "metadata": {},
   "outputs": [
    {
     "data": {
      "text/html": [
       "<div>\n",
       "<style scoped>\n",
       "    .dataframe tbody tr th:only-of-type {\n",
       "        vertical-align: middle;\n",
       "    }\n",
       "\n",
       "    .dataframe tbody tr th {\n",
       "        vertical-align: top;\n",
       "    }\n",
       "\n",
       "    .dataframe thead th {\n",
       "        text-align: right;\n",
       "    }\n",
       "</style>\n",
       "<table border=\"1\" class=\"dataframe\">\n",
       "  <thead>\n",
       "    <tr style=\"text-align: right;\">\n",
       "      <th></th>\n",
       "      <th>date</th>\n",
       "      <th>group</th>\n",
       "      <th>orders</th>\n",
       "      <th>buyers</th>\n",
       "      <th>revenue</th>\n",
       "      <th>visitors</th>\n",
       "    </tr>\n",
       "  </thead>\n",
       "  <tbody>\n",
       "    <tr>\n",
       "      <th>0</th>\n",
       "      <td>2019-08-01</td>\n",
       "      <td>A</td>\n",
       "      <td>24</td>\n",
       "      <td>20</td>\n",
       "      <td>148579</td>\n",
       "      <td>719</td>\n",
       "    </tr>\n",
       "    <tr>\n",
       "      <th>1</th>\n",
       "      <td>2019-08-01</td>\n",
       "      <td>B</td>\n",
       "      <td>21</td>\n",
       "      <td>20</td>\n",
       "      <td>101217</td>\n",
       "      <td>713</td>\n",
       "    </tr>\n",
       "    <tr>\n",
       "      <th>2</th>\n",
       "      <td>2019-08-02</td>\n",
       "      <td>A</td>\n",
       "      <td>44</td>\n",
       "      <td>38</td>\n",
       "      <td>242401</td>\n",
       "      <td>1338</td>\n",
       "    </tr>\n",
       "    <tr>\n",
       "      <th>3</th>\n",
       "      <td>2019-08-02</td>\n",
       "      <td>B</td>\n",
       "      <td>45</td>\n",
       "      <td>43</td>\n",
       "      <td>266748</td>\n",
       "      <td>1294</td>\n",
       "    </tr>\n",
       "    <tr>\n",
       "      <th>4</th>\n",
       "      <td>2019-08-03</td>\n",
       "      <td>A</td>\n",
       "      <td>68</td>\n",
       "      <td>62</td>\n",
       "      <td>354874</td>\n",
       "      <td>1845</td>\n",
       "    </tr>\n",
       "  </tbody>\n",
       "</table>\n",
       "</div>"
      ],
      "text/plain": [
       "        date group  orders  buyers  revenue  visitors\n",
       "0 2019-08-01     A      24      20   148579       719\n",
       "1 2019-08-01     B      21      20   101217       713\n",
       "2 2019-08-02     A      44      38   242401      1338\n",
       "3 2019-08-02     B      45      43   266748      1294\n",
       "4 2019-08-03     A      68      62   354874      1845"
      ]
     },
     "metadata": {},
     "output_type": "display_data"
    }
   ],
   "source": [
    "# создаем массив уникальных пар значений дат и групп теста\n",
    "datesGroups = orders[['date','group']].drop_duplicates()\n",
    "# получаем агрегированные кумулятивные по дням данные о заказах \n",
    "ordersAggregated = datesGroups.apply(lambda x: orders[np.logical_and(orders['date'] <= x['date'], orders['group'] == x['group'])].agg({'date' : 'max', 'group' : 'max', 'transactionId' : 'nunique', 'visitorId' : 'nunique', 'revenue' : 'sum'}), axis=1).sort_values(by=['date','group'])\n",
    "# получаем агрегированные кумулятивные по дням данные о посетителях интернет-магазина \n",
    "visitorsAggregated = datesGroups.apply(lambda x: visitors[np.logical_and(visitors['date'] <= x['date'], visitors['group'] == x['group'])].agg({'date' : 'max', 'group' : 'max', 'visitors' : 'sum'}), axis=1).sort_values(by=['date','group'])\n",
    "# объединяем кумулятивные данные в одной таблице и присваиваем ее столбцам понятные названия\n",
    "cumulativeData = ordersAggregated.merge(visitorsAggregated, left_on=['date', 'group'], right_on=['date', 'group'])\n",
    "cumulativeData.columns = ['date', 'group', 'orders', 'buyers', 'revenue', 'visitors']\n",
    "\n",
    "display(cumulativeData.head(5)) "
   ]
  },
  {
   "cell_type": "markdown",
   "metadata": {},
   "source": [
    "Построим графики кумулятивной выручки по дням и группам A/B-тестирования:"
   ]
  },
  {
   "cell_type": "code",
   "execution_count": 14,
   "metadata": {},
   "outputs": [
    {
     "data": {
      "image/png": "[encoded data removed]",
      "text/plain": [
       "<Figure size 1080x360 with 1 Axes>"
      ]
     },
     "metadata": {
      "needs_background": "light"
     },
     "output_type": "display_data"
    }
   ],
   "source": [
    "# датафрейм с кумулятивным количеством заказов и кумулятивной выручкой по дням в группе А\n",
    "cumulativeRevenueA = cumulativeData[cumulativeData['group']=='A'][['date','revenue', 'orders']]\n",
    "# датафрейм с кумулятивным количеством заказов и кумулятивной выручкой по дням в группе B\n",
    "cumulativeRevenueB = cumulativeData[cumulativeData['group']=='B'][['date','revenue', 'orders']]\n",
    "\n",
    "plt.figure(figsize=(15,5))\n",
    "# Строим график выручки группы А\n",
    "plt.plot(cumulativeRevenueA['date'], cumulativeRevenueA['revenue'], label='A')\n",
    "# Строим график выручки группы B\n",
    "plt.plot(cumulativeRevenueB['date'], cumulativeRevenueB['revenue'], label='B')\n",
    "plt.title('График кумулятивной выручки по группам')\n",
    "plt.ylabel('Выручка, млн.у.е')\n",
    "plt.xlabel('Дата')\n",
    "plt.grid()\n",
    "plt.xticks(rotation=45)\n",
    "plt.legend();"
   ]
  },
  {
   "cell_type": "markdown",
   "metadata": {},
   "source": [
    "Выручка увеличивается в течение всего теста. **13** августа выручки примерно равны.\n",
    "Однако далее график выручки группы В в одном месте - **19** августа резко растет. Это может сигнализировать о всплеске числа заказов, либо о появлении очень дорогих заказов в выборке. Без них можно предположить что выручки росли примерно одинаково."
   ]
  },
  {
   "cell_type": "markdown",
   "metadata": {},
   "source": [
    "Посмотрим были ли какие-то выбивающиеся из общего числа заказы 19 агуста"
   ]
  },
  {
   "cell_type": "code",
   "execution_count": 15,
   "metadata": {},
   "outputs": [
    {
     "name": "stdout",
     "output_type": "stream",
     "text": [
      "Медианное значение одного заказа 19 августа = 2630.0\n"
     ]
    },
    {
     "data": {
      "text/html": [
       "<div>\n",
       "<style scoped>\n",
       "    .dataframe tbody tr th:only-of-type {\n",
       "        vertical-align: middle;\n",
       "    }\n",
       "\n",
       "    .dataframe tbody tr th {\n",
       "        vertical-align: top;\n",
       "    }\n",
       "\n",
       "    .dataframe thead th {\n",
       "        text-align: right;\n",
       "    }\n",
       "</style>\n",
       "<table border=\"1\" class=\"dataframe\">\n",
       "  <thead>\n",
       "    <tr style=\"text-align: right;\">\n",
       "      <th></th>\n",
       "      <th>transactionId</th>\n",
       "      <th>visitorId</th>\n",
       "      <th>date</th>\n",
       "      <th>revenue</th>\n",
       "      <th>group</th>\n",
       "    </tr>\n",
       "  </thead>\n",
       "  <tbody>\n",
       "    <tr>\n",
       "      <th>425</th>\n",
       "      <td>590470918</td>\n",
       "      <td>1920142716</td>\n",
       "      <td>2019-08-19</td>\n",
       "      <td>1294500</td>\n",
       "      <td>B</td>\n",
       "    </tr>\n",
       "    <tr>\n",
       "      <th>530</th>\n",
       "      <td>3970235543</td>\n",
       "      <td>2912540959</td>\n",
       "      <td>2019-08-19</td>\n",
       "      <td>43990</td>\n",
       "      <td>A</td>\n",
       "    </tr>\n",
       "    <tr>\n",
       "      <th>527</th>\n",
       "      <td>1570513684</td>\n",
       "      <td>2837914161</td>\n",
       "      <td>2019-08-19</td>\n",
       "      <td>33405</td>\n",
       "      <td>B</td>\n",
       "    </tr>\n",
       "    <tr>\n",
       "      <th>421</th>\n",
       "      <td>3765974140</td>\n",
       "      <td>1357170471</td>\n",
       "      <td>2019-08-19</td>\n",
       "      <td>31680</td>\n",
       "      <td>A</td>\n",
       "    </tr>\n",
       "    <tr>\n",
       "      <th>461</th>\n",
       "      <td>2683113224</td>\n",
       "      <td>154576532</td>\n",
       "      <td>2019-08-19</td>\n",
       "      <td>26550</td>\n",
       "      <td>B</td>\n",
       "    </tr>\n",
       "    <tr>\n",
       "      <th>525</th>\n",
       "      <td>3031564664</td>\n",
       "      <td>393266494</td>\n",
       "      <td>2019-08-19</td>\n",
       "      <td>21550</td>\n",
       "      <td>A</td>\n",
       "    </tr>\n",
       "    <tr>\n",
       "      <th>368</th>\n",
       "      <td>3268879337</td>\n",
       "      <td>2536252163</td>\n",
       "      <td>2019-08-19</td>\n",
       "      <td>20026</td>\n",
       "      <td>B</td>\n",
       "    </tr>\n",
       "    <tr>\n",
       "      <th>366</th>\n",
       "      <td>2037051350</td>\n",
       "      <td>1957949546</td>\n",
       "      <td>2019-08-19</td>\n",
       "      <td>16770</td>\n",
       "      <td>A</td>\n",
       "    </tr>\n",
       "    <tr>\n",
       "      <th>463</th>\n",
       "      <td>4170537404</td>\n",
       "      <td>290022471</td>\n",
       "      <td>2019-08-19</td>\n",
       "      <td>16480</td>\n",
       "      <td>B</td>\n",
       "    </tr>\n",
       "    <tr>\n",
       "      <th>531</th>\n",
       "      <td>4016435970</td>\n",
       "      <td>4017075195</td>\n",
       "      <td>2019-08-19</td>\n",
       "      <td>13390</td>\n",
       "      <td>A</td>\n",
       "    </tr>\n",
       "  </tbody>\n",
       "</table>\n",
       "</div>"
      ],
      "text/plain": [
       "     transactionId   visitorId       date  revenue group\n",
       "425      590470918  1920142716 2019-08-19  1294500     B\n",
       "530     3970235543  2912540959 2019-08-19    43990     A\n",
       "527     1570513684  2837914161 2019-08-19    33405     B\n",
       "421     3765974140  1357170471 2019-08-19    31680     A\n",
       "461     2683113224   154576532 2019-08-19    26550     B\n",
       "525     3031564664   393266494 2019-08-19    21550     A\n",
       "368     3268879337  2536252163 2019-08-19    20026     B\n",
       "366     2037051350  1957949546 2019-08-19    16770     A\n",
       "463     4170537404   290022471 2019-08-19    16480     B\n",
       "531     4016435970  4017075195 2019-08-19    13390     A"
      ]
     },
     "execution_count": 15,
     "metadata": {},
     "output_type": "execute_result"
    }
   ],
   "source": [
    "print('Медианное значение одного заказа 19 августа =',orders.query(' date == \"2019-08-19\" ')['revenue'].median())\n",
    "orders.query(' date == \"2019-08-19\" ').sort_values(by='revenue', ascending=False).head(10)"
   ]
  },
  {
   "cell_type": "markdown",
   "metadata": {},
   "source": [
    "Заказ **№425** - **1.294.500у.е.** явно больше чем все последующие и в **492** больше медианного значения за этот день! Он находится в `группе В` и скорее всего является выбросом."
   ]
  },
  {
   "cell_type": "markdown",
   "metadata": {},
   "source": [
    "### График кумулятивного среднего чека по группам"
   ]
  },
  {
   "cell_type": "code",
   "execution_count": 16,
   "metadata": {},
   "outputs": [
    {
     "data": {
      "image/png": "[encoded data removed]",
      "text/plain": [
       "<Figure size 1080x360 with 1 Axes>"
      ]
     },
     "metadata": {
      "needs_background": "light"
     },
     "output_type": "display_data"
    }
   ],
   "source": [
    "plt.figure(figsize=(15,5))\n",
    "plt.plot(cumulativeRevenueA['date'], cumulativeRevenueA['revenue']/cumulativeRevenueA['orders'], label='A')\n",
    "plt.plot(cumulativeRevenueB['date'], cumulativeRevenueB['revenue']/cumulativeRevenueB['orders'], label='B')\n",
    "\n",
    "plt.title('График кумулятивного среднего чека по группам')\n",
    "plt.ylabel('Средний чек, у.е')\n",
    "plt.xlabel('Дата')\n",
    "plt.grid()\n",
    "plt.xticks(rotation=45)\n",
    "plt.legend();"
   ]
  },
  {
   "cell_type": "markdown",
   "metadata": {},
   "source": [
    "В первой половине в `группе В` чек преимущественно больше, но есть даты где наоборот чек в `группе А` больше - **1, 12, 13, 14** августа. Далее чек `группы В` стабильно больше. На этом графиkе как и в случае графика кумулятивной выручки видно сильное влияние аномально большого заказа **№425**. После **19** августа средний чек `группы В` постепенно снижается, а средний чек `группы А` очень медленно растет."
   ]
  },
  {
   "cell_type": "markdown",
   "metadata": {},
   "source": [
    "### График относительного изменения кумулятивного среднего чека группы В к группе А"
   ]
  },
  {
   "cell_type": "code",
   "execution_count": 17,
   "metadata": {},
   "outputs": [
    {
     "data": {
      "image/png": "[encoded data removed]",
      "text/plain": [
       "<Figure size 1080x360 with 1 Axes>"
      ]
     },
     "metadata": {
      "needs_background": "light"
     },
     "output_type": "display_data"
    }
   ],
   "source": [
    "# собираем данные в одном датафрейме\n",
    "mergedCumulativeRevenue = cumulativeRevenueA.merge(cumulativeRevenueB, left_on='date', right_on='date', how='left', suffixes=['A', 'B'])\n",
    "# cтроим отношение средних чеков\n",
    "plt.figure(figsize=(15,5))\n",
    "plt.plot(mergedCumulativeRevenue['date'], (mergedCumulativeRevenue['revenueB']/mergedCumulativeRevenue['ordersB'])/(mergedCumulativeRevenue['revenueA']/mergedCumulativeRevenue['ordersA'])-1)\n",
    "plt.axhline(y=0, color='black', linestyle='--') \n",
    "plt.title('График относительного изменения кумулятивного среднего чека')\n",
    "plt.xlabel('Дата')\n",
    "plt.xticks(rotation=45)\n",
    "plt.grid()\n",
    "plt.show();"
   ]
  },
  {
   "cell_type": "markdown",
   "metadata": {},
   "source": [
    "В нескольких точках график различия между сегментами резко «скачет». Есть выбросы и крупные заказы. Хорошо виден сильный всплеск(рост) за счет заказа **№425**."
   ]
  },
  {
   "cell_type": "markdown",
   "metadata": {},
   "source": [
    "### График кумулятивной конверсии по группам"
   ]
  },
  {
   "cell_type": "code",
   "execution_count": 18,
   "metadata": {},
   "outputs": [
    {
     "data": {
      "image/png": "[encoded data removed]",
      "text/plain": [
       "<Figure size 1080x360 with 1 Axes>"
      ]
     },
     "metadata": {
      "needs_background": "light"
     },
     "output_type": "display_data"
    }
   ],
   "source": [
    "# считаем кумулятивную конверсию\n",
    "cumulativeData['conversion'] = cumulativeData['orders']/cumulativeData['visitors']\n",
    "# отделяем данные по группе A\n",
    "cumulativeDataA = cumulativeData[cumulativeData['group']=='A']\n",
    "# отделяем данные по группе B\n",
    "cumulativeDataB = cumulativeData[cumulativeData['group']=='B']\n",
    "# строим графики\n",
    "plt.figure(figsize=(15,5))\n",
    "plt.plot(cumulativeDataA['date'], cumulativeDataA['conversion'], label='A')\n",
    "plt.plot(cumulativeDataB['date'], cumulativeDataB['conversion'], label='B')\n",
    "plt.legend()\n",
    "plt.title('График кумулятивной конверсии по группам')\n",
    "plt.xticks(rotation=45)\n",
    "plt.grid();"
   ]
  },
  {
   "cell_type": "markdown",
   "metadata": {},
   "source": [
    "С начала месяца конверсия `группы А` была выше чем `группы В`. **3** августа `группа А` показала максимальную конверсию за весь период наблюдения. А после пика пошла стремительно падать и начиная с 06 августа конверсия `группы В` постоянно выше. "
   ]
  },
  {
   "cell_type": "markdown",
   "metadata": {},
   "source": [
    "### График относительного изменения кумулятивной конверсии группы В к группе А"
   ]
  },
  {
   "cell_type": "code",
   "execution_count": 19,
   "metadata": {},
   "outputs": [
    {
     "data": {
      "image/png": "[encoded data removed]",
      "text/plain": [
       "<Figure size 1080x360 with 1 Axes>"
      ]
     },
     "metadata": {
      "needs_background": "light"
     },
     "output_type": "display_data"
    }
   ],
   "source": [
    "mergedCumulativeConversions = cumulativeDataA[['date','conversion']].merge(cumulativeDataB[['date','conversion']], left_on='date', right_on='date', how='left', suffixes=['A', 'B'])\n",
    "\n",
    "# строим график\n",
    "plt.figure(figsize=(15,5))\n",
    "plt.plot(mergedCumulativeConversions['date'], mergedCumulativeConversions['conversionB']/mergedCumulativeConversions['conversionA']-1, label=\"Относительный прирост конверсии группы B относительно группы A\")\n",
    "plt.title('График относительного изменения кумулятивной конверсии')\n",
    "plt.axhline(y=0, color='black', linestyle='--')\n",
    "plt.axhline(y=-0.1, color='grey', linestyle='--')\n",
    "plt.axis([\"2019-08-01\", '2019-09-01', -0.3, 0.3]) \n",
    "plt.xticks(rotation=45)\n",
    "plt.grid()\n",
    "plt.show();"
   ]
  },
  {
   "cell_type": "markdown",
   "metadata": {},
   "source": [
    "Начиная с **06** августа `группа В` лидировала до конца периода. "
   ]
  },
  {
   "cell_type": "markdown",
   "metadata": {},
   "source": [
    "### Точечный график количества заказов по пользователям и 95, 99 перцентили"
   ]
  },
  {
   "cell_type": "code",
   "execution_count": 20,
   "metadata": {
    "collapsed": true
   },
   "outputs": [],
   "source": [
    "# подсчет количества заказов по пользователям\n",
    "ordersByUsers = (\n",
    "    orders.groupby('visitorId', as_index=False)\n",
    "    .agg({'transactionId': 'nunique'})\n",
    ")\n",
    "\n",
    "ordersByUsers.columns = ['visitorId', 'orders']"
   ]
  },
  {
   "cell_type": "code",
   "execution_count": 21,
   "metadata": {},
   "outputs": [
    {
     "data": {
      "image/png": "[encoded data removed]",
      "text/plain": [
       "<Figure size 1080x360 with 1 Axes>"
      ]
     },
     "metadata": {
      "needs_background": "light"
     },
     "output_type": "display_data"
    }
   ],
   "source": [
    "x_values = pd.Series(range(0,len(ordersByUsers)))\n",
    "plt.figure(figsize=(15,5))\n",
    "plt.grid()\n",
    "plt.scatter(x_values, ordersByUsers['orders']) \n",
    "plt.title('График количества заказов по пользователям');"
   ]
  },
  {
   "cell_type": "markdown",
   "metadata": {},
   "source": [
    "Большинство покупателей заказывали только один раз. Однако доля пользователей с **2** заказами тоже значительна. Чтобы понять считать ли выбросами случаи от трех заказов надо посчитать перценитили (**95** и **99**)"
   ]
  },
  {
   "cell_type": "code",
   "execution_count": 22,
   "metadata": {},
   "outputs": [
    {
     "name": "stdout",
     "output_type": "stream",
     "text": [
      "[2. 4.]\n"
     ]
    }
   ],
   "source": [
    "print(np.percentile(ordersByUsers['orders'], [95, 99])) "
   ]
  },
  {
   "cell_type": "markdown",
   "metadata": {},
   "source": [
    "Не более **5%** оформляли **2** заказа и не более **1% - 4**. Примем **2** заказа на одного пользователя за нижнюю границу числа заказов, и отсеем аномальных пользователей по ней. "
   ]
  },
  {
   "cell_type": "code",
   "execution_count": 23,
   "metadata": {
    "collapsed": true
   },
   "outputs": [],
   "source": [
    "order_limit = 2"
   ]
  },
  {
   "cell_type": "markdown",
   "metadata": {},
   "source": [
    "### Точечный график стоимостей заказов и 95,  99 перцентили"
   ]
  },
  {
   "cell_type": "code",
   "execution_count": 24,
   "metadata": {},
   "outputs": [
    {
     "data": {
      "image/png": "[encoded data removed]",
      "text/plain": [
       "<Figure size 1080x360 with 1 Axes>"
      ]
     },
     "metadata": {
      "needs_background": "light"
     },
     "output_type": "display_data"
    }
   ],
   "source": [
    "x_values = pd.Series(range(0,len(orders['revenue'])))\n",
    "plt.figure(figsize=(15,5))\n",
    "plt.grid()\n",
    "plt.scatter(x_values, orders['revenue']); "
   ]
  },
  {
   "cell_type": "markdown",
   "metadata": {},
   "source": [
    "Есть несколько дорогих заказов, чтобы отсеять аномалии посмотрим на **95** и **99** перцентили выборки."
   ]
  },
  {
   "cell_type": "code",
   "execution_count": 25,
   "metadata": {},
   "outputs": [
    {
     "name": "stdout",
     "output_type": "stream",
     "text": [
      "[28000.  58233.2]\n"
     ]
    }
   ],
   "source": [
    "print(np.percentile(orders['revenue'], [95, 99])) "
   ]
  },
  {
   "cell_type": "markdown",
   "metadata": {},
   "source": [
    "Не более **5%** заказов дороже **28000 y.e.** и не более 1% дороже **58233 y.e.**. Возьмем за нижнюю границу заказы дороже **58000 у.е.**"
   ]
  },
  {
   "cell_type": "code",
   "execution_count": 26,
   "metadata": {
    "collapsed": true
   },
   "outputs": [],
   "source": [
    "revenue_limit = 58000"
   ]
  },
  {
   "cell_type": "markdown",
   "metadata": {},
   "source": [
    "### Статистическая значимость различий в конверсии между группами по \"сырым\" данным"
   ]
  },
  {
   "cell_type": "markdown",
   "metadata": {},
   "source": [
    "Сформулируем гипотезы. **Нулевая:** различий в конверсии между группами нет. **Альтернативная:** различия в конверсии между группами есть.\n",
    "\n",
    "Начнём с подготовки данных."
   ]
  },
  {
   "cell_type": "code",
   "execution_count": 27,
   "metadata": {
    "scrolled": true
   },
   "outputs": [
    {
     "data": {
      "text/html": [
       "<div>\n",
       "<style scoped>\n",
       "    .dataframe tbody tr th:only-of-type {\n",
       "        vertical-align: middle;\n",
       "    }\n",
       "\n",
       "    .dataframe tbody tr th {\n",
       "        vertical-align: top;\n",
       "    }\n",
       "\n",
       "    .dataframe thead th {\n",
       "        text-align: right;\n",
       "    }\n",
       "</style>\n",
       "<table border=\"1\" class=\"dataframe\">\n",
       "  <thead>\n",
       "    <tr style=\"text-align: right;\">\n",
       "      <th></th>\n",
       "      <th>date</th>\n",
       "      <th>ordersPerDateA</th>\n",
       "      <th>revenuePerDateA</th>\n",
       "      <th>ordersPerDateB</th>\n",
       "      <th>revenuePerDateB</th>\n",
       "      <th>ordersCummulativeA</th>\n",
       "      <th>revenueCummulativeA</th>\n",
       "      <th>ordersCummulativeB</th>\n",
       "      <th>revenueCummulativeB</th>\n",
       "      <th>visitorsPerDateA</th>\n",
       "      <th>visitorsPerDateB</th>\n",
       "      <th>visitorsCummulativeA</th>\n",
       "      <th>visitorsCummulativeB</th>\n",
       "    </tr>\n",
       "  </thead>\n",
       "  <tbody>\n",
       "    <tr>\n",
       "      <th>0</th>\n",
       "      <td>2019-08-01</td>\n",
       "      <td>24</td>\n",
       "      <td>148579</td>\n",
       "      <td>21</td>\n",
       "      <td>101217</td>\n",
       "      <td>24</td>\n",
       "      <td>148579</td>\n",
       "      <td>21</td>\n",
       "      <td>101217</td>\n",
       "      <td>719</td>\n",
       "      <td>713</td>\n",
       "      <td>719</td>\n",
       "      <td>713</td>\n",
       "    </tr>\n",
       "    <tr>\n",
       "      <th>1</th>\n",
       "      <td>2019-08-02</td>\n",
       "      <td>20</td>\n",
       "      <td>93822</td>\n",
       "      <td>24</td>\n",
       "      <td>165531</td>\n",
       "      <td>44</td>\n",
       "      <td>242401</td>\n",
       "      <td>45</td>\n",
       "      <td>266748</td>\n",
       "      <td>619</td>\n",
       "      <td>581</td>\n",
       "      <td>1338</td>\n",
       "      <td>1294</td>\n",
       "    </tr>\n",
       "    <tr>\n",
       "      <th>2</th>\n",
       "      <td>2019-08-03</td>\n",
       "      <td>24</td>\n",
       "      <td>112473</td>\n",
       "      <td>16</td>\n",
       "      <td>114248</td>\n",
       "      <td>68</td>\n",
       "      <td>354874</td>\n",
       "      <td>61</td>\n",
       "      <td>380996</td>\n",
       "      <td>507</td>\n",
       "      <td>509</td>\n",
       "      <td>1845</td>\n",
       "      <td>1803</td>\n",
       "    </tr>\n",
       "    <tr>\n",
       "      <th>3</th>\n",
       "      <td>2019-08-04</td>\n",
       "      <td>16</td>\n",
       "      <td>70825</td>\n",
       "      <td>17</td>\n",
       "      <td>108571</td>\n",
       "      <td>84</td>\n",
       "      <td>425699</td>\n",
       "      <td>78</td>\n",
       "      <td>489567</td>\n",
       "      <td>717</td>\n",
       "      <td>770</td>\n",
       "      <td>2562</td>\n",
       "      <td>2573</td>\n",
       "    </tr>\n",
       "    <tr>\n",
       "      <th>4</th>\n",
       "      <td>2019-08-05</td>\n",
       "      <td>25</td>\n",
       "      <td>124218</td>\n",
       "      <td>23</td>\n",
       "      <td>92428</td>\n",
       "      <td>109</td>\n",
       "      <td>549917</td>\n",
       "      <td>101</td>\n",
       "      <td>581995</td>\n",
       "      <td>756</td>\n",
       "      <td>707</td>\n",
       "      <td>3318</td>\n",
       "      <td>3280</td>\n",
       "    </tr>\n",
       "  </tbody>\n",
       "</table>\n",
       "</div>"
      ],
      "text/plain": [
       "        date  ordersPerDateA  revenuePerDateA  ordersPerDateB  \\\n",
       "0 2019-08-01              24           148579              21   \n",
       "1 2019-08-02              20            93822              24   \n",
       "2 2019-08-03              24           112473              16   \n",
       "3 2019-08-04              16            70825              17   \n",
       "4 2019-08-05              25           124218              23   \n",
       "\n",
       "   revenuePerDateB  ordersCummulativeA  revenueCummulativeA  \\\n",
       "0           101217                  24               148579   \n",
       "1           165531                  44               242401   \n",
       "2           114248                  68               354874   \n",
       "3           108571                  84               425699   \n",
       "4            92428                 109               549917   \n",
       "\n",
       "   ordersCummulativeB  revenueCummulativeB  visitorsPerDateA  \\\n",
       "0                  21               101217               719   \n",
       "1                  45               266748               619   \n",
       "2                  61               380996               507   \n",
       "3                  78               489567               717   \n",
       "4                 101               581995               756   \n",
       "\n",
       "   visitorsPerDateB  visitorsCummulativeA  visitorsCummulativeB  \n",
       "0               713                   719                   713  \n",
       "1               581                  1338                  1294  \n",
       "2               509                  1845                  1803  \n",
       "3               770                  2562                  2573  \n",
       "4               707                  3318                  3280  "
      ]
     },
     "metadata": {},
     "output_type": "display_data"
    }
   ],
   "source": [
    "visitorsADaily = visitors[visitors['group'] == 'A'][['date', 'visitors']]\n",
    "visitorsADaily.columns = ['date', 'visitorsPerDateA']\n",
    "\n",
    "visitorsACummulative = visitorsADaily.apply(\n",
    "    lambda x: visitorsADaily[visitorsADaily['date'] <= x['date']].agg(\n",
    "        {'date': 'max', 'visitorsPerDateA': 'sum'}\n",
    "    ),\n",
    "    axis=1,\n",
    ")\n",
    "visitorsACummulative.columns = ['date', 'visitorsCummulativeA']\n",
    "\n",
    "visitorsBDaily = visitors[visitors['group'] == 'B'][['date', 'visitors']]\n",
    "visitorsBDaily.columns = ['date', 'visitorsPerDateB']\n",
    "\n",
    "visitorsBCummulative = visitorsBDaily.apply(\n",
    "    lambda x: visitorsBDaily[visitorsBDaily['date'] <= x['date']].agg(\n",
    "        {'date': 'max', 'visitorsPerDateB': 'sum'}\n",
    "    ),\n",
    "    axis=1,\n",
    ")\n",
    "visitorsBCummulative.columns = ['date', 'visitorsCummulativeB']\n",
    "\n",
    "ordersADaily = (\n",
    "    orders[orders['group'] == 'A'][['date', 'transactionId', 'visitorId', 'revenue']]\n",
    "    .groupby('date', as_index=False)\n",
    "    .agg({'transactionId': pd.Series.nunique, 'revenue': 'sum'})\n",
    ")\n",
    "ordersADaily.columns = ['date', 'ordersPerDateA', 'revenuePerDateA']\n",
    "\n",
    "ordersACummulative = ordersADaily.apply(\n",
    "    lambda x: ordersADaily[ordersADaily['date'] <= x['date']].agg(\n",
    "        {'date': 'max', 'ordersPerDateA': 'sum', 'revenuePerDateA': 'sum'}\n",
    "    ),\n",
    "    axis=1,\n",
    ").sort_values(by=['date'])\n",
    "ordersACummulative.columns = [\n",
    "    'date',\n",
    "    'ordersCummulativeA',\n",
    "    'revenueCummulativeA',\n",
    "]\n",
    "\n",
    "ordersBDaily = (\n",
    "    orders[orders['group'] == 'B'][['date', 'transactionId', 'visitorId', 'revenue']]\n",
    "    .groupby('date', as_index=False)\n",
    "    .agg({'transactionId': pd.Series.nunique, 'revenue': 'sum'})\n",
    ")\n",
    "ordersBDaily.columns = ['date', 'ordersPerDateB', 'revenuePerDateB']\n",
    "\n",
    "ordersBCummulative = ordersBDaily.apply(\n",
    "    lambda x: ordersBDaily[ordersBDaily['date'] <= x['date']].agg(\n",
    "        {'date': 'max', 'ordersPerDateB': 'sum', 'revenuePerDateB': 'sum'}\n",
    "    ),\n",
    "    axis=1,\n",
    ").sort_values(by=['date'])\n",
    "ordersBCummulative.columns = [\n",
    "    'date',\n",
    "    'ordersCummulativeB',\n",
    "    'revenueCummulativeB',\n",
    "]\n",
    "\n",
    "data = (\n",
    "    ordersADaily.merge(\n",
    "        ordersBDaily, left_on='date', right_on='date', how='left'\n",
    "    )\n",
    "    .merge(ordersACummulative, left_on='date', right_on='date', how='left')\n",
    "    .merge(ordersBCummulative, left_on='date', right_on='date', how='left')\n",
    "    .merge(visitorsADaily, left_on='date', right_on='date', how='left')\n",
    "    .merge(visitorsBDaily, left_on='date', right_on='date', how='left')\n",
    "    .merge(visitorsACummulative, left_on='date', right_on='date', how='left')\n",
    "    .merge(visitorsBCummulative, left_on='date', right_on='date', how='left')\n",
    ")\n",
    "\n",
    "display(data.head(5)) "
   ]
  },
  {
   "cell_type": "markdown",
   "metadata": {},
   "source": [
    "Создали датафрейм с такими колонками:\n",
    "- `date` — дата;\n",
    "- `ordersPerDateA` — количество заказов в выбранную дату в группе A;\n",
    "- `revenuePerDateA` — суммарная выручка в выбранную дату в группе A;\n",
    "- `ordersPerDateB` — количество заказов в выбранную дату в группе B;\n",
    "- `revenuePerDateB` — суммарная выручка в выбранную дату в группе B;\n",
    "- `ordersCummulativeA` — суммарное число заказов до выбранной даты включительно в группе A;\n",
    "- `revenueCummulativeA` — суммарная выручка до выбранной даты включительно в группе A;\n",
    "- `ordersCummulativeB` — суммарное количество заказов до выбранной даты включительно в группе B;\n",
    "- `revenueCummulativeB` — суммарная выручка до выбранной даты включительно в группе B;\n",
    "- `visitorsPerDateA` — количество пользователей в выбранную дату в группе A;\n",
    "- `visitorsPerDateB` — количество пользователей в выбранную дату в группе B;\n",
    "- `visitorsCummulativeA` — количество пользователей до выбранной даты включительно в группе A;\n",
    "- `visitorsCummulativeB` — количество пользователей до выбранной даты включительно в группе B."
   ]
  },
  {
   "cell_type": "markdown",
   "metadata": {},
   "source": [
    "Создадим переменные `ordersByUsersA` и `ordersByUsers`, в них для пользователей, которые заказывали хотя бы 1 раз, укажем число совершённых заказов."
   ]
  },
  {
   "cell_type": "code",
   "execution_count": 28,
   "metadata": {
    "collapsed": true
   },
   "outputs": [],
   "source": [
    "ordersByUsersA = (\n",
    "    orders[orders['group'] == 'A']\n",
    "    .groupby('visitorId', as_index=False)\n",
    "    .agg({'transactionId': pd.Series.nunique})\n",
    ")\n",
    "ordersByUsersA.columns = ['userId', 'orders']\n",
    "\n",
    "ordersByUsersB = (\n",
    "    orders[orders['group'] == 'B']\n",
    "    .groupby('visitorId', as_index=False)\n",
    "    .agg({'transactionId': pd.Series.nunique})\n",
    ")\n",
    "ordersByUsersB.columns = ['userId', 'orders'] "
   ]
  },
  {
   "cell_type": "markdown",
   "metadata": {},
   "source": [
    "Объявим переменные `sampleA` и `sampleB`, в которых пользователям из разных групп будет соответствовать количество заказов. Тем, кто ничего не заказал, будут соответствовать нули. \n",
    "\n",
    "Выведем относительный прирост конверсии `группы B`. Округлим до трёх знаков после запятой."
   ]
  },
  {
   "cell_type": "code",
   "execution_count": 29,
   "metadata": {},
   "outputs": [
    {
     "name": "stdout",
     "output_type": "stream",
     "text": [
      "0.017\n",
      "0.138\n"
     ]
    }
   ],
   "source": [
    "sampleA = pd.concat(\n",
    "    [\n",
    "        ordersByUsersA['orders'],\n",
    "        pd.Series(\n",
    "            0,\n",
    "            index=np.arange(\n",
    "                data['visitorsPerDateA'].sum() - len(ordersByUsersA['orders'])\n",
    "            ),\n",
    "            name='orders',\n",
    "        ),\n",
    "    ],\n",
    "    axis=0,\n",
    ")\n",
    "\n",
    "sampleB = pd.concat(\n",
    "    [\n",
    "        ordersByUsersB['orders'],\n",
    "        pd.Series(\n",
    "            0,\n",
    "            index=np.arange(\n",
    "                data['visitorsPerDateB'].sum() - len(ordersByUsersB['orders'])\n",
    "            ),\n",
    "            name='orders',\n",
    "        ),\n",
    "    ],\n",
    "    axis=0,\n",
    ")\n",
    "\n",
    "print(\"{0:.3f}\".format(stats.mannwhitneyu(sampleA, sampleB)[1]))\n",
    "\n",
    "print(\"{0:.3f}\".format(sampleB.mean() / sampleA.mean() - 1))\n",
    " "
   ]
  },
  {
   "cell_type": "markdown",
   "metadata": {},
   "source": [
    "Первое число — p-value = **0.017** меньше **0.05**. Значит, нулевую гипотезу о том, что статистически значимых различий в конверсии между группами нет - отвергаем. Относительный выигрыш группы B равен **13.8%** — второе число в выводе.\n",
    "\n",
    "Теперь проверим статистическую значимость различий в среднем чеке между сегментами."
   ]
  },
  {
   "cell_type": "markdown",
   "metadata": {},
   "source": [
    "### Статистическая значимость различий в среднем чеке заказа между группами по \"сырым\" данным"
   ]
  },
  {
   "cell_type": "markdown",
   "metadata": {},
   "source": [
    "**Нулевая гипотеза:** различий в среднем чеке между группами нет. **Альтернативная гипотеза:** различия в среднем чеке между группами есть."
   ]
  },
  {
   "cell_type": "code",
   "execution_count": 30,
   "metadata": {},
   "outputs": [
    {
     "name": "stdout",
     "output_type": "stream",
     "text": [
      "0.729\n",
      "0.259\n"
     ]
    }
   ],
   "source": [
    "print('{0:.3f}'.format(stats.mannwhitneyu(orders[orders['group']=='A']['revenue'], orders[orders['group']=='B']['revenue'])[1]))\n",
    "print('{0:.3f}'.format(orders[orders['group']=='B']['revenue'].mean()/orders[orders['group']=='A']['revenue'].mean()-1)) "
   ]
  },
  {
   "cell_type": "markdown",
   "metadata": {},
   "source": [
    "P-value значительно больше **0.05**. Значит, причин отвергать нулевую гипотезу и считать, что в среднем чеке есть различия, нет. Но при этом средний чек `группы B` значительно выше среднего чека `группы A` (приблизительно на **26%**)."
   ]
  },
  {
   "cell_type": "markdown",
   "metadata": {},
   "source": [
    "### Статистическая значимость различий в конверсии между группами по \"очищенным\" данным"
   ]
  },
  {
   "cell_type": "markdown",
   "metadata": {},
   "source": [
    "Примем за аномальных пользователей тех, кто совершил больше **2** заказов или совершил заказ дороже **58 000 у.е.**. Сделаем срезы пользователей и узнаем количество аномальных."
   ]
  },
  {
   "cell_type": "code",
   "execution_count": 31,
   "metadata": {},
   "outputs": [
    {
     "name": "stdout",
     "output_type": "stream",
     "text": [
      "1099    148427295\n",
      "18      199603092\n",
      "23      237748145\n",
      "37      249864742\n",
      "68      457167155\n",
      "dtype: int64\n",
      "(31,)\n"
     ]
    }
   ],
   "source": [
    "usersWithManyOrders = pd.concat(\n",
    "    [\n",
    "        ordersByUsersA[ordersByUsersA['orders'] > order_limit]['userId'],\n",
    "        ordersByUsersB[ordersByUsersB['orders'] > order_limit]['userId'],\n",
    "    ],\n",
    "    axis=0,\n",
    ")\n",
    "usersWithExpensiveOrders = orders[orders['revenue'] > revenue_limit]['visitorId']\n",
    "abnormalUsers = (\n",
    "    pd.concat([usersWithManyOrders, usersWithExpensiveOrders], axis=0)\n",
    "    .drop_duplicates()\n",
    "    .sort_values()\n",
    ")\n",
    "print(abnormalUsers.head(5))\n",
    "print(abnormalUsers.shape) "
   ]
  },
  {
   "cell_type": "markdown",
   "metadata": {},
   "source": [
    "**31** аномальный пользователь. Узнаем, как их действия повлияли на результаты теста. Посчитаем статистическую значимость различий в конверсии между группами теста по очищенным данным. Сформулируем гипотезы. **Нулевая гипотеза:** различий в конверсии между группами нет. **Альтернативная гипотеза:** различия в конверсии между группами есть."
   ]
  },
  {
   "cell_type": "code",
   "execution_count": 32,
   "metadata": {},
   "outputs": [
    {
     "name": "stdout",
     "output_type": "stream",
     "text": [
      "0.010\n",
      "0.174\n"
     ]
    }
   ],
   "source": [
    "sampleAFiltered = pd.concat(\n",
    "    [\n",
    "        ordersByUsersA[\n",
    "            np.logical_not(ordersByUsersA['userId'].isin(abnormalUsers))\n",
    "        ]['orders'],\n",
    "        pd.Series(\n",
    "            0,\n",
    "            index=np.arange(\n",
    "                data['visitorsPerDateA'].sum() - len(ordersByUsersA['orders'])\n",
    "            ),\n",
    "            name='orders',\n",
    "        ),\n",
    "    ],\n",
    "    axis=0,\n",
    ")\n",
    "\n",
    "sampleBFiltered = pd.concat(\n",
    "    [\n",
    "        ordersByUsersB[\n",
    "            np.logical_not(ordersByUsersB['userId'].isin(abnormalUsers))\n",
    "        ]['orders'],\n",
    "        pd.Series(\n",
    "            0,\n",
    "            index=np.arange(\n",
    "                data['visitorsPerDateB'].sum() - len(ordersByUsersB['orders'])\n",
    "            ),\n",
    "            name='orders',\n",
    "        ),\n",
    "    ],\n",
    "    axis=0,\n",
    ") \n",
    "\n",
    "print('{0:.3f}'.format(stats.mannwhitneyu(sampleAFiltered, sampleBFiltered)[1]))\n",
    "print('{0:.3f}'.format(sampleBFiltered.mean()/sampleAFiltered.mean()-1)) "
   ]
  },
  {
   "cell_type": "markdown",
   "metadata": {},
   "source": [
    "Результаты по конверсии практически не изменились. Нулевую гипотезу отвергаем. Относительный выигрыш `группы В` над `группой А` равен **17,4%**(по \"сырым\" данным - **13,8%**) "
   ]
  },
  {
   "cell_type": "markdown",
   "metadata": {},
   "source": [
    "### Статистическая значимость различий в среднем чеке заказа между группами по \"очищенным\" данным"
   ]
  },
  {
   "cell_type": "markdown",
   "metadata": {},
   "source": [
    "**Нулевая гипотеза:** различий в среднем чеке между группами нет. **Альтернативная гипотеза:** различия в среднем чеке между группами есть."
   ]
  },
  {
   "cell_type": "code",
   "execution_count": 33,
   "metadata": {},
   "outputs": [
    {
     "name": "stdout",
     "output_type": "stream",
     "text": [
      "0.798\n",
      "-0.020\n"
     ]
    }
   ],
   "source": [
    "print(\n",
    "    '{0:.3f}'.format(\n",
    "        stats.mannwhitneyu(\n",
    "            orders[\n",
    "                np.logical_and(\n",
    "                    orders['group'] == 'A',\n",
    "                    np.logical_not(orders['visitorId'].isin(abnormalUsers)),\n",
    "                )\n",
    "            ]['revenue'],\n",
    "            orders[\n",
    "                np.logical_and(\n",
    "                    orders['group'] == 'B',\n",
    "                    np.logical_not(orders['visitorId'].isin(abnormalUsers)),\n",
    "                )\n",
    "            ]['revenue'],\n",
    "        )[1]\n",
    "    )\n",
    ")\n",
    "\n",
    "print(\n",
    "    \"{0:.3f}\".format(\n",
    "        orders[\n",
    "            np.logical_and(\n",
    "                orders['group'] == 'B',\n",
    "                np.logical_not(orders['visitorId'].isin(abnormalUsers)),\n",
    "            )\n",
    "        ]['revenue'].mean()\n",
    "        / orders[\n",
    "            np.logical_and(\n",
    "                orders['group'] == 'A',\n",
    "                np.logical_not(orders['visitorId'].isin(abnormalUsers)),\n",
    "            )\n",
    "        ]['revenue'].mean()\n",
    "        - 1\n",
    "    )\n",
    ") "
   ]
  },
  {
   "cell_type": "markdown",
   "metadata": {},
   "source": [
    "P-value значительно увеличился и теперь можно говорить о том что нулевую гипотезу о равности средних чеков мы отвергнуть не можем. Средний чек `группы В` стал ниже среднего чека `группы А` на **2%**, в то время как по \"сырым\" данным он был аж на **26%** больше."
   ]
  },
  {
   "cell_type": "markdown",
   "metadata": {},
   "source": [
    "### Вывод по результатам теста"
   ]
  },
  {
   "cell_type": "markdown",
   "metadata": {},
   "source": [
    "**Анализ результатов теста:**\n",
    "- Есть статистически значимое различие по конверсии между группами и по «сырым», и по данным после фильтрации аномалий; Относительный выигрыш `группы В` над `группой А` по \"сырым\" данным - **13,8%**, по \"очищенным\" - **17,4%**.\n",
    "- И по \"сырым\" и по \"очищенным\" данным различия в средних чеках `групп А` и `В` отстуствуют, но при этом по \"очищенным\" данным средний чек группы В оказался незначительно(**2%**) ниже среднего чека `группы А`, в то время как по \"сырым\" данным был больше аж на **26%**. Повлиял аномально крупный чек почти на **1,3млн.у.е.**\n",
    "\n",
    "**Решение:**\n",
    "В итоге можно остановить тестирование и констатировать успех `группы В`. Она значительно эффективнее `группы А` по конверсии, хотя средние чеки приблизительно равны."
   ]
  },
  {
   "cell_type": "code",
   "execution_count": null,
   "metadata": {
    "collapsed": true
   },
   "outputs": [],
   "source": []
  }
 ],
 "metadata": {
  "ExecuteTimeLog": [
   {
    "duration": 1290,
    "start_time": "2022-04-15T17:18:14.580Z"
   },
   {
    "duration": 157,
    "start_time": "2022-04-15T17:18:15.872Z"
   },
   {
    "duration": 1089,
    "start_time": "2022-04-15T17:19:05.064Z"
   },
   {
    "duration": 65,
    "start_time": "2022-04-15T17:19:06.155Z"
   },
   {
    "duration": 96,
    "start_time": "2022-04-15T17:21:36.741Z"
   },
   {
    "duration": 21,
    "start_time": "2022-04-15T17:22:06.857Z"
   },
   {
    "duration": 2162,
    "start_time": "2022-04-15T17:22:32.035Z"
   },
   {
    "duration": 31,
    "start_time": "2022-04-15T17:23:03.109Z"
   },
   {
    "duration": 1151,
    "start_time": "2022-04-15T17:37:24.506Z"
   },
   {
    "duration": 92,
    "start_time": "2022-04-15T17:37:25.659Z"
   },
   {
    "duration": 39,
    "start_time": "2022-04-15T17:37:25.753Z"
   },
   {
    "duration": 1520,
    "start_time": "2022-04-15T17:40:32.147Z"
   },
   {
    "duration": 12,
    "start_time": "2022-04-15T17:41:38.652Z"
   },
   {
    "duration": 11,
    "start_time": "2022-04-15T17:52:12.172Z"
   },
   {
    "duration": 53,
    "start_time": "2022-04-16T15:46:59.373Z"
   },
   {
    "duration": 1335,
    "start_time": "2022-04-16T15:47:09.063Z"
   },
   {
    "duration": 87,
    "start_time": "2022-04-16T15:47:10.400Z"
   },
   {
    "duration": 38,
    "start_time": "2022-04-16T15:47:10.489Z"
   },
   {
    "duration": 12,
    "start_time": "2022-04-16T15:47:10.529Z"
   },
   {
    "duration": 11,
    "start_time": "2022-04-16T15:47:10.543Z"
   },
   {
    "duration": 111,
    "start_time": "2022-04-16T15:47:10.556Z"
   },
   {
    "duration": 43,
    "start_time": "2022-04-16T16:03:54.008Z"
   },
   {
    "duration": 37,
    "start_time": "2022-04-16T16:04:18.652Z"
   },
   {
    "duration": 27,
    "start_time": "2022-04-16T16:05:05.405Z"
   },
   {
    "duration": 1136,
    "start_time": "2022-04-16T16:15:46.849Z"
   },
   {
    "duration": 99,
    "start_time": "2022-04-16T16:15:47.987Z"
   },
   {
    "duration": 39,
    "start_time": "2022-04-16T16:15:48.088Z"
   },
   {
    "duration": 12,
    "start_time": "2022-04-16T16:15:48.129Z"
   },
   {
    "duration": 12,
    "start_time": "2022-04-16T16:15:48.143Z"
   },
   {
    "duration": 110,
    "start_time": "2022-04-16T16:15:48.157Z"
   },
   {
    "duration": 35,
    "start_time": "2022-04-16T16:15:48.269Z"
   },
   {
    "duration": 28,
    "start_time": "2022-04-16T16:15:48.306Z"
   },
   {
    "duration": 659,
    "start_time": "2022-04-16T16:22:24.121Z"
   },
   {
    "duration": 1146,
    "start_time": "2022-04-16T16:23:34.963Z"
   },
   {
    "duration": 81,
    "start_time": "2022-04-16T16:23:36.111Z"
   },
   {
    "duration": 47,
    "start_time": "2022-04-16T16:23:36.193Z"
   },
   {
    "duration": 12,
    "start_time": "2022-04-16T16:23:36.243Z"
   },
   {
    "duration": 14,
    "start_time": "2022-04-16T16:23:36.256Z"
   },
   {
    "duration": 135,
    "start_time": "2022-04-16T16:23:36.272Z"
   },
   {
    "duration": 49,
    "start_time": "2022-04-16T16:23:36.409Z"
   },
   {
    "duration": 696,
    "start_time": "2022-04-16T16:23:36.460Z"
   },
   {
    "duration": 0,
    "start_time": "2022-04-16T16:23:37.158Z"
   },
   {
    "duration": 0,
    "start_time": "2022-04-16T16:23:37.159Z"
   },
   {
    "duration": 1111,
    "start_time": "2022-04-16T16:24:22.394Z"
   },
   {
    "duration": 82,
    "start_time": "2022-04-16T16:24:23.507Z"
   },
   {
    "duration": 39,
    "start_time": "2022-04-16T16:24:23.591Z"
   },
   {
    "duration": 18,
    "start_time": "2022-04-16T16:24:23.632Z"
   },
   {
    "duration": 12,
    "start_time": "2022-04-16T16:24:23.652Z"
   },
   {
    "duration": 124,
    "start_time": "2022-04-16T16:24:23.665Z"
   },
   {
    "duration": 37,
    "start_time": "2022-04-16T16:24:23.791Z"
   },
   {
    "duration": 698,
    "start_time": "2022-04-16T16:24:23.831Z"
   },
   {
    "duration": 0,
    "start_time": "2022-04-16T16:24:24.531Z"
   },
   {
    "duration": 0,
    "start_time": "2022-04-16T16:24:24.531Z"
   },
   {
    "duration": 12,
    "start_time": "2022-04-16T16:25:06.501Z"
   },
   {
    "duration": 4,
    "start_time": "2022-04-16T16:25:38.702Z"
   },
   {
    "duration": 1220,
    "start_time": "2022-04-16T16:26:14.033Z"
   },
   {
    "duration": 94,
    "start_time": "2022-04-16T16:26:15.256Z"
   },
   {
    "duration": 43,
    "start_time": "2022-04-16T16:26:15.352Z"
   },
   {
    "duration": 12,
    "start_time": "2022-04-16T16:26:15.397Z"
   },
   {
    "duration": 30,
    "start_time": "2022-04-16T16:26:15.411Z"
   },
   {
    "duration": 118,
    "start_time": "2022-04-16T16:26:15.443Z"
   },
   {
    "duration": 36,
    "start_time": "2022-04-16T16:26:15.563Z"
   },
   {
    "duration": 13,
    "start_time": "2022-04-16T16:26:15.601Z"
   },
   {
    "duration": 39,
    "start_time": "2022-04-16T16:26:15.616Z"
   },
   {
    "duration": 5,
    "start_time": "2022-04-16T16:26:15.657Z"
   },
   {
    "duration": 703,
    "start_time": "2022-04-16T16:26:32.824Z"
   },
   {
    "duration": 1138,
    "start_time": "2022-04-16T16:26:58.470Z"
   },
   {
    "duration": 113,
    "start_time": "2022-04-16T16:26:59.610Z"
   },
   {
    "duration": 51,
    "start_time": "2022-04-16T16:26:59.725Z"
   },
   {
    "duration": 13,
    "start_time": "2022-04-16T16:26:59.779Z"
   },
   {
    "duration": 12,
    "start_time": "2022-04-16T16:26:59.794Z"
   },
   {
    "duration": 152,
    "start_time": "2022-04-16T16:26:59.809Z"
   },
   {
    "duration": 38,
    "start_time": "2022-04-16T16:26:59.963Z"
   },
   {
    "duration": 14,
    "start_time": "2022-04-16T16:27:00.004Z"
   },
   {
    "duration": 42,
    "start_time": "2022-04-16T16:27:00.021Z"
   },
   {
    "duration": 5,
    "start_time": "2022-04-16T16:27:00.066Z"
   },
   {
    "duration": 283,
    "start_time": "2022-04-16T17:08:27.166Z"
   },
   {
    "duration": 270,
    "start_time": "2022-04-16T17:08:52.767Z"
   },
   {
    "duration": 291,
    "start_time": "2022-04-16T17:16:24.737Z"
   },
   {
    "duration": 194,
    "start_time": "2022-04-16T17:16:33.690Z"
   },
   {
    "duration": 199,
    "start_time": "2022-04-16T17:26:56.702Z"
   },
   {
    "duration": 278,
    "start_time": "2022-04-16T17:27:28.497Z"
   },
   {
    "duration": 189,
    "start_time": "2022-04-16T17:27:42.808Z"
   },
   {
    "duration": 172,
    "start_time": "2022-04-16T17:29:11.273Z"
   },
   {
    "duration": 215,
    "start_time": "2022-04-16T17:29:41.532Z"
   },
   {
    "duration": 290,
    "start_time": "2022-04-16T17:32:41.768Z"
   },
   {
    "duration": 223,
    "start_time": "2022-04-16T17:32:50.935Z"
   },
   {
    "duration": 197,
    "start_time": "2022-04-16T17:40:11.797Z"
   },
   {
    "duration": 307,
    "start_time": "2022-04-16T17:51:35.154Z"
   },
   {
    "duration": 310,
    "start_time": "2022-04-16T17:52:44.014Z"
   },
   {
    "duration": 333,
    "start_time": "2022-04-16T17:53:58.115Z"
   },
   {
    "duration": 194,
    "start_time": "2022-04-16T17:54:41.089Z"
   },
   {
    "duration": 212,
    "start_time": "2022-04-16T17:55:22.854Z"
   },
   {
    "duration": 213,
    "start_time": "2022-04-16T17:57:14.592Z"
   },
   {
    "duration": 232,
    "start_time": "2022-04-16T17:58:01.615Z"
   },
   {
    "duration": 287,
    "start_time": "2022-04-16T17:58:42.476Z"
   },
   {
    "duration": 293,
    "start_time": "2022-04-16T18:01:55.913Z"
   },
   {
    "duration": 205,
    "start_time": "2022-04-16T18:02:07.713Z"
   },
   {
    "duration": 206,
    "start_time": "2022-04-16T18:02:35.194Z"
   },
   {
    "duration": 236,
    "start_time": "2022-04-16T18:02:51.186Z"
   },
   {
    "duration": 215,
    "start_time": "2022-04-16T18:02:57.346Z"
   },
   {
    "duration": 235,
    "start_time": "2022-04-16T18:03:55.048Z"
   },
   {
    "duration": 1713,
    "start_time": "2022-04-18T05:48:28.181Z"
   },
   {
    "duration": 124,
    "start_time": "2022-04-18T05:48:29.897Z"
   },
   {
    "duration": 54,
    "start_time": "2022-04-18T05:48:30.023Z"
   },
   {
    "duration": 15,
    "start_time": "2022-04-18T05:48:30.079Z"
   },
   {
    "duration": 16,
    "start_time": "2022-04-18T05:48:30.096Z"
   },
   {
    "duration": 181,
    "start_time": "2022-04-18T05:48:30.115Z"
   },
   {
    "duration": 53,
    "start_time": "2022-04-18T05:48:30.299Z"
   },
   {
    "duration": 43,
    "start_time": "2022-04-18T05:48:30.354Z"
   },
   {
    "duration": 52,
    "start_time": "2022-04-18T05:48:30.400Z"
   },
   {
    "duration": 30,
    "start_time": "2022-04-18T05:48:30.456Z"
   },
   {
    "duration": 713,
    "start_time": "2022-04-18T05:48:30.488Z"
   },
   {
    "duration": 178,
    "start_time": "2022-04-18T05:48:31.204Z"
   },
   {
    "duration": 0,
    "start_time": "2022-04-18T05:48:31.386Z"
   },
   {
    "duration": 0,
    "start_time": "2022-04-18T05:48:31.388Z"
   },
   {
    "duration": 0,
    "start_time": "2022-04-18T05:48:31.389Z"
   },
   {
    "duration": 0,
    "start_time": "2022-04-18T05:48:31.390Z"
   },
   {
    "duration": 0,
    "start_time": "2022-04-18T05:48:31.391Z"
   },
   {
    "duration": 1981,
    "start_time": "2022-04-18T05:49:10.314Z"
   },
   {
    "duration": 105,
    "start_time": "2022-04-18T05:49:12.299Z"
   },
   {
    "duration": 91,
    "start_time": "2022-04-18T05:49:12.407Z"
   },
   {
    "duration": 25,
    "start_time": "2022-04-18T05:49:12.503Z"
   },
   {
    "duration": 22,
    "start_time": "2022-04-18T05:49:12.531Z"
   },
   {
    "duration": 141,
    "start_time": "2022-04-18T05:49:12.556Z"
   },
   {
    "duration": 51,
    "start_time": "2022-04-18T05:49:12.699Z"
   },
   {
    "duration": 43,
    "start_time": "2022-04-18T05:49:12.753Z"
   },
   {
    "duration": 38,
    "start_time": "2022-04-18T05:49:12.799Z"
   },
   {
    "duration": 5,
    "start_time": "2022-04-18T05:49:12.841Z"
   },
   {
    "duration": 502,
    "start_time": "2022-04-18T05:49:12.848Z"
   },
   {
    "duration": 444,
    "start_time": "2022-04-18T05:49:13.352Z"
   },
   {
    "duration": 306,
    "start_time": "2022-04-18T05:49:13.798Z"
   },
   {
    "duration": 371,
    "start_time": "2022-04-18T05:49:14.107Z"
   },
   {
    "duration": 313,
    "start_time": "2022-04-18T05:49:14.480Z"
   },
   {
    "duration": 369,
    "start_time": "2022-04-18T05:49:14.795Z"
   },
   {
    "duration": 394,
    "start_time": "2022-04-18T05:50:57.350Z"
   },
   {
    "duration": 377,
    "start_time": "2022-04-18T05:51:06.038Z"
   },
   {
    "duration": 459,
    "start_time": "2022-04-18T05:52:26.808Z"
   },
   {
    "duration": 345,
    "start_time": "2022-04-18T05:52:53.328Z"
   },
   {
    "duration": 382,
    "start_time": "2022-04-18T05:53:16.355Z"
   },
   {
    "duration": 134,
    "start_time": "2022-04-18T05:58:37.696Z"
   },
   {
    "duration": 11,
    "start_time": "2022-04-18T05:59:35.901Z"
   },
   {
    "duration": 190,
    "start_time": "2022-04-18T05:59:43.446Z"
   },
   {
    "duration": 184,
    "start_time": "2022-04-18T06:02:26.018Z"
   },
   {
    "duration": 290,
    "start_time": "2022-04-18T06:03:47.810Z"
   },
   {
    "duration": 19,
    "start_time": "2022-04-18T06:06:04.492Z"
   },
   {
    "duration": 10,
    "start_time": "2022-04-18T06:07:48.067Z"
   },
   {
    "duration": 181,
    "start_time": "2022-04-18T06:08:38.455Z"
   },
   {
    "duration": 4,
    "start_time": "2022-04-18T06:11:30.367Z"
   },
   {
    "duration": 1470,
    "start_time": "2022-04-18T06:11:42.073Z"
   },
   {
    "duration": 109,
    "start_time": "2022-04-18T06:11:43.546Z"
   },
   {
    "duration": 58,
    "start_time": "2022-04-18T06:11:43.657Z"
   },
   {
    "duration": 17,
    "start_time": "2022-04-18T06:11:43.719Z"
   },
   {
    "duration": 16,
    "start_time": "2022-04-18T06:11:43.739Z"
   },
   {
    "duration": 138,
    "start_time": "2022-04-18T06:11:43.757Z"
   },
   {
    "duration": 53,
    "start_time": "2022-04-18T06:11:43.898Z"
   },
   {
    "duration": 49,
    "start_time": "2022-04-18T06:11:43.954Z"
   },
   {
    "duration": 41,
    "start_time": "2022-04-18T06:11:44.005Z"
   },
   {
    "duration": 6,
    "start_time": "2022-04-18T06:11:44.051Z"
   },
   {
    "duration": 462,
    "start_time": "2022-04-18T06:11:44.094Z"
   },
   {
    "duration": 416,
    "start_time": "2022-04-18T06:11:44.558Z"
   },
   {
    "duration": 292,
    "start_time": "2022-04-18T06:11:44.976Z"
   },
   {
    "duration": 408,
    "start_time": "2022-04-18T06:11:45.270Z"
   },
   {
    "duration": 296,
    "start_time": "2022-04-18T06:11:45.680Z"
   },
   {
    "duration": 389,
    "start_time": "2022-04-18T06:11:45.979Z"
   },
   {
    "duration": 11,
    "start_time": "2022-04-18T06:11:46.371Z"
   },
   {
    "duration": 182,
    "start_time": "2022-04-18T06:11:46.393Z"
   },
   {
    "duration": 6,
    "start_time": "2022-04-18T06:12:37.409Z"
   },
   {
    "duration": 188,
    "start_time": "2022-04-18T06:17:44.044Z"
   },
   {
    "duration": 256,
    "start_time": "2022-04-18T06:17:49.794Z"
   },
   {
    "duration": 6,
    "start_time": "2022-04-18T06:20:21.073Z"
   },
   {
    "duration": 6,
    "start_time": "2022-04-18T06:20:59.306Z"
   },
   {
    "duration": 6,
    "start_time": "2022-04-18T06:21:06.715Z"
   },
   {
    "duration": 310,
    "start_time": "2022-04-18T06:30:27.502Z"
   },
   {
    "duration": 171,
    "start_time": "2022-04-18T06:32:06.902Z"
   },
   {
    "duration": 271,
    "start_time": "2022-04-18T06:32:30.446Z"
   },
   {
    "duration": 270,
    "start_time": "2022-04-18T06:32:53.614Z"
   },
   {
    "duration": 351,
    "start_time": "2022-04-18T06:33:14.111Z"
   },
   {
    "duration": 366,
    "start_time": "2022-04-18T06:33:23.104Z"
   },
   {
    "duration": 20,
    "start_time": "2022-04-18T06:33:36.803Z"
   },
   {
    "duration": 260,
    "start_time": "2022-04-18T06:34:04.516Z"
   },
   {
    "duration": 16,
    "start_time": "2022-04-18T06:34:16.016Z"
   },
   {
    "duration": 2129,
    "start_time": "2022-04-18T06:35:12.429Z"
   },
   {
    "duration": 1148,
    "start_time": "2022-04-18T06:35:14.561Z"
   },
   {
    "duration": 54,
    "start_time": "2022-04-18T06:35:15.711Z"
   },
   {
    "duration": 26,
    "start_time": "2022-04-18T06:35:15.768Z"
   },
   {
    "duration": 15,
    "start_time": "2022-04-18T06:35:15.796Z"
   },
   {
    "duration": 905,
    "start_time": "2022-04-18T06:35:15.814Z"
   },
   {
    "duration": 49,
    "start_time": "2022-04-18T06:35:16.721Z"
   },
   {
    "duration": 26,
    "start_time": "2022-04-18T06:35:16.772Z"
   },
   {
    "duration": 40,
    "start_time": "2022-04-18T06:35:16.800Z"
   },
   {
    "duration": 5,
    "start_time": "2022-04-18T06:35:16.844Z"
   },
   {
    "duration": 477,
    "start_time": "2022-04-18T06:35:16.851Z"
   },
   {
    "duration": 425,
    "start_time": "2022-04-18T06:35:17.330Z"
   },
   {
    "duration": 289,
    "start_time": "2022-04-18T06:35:17.757Z"
   },
   {
    "duration": 436,
    "start_time": "2022-04-18T06:35:18.049Z"
   },
   {
    "duration": 305,
    "start_time": "2022-04-18T06:35:18.493Z"
   },
   {
    "duration": 353,
    "start_time": "2022-04-18T06:35:18.800Z"
   },
   {
    "duration": 9,
    "start_time": "2022-04-18T06:35:19.155Z"
   },
   {
    "duration": 193,
    "start_time": "2022-04-18T06:35:19.166Z"
   },
   {
    "duration": 5,
    "start_time": "2022-04-18T06:35:19.362Z"
   },
   {
    "duration": 199,
    "start_time": "2022-04-18T06:35:19.369Z"
   },
   {
    "duration": 6,
    "start_time": "2022-04-18T06:35:19.570Z"
   },
   {
    "duration": 450,
    "start_time": "2022-04-18T06:35:19.593Z"
   },
   {
    "duration": 305,
    "start_time": "2022-04-18T06:35:20.045Z"
   },
   {
    "duration": 44,
    "start_time": "2022-04-18T06:35:20.352Z"
   },
   {
    "duration": 13,
    "start_time": "2022-04-18T06:48:48.854Z"
   },
   {
    "duration": 2859,
    "start_time": "2022-04-18T06:54:42.442Z"
   },
   {
    "duration": 2725,
    "start_time": "2022-04-18T06:55:17.042Z"
   },
   {
    "duration": 2708,
    "start_time": "2022-04-18T06:55:47.115Z"
   },
   {
    "duration": 1415,
    "start_time": "2022-04-18T06:56:00.720Z"
   },
   {
    "duration": 142,
    "start_time": "2022-04-18T06:56:02.138Z"
   },
   {
    "duration": 53,
    "start_time": "2022-04-18T06:56:02.283Z"
   },
   {
    "duration": 15,
    "start_time": "2022-04-18T06:56:02.339Z"
   },
   {
    "duration": 43,
    "start_time": "2022-04-18T06:56:02.356Z"
   },
   {
    "duration": 161,
    "start_time": "2022-04-18T06:56:02.401Z"
   },
   {
    "duration": 49,
    "start_time": "2022-04-18T06:56:02.564Z"
   },
   {
    "duration": 19,
    "start_time": "2022-04-18T06:56:02.615Z"
   },
   {
    "duration": 65,
    "start_time": "2022-04-18T06:56:02.636Z"
   },
   {
    "duration": 6,
    "start_time": "2022-04-18T06:56:02.705Z"
   },
   {
    "duration": 453,
    "start_time": "2022-04-18T06:56:02.713Z"
   },
   {
    "duration": 449,
    "start_time": "2022-04-18T06:56:03.168Z"
   },
   {
    "duration": 278,
    "start_time": "2022-04-18T06:56:03.620Z"
   },
   {
    "duration": 370,
    "start_time": "2022-04-18T06:56:03.900Z"
   },
   {
    "duration": 313,
    "start_time": "2022-04-18T06:56:04.273Z"
   },
   {
    "duration": 364,
    "start_time": "2022-04-18T06:56:04.588Z"
   },
   {
    "duration": 11,
    "start_time": "2022-04-18T06:56:04.954Z"
   },
   {
    "duration": 196,
    "start_time": "2022-04-18T06:56:04.967Z"
   },
   {
    "duration": 6,
    "start_time": "2022-04-18T06:56:05.166Z"
   },
   {
    "duration": 204,
    "start_time": "2022-04-18T06:56:05.175Z"
   },
   {
    "duration": 15,
    "start_time": "2022-04-18T06:56:05.382Z"
   },
   {
    "duration": 430,
    "start_time": "2022-04-18T06:56:05.399Z"
   },
   {
    "duration": 279,
    "start_time": "2022-04-18T06:56:05.831Z"
   },
   {
    "duration": 36,
    "start_time": "2022-04-18T06:56:06.112Z"
   },
   {
    "duration": 41,
    "start_time": "2022-04-18T06:56:06.151Z"
   },
   {
    "duration": 2827,
    "start_time": "2022-04-18T06:56:06.195Z"
   },
   {
    "duration": 13,
    "start_time": "2022-04-18T06:57:22.390Z"
   },
   {
    "duration": 12,
    "start_time": "2022-04-18T06:57:36.551Z"
   },
   {
    "duration": 12,
    "start_time": "2022-04-18T06:58:40.397Z"
   },
   {
    "duration": 60,
    "start_time": "2022-04-18T07:01:05.629Z"
   },
   {
    "duration": 15,
    "start_time": "2022-04-18T07:01:26.289Z"
   },
   {
    "duration": 36,
    "start_time": "2022-04-18T07:01:31.095Z"
   },
   {
    "duration": 12,
    "start_time": "2022-04-18T07:01:42.705Z"
   },
   {
    "duration": 35,
    "start_time": "2022-04-18T07:01:47.429Z"
   },
   {
    "duration": 2720,
    "start_time": "2022-04-18T07:04:49.071Z"
   },
   {
    "duration": 19,
    "start_time": "2022-04-18T07:07:05.529Z"
   },
   {
    "duration": 305,
    "start_time": "2022-04-18T07:49:52.281Z"
   },
   {
    "duration": 22,
    "start_time": "2022-04-18T07:59:00.522Z"
   },
   {
    "duration": 279,
    "start_time": "2022-04-18T08:02:29.039Z"
   },
   {
    "duration": 418,
    "start_time": "2022-04-18T08:09:17.284Z"
   },
   {
    "duration": 462,
    "start_time": "2022-04-18T08:09:56.010Z"
   },
   {
    "duration": 433,
    "start_time": "2022-04-18T08:10:31.109Z"
   },
   {
    "duration": 341,
    "start_time": "2022-04-18T08:10:54.958Z"
   },
   {
    "duration": 457,
    "start_time": "2022-04-18T08:11:19.523Z"
   },
   {
    "duration": 342,
    "start_time": "2022-04-18T08:13:54.817Z"
   },
   {
    "duration": 361,
    "start_time": "2022-04-18T08:14:12.195Z"
   },
   {
    "duration": 436,
    "start_time": "2022-04-18T08:19:18.145Z"
   },
   {
    "duration": 218,
    "start_time": "2022-04-18T08:27:17.859Z"
   },
   {
    "duration": 395,
    "start_time": "2022-04-18T08:27:40.019Z"
   },
   {
    "duration": 224,
    "start_time": "2022-04-18T08:31:02.029Z"
   },
   {
    "duration": 13,
    "start_time": "2022-04-18T08:54:44.430Z"
   },
   {
    "duration": 1363,
    "start_time": "2022-04-18T08:56:17.994Z"
   },
   {
    "duration": 97,
    "start_time": "2022-04-18T08:56:19.360Z"
   },
   {
    "duration": 55,
    "start_time": "2022-04-18T08:56:19.459Z"
   },
   {
    "duration": 15,
    "start_time": "2022-04-18T08:56:19.517Z"
   },
   {
    "duration": 16,
    "start_time": "2022-04-18T08:56:19.534Z"
   },
   {
    "duration": 199,
    "start_time": "2022-04-18T08:56:19.552Z"
   },
   {
    "duration": 50,
    "start_time": "2022-04-18T08:56:19.754Z"
   },
   {
    "duration": 17,
    "start_time": "2022-04-18T08:56:19.806Z"
   },
   {
    "duration": 43,
    "start_time": "2022-04-18T08:56:19.826Z"
   },
   {
    "duration": 6,
    "start_time": "2022-04-18T08:56:19.894Z"
   },
   {
    "duration": 472,
    "start_time": "2022-04-18T08:56:19.903Z"
   },
   {
    "duration": 493,
    "start_time": "2022-04-18T08:56:20.378Z"
   },
   {
    "duration": 32,
    "start_time": "2022-04-18T08:56:20.874Z"
   },
   {
    "duration": 357,
    "start_time": "2022-04-18T08:56:20.908Z"
   },
   {
    "duration": 485,
    "start_time": "2022-04-18T08:56:21.267Z"
   },
   {
    "duration": 372,
    "start_time": "2022-04-18T08:56:21.754Z"
   },
   {
    "duration": 426,
    "start_time": "2022-04-18T08:56:22.129Z"
   },
   {
    "duration": 11,
    "start_time": "2022-04-18T08:56:22.557Z"
   },
   {
    "duration": 252,
    "start_time": "2022-04-18T08:56:22.570Z"
   },
   {
    "duration": 5,
    "start_time": "2022-04-18T08:56:22.825Z"
   },
   {
    "duration": 264,
    "start_time": "2022-04-18T08:56:22.833Z"
   },
   {
    "duration": 5,
    "start_time": "2022-04-18T08:56:23.100Z"
   },
   {
    "duration": 455,
    "start_time": "2022-04-18T08:56:23.107Z"
   },
   {
    "duration": 310,
    "start_time": "2022-04-18T08:56:23.565Z"
   },
   {
    "duration": 44,
    "start_time": "2022-04-18T08:56:23.878Z"
   },
   {
    "duration": 15,
    "start_time": "2022-04-18T08:56:23.925Z"
   },
   {
    "duration": 14,
    "start_time": "2022-04-18T08:56:23.943Z"
   },
   {
    "duration": 39,
    "start_time": "2022-04-18T08:56:23.995Z"
   },
   {
    "duration": 20,
    "start_time": "2022-04-18T08:56:24.036Z"
   },
   {
    "duration": 476,
    "start_time": "2022-04-18T09:21:37.084Z"
   },
   {
    "duration": 1411,
    "start_time": "2022-04-18T09:21:55.618Z"
   },
   {
    "duration": 106,
    "start_time": "2022-04-18T09:21:57.033Z"
   },
   {
    "duration": 56,
    "start_time": "2022-04-18T09:21:57.141Z"
   },
   {
    "duration": 17,
    "start_time": "2022-04-18T09:21:57.199Z"
   },
   {
    "duration": 17,
    "start_time": "2022-04-18T09:21:57.218Z"
   },
   {
    "duration": 156,
    "start_time": "2022-04-18T09:21:57.238Z"
   },
   {
    "duration": 49,
    "start_time": "2022-04-18T09:21:57.396Z"
   },
   {
    "duration": 18,
    "start_time": "2022-04-18T09:21:57.448Z"
   },
   {
    "duration": 61,
    "start_time": "2022-04-18T09:21:57.468Z"
   },
   {
    "duration": 6,
    "start_time": "2022-04-18T09:21:57.533Z"
   },
   {
    "duration": 653,
    "start_time": "2022-04-18T09:21:57.541Z"
   },
   {
    "duration": 682,
    "start_time": "2022-04-18T09:21:58.197Z"
   },
   {
    "duration": 39,
    "start_time": "2022-04-18T09:21:58.882Z"
   },
   {
    "duration": 492,
    "start_time": "2022-04-18T09:21:58.924Z"
   },
   {
    "duration": 459,
    "start_time": "2022-04-18T09:21:59.418Z"
   },
   {
    "duration": 374,
    "start_time": "2022-04-18T09:21:59.879Z"
   },
   {
    "duration": 554,
    "start_time": "2022-04-18T09:22:00.256Z"
   },
   {
    "duration": 9,
    "start_time": "2022-04-18T09:22:00.813Z"
   },
   {
    "duration": 251,
    "start_time": "2022-04-18T09:22:00.824Z"
   },
   {
    "duration": 16,
    "start_time": "2022-04-18T09:22:01.078Z"
   },
   {
    "duration": 256,
    "start_time": "2022-04-18T09:22:01.096Z"
   },
   {
    "duration": 6,
    "start_time": "2022-04-18T09:22:01.354Z"
   },
   {
    "duration": 573,
    "start_time": "2022-04-18T09:22:01.363Z"
   },
   {
    "duration": 418,
    "start_time": "2022-04-18T09:22:01.939Z"
   },
   {
    "duration": 69,
    "start_time": "2022-04-18T09:22:02.360Z"
   },
   {
    "duration": 20,
    "start_time": "2022-04-18T09:22:02.431Z"
   },
   {
    "duration": 19,
    "start_time": "2022-04-18T09:22:02.453Z"
   },
   {
    "duration": 72,
    "start_time": "2022-04-18T09:22:02.478Z"
   },
   {
    "duration": 40,
    "start_time": "2022-04-18T09:22:02.553Z"
   },
   {
    "duration": 61,
    "start_time": "2022-04-19T08:23:37.017Z"
   },
   {
    "duration": 1606,
    "start_time": "2022-04-19T08:23:45.330Z"
   },
   {
    "duration": 97,
    "start_time": "2022-04-19T08:23:46.939Z"
   },
   {
    "duration": 40,
    "start_time": "2022-04-19T08:23:47.038Z"
   },
   {
    "duration": 23,
    "start_time": "2022-04-19T08:23:47.080Z"
   },
   {
    "duration": 44,
    "start_time": "2022-04-19T08:23:47.105Z"
   },
   {
    "duration": 145,
    "start_time": "2022-04-19T08:23:47.151Z"
   },
   {
    "duration": 47,
    "start_time": "2022-04-19T08:23:47.298Z"
   },
   {
    "duration": 15,
    "start_time": "2022-04-19T08:23:47.346Z"
   },
   {
    "duration": 56,
    "start_time": "2022-04-19T08:23:47.363Z"
   },
   {
    "duration": 10,
    "start_time": "2022-04-19T08:23:47.422Z"
   },
   {
    "duration": 335,
    "start_time": "2022-04-19T08:23:47.434Z"
   },
   {
    "duration": 386,
    "start_time": "2022-04-19T08:23:47.770Z"
   },
   {
    "duration": 16,
    "start_time": "2022-04-19T08:23:48.157Z"
   },
   {
    "duration": 279,
    "start_time": "2022-04-19T08:23:48.175Z"
   },
   {
    "duration": 409,
    "start_time": "2022-04-19T08:23:48.457Z"
   },
   {
    "duration": 282,
    "start_time": "2022-04-19T08:23:48.868Z"
   },
   {
    "duration": 327,
    "start_time": "2022-04-19T08:23:49.152Z"
   },
   {
    "duration": 17,
    "start_time": "2022-04-19T08:23:49.481Z"
   },
   {
    "duration": 156,
    "start_time": "2022-04-19T08:23:49.501Z"
   },
   {
    "duration": 5,
    "start_time": "2022-04-19T08:23:49.658Z"
   },
   {
    "duration": 188,
    "start_time": "2022-04-19T08:23:49.664Z"
   },
   {
    "duration": 4,
    "start_time": "2022-04-19T08:23:49.854Z"
   },
   {
    "duration": 356,
    "start_time": "2022-04-19T08:23:49.860Z"
   },
   {
    "duration": 162,
    "start_time": "2022-04-19T08:23:50.218Z"
   },
   {
    "duration": 62,
    "start_time": "2022-04-19T08:23:50.381Z"
   },
   {
    "duration": 10,
    "start_time": "2022-04-19T08:23:50.445Z"
   },
   {
    "duration": 9,
    "start_time": "2022-04-19T08:23:50.457Z"
   },
   {
    "duration": 68,
    "start_time": "2022-04-19T08:23:50.469Z"
   },
   {
    "duration": 14,
    "start_time": "2022-04-19T08:23:50.539Z"
   },
   {
    "duration": 22,
    "start_time": "2022-04-19T08:24:28.610Z"
   },
   {
    "duration": 27,
    "start_time": "2022-04-19T08:26:41.405Z"
   },
   {
    "duration": 12,
    "start_time": "2022-04-19T08:27:17.871Z"
   },
   {
    "duration": 10,
    "start_time": "2022-04-19T08:27:23.570Z"
   },
   {
    "duration": 9,
    "start_time": "2022-04-19T08:27:28.356Z"
   },
   {
    "duration": 11,
    "start_time": "2022-04-19T08:28:17.874Z"
   },
   {
    "duration": 12,
    "start_time": "2022-04-19T08:28:38.336Z"
   },
   {
    "duration": 10,
    "start_time": "2022-04-19T08:28:42.763Z"
   },
   {
    "duration": 11,
    "start_time": "2022-04-19T08:29:17.256Z"
   },
   {
    "duration": 22,
    "start_time": "2022-04-19T08:30:15.899Z"
   },
   {
    "duration": 12,
    "start_time": "2022-04-19T08:30:41.743Z"
   },
   {
    "duration": 3,
    "start_time": "2022-04-19T08:41:19.684Z"
   },
   {
    "duration": 3,
    "start_time": "2022-04-19T08:42:07.130Z"
   },
   {
    "duration": 12,
    "start_time": "2022-04-19T08:43:03.631Z"
   },
   {
    "duration": 34,
    "start_time": "2022-04-19T08:44:19.617Z"
   },
   {
    "duration": 25,
    "start_time": "2022-04-19T08:48:02.076Z"
   },
   {
    "duration": 161,
    "start_time": "2022-04-19T08:49:52.081Z"
   },
   {
    "duration": 19,
    "start_time": "2022-04-19T08:50:53.410Z"
   },
   {
    "duration": 2340,
    "start_time": "2022-04-19T09:26:08.290Z"
   },
   {
    "duration": 2332,
    "start_time": "2022-04-19T09:27:26.951Z"
   },
   {
    "duration": 14,
    "start_time": "2022-04-19T09:27:45.762Z"
   },
   {
    "duration": 168,
    "start_time": "2022-04-19T09:29:28.291Z"
   },
   {
    "duration": 120,
    "start_time": "2022-04-19T09:29:33.465Z"
   },
   {
    "duration": 152,
    "start_time": "2022-04-19T09:29:39.930Z"
   },
   {
    "duration": 22,
    "start_time": "2022-04-19T09:30:04.517Z"
   },
   {
    "duration": 2396,
    "start_time": "2022-04-19T09:31:17.169Z"
   },
   {
    "duration": 2525,
    "start_time": "2022-04-19T09:31:58.231Z"
   },
   {
    "duration": 25,
    "start_time": "2022-04-19T09:40:18.274Z"
   },
   {
    "duration": 114,
    "start_time": "2022-04-19T09:41:21.742Z"
   },
   {
    "duration": 10,
    "start_time": "2022-04-19T09:41:30.472Z"
   },
   {
    "duration": 15,
    "start_time": "2022-04-19T09:41:47.035Z"
   },
   {
    "duration": 14,
    "start_time": "2022-04-19T09:42:14.509Z"
   },
   {
    "duration": 35,
    "start_time": "2022-04-19T09:43:19.583Z"
   },
   {
    "duration": 22,
    "start_time": "2022-04-19T09:45:16.165Z"
   },
   {
    "duration": 24,
    "start_time": "2022-04-19T09:45:44.325Z"
   },
   {
    "duration": 18,
    "start_time": "2022-04-19T09:46:54.111Z"
   },
   {
    "duration": 14,
    "start_time": "2022-04-19T09:47:25.454Z"
   },
   {
    "duration": 27,
    "start_time": "2022-04-19T09:58:10.292Z"
   },
   {
    "duration": 13,
    "start_time": "2022-04-19T09:59:43.851Z"
   },
   {
    "duration": 23,
    "start_time": "2022-04-19T09:59:59.487Z"
   },
   {
    "duration": 14,
    "start_time": "2022-04-19T10:00:32.605Z"
   },
   {
    "duration": 12,
    "start_time": "2022-04-19T10:01:02.532Z"
   },
   {
    "duration": 13,
    "start_time": "2022-04-19T10:01:06.793Z"
   },
   {
    "duration": 12,
    "start_time": "2022-04-19T10:01:16.335Z"
   },
   {
    "duration": 12,
    "start_time": "2022-04-19T10:01:25.984Z"
   },
   {
    "duration": 12,
    "start_time": "2022-04-19T10:01:32.423Z"
   },
   {
    "duration": 1316,
    "start_time": "2022-04-19T10:07:06.473Z"
   },
   {
    "duration": 81,
    "start_time": "2022-04-19T10:07:07.793Z"
   },
   {
    "duration": 57,
    "start_time": "2022-04-19T10:07:07.877Z"
   },
   {
    "duration": 18,
    "start_time": "2022-04-19T10:07:07.937Z"
   },
   {
    "duration": 39,
    "start_time": "2022-04-19T10:07:07.957Z"
   },
   {
    "duration": 19,
    "start_time": "2022-04-19T10:07:07.998Z"
   },
   {
    "duration": 124,
    "start_time": "2022-04-19T10:07:08.019Z"
   },
   {
    "duration": 38,
    "start_time": "2022-04-19T10:07:08.145Z"
   },
   {
    "duration": 17,
    "start_time": "2022-04-19T10:07:08.185Z"
   },
   {
    "duration": 32,
    "start_time": "2022-04-19T10:07:08.206Z"
   },
   {
    "duration": 4,
    "start_time": "2022-04-19T10:07:08.240Z"
   },
   {
    "duration": 22,
    "start_time": "2022-04-19T10:07:08.246Z"
   },
   {
    "duration": 353,
    "start_time": "2022-04-19T10:07:08.270Z"
   },
   {
    "duration": 360,
    "start_time": "2022-04-19T10:07:08.625Z"
   },
   {
    "duration": 24,
    "start_time": "2022-04-19T10:07:08.992Z"
   },
   {
    "duration": 391,
    "start_time": "2022-04-19T10:07:09.019Z"
   },
   {
    "duration": 424,
    "start_time": "2022-04-19T10:07:09.412Z"
   },
   {
    "duration": 289,
    "start_time": "2022-04-19T10:07:09.838Z"
   },
   {
    "duration": 343,
    "start_time": "2022-04-19T10:07:10.129Z"
   },
   {
    "duration": 21,
    "start_time": "2022-04-19T10:07:10.474Z"
   },
   {
    "duration": 158,
    "start_time": "2022-04-19T10:07:10.498Z"
   },
   {
    "duration": 5,
    "start_time": "2022-04-19T10:07:10.658Z"
   },
   {
    "duration": 10,
    "start_time": "2022-04-19T10:07:10.665Z"
   },
   {
    "duration": 256,
    "start_time": "2022-04-19T10:07:10.677Z"
   },
   {
    "duration": 5,
    "start_time": "2022-04-19T10:07:10.936Z"
   },
   {
    "duration": 6,
    "start_time": "2022-04-19T10:07:10.944Z"
   },
   {
    "duration": 399,
    "start_time": "2022-04-19T10:07:10.953Z"
   },
   {
    "duration": 187,
    "start_time": "2022-04-19T10:07:11.355Z"
   },
   {
    "duration": 49,
    "start_time": "2022-04-19T10:07:11.544Z"
   },
   {
    "duration": 14,
    "start_time": "2022-04-19T10:07:11.598Z"
   },
   {
    "duration": 13,
    "start_time": "2022-04-19T10:07:11.614Z"
   },
   {
    "duration": 35,
    "start_time": "2022-04-19T10:07:11.630Z"
   },
   {
    "duration": 40,
    "start_time": "2022-04-19T10:07:11.668Z"
   },
   {
    "duration": 147,
    "start_time": "2022-04-19T10:08:17.438Z"
   }
  ],
  "kernelspec": {
   "display_name": "Python 3",
   "language": "python",
   "name": "python3"
  },
  "language_info": {
   "codemirror_mode": {
    "name": "ipython",
    "version": 3
   },
   "file_extension": ".py",
   "mimetype": "text/x-python",
   "name": "python",
   "nbconvert_exporter": "python",
   "pygments_lexer": "ipython3",
   "version": "3.6.1"
  },
  "toc": {
   "base_numbering": 1,
   "nav_menu": {},
   "number_sections": true,
   "sideBar": true,
   "skip_h1_title": true,
   "title_cell": "Table of Contents",
   "title_sidebar": "Contents",
   "toc_cell": false,
   "toc_position": {},
   "toc_section_display": true,
   "toc_window_display": true
  }
 },
 "nbformat": 4,
 "nbformat_minor": 2
}
